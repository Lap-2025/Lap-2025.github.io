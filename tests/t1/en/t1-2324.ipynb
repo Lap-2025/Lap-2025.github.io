{
 "cells": [
  {
   "cell_type": "markdown",
   "metadata": {},
   "source": [
    "# LAP 2024 Midterm (extended)"
   ]
  },
  {
   "cell_type": "markdown",
   "metadata": {},
   "source": [
    "#### ⭐️ **Question 1 (2 marks)**\n",
    "\n",
    "This question is about OCaml expressions and their type. Consider the following type definitions:\n",
    "\n",
    "```OCaml\n",
    "type point = float * float (* Cartesian coordinates *)\n",
    "\n",
    "type polar = float * float (* Polar coordinates *)\n",
    "\n",
    "type figure = Circle of point * float | Rectangle of point * point\n",
    "\n",
    "type a = int * (int * string)\n",
    "\n",
    "type b = point * (point list)\n",
    "\n",
    "type c = figure list\n",
    "\n",
    "type d = polar list -> point list\n",
    "\n",
    "type e = figure list -> int\n",
    "```\n",
    "\n",
    "Write an expression for each of the types `a`, `b`, `c`, `d`, `e`, and `f`. In the case of functions, the arguments must be used at least once to create the expression. For the expressions of types `a`, `b`, and `c`, use simple literals. The expression of type `d` should compute the list of the same marks, but with Cartesian coordinates.\n",
    "\n",
    "You may use the functions `sin`, `cos`, and `map` to transform polar coordinates into Cartesian coordinates (basic geometry knowledge is assumed). For the function of type `e`, you should compute the number of shapes that are rectangles; you may optionally use the `fold` function.\n"
   ]
  },
  {
   "cell_type": "code",
   "execution_count": null,
   "metadata": {
    "vscode": {
     "languageId": "ocaml"
    }
   },
   "outputs": [],
   "source": [
    "(* Answer *)"
   ]
  },
  {
   "cell_type": "markdown",
   "metadata": {},
   "source": [
    "#### ⭐️⭐️ **Question 2 (2 marks)** \n",
    "\n",
    "This question is about type inference of expressions in OCaml. Consider the following OCaml expressions:\n",
    "\n",
    "```ocaml\n",
    "let a = (\"inc\", fun x -> x + 1);;\n",
    "\n",
    "let b = fun x -> ignore (x + 1); \"hello\";;\n",
    "\n",
    "let c = fun x -> if x then 1 else 2.0;;\n",
    "\n",
    "let d = fun x -> fun y -> fun z -> ((x <> y) && z, x + y);;\n",
    "\n",
    "let e = fun x -> fun y -> fst x > snd y;;\n",
    "```\n",
    "\n",
    "Indicate the type of each expression according to the Hindley-Milner type inference algorithm. If the expression is not well-typed, explain why."
   ]
  },
  {
   "cell_type": "code",
   "execution_count": null,
   "metadata": {
    "vscode": {
     "languageId": "ocaml"
    }
   },
   "outputs": [],
   "source": [
    "(* Answer *)"
   ]
  },
  {
   "cell_type": "markdown",
   "metadata": {},
   "source": [
    "#### ⭐️⭐️⭐️ **Question 3 (2 marks)**\n",
    "\n",
    "This question is about recursive functions over integers and strings in OCaml. Write a recursive function that converts an integer into a string representing the number in binary, with the following signature:\n",
    "\n",
    "```ocaml\n",
    "val binary_of_int : int -> string = <fun>\n",
    "```\n",
    "\n",
    "The function must be recursive and should not use helper functions. The function may (or may not) return a leading zero."
   ]
  },
  {
   "cell_type": "code",
   "execution_count": null,
   "metadata": {
    "vscode": {
     "languageId": "ocaml"
    }
   },
   "outputs": [],
   "source": [
    "(* Answer *)"
   ]
  },
  {
   "cell_type": "code",
   "execution_count": null,
   "metadata": {
    "vscode": {
     "languageId": "ocaml"
    }
   },
   "outputs": [],
   "source": [
    "(* Unit tests *)\n",
    "let _ = assert (binary_of_int 0 = \"0\")\n",
    "let _ = assert (binary_of_int 1 = \"1\")\n",
    "let _ = assert (binary_of_int 2 = \"10\")\n",
    "let _ = assert (binary_of_int 3 = \"11\")\n",
    "let _ = assert (binary_of_int 4 = \"100\")\n",
    "let _ = assert (binary_of_int 5 = \"101\")"
   ]
  },
  {
   "cell_type": "markdown",
   "metadata": {},
   "source": [
    "#### ⭐️ **Question 4 (2 marks)**\n",
    "\n",
    "This question is about functions over tuples in OCaml. A key-value pair is a pair where the first element is the key and the second is the value. Write a comparison function for key-value pairs with the following signature:\n",
    "\n",
    "```ocaml\n",
    "val compare_key_value : ('a * 'b) -> ('a * 'b) -> int = <fun>\n",
    "```\n",
    "\n",
    "where the result is -1 if the first key is less than the second, 0 if they are equal, and 1 if the first key is greater than the second.\n"
   ]
  },
  {
   "cell_type": "code",
   "execution_count": null,
   "metadata": {
    "vscode": {
     "languageId": "ocaml"
    }
   },
   "outputs": [],
   "source": [
    "(* Answer *)"
   ]
  },
  {
   "cell_type": "code",
   "execution_count": null,
   "metadata": {
    "vscode": {
     "languageId": "ocaml"
    }
   },
   "outputs": [],
   "source": [
    "(* Unit tests *)\n",
    "let _ = assert (compare_key_value (1,2) (1,3) = 0)\n",
    "let _ = assert (compare_key_value (1,2) (2,2) = -1)\n",
    "let _ = assert (compare_key_value (2,2) (1,3) = 1)"
   ]
  },
  {
   "cell_type": "markdown",
   "metadata": {},
   "source": [
    "#### ⭐️⭐️ **Question 5 (2 marks)** \n",
    "\n",
    "This question is about functions over lists and tuples in OCaml. An associative list is a list of key-value pairs where each key occurs only once in the list. Write a function that takes an associative list, a key, and a value, and returns a new associative list with the key-value pair added, ensuring that there are no duplicate keys. If a value with the same key already exists, it should be replaced. The function must be recursive and should not use helper functions. The function should have the following signature:\n",
    "\n",
    "```OCaml\n",
    "val assoc : 'a -> 'b -> ('a * 'b) list -> ('a * 'b) list = <fun>\n",
    "```"
   ]
  },
  {
   "cell_type": "code",
   "execution_count": null,
   "metadata": {
    "vscode": {
     "languageId": "ocaml"
    }
   },
   "outputs": [],
   "source": [
    "(* Answer *) "
   ]
  },
  {
   "cell_type": "code",
   "execution_count": null,
   "metadata": {
    "vscode": {
     "languageId": "ocaml"
    }
   },
   "outputs": [],
   "source": [
    "(* Unit tests *)\n",
    "let _ = assert (assoc 1 \"one\" [] = [(1, \"one\")])\n",
    "let _ = assert (assoc 1 \"one\" [(2, \"two\")] = [(2, \"two\"); (1, \"one\")])\n",
    "let _ = assert (assoc 1 \"one\" [(1, \"two\")] = [(1, \"one\")])"
   ]
  },
  {
   "cell_type": "markdown",
   "metadata": {},
   "source": [
    "#### ⭐️⭐️⭐️ **Question 6 (2 marks)**\n",
    "\n",
    "This question is about functions over lists, tuples, and variants in OCaml. Consider the associative lists defined in the previous exercise and the `option` type defined as:\n",
    "\n",
    "```ocaml\n",
    "type 'a option = None | Some of 'a\n",
    "```\n",
    "\n",
    "Write a function that takes an associative list and a key, and returns the value associated with the key. If the key does not exist, the function should return `None`; if it does exist, it should return `Some` with the corresponding value. The function must be recursive and should not use helper functions."
   ]
  },
  {
   "cell_type": "code",
   "execution_count": null,
   "metadata": {
    "vscode": {
     "languageId": "ocaml"
    }
   },
   "outputs": [],
   "source": [
    "(* Answer *) "
   ]
  },
  {
   "cell_type": "code",
   "execution_count": null,
   "metadata": {
    "vscode": {
     "languageId": "ocaml"
    }
   },
   "outputs": [],
   "source": [
    "(* Unit tests *)\n",
    "let _ = assert (lookup 1 [] = None)\n",
    "let _ = assert (lookup 1 [(2, \"two\")] = None)\n",
    "let _ = assert (lookup 1 [(1, \"one\")] = Some \"one\")\n",
    "let _ = assert (lookup 1 [(2, \"two\"); (1, \"one\")] = Some \"one\")"
   ]
  },
  {
   "cell_type": "markdown",
   "metadata": {},
   "source": [
    "#### ⭐️⭐️⭐️⭐️ **Question 7 (2 marks)**\n",
    "\n",
    "This question is about defining a recursive function using `fold_right`.\n",
    "\n",
    "Consider the recursive function `polinomial_horner`, which computes the value of a polynomial at a given point using Horner's scheme. The function is defined as follows:\n",
    "\n",
    "```ocaml\n",
    "let rec polinomial_horner l x = \n",
    "  match l with\n",
    "  | [] -> 0.\n",
    "  | h::t -> h +. x *. polinomial_horner t x\n",
    "```\n",
    "\n",
    "Define the same function using `fold_right`."
   ]
  },
  {
   "cell_type": "code",
   "execution_count": null,
   "metadata": {
    "vscode": {
     "languageId": "ocaml"
    }
   },
   "outputs": [],
   "source": [
    "(* Answer *)"
   ]
  }
 ],
 "metadata": {
  "kernelspec": {
   "display_name": "OCaml 4.12.0",
   "language": "OCaml",
   "name": "ocaml-jupyter"
  },
  "language_info": {
   "codemirror_mode": "text/x-ocaml",
   "file_extension": ".ml",
   "mimetype": "text/x-ocaml",
   "name": "OCaml",
   "nbconverter_exporter": null,
   "pygments_lexer": "OCaml",
   "version": "4.12.0"
  }
 },
 "nbformat": 4,
 "nbformat_minor": 2
}
