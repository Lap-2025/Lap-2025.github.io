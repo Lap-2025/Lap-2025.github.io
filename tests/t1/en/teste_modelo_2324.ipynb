{
 "cells": [
  {
   "cell_type": "markdown",
   "metadata": {},
   "source": [
    "# LAP midterm example 2024"
   ]
  },
  {
   "cell_type": "markdown",
   "metadata": {},
   "source": [
    "#### ⭐️ **Question 1 (2 marks)**\n",
    "\n",
    "This question is about expressions in OCaml and their types. Consider the following type definitions:\n",
    "\n",
    "```ocaml\n",
    "let f = fun x -> x\n",
    "\n",
    "let g = fun h -> fun x -> h x\n",
    "\n",
    "let k u = u (g (fun x -> f x) 0)\n",
    "```\n"
   ]
  },
  {
   "cell_type": "markdown",
   "metadata": {},
   "source": [
    "Using the previously defined functions, construct an expression of the following types:\n",
    "\n",
    "1. `int`\n",
    "2. `bool`\n",
    "3. `int -> int`\n",
    "4. `'a -> 'a`"
   ]
  },
  {
   "cell_type": "code",
   "execution_count": null,
   "metadata": {
    "vscode": {
     "languageId": "ocaml"
    }
   },
   "outputs": [],
   "source": [
    "(* Answer *)"
   ]
  },
  {
   "cell_type": "markdown",
   "metadata": {},
   "source": [
    "#### ⭐️⭐️ **Question 2 (2 marks)**\n",
    "\n",
    "This question is about type inference of expressions in OCaml. Consider the following OCaml expressions:\n",
    "\n",
    "```ocaml\n",
    "(1) let x = 10;;\n",
    "    let x = \n",
    "    let y = fun a -> a + x in\n",
    "    let y =\n",
    "        let x = y x in \n",
    "        let y = fun a -> a * x in\n",
    "        y x in\n",
    "    fun x -> x * y;;\n",
    "    let w = x + 100;;\n",
    "\n",
    "(2) let x = 10;;\n",
    "    let x = \n",
    "    let y = fun a -> a + x in\n",
    "    let y =\n",
    "        let x = y x in \n",
    "        let y = fun a -> a * x in\n",
    "        fun w -> y x + w in\n",
    "    fun w -> y w;;\n",
    "    let w = x 100;;\n",
    "\n",
    "(3) let x = 10;;\n",
    "    let x = \n",
    "    let y = fun a -> a + x in\n",
    "    let y =\n",
    "        let x = y x in \n",
    "        let y = fun a -> a * y x in\n",
    "        y x in\n",
    "    fun w -> x + y w;;\n",
    "    let w = x + 100;;\n",
    "```\n",
    "\n",
    "Indicate the type of each expression according to the Hindley-Milner type inference algorithm. If the expression is not well-typed, explain the reason."
   ]
  },
  {
   "cell_type": "code",
   "execution_count": null,
   "metadata": {
    "vscode": {
     "languageId": "ocaml"
    }
   },
   "outputs": [],
   "source": [
    "(* Answer *)"
   ]
  },
  {
   "cell_type": "markdown",
   "metadata": {},
   "source": [
    "#### ⭐️⭐️⭐️ **Question 3 (2 marks)** \n",
    "\n",
    "This question is about recursive functions over integers in OCaml. Write a recursive function that checks if all integers in the interval $[i; j]$ satisfy a given predicate, represented as a function that returns a Boolean result. This function should have the following signature:\n",
    "\n",
    "```ocaml\n",
    "val for_all : int -> int -> (int -> bool) -> bool = <fun>\n",
    "```\n",
    "\n",
    "The function must be recursive and should not use helper functions."
   ]
  },
  {
   "cell_type": "code",
   "execution_count": null,
   "metadata": {
    "vscode": {
     "languageId": "ocaml"
    }
   },
   "outputs": [],
   "source": [
    "(* Answer *)"
   ]
  },
  {
   "cell_type": "markdown",
   "metadata": {},
   "source": [
    "#### ⭐️ **Question 4 (2 marks)** \n",
    "\n",
    "This question is about functions over tuples in OCaml. Write a comparison function for pairs where the first component is of an arbitrary type (called *key*) and the second is an integer (called *cardinality*), with the following signature:\n",
    "\n",
    "```ocaml\n",
    "val compare : ('a * int) -> ('a * int) -> int = <fun>\n",
    "```\n",
    "\n",
    "Where the result is -1 if the first key is smaller than the second key, and 1 if the first key is larger than the second. If the keys are equal, the function returns -1 if the first cardinality is smaller than the second cardinality, and 1 if the first cardinality is larger than the second. If neither of these conditions hold, the function returns 0."
   ]
  },
  {
   "cell_type": "code",
   "execution_count": null,
   "metadata": {
    "vscode": {
     "languageId": "ocaml"
    }
   },
   "outputs": [],
   "source": [
    "(* Answer *)"
   ]
  },
  {
   "cell_type": "markdown",
   "metadata": {},
   "source": [
    "#### ⭐️⭐️ **Question 5 (2 marks)**\n",
    "\n",
    "This question is about functions over lists and tuples in OCaml. A `bag` is a data structure whose purpose is to represent sets with potentially repeated elements. A `bag` is represented as a list of pairs, where the first component represents the element, and the second represents its cardinality.\n",
    "\n",
    "```ocaml\n",
    "type 'a bag = ('a * int) list\n",
    "```\n",
    "\n",
    "Write a function that takes a `bag`, an element, and returns a new updated `bag`. If the element already exists in the `bag`, it should update its cardinality. Otherwise, the element is introduced with a cardinality of `1`.\n",
    "\n",
    "The function must be recursive and should not use helper functions. The function should have the following signature:\n",
    "\n",
    "```ocaml\n",
    "val insert : 'a -> 'a bag -> 'a bag = <fun>\n",
    "```"
   ]
  },
  {
   "cell_type": "code",
   "execution_count": null,
   "metadata": {
    "vscode": {
     "languageId": "ocaml"
    }
   },
   "outputs": [],
   "source": [
    "(* Answer *)"
   ]
  },
  {
   "cell_type": "markdown",
   "metadata": {},
   "source": [
    "#### ⭐️⭐️⭐️ **Question 6 (2 marks)**\n",
    "\n",
    "This question is about functions over lists, tuples, and variants in OCaml.\n",
    "\n",
    "```ocaml\n",
    "type 'a option = None | Some of 'a\n",
    "```\n",
    "\n",
    "Write a function that takes a `bag` and a value, and returns the cardinality associated with that value. If the value does not exist, the function should return `None`; if it exists, it should return `Some` with the corresponding cardinality.\n",
    "\n",
    "The function must be recursive and should not use helper functions. The function should have the following signature:\n",
    "\n",
    "```ocaml\n",
    "val number_of : 'a bag -> 'a -> int option\n",
    "```\n",
    "\n"
   ]
  },
  {
   "cell_type": "code",
   "execution_count": null,
   "metadata": {
    "vscode": {
     "languageId": "ocaml"
    }
   },
   "outputs": [],
   "source": [
    "(* Answer *)"
   ]
  },
  {
   "cell_type": "markdown",
   "metadata": {},
   "source": [
    "#### ⭐️⭐️ **Question 7 (3 marks)**\n",
    "\n",
    "This question is about functions over lists, variants, and pattern matching in OCaml.\n",
    "\n",
    "Write a function that, given a list, counts the number of elements in the list that satisfy a given predicate, represented as a function that returns a Boolean result. Use the following signature:\n",
    "\n",
    "```ocaml\n",
    "val how_many_with : ('a -> bool) -> 'a list -> int = <fun>\n",
    "```\n",
    "\n"
   ]
  },
  {
   "cell_type": "code",
   "execution_count": null,
   "metadata": {
    "vscode": {
     "languageId": "ocaml"
    }
   },
   "outputs": [],
   "source": [
    "(* Answer *)"
   ]
  }
 ],
 "metadata": {
  "kernelspec": {
   "display_name": "OCaml lap2024",
   "language": "OCaml",
   "name": "ocaml-jupyter"
  },
  "language_info": {
   "name": "OCaml"
  }
 },
 "nbformat": 4,
 "nbformat_minor": 2
}
