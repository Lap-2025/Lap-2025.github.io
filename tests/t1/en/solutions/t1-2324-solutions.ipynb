{
 "cells": [
  {
   "cell_type": "markdown",
   "metadata": {},
   "source": [
    "# LAP Midterm 2024 (solution)"
   ]
  },
  {
   "cell_type": "markdown",
   "metadata": {},
   "source": [
    "#### ⭐️ **Question 1 (2 marks)**\n",
    "\n",
    "This question is about expressions in OCaml and their types. Consider the following type definitions:\n",
    "\n",
    "```ocaml\n",
    "type point = float * float (* Cartesian coordinates *)\n",
    "\n",
    "type polar = float * float (* Polar coordinates *)\n",
    "\n",
    "type figure = Circle of point * float | Rectangle of point * point\n",
    "\n",
    "type a = int * (int * string)\n",
    "\n",
    "type b = point * (point list)\n",
    "\n",
    "type c = figure list\n",
    "\n",
    "type d = polar list -> point list\n",
    "\n",
    "type e = figure list -> int\n",
    "```\n",
    "\n",
    "Write an expression for each of the types `a`, `b`, `c`, `d`, `e`, and `f`. For the function types, the arguments should be used at least once to create the expression. For the expressions of types `a`, `b`, and `c`, use simple literals. The expression for type `d` should compute the list of the same points, but with Cartesian coordinates.\n",
    "\n",
    "You may use the functions `sin`, `cos`, `map` to transform polar coordinates into Cartesian ones (basic geometry knowledge is assumed). For the function of type `e`, it should count the number of figures\n"
   ]
  },
  {
   "cell_type": "code",
   "execution_count": null,
   "metadata": {
    "vscode": {
     "languageId": "ocaml"
    }
   },
   "outputs": [],
   "source": [
    "(* Answer *) \n",
    "\n",
    "let a : a = (1, (2, \"a\")) \n",
    "\n",
    "let b : b = ((1., 2.), [(3., 4.); (5., 6.)]) \n",
    "\n",
    "let c : c = [Circle((1., 2.), 3.); Rectangle((4., 5.), (6., 7.))]\n",
    "\n",
    "let d : d = fun l -> List.map (fun (r, t) -> (r *. cos t, r *. sin t)) l \n",
    "\n",
    "let e : e = fun l -> List.fold_left (fun n x -> match x with Rectangle(_,_) -> n+1 | _ -> n) 0 l "
   ]
  },
  {
   "cell_type": "markdown",
   "metadata": {},
   "source": [
    "#### ⭐️⭐️ **Question 2 (2 marks)** \n",
    "\n",
    "This question is about type inference of expressions in OCaml. Consider the following expressions in OCaml:\n",
    "\n",
    "```ocaml\n",
    "let a = (\"inc\", fun x -> x + 1);;\n",
    "\n",
    "let b = fun x -> ignore (x + 1); \"hello\";;\n",
    "\n",
    "let c = fun x -> if x then 1 else 2.0;;\n",
    "\n",
    "let d = fun x -> fun y -> fun z -> ((x <> y) && z, x + y);;\n",
    "\n",
    "let e = fun x -> fun y -> fst x > snd y;;\n",
    "```\n",
    "\n",
    "Indicate the type of each expression according to the Hindley-Milner type inference algorithm. If the expression is not well-typed, explain the reason."
   ]
  },
  {
   "cell_type": "code",
   "execution_count": null,
   "metadata": {
    "vscode": {
     "languageId": "ocaml"
    }
   },
   "outputs": [],
   "source": [
    "(* Answer *)\n",
    "a : string * (int -> int)\n",
    "b : int -> string \n",
    "c : Ill-typed, the branches of the if return different types. \n",
    "d : int -> int -> bool -> bool * int\n",
    "e : 'a * 'b -> 'c * 'a -> bool"
   ]
  },
  {
   "cell_type": "markdown",
   "metadata": {},
   "source": [
    "#### ⭐️⭐️⭐️ **Question 3 (2 marks)**\n",
    "\n",
    "This question is about recursive functions over integers and strings in OCaml. Write a recursive function that converts an integer to a string representing the number in binary, with the following signature:\n",
    "\n",
    "```OCaml\n",
    "val binary_of_int : int -> string = <fun>\n",
    "```\n",
    "\n",
    "The function should be recursive and should not use helper functions. The function may (or may not) return a leading zero."
   ]
  },
  {
   "cell_type": "code",
   "execution_count": null,
   "metadata": {
    "vscode": {
     "languageId": "ocaml"
    }
   },
   "outputs": [],
   "source": [
    "(* Answer: *) \n",
    "let rec binary_of_int n = \n",
    "  if n = 0 then \"0\" \n",
    "  else if n = 1 then \"1\"\n",
    "  else binary_of_int (n / 2) ^ (if n mod 2 = 0 then \"0\" else \"1\")"
   ]
  },
  {
   "cell_type": "code",
   "execution_count": null,
   "metadata": {
    "vscode": {
     "languageId": "ocaml"
    }
   },
   "outputs": [],
   "source": [
    "(* Unit tests *)\n",
    "let _ = assert (binary_of_int 0 = \"0\")\n",
    "let _ = assert (binary_of_int 1 = \"1\")\n",
    "let _ = assert (binary_of_int 2 = \"10\")\n",
    "let _ = assert (binary_of_int 3 = \"11\")\n",
    "let _ = assert (binary_of_int 4 = \"100\")\n",
    "let _ = assert (binary_of_int 5 = \"101\")"
   ]
  },
  {
   "cell_type": "markdown",
   "metadata": {},
   "source": [
    "#### ⭐️ **Question 4 (2 marks)** \n",
    "\n",
    "This question is about functions over tuples in OCaml. A key-value pair is a pair where the first element is the key and the second is the value. Write a comparison function for key-value pairs, with the following signature:\n",
    "\n",
    "```ocaml\n",
    "val compare_key_value : ('a * 'b) -> ('a * 'b) -> int = <fun>\n",
    "```\n",
    "\n",
    "Where the result is -1 if the first key is smaller than the second, 0 if they are equal, and 1 if the first key is greater than the second."
   ]
  },
  {
   "cell_type": "code",
   "execution_count": null,
   "metadata": {
    "vscode": {
     "languageId": "ocaml"
    }
   },
   "outputs": [],
   "source": [
    "(* Answer: *)\n",
    "let compare_key_value (a,b) (c,d) = \n",
    "  if a < c then \n",
    "    -1 \n",
    "  else if a > c then \n",
    "    1 \n",
    "  else \n",
    "    0"
   ]
  },
  {
   "cell_type": "code",
   "execution_count": null,
   "metadata": {
    "vscode": {
     "languageId": "ocaml"
    }
   },
   "outputs": [],
   "source": [
    "(* Unit tests *)\n",
    "let _ = assert (compare_key_value (1,2) (1,3) = 0)\n",
    "let _ = assert (compare_key_value (1,2) (2,2) = -1)\n",
    "let _ = assert (compare_key_value (2,2) (1,3) = 1)"
   ]
  },
  {
   "cell_type": "markdown",
   "metadata": {},
   "source": [
    "#### ⭐️⭐️ **Question 5 (2 marks)** \n",
    "\n",
    "This question is about functions over lists and tuples in OCaml. An associative list is a list of key-value pairs where the key occurs only once in the list. Write a function that takes an associative list, a key, and a value, and returns a new associative list with the key-value pair added, ensuring there are no duplicate keys. If a value with the same key already exists, the value should be replaced. The function must be recursive and should not use helper functions. The function should have the following signature:\n",
    "\n",
    "```OCaml\n",
    "val assoc : 'a -> 'b -> ('a * 'b) list -> ('a * 'b) list = <fun>\n",
    "```"
   ]
  },
  {
   "cell_type": "code",
   "execution_count": null,
   "metadata": {
    "vscode": {
     "languageId": "ocaml"
    }
   },
   "outputs": [],
   "source": [
    "(* Answer: *) \n",
    "let rec assoc k v l = \n",
    "  match l with \n",
    "  | [] -> [(k, v)]\n",
    "  | (k', v') :: t -> if k = k' then (k, v) :: t else (k', v') :: assoc k v t"
   ]
  },
  {
   "cell_type": "code",
   "execution_count": null,
   "metadata": {
    "vscode": {
     "languageId": "ocaml"
    }
   },
   "outputs": [],
   "source": [
    "(* Unit tests *)\n",
    "let _ = assert (assoc 1 \"one\" [] = [(1, \"one\")])\n",
    "let _ = assert (assoc 1 \"one\" [(2, \"two\")] = [(2, \"two\"); (1, \"one\")])\n",
    "let _ = assert (assoc 1 \"one\" [(1, \"two\")] = [(1, \"one\")])"
   ]
  },
  {
   "cell_type": "markdown",
   "metadata": {},
   "source": [
    "#### ⭐️⭐️⭐️ **Question 6 (2 marks)**\n",
    "\n",
    "Esta pergunta é sobre funções sobre listas, tuplos, e variantes em OCaml. Considere as listas associativas definidas no exercício anterior e o tipo `option` definido por: \n",
    "\n",
    "```OCaml\n",
    "type 'a option = None | Some of 'a\n",
    "```\n",
    "\n",
    "Escreva uma função que recebe uma lista associativa e uma chave e devolve o valor associado à chave. Se a chave não existir, a função deve devolver `None`, se existir deve devolver `Some` com o valor respectivo. A função deve ser recursiva e não deve usar funções auxiliares.\n",
    "\n"
   ]
  },
  {
   "cell_type": "code",
   "execution_count": null,
   "metadata": {
    "vscode": {
     "languageId": "ocaml"
    }
   },
   "outputs": [],
   "source": [
    "(* Answer *) \n",
    "type 'a option = None | Some of 'a\n",
    "\n",
    "let rec lookup k l = \n",
    "  match l with \n",
    "  | [] -> None\n",
    "  | (k', v) :: t -> if k = k' then Some v else lookup k t"
   ]
  },
  {
   "cell_type": "code",
   "execution_count": null,
   "metadata": {
    "vscode": {
     "languageId": "ocaml"
    }
   },
   "outputs": [],
   "source": [
    "(* Unit tests *)\n",
    "let _ = assert (lookup 1 [] = None)\n",
    "let _ = assert (lookup 1 [(2, \"two\")] = None)\n",
    "let _ = assert (lookup 1 [(1, \"one\")] = Some \"one\")\n",
    "let _ = assert (lookup 1 [(2, \"two\"); (1, \"one\")] = Some \"one\")"
   ]
  },
  {
   "cell_type": "markdown",
   "metadata": {},
   "source": [
    "#### ⭐️⭐️⭐️⭐️ **Question 7 (2 marks)**\n",
    "\n",
    "This question is about defining a recursive function with `fold_right` from a simple recursive function.\n",
    "\n",
    "Consider the recursive function `polinomial_horner` that calculates the value of a polynomial at a point using Horner's scheme. The function is defined as follows:\n",
    "\n",
    "```OCaml\n",
    "let rec polinomial_horner l x = \n",
    "  match l with\n",
    "  | [] -> 0.\n",
    "  | h::t -> h +. x *. polinomial_horner t x\n",
    "```\n",
    "\n",
    "Define the same function using `fold_right`."
   ]
  },
  {
   "cell_type": "code",
   "execution_count": null,
   "metadata": {
    "vscode": {
     "languageId": "ocaml"
    }
   },
   "outputs": [],
   "source": [
    "(* Answer: *)\n",
    "let polinomial_horner l x = \n",
    "  List.fold_right (fun a b -> a +. x *. b) l 0.0"
   ]
  }
 ],
 "metadata": {
  "kernelspec": {
   "display_name": "OCaml lap2025",
   "language": "OCaml",
   "name": "ocaml-jupyter"
  },
  "language_info": {
   "codemirror_mode": "text/x-ocaml",
   "file_extension": ".ml",
   "mimetype": "text/x-ocaml",
   "name": "OCaml",
   "nbconverter_exporter": null,
   "pygments_lexer": "OCaml",
   "version": "4.14.0"
  }
 },
 "nbformat": 4,
 "nbformat_minor": 2
}
