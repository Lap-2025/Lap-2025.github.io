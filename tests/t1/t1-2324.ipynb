{
 "cells": [
  {
   "cell_type": "markdown",
   "metadata": {},
   "source": [
    "# Resolução do Primeiro Teste Lap 2024 (extendido)"
   ]
  },
  {
   "cell_type": "markdown",
   "metadata": {},
   "source": [
    "#### ⭐️ **Pergunta 1 (2 valores)**\n",
    "\n",
    "Esta pergunta é sobre expressões em OCaml e o seu tipo. Considere as seguintes definições de tipos:\n",
    "\n",
    "```OCaml\n",
    "type point = float * float (* Coordenadas cartesianas *)\n",
    "\n",
    "type polar = float * float (* Coordenadas polares *)\n",
    "\n",
    "type figure = Circle of point * float | Rectangle of point * point\n",
    "\n",
    "type a = int * (int * string)\n",
    "\n",
    "type b = point * (point list)\n",
    "\n",
    "type c = figure list\n",
    "\n",
    "type d = polar list -> point list\n",
    "\n",
    "type e = figure list -> int\n",
    "```\n",
    "\n",
    "Escreva uma expressão para cada um dos tipos `a`, `b`, `c`, `d`, `e`, e `f`. No caso das funções, os argumentos devem ser usados pelo menos uma vez para criar a expressão. Para as expressões de tipos `a`, `b`, e `c` use literais simples, a expressão de tipo `d` deve calcular a lista dos mesmos pontos, mas com coordenadas cartesianas. \n",
    "\n",
    "Pode usar as funções `sin`, `cos`, `map` para transformar coordenadas polares em cartesianas (o conhecimento de geometria básica necessário é considerado adquirido). Para a função de tipo `e` deve calcular o número de figuras que são retângulos, pode opcionalmente usar a função `fold`."
   ]
  },
  {
   "cell_type": "code",
   "execution_count": null,
   "metadata": {
    "vscode": {
     "languageId": "ocaml"
    }
   },
   "outputs": [],
   "source": [
    "(* Resposta *)"
   ]
  },
  {
   "cell_type": "markdown",
   "metadata": {},
   "source": [
    "#### ⭐️⭐️ **Pergunta 2 (2 valores)** \n",
    "\n",
    "Esta pergunta é sobre inferência de tipos de expressões em OCaml. Considere as seguintes expressões em OCaml. \n",
    "\n",
    "```OCaml\n",
    "let a = (\"inc\", fun x -> x + 1);;\n",
    "\n",
    "let b = fun x -> ignore (x + 1); \"ola\";;\n",
    "\n",
    "let c = fun x -> if x then 1 else 2.0;;\n",
    "\n",
    "let d = fun x -> fun y -> fun z -> ((x <> y) && z, x + y);;\n",
    "\n",
    "let e = fun x -> fun y -> fst x > snd y;;\n",
    "```\n",
    "\n",
    "Indique o tipo de cada expressão segundo o algoritmo de inferência de tipos de Hindley-Milner. Se a expressão não for bem tipificada, indique o motivo.\n"
   ]
  },
  {
   "cell_type": "code",
   "execution_count": null,
   "metadata": {
    "vscode": {
     "languageId": "ocaml"
    }
   },
   "outputs": [],
   "source": [
    "(* Resposta *)"
   ]
  },
  {
   "cell_type": "markdown",
   "metadata": {},
   "source": [
    "#### ⭐️⭐️⭐️ **Pergunta 3 (2 valores)**\n",
    "\n",
    "Esta pergunta é sobre funções recursivas sobre inteiros e strings em OCaml. Escreva uma função recursiva que converte um inteiro para uma string que representa o número em binário, com a seguinte assinatura:\n",
    "\n",
    "```OCaml\n",
    "val binary_of_int : int -> string = <fun>\n",
    "```\n",
    "\n",
    "A função deve ser recursiva e não deve usar funções auxiliares. A função pode (ou não) devolver um zero à esquerda. \n"
   ]
  },
  {
   "cell_type": "code",
   "execution_count": null,
   "metadata": {
    "vscode": {
     "languageId": "ocaml"
    }
   },
   "outputs": [],
   "source": [
    "(* Resposta *)"
   ]
  },
  {
   "cell_type": "code",
   "execution_count": null,
   "metadata": {
    "vscode": {
     "languageId": "ocaml"
    }
   },
   "outputs": [],
   "source": [
    "(* Testes unitários *)\n",
    "let _ = assert (binary_of_int 0 = \"0\")\n",
    "let _ = assert (binary_of_int 1 = \"1\")\n",
    "let _ = assert (binary_of_int 2 = \"10\")\n",
    "let _ = assert (binary_of_int 3 = \"11\")\n",
    "let _ = assert (binary_of_int 4 = \"100\")\n",
    "let _ = assert (binary_of_int 5 = \"101\")"
   ]
  },
  {
   "cell_type": "markdown",
   "metadata": {},
   "source": [
    "#### ⭐️ **Pergunta 4 (2 valores)**\n",
    "\n",
    "Esta pergunta é sobre funções sobre tuplos em OCaml. Um par chave-valor é um par onde o primeiro elemento é a chave e o segundo é o valor. Escreva uma função de comparação para pares chave valor, com a seguinte assinatura:\n",
    "\n",
    "```OCaml\n",
    "val compare_key_value : ('a * 'b) -> ('a * 'b) -> int = <fun>\n",
    "```\n",
    "\n",
    "onde o resultado é -1 se a primeira chave é menor que a segunda, 0 se são iguais, e 1 se a primeira chave é maior que a segunda."
   ]
  },
  {
   "cell_type": "code",
   "execution_count": null,
   "metadata": {
    "vscode": {
     "languageId": "ocaml"
    }
   },
   "outputs": [],
   "source": [
    "(* Resposta *)"
   ]
  },
  {
   "cell_type": "code",
   "execution_count": null,
   "metadata": {
    "vscode": {
     "languageId": "ocaml"
    }
   },
   "outputs": [],
   "source": [
    "(* Testes unitários *)\n",
    "let _ = assert (compare_key_value (1,2) (1,3) = 0)\n",
    "let _ = assert (compare_key_value (1,2) (2,2) = -1)\n",
    "let _ = assert (compare_key_value (2,2) (1,3) = 1)"
   ]
  },
  {
   "cell_type": "markdown",
   "metadata": {},
   "source": [
    "#### ⭐️⭐️ **Pergunta 5 (2 valores)** \n",
    "\n",
    "Esta pergunta é sobre funções sobre listas e tuplos em OCaml. Uma lista associativa é uma lista de pares chave-valor onde a chave só ocorre uma vez na lista. Escreva uma função que recebe uma lista associativa, uma chave, e um valor e devolve uma nova lista associativa com o par chave-valor adicionado, garantindo que não há repetições de chaves. No caso de já existir um valor com a mesma chave, o valor deve ser substituído. A função deve ser recursiva e não deve usar funções auxiliares. A função deve ter a seguinte assinatura:\n",
    "\n",
    "```OCaml\n",
    "val assoc : 'a -> 'b -> ('a * 'b) list -> ('a * 'b) list = <fun>\n",
    "```"
   ]
  },
  {
   "cell_type": "code",
   "execution_count": null,
   "metadata": {
    "vscode": {
     "languageId": "ocaml"
    }
   },
   "outputs": [],
   "source": [
    "(* Resposta *) "
   ]
  },
  {
   "cell_type": "code",
   "execution_count": null,
   "metadata": {
    "vscode": {
     "languageId": "ocaml"
    }
   },
   "outputs": [],
   "source": [
    "(* Testes unitários *)\n",
    "let _ = assert (assoc 1 \"um\" [] = [(1, \"um\")])\n",
    "let _ = assert (assoc 1 \"um\" [(2, \"dois\")] = [(2, \"dois\"); (1, \"um\")])\n",
    "let _ = assert (assoc 1 \"um\" [(1, \"dois\")] = [(1, \"um\")])"
   ]
  },
  {
   "cell_type": "markdown",
   "metadata": {},
   "source": [
    "#### ⭐️⭐️⭐️ **Pergunta 6 (2 valores)**\n",
    "\n",
    "Esta pergunta é sobre funções sobre listas, tuplos, e variantes em OCaml. Considere as listas associativas definidas no exercício anterior e o tipo `option` definido por: \n",
    "\n",
    "```OCaml\n",
    "type 'a option = None | Some of 'a\n",
    "```\n",
    "\n",
    "Escreva uma função que recebe uma lista associativa e uma chave e devolve o valor associado à chave. Se a chave não existir, a função deve devolver `None`, se existir deve devolver `Some` com o valor respectivo. A função deve ser recursiva e não deve usar funções auxiliares. A função deve ter a seguinte assinatura:\n"
   ]
  },
  {
   "cell_type": "code",
   "execution_count": null,
   "metadata": {
    "vscode": {
     "languageId": "ocaml"
    }
   },
   "outputs": [],
   "source": [
    "(* Resposta *) "
   ]
  },
  {
   "cell_type": "code",
   "execution_count": null,
   "metadata": {
    "vscode": {
     "languageId": "ocaml"
    }
   },
   "outputs": [],
   "source": [
    "(* Testes unitários *)\n",
    "let _ = assert (lookup 1 [] = None)\n",
    "let _ = assert (lookup 1 [(2, \"dois\")] = None)\n",
    "let _ = assert (lookup 1 [(1, \"um\")] = Some \"um\")\n",
    "let _ = assert (lookup 1 [(2, \"dois\"); (1, \"um\")] = Some \"um\")"
   ]
  },
  {
   "cell_type": "markdown",
   "metadata": {},
   "source": [
    "\n",
    "#### ⭐️⭐️⭐️⭐️ **Pergunta 7 (2 valores)**\n",
    "\n",
    "Esta pergunta é sobre fazer uma função recursiva com `fold_right` a partir de uma função recursiva simples.\n",
    "\n",
    "Considere a função recursiva `polinomial_horner` que calcula o valor de um polinómio num ponto, usando o esquema de Horner. A função é definida da seguinte maneira:\n",
    "\n",
    "```OCaml\n",
    "let rec polinomial_horner l x = \n",
    "  match l with\n",
    "  | [] -> 0.\n",
    "  | h::t -> h +. x *. polinomial_horner t x\n",
    "```\n",
    "\n",
    "Defina a mesma função usando `fold_right`."
   ]
  },
  {
   "cell_type": "code",
   "execution_count": null,
   "metadata": {
    "vscode": {
     "languageId": "ocaml"
    }
   },
   "outputs": [],
   "source": [
    "(* Resposta *)"
   ]
  }
 ],
 "metadata": {
  "kernelspec": {
   "display_name": "OCaml 4.12.0",
   "language": "OCaml",
   "name": "ocaml-jupyter"
  },
  "language_info": {
   "codemirror_mode": "text/x-ocaml",
   "file_extension": ".ml",
   "mimetype": "text/x-ocaml",
   "name": "OCaml",
   "nbconverter_exporter": null,
   "pygments_lexer": "OCaml",
   "version": "4.12.0"
  }
 },
 "nbformat": 4,
 "nbformat_minor": 2
}
