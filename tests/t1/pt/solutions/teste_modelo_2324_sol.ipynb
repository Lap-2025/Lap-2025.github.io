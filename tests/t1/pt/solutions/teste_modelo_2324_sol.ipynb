{
 "cells": [
  {
   "cell_type": "markdown",
   "metadata": {},
   "source": [
    "# Teste modelo LAP 2024"
   ]
  },
  {
   "cell_type": "markdown",
   "metadata": {},
   "source": [
    "#### ⭐️⭐️⭐️ **Pergunta 1 (2 valores)** \n",
    "\n",
    "Esta pergunta é sobre funções recursivas sobre inteiros em OCaml. Escreva uma função recursiva que verifica se todos os inteiros no intervalo $[i; j]$ respeitam um determinado predicado, representado como uma função que devolve um resultado Booleano. Esta função deve ter a seguinte assinatura:\n",
    "\n",
    "```ocaml\n",
    "val for_all : int -> int -> (int -> bool) -> bool = <fun>\n",
    "```\n",
    "\n",
    "A função deve ser recursiva e não deve usar funções auxiliares."
   ]
  },
  {
   "cell_type": "code",
   "execution_count": null,
   "metadata": {
    "vscode": {
     "languageId": "ocaml"
    }
   },
   "outputs": [],
   "source": [
    "(* Resposta *)\n",
    "let rec for_all x1 x2 p = \n",
    "  if x2 < x1 then  \n",
    "    true\n",
    "  else\n",
    "    p x1 && for_all (x1 + 1) x2 p\n",
    ";;"
   ]
  },
  {
   "cell_type": "markdown",
   "metadata": {},
   "source": [
    "#### ⭐️ **Pergunta 2 (2 valores)** \n",
    "\n",
    "Esta pergunta é sobre funções sobre tuplos em OCaml. Escreva uma função de comparação entre pares cuja primeira componente é de um tipo arbitrário (denominada *chave*) e a segunda um inteiro (denominada *cardinalidade*), com a seguinte assinatura:\n",
    "\n",
    "```OCaml\n",
    "val compare : ('a * int) -> ('a * int) -> int = <fun>\n",
    "```\n",
    "\n",
    "onde o resultado é -1 se a primeira chave é menor que a segunda e 1 se a primeira chave é maior que a segunda. Se as chaves são iguais, então a função devolve -1 se a primeira cardinalidade é menor que a segunda cardinalidade e 1 se a primeira cardinalidade é maior que a segunda. Caso nenhuma das anteriores condições de verificar, então a função devolve 0."
   ]
  },
  {
   "cell_type": "code",
   "execution_count": null,
   "metadata": {
    "vscode": {
     "languageId": "ocaml"
    }
   },
   "outputs": [],
   "source": [
    "(* Resposta *)\n",
    "let compare (k1, v1) (k2, v2) = \n",
    "  if k1 < k2 then \n",
    "    -1\n",
    "  else if k1 > k2 then \n",
    "    1\n",
    "  else \n",
    "    if v1 < v2 then \n",
    "      -1\n",
    "    else if v1 > v2 then\n",
    "      1 \n",
    "    else \n",
    "      0\n",
    ";;\n",
    "\n",
    "let compare_pairs p1 p2 = \n",
    "  if p1 < p2 then \n",
    "    -1\n",
    "  else if p1 > p2 then \n",
    "    1\n",
    "  else \n",
    "    0\n",
    ";;\n",
    "\n",
    "(* compare p1 p2 *)"
   ]
  },
  {
   "cell_type": "markdown",
   "metadata": {},
   "source": [
    "#### ⭐️⭐️ **Pergunta 3 (2 valores)**\n",
    "\n",
    "Esta pergunta é sobre funções sobre listas e tuplos em OCaml. Um `bag` é uma estrutura de dados cujo propósito é representar conjuntos com elementos potencialmente repetidos. Um `bag` é representado como uma lista de pares, cujo primeiro componente representa o elemento, enquanto o segundo representa a sua cardinalidade.\n",
    "\n",
    "```OCaml\n",
    "type 'a bag = ('a * int) list\n",
    "```\n",
    "\n",
    "Escreva uma função que recebe um `bag`, um elemento e devolve um novo `bag` actualizado. Se o elemento passado como argumento já existir no `bag`, então deve actualizar a sua cardinalidade. Caso contrário, o elemento é introduzido com cardinalidade igual a `1`.\n",
    "\n",
    "A função deve ser recursiva e não deve usar funções auxiliares. A função deve ter a seguinte assinatura:\n",
    "\n",
    "```OCaml\n",
    "val insert : 'a -> 'a bag -> 'a bag = <fun>\n",
    "```\n"
   ]
  },
  {
   "cell_type": "code",
   "execution_count": null,
   "metadata": {
    "vscode": {
     "languageId": "ocaml"
    }
   },
   "outputs": [],
   "source": [
    "(* Resposta *)\n",
    "let rec insert elem bag = \n",
    "  match bag with \n",
    "  | [] -> [(elem, 1)]\n",
    "  | (k, v) :: t -> \n",
    "    if elem = k then \n",
    "      (k, v + 1) :: t\n",
    "    else\n",
    "      (k, v) :: insert elem t\n",
    ";;"
   ]
  },
  {
   "cell_type": "markdown",
   "metadata": {},
   "source": [
    "#### ⭐️⭐️⭐️ **Pergunta 4 (2 valores)**\n",
    "\n",
    "Esta pergunta é sobre funções sobre listas, tuplos, e variantes em OCaml. \n",
    "\n",
    "\n",
    "```OCaml\n",
    "type 'a option = None | Some of 'a\n",
    "```\n",
    "\n",
    "Escreva uma função que recebe um `bag` e um valor e devolve a cardinalidade associada a esse valor. Se o valor não existir, a função deve devolver `None`, se existir deve devolver `Some` com a cardinalidade respectiva. A função deve ser recursiva e não deve usar funções auxiliares. A função deve ter a seguinte assinatura:\n",
    "\n",
    "```OCaml\n",
    "val number_of : 'a bag -> 'a -> int option\n",
    "```"
   ]
  },
  {
   "cell_type": "code",
   "execution_count": null,
   "metadata": {
    "vscode": {
     "languageId": "ocaml"
    }
   },
   "outputs": [],
   "source": [
    "(* Resposta *)\n",
    "let rec number_of bag elem = \n",
    "  match bag with \n",
    "  | [] -> None\n",
    "  | (k, v) :: t -> \n",
    "    if elem = k then \n",
    "      Some v\n",
    "    else\n",
    "      number_of t elem\n",
    ";;\n"
   ]
  },
  {
   "cell_type": "markdown",
   "metadata": {},
   "source": [
    "#### ⭐️⭐️ **Pergunta 5 (3 valores)**\n",
    "\n",
    "Esta pergunta é sobre funções sobre listas, variantes, e *pattern matching* em OCaml.\n",
    "\n",
    "Escreva uma função que, dada uma lista conta o número de elementos da lista que satisfazem um determinado predicado, representado como uma função que devolve um resultado Booleano. Use a assinatura:\n",
    "    \n",
    "```OCaml\n",
    "val how_many_with : ('a -> bool) -> 'a list -> int = <fun>\n",
    "```\n"
   ]
  },
  {
   "cell_type": "code",
   "execution_count": null,
   "metadata": {
    "vscode": {
     "languageId": "ocaml"
    }
   },
   "outputs": [],
   "source": [
    "(* Resposta *)\n",
    "let rec how_many_with p lst = \n",
    "  match lst with \n",
    "  | [] -> 0\n",
    "  | h :: t -> \n",
    "    if p h then \n",
    "      1 + how_many_with p t\n",
    "    else \n",
    "      how_many_with p t\n",
    ";;\n",
    "\n",
    "let how_many_with p lst = \n",
    "  List.length (List.filter p lst)\n",
    ";;\n",
    "\n",
    "let how_many_with p lst = \n",
    "  List.fold_left (fun n x -> if p x then n + 1 else n) 0 lst \n",
    ";;\n",
    "\n",
    "let how_many_with p lst =\n",
    "  List.fold_right (fun x n -> if p x then n + 1 else n) lst 0\n",
    ";;\n",
    "\n",
    "let how_many_with p lst = \n",
    "  List.fold_left (+) 0 (List.map (fun x -> if p x then 1 else 0) lst)\n",
    ";;"
   ]
  }
 ],
 "metadata": {
  "kernelspec": {
   "display_name": "OCaml lap2025",
   "language": "OCaml",
   "name": "ocaml-jupyter"
  },
  "language_info": {
   "codemirror_mode": "text/x-ocaml",
   "file_extension": ".ml",
   "mimetype": "text/x-ocaml",
   "name": "OCaml",
   "nbconverter_exporter": null,
   "pygments_lexer": "OCaml",
   "version": "4.14.0"
  }
 },
 "nbformat": 4,
 "nbformat_minor": 2
}
