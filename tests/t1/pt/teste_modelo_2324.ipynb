{
 "cells": [
  {
   "cell_type": "markdown",
   "metadata": {},
   "source": [
    "# Teste modelo LAP 2024"
   ]
  },
  {
   "cell_type": "markdown",
   "metadata": {},
   "source": [
    "#### ⭐️⭐️⭐️ **Pergunta 1 (2 valores)** \n",
    "\n",
    "Esta pergunta é sobre funções recursivas sobre inteiros em OCaml. Escreva uma função recursiva que verifica se todos os inteiros no intervalo $[i; j]$ respeitam um determinado predicado, representado como uma função que devolve um resultado Booleano. Esta função deve ter a seguinte assinatura:\n",
    "\n",
    "```ocaml\n",
    "val for_all : int -> int -> (int -> bool) -> bool = <fun>\n",
    "```\n",
    "\n",
    "A função deve ser recursiva e não deve usar funções auxiliares."
   ]
  },
  {
   "cell_type": "code",
   "execution_count": null,
   "metadata": {
    "vscode": {
     "languageId": "ocaml"
    }
   },
   "outputs": [],
   "source": []
  },
  {
   "cell_type": "markdown",
   "metadata": {},
   "source": [
    "#### ⭐️ **Pergunta 2 (2 valores)** \n",
    "\n",
    "Esta pergunta é sobre funções sobre tuplos em OCaml. Escreva uma função de comparação entre pares cuja primeira componente é de um tipo arbitrário (denominada *chave*) e a segunda um inteiro (denominada *cardinalidade*), com a seguinte assinatura:\n",
    "\n",
    "```OCaml\n",
    "val compare : ('a * int) -> ('a * int) -> int = <fun>\n",
    "```\n",
    "\n",
    "onde o resultado é -1 se a primeira chave é menor que a segunda e 1 se a primeira chave é maior que a segunda. Se as chaves são iguais, então a função devolve -1 se a primeira cardinalidade é menor que a segunda cardinalidade e 1 se a primeira cardinalidade é maior que a segunda. Caso nenhuma das anteriores condições de verificar, então a função devolve 0."
   ]
  },
  {
   "cell_type": "code",
   "execution_count": null,
   "metadata": {
    "vscode": {
     "languageId": "ocaml"
    }
   },
   "outputs": [],
   "source": []
  },
  {
   "cell_type": "markdown",
   "metadata": {},
   "source": [
    "#### ⭐️⭐️ **Pergunta 3 (2 valores)**\n",
    "\n",
    "Esta pergunta é sobre funções sobre listas e tuplos em OCaml. Um `bag` é uma estrutura de dados cujo propósito é representar conjuntos com elementos potencialmente repetidos. Um `bag` é representado como uma lista de pares, cujo primeiro componente representa o elemento, enquanto o segundo representa a sua cardinalidade.\n",
    "\n",
    "```OCaml\n",
    "type 'a bag = ('a * int) list\n",
    "```\n",
    "\n",
    "Escreva uma função que recebe um `bag`, um elemento e devolve um novo `bag` actualizado. Se o elemento passado como argumento já existir no `bag`, então deve actualizar a sua cardinalidade. Caso contrário, o elemento é introduzido com cardinalidade igual a `1`.\n",
    "\n",
    "A função deve ser recursiva e não deve usar funções auxiliares. A função deve ter a seguinte assinatura:\n",
    "\n",
    "```OCaml\n",
    "val insert : 'a -> 'a bag -> 'a bag = <fun>\n",
    "```\n"
   ]
  },
  {
   "cell_type": "code",
   "execution_count": null,
   "metadata": {
    "vscode": {
     "languageId": "ocaml"
    }
   },
   "outputs": [],
   "source": []
  },
  {
   "cell_type": "markdown",
   "metadata": {},
   "source": [
    "#### ⭐️⭐️⭐️ **Pergunta 4 (2 valores)**\n",
    "\n",
    "Esta pergunta é sobre funções sobre listas, tuplos, e variantes em OCaml. \n",
    "\n",
    "\n",
    "```OCaml\n",
    "type 'a option = None | Some of 'a\n",
    "```\n",
    "\n",
    "Escreva uma função que recebe um `bag` e um valor e devolve a cardinalidade associada a esse valor. Se o valor não existir, a função deve devolver `None`, se existir deve devolver `Some` com a cardinalidade respectiva. A função deve ser recursiva e não deve usar funções auxiliares. A função deve ter a seguinte assinatura:\n",
    "\n",
    "```OCaml\n",
    "val number_of : 'a bag -> 'a -> int option\n",
    "```"
   ]
  },
  {
   "cell_type": "code",
   "execution_count": null,
   "metadata": {
    "vscode": {
     "languageId": "ocaml"
    }
   },
   "outputs": [],
   "source": []
  },
  {
   "cell_type": "markdown",
   "metadata": {},
   "source": [
    "#### ⭐️⭐️ **Pergunta 5 (3 valores)**\n",
    "\n",
    "Esta pergunta é sobre funções sobre listas, variantes, e *pattern matching* em OCaml.\n",
    "\n",
    "Escreva uma função que, dada uma lista conta o número de elementos da lista que satisfazem um determinado predicado, representado como uma função que devolve um resultado Booleano. Use a assinatura:\n",
    "    \n",
    "```OCaml\n",
    "val how_many_with : ('a -> bool) -> 'a list -> int = <fun>\n",
    "```\n"
   ]
  },
  {
   "cell_type": "code",
   "execution_count": null,
   "metadata": {
    "vscode": {
     "languageId": "ocaml"
    }
   },
   "outputs": [],
   "source": []
  }
 ],
 "metadata": {
  "kernelspec": {
   "display_name": "OCaml lap2024",
   "language": "OCaml",
   "name": "ocaml-jupyter"
  },
  "language_info": {
   "name": "OCaml"
  }
 },
 "nbformat": 4,
 "nbformat_minor": 2
}
