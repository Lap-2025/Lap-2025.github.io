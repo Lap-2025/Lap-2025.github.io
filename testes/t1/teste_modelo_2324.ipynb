{
 "cells": [
  {
   "cell_type": "markdown",
   "metadata": {},
   "source": [
    "# Teste modelo LAP 2024"
   ]
  },
  {
   "cell_type": "markdown",
   "metadata": {},
   "source": [
    "#### [*] Pergunta 1 (2 valores). \n",
    "\n",
    "Esta pergunta é sobre expressões em OCaml e o seu tipo. Considere as seguintes definições de tipos:"
   ]
  },
  {
   "cell_type": "code",
   "execution_count": null,
   "metadata": {
    "vscode": {
     "languageId": "ocaml"
    }
   },
   "outputs": [],
   "source": [
    "let f = fun x -> x\n",
    "\n",
    "let g = fun h -> fun x -> h x\n",
    "\n",
    "let k u = u (g (fun x -> f x) 0)"
   ]
  },
  {
   "cell_type": "markdown",
   "metadata": {},
   "source": [
    "Utilizando as funções anteriormente definidas, construa uma expressão de tipo:\n",
    "\n",
    "1. `int`\n",
    "2. `bool`\n",
    "3. `int -> int`\n",
    "4. `'a -> 'a`"
   ]
  },
  {
   "cell_type": "markdown",
   "metadata": {},
   "source": [
    "#### [**] Pergunta 2 (2 valores). \n",
    "\n",
    "Esta pergunta é sobre inferência de tipos de expressões em OCaml. Considere as seguintes expressões em OCaml. "
   ]
  },
  {
   "cell_type": "code",
   "execution_count": null,
   "metadata": {
    "vscode": {
     "languageId": "ocaml"
    }
   },
   "outputs": [],
   "source": [
    "let x = 10;;\n",
    "let x = \n",
    "  let y = fun a -> a + x in\n",
    "  let y =\n",
    "    let x = y x in \n",
    "    let y = fun a -> a * x in\n",
    "    y x in\n",
    "  fun x -> x * y;;\n",
    "let w = x + 100;;"
   ]
  },
  {
   "cell_type": "code",
   "execution_count": null,
   "metadata": {
    "vscode": {
     "languageId": "ocaml"
    }
   },
   "outputs": [],
   "source": [
    "let x = 10;;\n",
    "let x = \n",
    "  let y = fun a -> a + x in\n",
    "  let y =\n",
    "    let x = y x in \n",
    "    let y = fun a -> a * x in\n",
    "    fun w -> y x + w in\n",
    "  fun w -> y w;;\n",
    "let w = x 100;;"
   ]
  },
  {
   "cell_type": "code",
   "execution_count": null,
   "metadata": {
    "vscode": {
     "languageId": "ocaml"
    }
   },
   "outputs": [],
   "source": [
    "let x = 10;;\n",
    "let x = \n",
    "  let y = fun a -> a + x in\n",
    "  let y =\n",
    "    let x = y x in \n",
    "    let y = fun a -> a * y x in\n",
    "    y x in\n",
    "  fun w -> x + y w;;\n",
    "let w = x + 100;;"
   ]
  },
  {
   "cell_type": "markdown",
   "metadata": {},
   "source": [
    "Indique o tipo de cada expressão segundo o algoritmo de inferência de tipos de Hindley-Milner. Se a expressão não for bem tipificada, indique o motivo."
   ]
  },
  {
   "cell_type": "markdown",
   "metadata": {},
   "source": [
    "#### [***] Pergunta 3 (2 valores). \n",
    "\n",
    "Esta pergunta é sobre funções recursivas sobre inteiros em OCaml. Escreva uma função recursiva que verifica se todos os inteiros no intervalo $[i; j]$ respeitam um determinado predicado, representado como uma função que devolve um resultado Booleano. Esta função deve ter a seguinte assinatura:\n",
    "\n",
    "```ocaml\n",
    "val for_all : int -> int -> (int -> bool) -> bool = <fun>\n",
    "```\n",
    "\n",
    "A função deve ser recursiva e não deve usar funções auxiliares."
   ]
  },
  {
   "cell_type": "markdown",
   "metadata": {},
   "source": [
    "#### [*] Pergunta 4 (2 valores). \n",
    "\n",
    "Esta pergunta é sobre funções sobre tuplos em OCaml. Escreva uma função de comparação entre pares cuja primeira componente é de um tipo arbitrário (denominada *chave*) e a segunda um inteiro (denominada *cardinalidade*), com a seguinte assinatura:\n",
    "\n",
    "```ocaml\n",
    "val compare : ('a * int) -> ('a * int) -> int = <fun>\n",
    "```\n",
    "\n",
    "onde o resultado é -1 se a primeira chave é menor que a segunda e 1 se a primeira chave é maior que a segunda. Se as chaves são iguais, então a função devolve -1 se a primeira cardinalidade é menor que a segunda cardinalidade e 1 se a primeira cardinalidade é maior que a segunda. Caso nenhuma das anteriores condições de verificar, então a função devolve 0."
   ]
  },
  {
   "cell_type": "markdown",
   "metadata": {},
   "source": [
    "#### [**] Pergunta 5 (2 valores). \n",
    "\n",
    "Esta pergunta é sobre funções sobre listas e tuplos em OCaml. Uma `bag` é uma estrutura de dados cujo propósito é representar conjuntos com elementos potencialmente repetidos. Uma `bag` é representada como uma lista de pares, cuja primeira componente representa efetivamente o elemento, enquanto a segunda representa a sua cardinalidade.\n",
    "\n",
    "```ocaml\n",
    "type 'a bag = ('a * int) list\n",
    "```\n",
    "\n",
    "Escreva uma função que recebe uma `bag`, um elemento e devolve uma nova `bag` actualizada. Se o elemento passado como argumento já existir na `bag`, então deve actualizar a sua cardinalidade. Caso contrário, o elemento é introduzido com cardinalidade igual a `1`.\n",
    "\n",
    "A função deve ser recursiva e não deve usar funções auxiliares. A função deve ter a seguinte assinatura:\n",
    "\n",
    "```ocaml\n",
    "val insert : 'a -> 'a bag -> 'a bag = <fun>\n",
    "```\n"
   ]
  },
  {
   "cell_type": "markdown",
   "metadata": {},
   "source": [
    "#### [***] Pergunta 6 (2 valores)\n",
    "\n",
    "Esta pergunta é sobre funções sobre listas, tuplos, e variantes em OCaml. \n",
    "\n",
    "```ocaml\n",
    "type 'a option = None | Some of 'a\n",
    "```\n",
    "\n",
    "Escreva uma função que recebe uma `bag` e um valor e devolve a cardinalidade associada a esse valor. Se o valor não existir, a função deve devolver `None`, se existir deve devolver `Some` com a cardinalidade respectiva. A função deve ser recursiva e não deve usar funções auxiliares. A função deve ter a seguinte assinatura:\n",
    "\n",
    "```ocaml\n",
    "val number_of : 'a bag -> 'a -> int option\n",
    "```\n"
   ]
  },
  {
   "cell_type": "markdown",
   "metadata": {},
   "source": [
    "#### [**] Pergunta 7 (3 valores)\n",
    "\n",
    "Esta pergunta é sobre funções sobre listas, variantes, e pattern matching em OCaml.\n",
    "\n",
    "Escreva uma função que, dada uma lista conta o número de elementos da lista que satisfazem um determinado predicado, representado como uma função que devolve um resultado Booleano. Use a assinatura:\n",
    "    \n",
    "```ocaml\n",
    "val how_many_with : ('a -> bool) -> 'a list -> int = <fun>\n",
    "```\n"
   ]
  }
 ],
 "metadata": {
  "kernelspec": {
   "display_name": "OCaml lap2024",
   "language": "OCaml",
   "name": "ocaml-jupyter"
  },
  "language_info": {
   "name": "OCaml"
  }
 },
 "nbformat": 4,
 "nbformat_minor": 2
}
