{
 "cells": [
  {
   "cell_type": "markdown",
   "metadata": {},
   "source": [
    "# Exercícios em tipos produto, tipos soma, registos e listas"
   ]
  },
  {
   "cell_type": "markdown",
   "metadata": {},
   "source": [
    "## Tipos produto: pares e tuplos"
   ]
  },
  {
   "cell_type": "markdown",
   "metadata": {},
   "source": [
    "### 🔹 Exercício 1 ⭐️\n",
    "Complete a definição do tipo `point`, que representa as coordenadas de um ponto num plano. Tanto a ordenada como a abcissa deverão ser representadas como valores do tipo `float`."
   ]
  },
  {
   "cell_type": "code",
   "execution_count": null,
   "metadata": {
    "vscode": {
     "languageId": "ocaml"
    }
   },
   "outputs": [],
   "source": [
    "type point"
   ]
  },
  {
   "cell_type": "markdown",
   "metadata": {},
   "source": [
    "### 🔹 Exercício 2 ⭐️\n",
    "Utilizando o tipo `point` do exercício anterior, complete a definição da função `dist` que calcula a distância entre dois pontos:"
   ]
  },
  {
   "cell_type": "code",
   "execution_count": null,
   "metadata": {
    "vscode": {
     "languageId": "ocaml"
    }
   },
   "outputs": [],
   "source": [
    "let dist p1 p2 =\n",
    "  assert false (* Completar aqui *)"
   ]
  },
  {
   "cell_type": "markdown",
   "metadata": {},
   "source": [
    "### 🔹 Exercício 3 ⭐️\n",
    "Complete a definição do tipo `line` que representa uma recta num plano."
   ]
  },
  {
   "cell_type": "code",
   "execution_count": null,
   "metadata": {
    "vscode": {
     "languageId": "ocaml"
    }
   },
   "outputs": [],
   "source": [
    "type line"
   ]
  },
  {
   "cell_type": "markdown",
   "metadata": {},
   "source": [
    "### 🔹 Exercício 4 ⭐️\n",
    "Utilizando os tipos `point` e `line` dos exercícios anteriores, completa a definição da função `point_in_line` que verifica se um dado ponto pertence a uma dada reta:"
   ]
  },
  {
   "cell_type": "code",
   "execution_count": null,
   "metadata": {
    "vscode": {
     "languageId": "ocaml"
    }
   },
   "outputs": [],
   "source": [
    "let point_in_line p r =\n",
    "  assert false (* Completar aqui *)"
   ]
  },
  {
   "cell_type": "markdown",
   "metadata": {},
   "source": [
    "---"
   ]
  },
  {
   "cell_type": "markdown",
   "metadata": {},
   "source": [
    "## Registos"
   ]
  },
  {
   "cell_type": "markdown",
   "metadata": {},
   "source": [
    "### 🔹 Exercício 5 ⭐️\n",
    "Completa a definição do tipo `frac`, que representa uma fração por dois valores inteiros, o *numerador* e o *denominador*. O tipo `frac` deverá ser definido como um registo contendo dois campos, `num` e `denom`."
   ]
  },
  {
   "cell_type": "code",
   "execution_count": null,
   "metadata": {
    "vscode": {
     "languageId": "ocaml"
    }
   },
   "outputs": [],
   "source": [
    "type frac"
   ]
  },
  {
   "cell_type": "markdown",
   "metadata": {},
   "source": [
    "⚠️ **Nota:** deve-se assegurar que o denominador é sempre um valor positivo. Assim, o sinal de uma fração é sempre dado pelo sinal do seu numerador."
   ]
  },
  {
   "cell_type": "markdown",
   "metadata": {},
   "source": [
    "### 🔹 Exercício 6 ⭐️⭐️\n",
    "Recorde a definição do algoritmo de Euclides que calcula o máximo divisor comum entre dois inteiros:\n",
    "\n",
    "```OCaml\n",
    "let rec gcd a b =\n",
    "  if b = 0 then\n",
    "    a\n",
    "  else\n",
    "    gcd b (a mod b)\n",
    "```\n",
    "\n",
    "Complete a definição da função `simp` que simplifica uma dada fração e garante que o seu denominador é positivo. Uma fração é irredutível se o máximo divisor comum entre numerador e denominador é 1."
   ]
  },
  {
   "cell_type": "code",
   "execution_count": null,
   "metadata": {
    "vscode": {
     "languageId": "ocaml"
    }
   },
   "outputs": [
    {
     "data": {
      "text/plain": [
       "val simp : 'a -> 'b = <fun>\n"
      ]
     },
     "execution_count": 1,
     "metadata": {},
     "output_type": "execute_result"
    }
   ],
   "source": [
    "let rec gcd a b =\n",
    "  if b = 0 then\n",
    "    a\n",
    "  else\n",
    "    gcd b (a mod b);; \n",
    "\n",
    "let simp f =\n",
    "  assert false (* Completar aqui *)"
   ]
  },
  {
   "cell_type": "markdown",
   "metadata": {},
   "source": [
    "### 🔹 Exercício 7 ⭐️⭐️\n",
    "Complete a definição da seguintes funções:"
   ]
  },
  {
   "cell_type": "code",
   "execution_count": null,
   "metadata": {
    "vscode": {
     "languageId": "ocaml"
    }
   },
   "outputs": [],
   "source": [
    "(* \n",
    "    [frac a b] devolve a fração formada pelos inteiros [a] e [b]\n",
    "    requires: [b > 0] \n",
    "*)\n",
    "let frac a b =\n",
    "  assert false (* Completar aqui *)\n"
   ]
  },
  {
   "cell_type": "code",
   "execution_count": null,
   "metadata": {
    "vscode": {
     "languageId": "ocaml"
    }
   },
   "outputs": [],
   "source": [
    "(* \n",
    "    [add f1 f2] devolve a adição das frações [f1] e [f2]\n",
    "    requires: [f1.denom > 0 && f2.denom > 0] \n",
    "*)\n",
    "let add_frac f1 f2 =\n",
    "  assert false (* Completar aqui *)\n"
   ]
  },
  {
   "cell_type": "code",
   "execution_count": null,
   "metadata": {
    "vscode": {
     "languageId": "ocaml"
    }
   },
   "outputs": [],
   "source": [
    "(* \n",
    "    [neg_frac f] devolve o oposto da fração [f]\n",
    "    requires: [f.denom > 0] \n",
    "*)\n",
    "let neg_frac f =\n",
    "  assert false (* Completar aqui *)\n"
   ]
  },
  {
   "cell_type": "code",
   "execution_count": null,
   "metadata": {
    "vscode": {
     "languageId": "ocaml"
    }
   },
   "outputs": [],
   "source": [
    "(*\n",
    "    [sub_frac f1 f2] devolve a subtração das frações [f1] e [f2]\n",
    "    requires: [f1.denom > 0 && f2.denom > 0] \n",
    "*)\n",
    "let sub_frac f1 f2 =\n",
    "  assert false (* Completar aqui *)\n"
   ]
  },
  {
   "cell_type": "code",
   "execution_count": null,
   "metadata": {
    "vscode": {
     "languageId": "ocaml"
    }
   },
   "outputs": [],
   "source": [
    "(* \n",
    "    [mul_frac f1 f2] devolve a multiplicação das frações [f1] e [f2]\n",
    "    requires: [f1.denom > 0 && f2.denom > 0] \n",
    "*)\n",
    "let mul_frac f1 f2 =\n",
    "  assert false (* Completar aqui *)\n"
   ]
  },
  {
   "cell_type": "code",
   "execution_count": null,
   "metadata": {
    "vscode": {
     "languageId": "ocaml"
    }
   },
   "outputs": [],
   "source": [
    "(*\n",
    "    [inv_frac f] devolve o inverso da fração [f]\n",
    "    requires: [f.denom > 0 && f.num > 0]\n",
    "*)\n",
    "let inv_frac f =\n",
    "  assert false (* Completar aqui *)"
   ]
  },
  {
   "cell_type": "markdown",
   "metadata": {},
   "source": [
    "Todas as funções que devolvem frações devem devolver frações simplificadas."
   ]
  },
  {
   "cell_type": "markdown",
   "metadata": {},
   "source": [
    "---"
   ]
  },
  {
   "cell_type": "markdown",
   "metadata": {},
   "source": [
    "## Tipos soma"
   ]
  },
  {
   "cell_type": "markdown",
   "metadata": {},
   "source": [
    "### 🔹 Exercício 8 ⭐️⭐️\n",
    "Considere a seguinte definição do tipo `t`:\n",
    "\n",
    "```OCaml\n",
    "type t = A of t | B of int * t | C\n",
    "```\n",
    "\n",
    "O *pattern matching* presente na definição da `g` é exaustivo?\n",
    "\n",
    "```OCaml\n",
    "let g v = \n",
    "  match v with\n",
    "  | A (C) -> 0\n",
    "  | A (B (x, C)) -> 2\n",
    "  | A (_) -> 1\n",
    "  | B (0, _) -> 3\n",
    "  | B (y, A (_)) -> 4\n",
    "  | C -> 5\n",
    "```\n",
    "\n",
    "Justifique a sua resposta no bloco abaixo. "
   ]
  },
  {
   "cell_type": "markdown",
   "metadata": {},
   "source": [
    "**⚠️ Justificação:**\n",
    "\n"
   ]
  },
  {
   "cell_type": "markdown",
   "metadata": {},
   "source": [
    "### 🔹 Exercício 9 ⭐️\n",
    "Complete a definição do tipo `suit` que representa o naipe de uma carta de jogo. Relembre que em Português consideramos os seguintes naipes:\n",
    "- Ouros\n",
    "- Copas\n",
    "- Paus\n",
    "- Espadas"
   ]
  },
  {
   "cell_type": "code",
   "execution_count": null,
   "metadata": {
    "vscode": {
     "languageId": "ocaml"
    }
   },
   "outputs": [],
   "source": [
    "type suite"
   ]
  },
  {
   "cell_type": "markdown",
   "metadata": {},
   "source": [
    "### 🔹 Exercício 10 ⭐️\n",
    "Complete a definição do tipo `card_val` que representa o valor facial de uma carta de jogo. Consideramos as seguintes possibilidades para valores de uma carta:\n",
    "- Rei\n",
    "- Dama\n",
    "- Valete\n",
    "- Ponto, cujo valor inteiro varia entre 1 e 10"
   ]
  },
  {
   "cell_type": "code",
   "execution_count": null,
   "metadata": {
    "vscode": {
     "languageId": "ocaml"
    }
   },
   "outputs": [],
   "source": [
    "type card_val"
   ]
  },
  {
   "cell_type": "markdown",
   "metadata": {},
   "source": [
    "### 🔹 Exercício 11 ⭐️"
   ]
  },
  {
   "cell_type": "markdown",
   "metadata": {},
   "source": [
    "Utilizando os tipos `suit` and `card_val` dos exercícios anteriores complete a definição do tipo `card` que representa uma carta de um baralho de jogo. Pode optar entre definir um par ou um tipo registo."
   ]
  },
  {
   "cell_type": "code",
   "execution_count": null,
   "metadata": {
    "vscode": {
     "languageId": "ocaml"
    }
   },
   "outputs": [],
   "source": [
    "type card"
   ]
  },
  {
   "cell_type": "markdown",
   "metadata": {},
   "source": [
    "---"
   ]
  },
  {
   "cell_type": "markdown",
   "metadata": {},
   "source": [
    "## Listas"
   ]
  },
  {
   "cell_type": "markdown",
   "metadata": {},
   "source": [
    "### 🔹 Exercício 12 ⭐️\n",
    "Complete a definição `interval`, tal que `inverval i j` devolve a lista de inteiros entre `i`, inclusive, e `j`, exclusive."
   ]
  },
  {
   "cell_type": "code",
   "execution_count": null,
   "metadata": {
    "vscode": {
     "languageId": "ocaml"
    }
   },
   "outputs": [],
   "source": [
    "let interval i j =\n",
    "  assert false (* Completar aqui *)"
   ]
  },
  {
   "cell_type": "markdown",
   "metadata": {},
   "source": [
    "### 🔹 Exercício 13 ⭐️⭐️\n",
    "Considere a seguinte definição do tipo `t`:\n",
    "\n",
    "```OCaml\n",
    "type t = \n",
    "    | B \n",
    "    | N \n",
    "    | R\n",
    "```\n",
    "\n",
    "Complete a definição da função `permut`, tal que `permut l` devolve uma nova lista em que os valores `B` são substituídos por `N`, os `N` por `R` e `R` por `B`.\n"
   ]
  },
  {
   "cell_type": "code",
   "execution_count": null,
   "metadata": {
    "vscode": {
     "languageId": "ocaml"
    }
   },
   "outputs": [],
   "source": [
    "type t = \n",
    "  | B \n",
    "  | N \n",
    "  | R;;\n",
    "\n",
    "let permut l = \n",
    "  assert false (* Completar aqui *)"
   ]
  },
  {
   "cell_type": "markdown",
   "metadata": {},
   "source": [
    "### 🔹 Exercício 14 ⭐️⭐️\n",
    "Neste exercício deverá utilizar listas para representar conjuntos de valores inteiros. Um conjunto é uma lista não ordenada sem elementos repetidos. \n",
    "Complete a definição das seguintes funções:"
   ]
  },
  {
   "cell_type": "code",
   "execution_count": null,
   "metadata": {
    "vscode": {
     "languageId": "ocaml"
    }
   },
   "outputs": [],
   "source": [
    "(*\n",
    "    [mem x s] verifica se [x] pertence ao conjunto [s] \n",
    "*)\n",
    "let mem x s =\n",
    "  assert false (* Completar aqui *)"
   ]
  },
  {
   "cell_type": "code",
   "execution_count": null,
   "metadata": {
    "vscode": {
     "languageId": "ocaml"
    }
   },
   "outputs": [],
   "source": [
    "(*\n",
    "    [add x s] insere o elemento [x] no conjunto [s]. Se [x]\n",
    "    já é um elemento de [s], então [add x s] comporta-se como\n",
    "    a função identidade. \n",
    "*)\n",
    "let add x s =\n",
    "  assert false (* Completar aqui *)"
   ]
  },
  {
   "cell_type": "code",
   "execution_count": null,
   "metadata": {
    "vscode": {
     "languageId": "ocaml"
    }
   },
   "outputs": [],
   "source": [
    "(*\n",
    "    [union s1 s2] devolve a união dos conjuntos [s1] e [s2] \n",
    "*)\n",
    "let union s1 s2 =\n",
    "  assert false (* Completar aqui *)"
   ]
  },
  {
   "cell_type": "code",
   "execution_count": null,
   "metadata": {
    "vscode": {
     "languageId": "ocaml"
    }
   },
   "outputs": [],
   "source": [
    "\n",
    "(*\n",
    "    [inter s1 s2] devolve a intersecção dos conjuntos [s1] e [s2] \n",
    "*)\n",
    "let inter s1 s2 =\n",
    "  assert false (* Completar aqui *)"
   ]
  },
  {
   "cell_type": "code",
   "execution_count": null,
   "metadata": {
    "vscode": {
     "languageId": "ocaml"
    }
   },
   "outputs": [],
   "source": [
    "\n",
    "(*  \n",
    "    [diff s1 s2] devolve a diferença dos conjuntos [s1] e [s2] \n",
    "*)\n",
    "let diff s1 s2 =\n",
    "  assert false (* Completar aqui *)"
   ]
  },
  {
   "cell_type": "markdown",
   "metadata": {},
   "source": [
    "### 🔹 Exercício 15 ⭐️⭐️⭐️\n",
    "Considere agora que um conjunto é definido como uma lista ordenada. Tomando em conta esta pré-condição, apresenta novas definições para as operações de união e intersecção de conjuntos."
   ]
  },
  {
   "cell_type": "code",
   "execution_count": null,
   "metadata": {
    "vscode": {
     "languageId": "ocaml"
    }
   },
   "outputs": [],
   "source": [
    "let union l1 l2 =\n",
    "  assert false (* Completar aqui *)"
   ]
  },
  {
   "cell_type": "code",
   "execution_count": null,
   "metadata": {
    "vscode": {
     "languageId": "ocaml"
    }
   },
   "outputs": [],
   "source": [
    "let inter l1 l2 =\n",
    "  assert false (* Completar aqui *)"
   ]
  },
  {
   "cell_type": "markdown",
   "metadata": {},
   "source": [
    "### 🔹 Exercício 16 ⭐️⭐️\n",
    "Completa a definição da função `insert`, tal que `insert x l` insere o valor `x` na lista ordenada `l`."
   ]
  },
  {
   "cell_type": "code",
   "execution_count": null,
   "metadata": {
    "vscode": {
     "languageId": "ocaml"
    }
   },
   "outputs": [],
   "source": [
    "let rec insert x l =\n",
    "  assert false (* Completar aqui *)"
   ]
  },
  {
   "cell_type": "markdown",
   "metadata": {},
   "source": [
    "### 🔹 Exercício 17 ⭐️⭐️⭐️\n",
    "Complete a definição da função `insertion_sort` que implementa o algoritmo de Ordenação por Inserção em listas. Deverá utilizar a função `insert` definida no exercício anterior."
   ]
  },
  {
   "cell_type": "code",
   "execution_count": null,
   "metadata": {
    "vscode": {
     "languageId": "ocaml"
    }
   },
   "outputs": [],
   "source": [
    "let rec insertion_sort l =\n",
    "  assert false (* Completar aqui *)"
   ]
  }
 ],
 "metadata": {
  "kernelspec": {
   "display_name": "OCaml lap2025",
   "language": "OCaml",
   "name": "ocaml-jupyter"
  },
  "language_info": {
   "codemirror_mode": "text/x-ocaml",
   "file_extension": ".ml",
   "mimetype": "text/x-ocaml",
   "name": "OCaml",
   "nbconverter_exporter": null,
   "pygments_lexer": "OCaml",
   "version": "4.14.0"
  }
 },
 "nbformat": 4,
 "nbformat_minor": 2
}
