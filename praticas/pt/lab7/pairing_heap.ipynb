{
 "cells": [
  {
   "cell_type": "markdown",
   "metadata": {},
   "source": [
    "# Estruturas de dados funcionais -- Pairing Heaps"
   ]
  },
  {
   "cell_type": "markdown",
   "metadata": {},
   "source": [
    "Este *Notebook* propõe a implementação, em OCaml, de uma **Fila de Prioridade** baseada numa estrutura de dados funcional. A variante que apresentamos denomina-se *Pairing Heap* e é codificada usando uma árvore n-ária. \n",
    "\n",
    "Uma boa descrição do comportamento das Pairing Heaps pode ser encontrado na página da [Wikipedia](https://en.wikipedia.org/wiki/Pairing_heap). Uma apresentação ainda melhor desta estrutura de dados pode ser encontrada na obra prima de C. Okasaki, [*Purely Functional Data Structures*](https://www.cambridge.org/core/books/purely-functional-data-structures/0409255DA1B48FA731859AC72E34D494), Capítulo 5.5.\n",
    "\n",
    "Apesar da sua simplicidade de implementação, Pairing Heaps são de facto muito eficientes em tempo de execução e competitivas com implementações imperativas de Heaps (*e.g.*, árvore binária codificada num *array*). "
   ]
  },
  {
   "cell_type": "markdown",
   "metadata": {},
   "source": [
    "## Definição do tipo de dados"
   ]
  },
  {
   "cell_type": "markdown",
   "metadata": {},
   "source": [
    "A imagem seguinte apresenta uma Pairing Heap válida:\n",
    "\n",
    "<img src=\"pairing_heap_example.png\" />\n",
    "\n",
    "Uma Pairing Heap pode apresentar duas formas:\n",
    "\n",
    "1. a árvore vazia\n",
    "2. a árvore com uma raiz e uma lista de Pairing Heaps, *i.e.*, os descendentes da raíz. "
   ]
  },
  {
   "cell_type": "markdown",
   "metadata": {},
   "source": [
    "Se seguirmos fielmente esta descrição para definir o tipo de dados de uma Pairing Heap poderiamos introduzir a árvore vazia como descendente de um nó. Assim, para evitar esta armadilha, começamos por introduzir o tipo de dados de uma árvore *interior*, que será sempre não-vazia:"
   ]
  },
  {
   "cell_type": "code",
   "execution_count": null,
   "metadata": {
    "vscode": {
     "languageId": "ocaml"
    }
   },
   "outputs": [],
   "source": [
    "type tree = T of int * tree list"
   ]
  },
  {
   "cell_type": "markdown",
   "metadata": {},
   "source": [
    "O constructor `T` representa a raíz de uma sub-árvore composta por uma chave (valor inteiro) e uma lista de descendentes. Estamos agora em posição de definir a noção *top-level* de uma Pairing Heap:"
   ]
  },
  {
   "cell_type": "code",
   "execution_count": null,
   "metadata": {
    "vscode": {
     "languageId": "ocaml"
    }
   },
   "outputs": [],
   "source": [
    "type t = E | N of tree"
   ]
  },
  {
   "cell_type": "markdown",
   "metadata": {},
   "source": [
    "## Operações sobre Pairing Heaps"
   ]
  },
  {
   "cell_type": "markdown",
   "metadata": {},
   "source": [
    "### Exercício 1:"
   ]
  },
  {
   "cell_type": "markdown",
   "metadata": {},
   "source": [
    "Escreva uma definição para a função `create`, com a seguinte assinatura:"
   ]
  },
  {
   "cell_type": "markdown",
   "metadata": {
    "vscode": {
     "languageId": "ocaml"
    }
   },
   "source": [
    "```ocaml\n",
    "  val create : t\n",
    "```"
   ]
  },
  {
   "cell_type": "markdown",
   "metadata": {},
   "source": [
    " Esta função deve simplesmente devolver uma nova Pairing Heap vazia."
   ]
  },
  {
   "cell_type": "code",
   "execution_count": null,
   "metadata": {
    "vscode": {
     "languageId": "ocaml"
    }
   },
   "outputs": [],
   "source": [
    "let create =\n",
    "  assert false (* COMPLETAR AQUI *)"
   ]
  },
  {
   "cell_type": "code",
   "execution_count": null,
   "metadata": {
    "vscode": {
     "languageId": "ocaml"
    }
   },
   "outputs": [],
   "source": [
    "(* espaço para testes do exercício 1 *)"
   ]
  },
  {
   "cell_type": "markdown",
   "metadata": {},
   "source": [
    "### Exercício 2:"
   ]
  },
  {
   "cell_type": "markdown",
   "metadata": {},
   "source": [
    "Escreva uma definição para a função `find_min`, com a seguinte assinatura:"
   ]
  },
  {
   "cell_type": "markdown",
   "metadata": {
    "vscode": {
     "languageId": "ocaml"
    }
   },
   "source": [
    "```ocaml\n",
    "  val find_min : t -> int option\n",
    "```"
   ]
  },
  {
   "cell_type": "markdown",
   "metadata": {},
   "source": [
    "Esta função espera como *input* uma Pairing Heap `h` e, caso `h` não seja a Heap vazia, devolve o seu valor mínimo (*i.e.*, a sua raiz). Caso `t` seja a Heap vazia, `find_min` deve devolver `None`."
   ]
  },
  {
   "cell_type": "code",
   "execution_count": null,
   "metadata": {
    "vscode": {
     "languageId": "ocaml"
    }
   },
   "outputs": [],
   "source": [
    "let find_min h = \n",
    "  assert false (* COMPLETAR AQUI *)"
   ]
  },
  {
   "cell_type": "code",
   "execution_count": null,
   "metadata": {
    "vscode": {
     "languageId": "ocaml"
    }
   },
   "outputs": [],
   "source": [
    "(* espaço para testes do exercício 2 *)"
   ]
  },
  {
   "cell_type": "markdown",
   "metadata": {},
   "source": [
    "### Exercício 3:"
   ]
  },
  {
   "cell_type": "markdown",
   "metadata": {},
   "source": [
    "A operação de `merge` sobre Pairing Heaps é relativamente simple: dadas duas heaps `h1` and `h2`, se a raíz de `h1` é menor que a raíz de `h2`, devolve uma nova heap em que `h2` se torna o descendente mais à esquerda de `h1`; caso contrário, devolve uma nova heap em que `h1` é o descendente mais à esquerda de `h2`.\n",
    "\n",
    "Considere, por exemplo, as seguintes Pairing Heaps:"
   ]
  },
  {
   "cell_type": "markdown",
   "metadata": {},
   "source": [
    "<img src=\"heaps_before_merge.png\" />"
   ]
  },
  {
   "cell_type": "markdown",
   "metadata": {},
   "source": [
    "Aplicar a função de `merge` sobre estas duas heaps resultaria na Pairing Heap seguinte:\n",
    "\n",
    "<img src=\"pairing_heap_after_merge.png\" />"
   ]
  },
  {
   "cell_type": "markdown",
   "metadata": {},
   "source": [
    "Portanto, `merge` **não é** uma operação recursiva. Esta função apresenta a seguinte assinatura: "
   ]
  },
  {
   "cell_type": "markdown",
   "metadata": {
    "vscode": {
     "languageId": "ocaml"
    }
   },
   "source": [
    "```ocaml\n",
    "  val merge : t -> t -> t\n",
    "```"
   ]
  },
  {
   "cell_type": "markdown",
   "metadata": {},
   "source": [
    "Escreva uma definição para a função `merge`."
   ]
  },
  {
   "cell_type": "code",
   "execution_count": null,
   "metadata": {
    "vscode": {
     "languageId": "ocaml"
    }
   },
   "outputs": [],
   "source": [
    "let merge h1 h2 =\n",
    "  assert false (* COMPLETAR AQUI *)"
   ]
  },
  {
   "cell_type": "code",
   "execution_count": null,
   "metadata": {
    "vscode": {
     "languageId": "ocaml"
    }
   },
   "outputs": [],
   "source": [
    "(* espaço para testes do exercício 3 *)"
   ]
  },
  {
   "cell_type": "markdown",
   "metadata": {},
   "source": [
    "### Exercício 4:"
   ]
  },
  {
   "cell_type": "markdown",
   "metadata": {},
   "source": [
    "Escreva uma definição para a função `add`, com a seguinte assinatura:"
   ]
  },
  {
   "cell_type": "markdown",
   "metadata": {
    "vscode": {
     "languageId": "ocaml"
    }
   },
   "source": [
    "```ocaml\n",
    "  val add : int -> t -> t\n",
    "```"
   ]
  },
  {
   "cell_type": "markdown",
   "metadata": {},
   "source": [
    "A função `add` deve usar `merge` como uma função auxiliar. Inserir um novo elemento `x` numa Pairing Heap `h` é tão simples quanto:\n",
    "\n",
    "1. criar uma heap temporária `h'` que contém apenas `x`;\n",
    "2. applicar `merge` a `h'` e `h`."
   ]
  },
  {
   "cell_type": "code",
   "execution_count": null,
   "metadata": {
    "vscode": {
     "languageId": "ocaml"
    }
   },
   "outputs": [],
   "source": [
    "let add x h = \n",
    "  assert false (* COMPLETAR AQUI *)"
   ]
  },
  {
   "cell_type": "code",
   "execution_count": null,
   "metadata": {
    "vscode": {
     "languageId": "ocaml"
    }
   },
   "outputs": [],
   "source": [
    "(* espaço para testes do exercício 4 *)"
   ]
  },
  {
   "cell_type": "markdown",
   "metadata": {},
   "source": [
    "### Exercício 5:"
   ]
  },
  {
   "cell_type": "markdown",
   "metadata": {},
   "source": [
    "O nome Pairing Heaps advém do uso de uma função auxliar, usada durante a operação de remoção do elemento mínimo da heap. Considerando, novamente, a seguinte heap:\n",
    "\n",
    "<img src=\"pairing_heap_example.png\" />\n",
    "\n",
    "Quando tentamos remover o elemento mínimo, *i.e.*, a raíz `1`, então temos agora de produzir uma única Pairing Heap a partir de uma lista de Pairing Heaps. Seguimos, assim, uma estratégia em dois passos:\n",
    "\n",
    "1. aplicamos `merge` a cada par de Pairing Heaps consecutivas na lista (a primeira com a segunda, a terceira com a quarta, e assim sucessivamente);\n",
    "2. aplicar `merge_list`, recursivamente, a todas as Pairing Heaps intermédias resultantes, da esquerda para a direita.\n",
    "\n",
    "Para o exemplo acima, obteriamos a seguinte Pairing Heap:\n",
    "```ocaml\n",
    "N\n",
    " (T (2,\n",
    "   [T (3, [T (6, [T (7, []); T (14, [T (15, []); T (20, [])])])]); T (8, []);\n",
    "    T (9, []); T (10, [])]))\n",
    "```"
   ]
  },
  {
   "cell_type": "markdown",
   "metadata": {},
   "source": [
    "Escreva uma definição da função `merge_list`, com a seguinte assinatura:"
   ]
  },
  {
   "cell_type": "markdown",
   "metadata": {
    "vscode": {
     "languageId": "ocaml"
    }
   },
   "source": [
    "```ocaml\n",
    "  val merge_list : t list -> t\n",
    "```"
   ]
  },
  {
   "cell_type": "code",
   "execution_count": null,
   "metadata": {
    "vscode": {
     "languageId": "ocaml"
    }
   },
   "outputs": [],
   "source": [
    "let rec merge_list h =\n",
    "  assert false (* COMPLETAR AQUI *)"
   ]
  },
  {
   "cell_type": "code",
   "execution_count": null,
   "metadata": {
    "vscode": {
     "languageId": "ocaml"
    }
   },
   "outputs": [],
   "source": [
    "(* espaço para testes do exercício 5 *)"
   ]
  },
  {
   "cell_type": "markdown",
   "metadata": {},
   "source": [
    "### Exercício 6:"
   ]
  },
  {
   "cell_type": "markdown",
   "metadata": {},
   "source": [
    "Escreva uma definição para a função `delete_min`, com a seguinte assinatura:"
   ]
  },
  {
   "cell_type": "markdown",
   "metadata": {
    "vscode": {
     "languageId": "ocaml"
    }
   },
   "source": [
    "```ocaml\n",
    "  val delete_min : t -> t\n",
    "```"
   ]
  },
  {
   "cell_type": "markdown",
   "metadata": {},
   "source": [
    "A função `delete_min` recebe como argumento uma heap `h` e devolve uma nova com os mesmos elementos de `h`, excepto o elemento mínimo. Caso `h` seja a heap vazia, então `heap h = h`. "
   ]
  },
  {
   "cell_type": "code",
   "execution_count": null,
   "metadata": {
    "vscode": {
     "languageId": "ocaml"
    }
   },
   "outputs": [],
   "source": [
    "let delete_min h =\n",
    "  assert false (* COMPLETAR AQUI *)"
   ]
  },
  {
   "cell_type": "code",
   "execution_count": null,
   "metadata": {
    "vscode": {
     "languageId": "ocaml"
    }
   },
   "outputs": [],
   "source": [
    "(* espaço para testes do exercício 6 *)"
   ]
  },
  {
   "cell_type": "markdown",
   "metadata": {},
   "source": [
    "### Exercício bónus:"
   ]
  },
  {
   "cell_type": "markdown",
   "metadata": {},
   "source": [
    "Escreva uma definição para a função `is_heap`, com a seguinte assinatura:"
   ]
  },
  {
   "cell_type": "markdown",
   "metadata": {
    "vscode": {
     "languageId": "ocaml"
    }
   },
   "source": [
    "```ocaml\n",
    "  val is_heap : t -> bool\n",
    "```"
   ]
  },
  {
   "cell_type": "markdown",
   "metadata": {},
   "source": [
    "A função `is_heap` recebe como argumento uma heap `h` e indica se esta se trata, ou não, de uma heap válida. Uma heap é válida se respeita a propriedade de heap: a chave da raíz de qualquer sub-árvore apresenta um valor menor que o das chaves dos seus descendentes.\n",
    "\n",
    "**Dica:** comece por definir algumas funções auxiliares, nomeadamente:\n",
    "\n",
    "* `le_tree_list e l`, com `e` um valor inteiro e `l` uma lista de `tree`, que verifica que `e` é um valor menor que o das chaves de todas as raízes das heaps em `l`.\n",
    "* `le_tree e t`, com `e` um valor inteiro e `t` um valor do tipo `tree`, que verifica que `e` é menor que a chave da raíz de `t`."
   ]
  },
  {
   "cell_type": "code",
   "execution_count": null,
   "metadata": {
    "vscode": {
     "languageId": "ocaml"
    }
   },
   "outputs": [],
   "source": [
    "let is_heap h =\n",
    "  assert false (* COMPLETAR AQUI *)"
   ]
  }
 ],
 "metadata": {
  "kernelspec": {
   "display_name": "OCaml lap2024-teacher",
   "language": "OCaml",
   "name": "ocaml-jupyter"
  },
  "language_info": {
   "codemirror_mode": "text/x-ocaml",
   "file_extension": ".ml",
   "mimetype": "text/x-ocaml",
   "name": "OCaml",
   "nbconverter_exporter": null,
   "pygments_lexer": "OCaml",
   "version": "4.14.0"
  }
 },
 "nbformat": 4,
 "nbformat_minor": 2
}
