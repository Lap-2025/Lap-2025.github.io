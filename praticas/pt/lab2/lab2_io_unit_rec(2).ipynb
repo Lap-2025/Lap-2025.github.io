{
 "cells": [
  {
   "cell_type": "markdown",
   "metadata": {},
   "source": [
    "# Exercícios em Input/Output, Testes Unitários e Definição de Funções Recursivas na Linguagem OCaml"
   ]
  },
  {
   "cell_type": "markdown",
   "metadata": {},
   "source": [
    "## Input/Output"
   ]
  },
  {
   "cell_type": "markdown",
   "metadata": {},
   "source": [
    "### 🔹 Exercício 1:\n",
    "\n",
    "Escrevas as seguintes expressões no `utop`:"
   ]
  },
  {
   "cell_type": "code",
   "execution_count": null,
   "metadata": {
    "vscode": {
     "languageId": "ocaml"
    }
   },
   "outputs": [],
   "source": [
    "print_endline \"Hello world!\";;\n",
    "print_string \"Hello world!\";;"
   ]
  },
  {
   "cell_type": "markdown",
   "metadata": {},
   "source": [
    "Qual é a diferença no output produzido? "
   ]
  },
  {
   "cell_type": "markdown",
   "metadata": {},
   "source": [
    "⚠️ **Resposta:** [complete aqui]"
   ]
  },
  {
   "cell_type": "markdown",
   "metadata": {},
   "source": [
    "### 🔹 Exercício 2:\n",
    "\n",
    "Utilize a expressão `read_line ()` para ler um número inteiro a partir do *Standard Input* e atribua o valor lido à variável `x`. \n",
    "\n",
    "Imprima-o de seguida, utilizando a expressão `print_endline x`."
   ]
  },
  {
   "cell_type": "code",
   "execution_count": null,
   "metadata": {
    "vscode": {
     "languageId": "ocaml"
    }
   },
   "outputs": [],
   "source": [
    "(* Resposta: *)"
   ]
  },
  {
   "cell_type": "markdown",
   "metadata": {},
   "source": [
    "### 🔹 Exercício 3:\n",
    "\n",
    "Utilize a expressão `read_int ()` para ler um número inteiro a partir do *Standard Input* e atribua o valor lido à variável `x`. \n",
    "\n",
    "Imprima-o de seguida, utilizando a expressão `print_int x`."
   ]
  },
  {
   "cell_type": "code",
   "execution_count": null,
   "metadata": {
    "vscode": {
     "languageId": "ocaml"
    }
   },
   "outputs": [],
   "source": [
    "(* Resposta: *)"
   ]
  },
  {
   "cell_type": "markdown",
   "metadata": {},
   "source": [
    "### 🔹 Exercício 4:\n",
    "\n",
    "Utilize a expressão `read_int ()` para ler um número inteiro a partir do *Standard Input* e atribua o valor lido à variável `x`. \n",
    "\n",
    "Imprima depois a seguinte mensagem `O valor lido é: XXXXX`, onde `XXXXX` corresponde ao valor de `x`.\n",
    "\n",
    "💡 **Dica:** para imprimir o valor de `x` como parte de uma mensagem mais complexa, deverá primeiro convertê-lo para uma string. Consulte a secção de exercícios *Expressões: conversão entre tipos* do Notebook da semana 2 -`lab2_basic_functions(1).ipynb`</sub> - para inspiração."
   ]
  },
  {
   "cell_type": "code",
   "execution_count": null,
   "metadata": {
    "vscode": {
     "languageId": "ocaml"
    }
   },
   "outputs": [],
   "source": [
    "(* Resposta: *)"
   ]
  },
  {
   "cell_type": "markdown",
   "metadata": {},
   "source": [
    "### 🔹 Exercício 5:\n",
    "\n",
    "Relembre a definição matemática da função `sign`, como apresentada no Notebook da semana 2:\n",
    "\n",
    "$$\n",
    "\\mathcal{S}(v)=\\left\\{\n",
    "    \\begin{array}{lc}\n",
    "    1 & \\text{se}~v > 0 \\\\[1em]\n",
    "    0 & \\text{se}~v = 0 \\\\[1em]\n",
    "    -1 & \\text{se}~v < 0\n",
    "    \\end{array}\\right.\n",
    "$$\n",
    "\n",
    "Defina uma versão da função `sign` que em vez de devolver um inteiro devolve a string `positivo` (caso o argumento seja maior que `0`), a string `zero` (caso o argumento seja igual a `0`), ou a string `negativo` (caso o número seja menor que `0`).\n",
    "\n",
    "Deverá agora utilizar esta definição da função `sign` para construir no `utop` um pequeno programa que faz o seguinte:\n",
    "\n",
    "1. lê um inteiro do *Standard Input*;\n",
    "\n",
    "2. aplica a função `sign` ao inteiro lido;\n",
    "\n",
    "3. utilizando o valor devolvido pela aplicação da função `sign`, imprime a seguinte mensagem para o *Standard Output*: `O valor introduzido é: XXXXX`, onde `XXXXX` corresponde à string `positivo`, `zero`, ou `negativo`."
   ]
  },
  {
   "cell_type": "code",
   "execution_count": null,
   "metadata": {
    "vscode": {
     "languageId": "ocaml"
    }
   },
   "outputs": [],
   "source": [
    "(* Resposta: *)"
   ]
  },
  {
   "cell_type": "markdown",
   "metadata": {},
   "source": [
    "### 🔹 Exercício 6:\n",
    "\n",
    "Utilizando a definição original da função `sign` (*i.e.*, a definição que devolve um valor inteiro), construa no `utop` um programa que executa exatamente os mesmos três passos que no exercício anterior."
   ]
  },
  {
   "cell_type": "code",
   "execution_count": null,
   "metadata": {
    "vscode": {
     "languageId": "ocaml"
    }
   },
   "outputs": [],
   "source": [
    "(* Resposta: *)"
   ]
  },
  {
   "cell_type": "markdown",
   "metadata": {},
   "source": [
    "---"
   ]
  },
  {
   "cell_type": "markdown",
   "metadata": {},
   "source": [
    "## Aplicação Parcial de Funções"
   ]
  },
  {
   "cell_type": "markdown",
   "metadata": {},
   "source": [
    "### 🔹 Exercício 7:\n",
    "Considere a seguinte definição da função `add`:\n",
    "\n",
    "```OCaml\n",
    "let add x y = x + y\n",
    "```\n",
    "\n",
    "Qual das seguintes chamadas avalia para um valor inteiro, para uma função ou produz um erro?\n",
    "\n",
    "```OCaml\n",
    "(1) add 5 1;;\n",
    "(2) add 5;;\n",
    "(3) (add 5) 1;;\n",
    "(4) add (5 1);;\n",
    "```"
   ]
  },
  {
   "cell_type": "markdown",
   "metadata": {},
   "source": [
    "⚠️ **Resposta:** [complete aqui]"
   ]
  },
  {
   "cell_type": "markdown",
   "metadata": {},
   "source": [
    "### 🔹 Exercício 8:\n",
    "\n",
    "Qual o valor da variável `w` depois de completamente avaliado o seguinte programa:\n",
    "\n",
    "```OCaml\n",
    "let x = 10;;\n",
    "let x = \n",
    "  let y = fun a -> a + x in\n",
    "  let y =\n",
    "    let x = y x in \n",
    "    let y = fun a -> a * x in\n",
    "    y x in\n",
    "  x * y;;\n",
    "let w = x + 100;;\n",
    "```"
   ]
  },
  {
   "cell_type": "markdown",
   "metadata": {},
   "source": [
    "⚠️ **Resposta:** [complete aqui]"
   ]
  },
  {
   "cell_type": "markdown",
   "metadata": {},
   "source": [
    "### 🔹 Exercício 9:\n",
    "\n",
    "Indique se os seguintes programas são bem tipificados ou mal tipificados. No caso positivo, indique o tipo de todas as variáveis e funções globais. No caso negativo, indique a natureza do erro e proponha uma alteração ao programa que o torne bem tipificado.\n",
    "\n",
    "```OCaml\n",
    "(1) let x = 10;;\n",
    "    let x = \n",
    "    let y = fun a -> a + x in\n",
    "    let y =\n",
    "        let x = y x in \n",
    "        let y = fun a -> a * x in\n",
    "        y x in\n",
    "    fun x -> x * y;;\n",
    "    let w = x + 100;;\n",
    "```"
   ]
  },
  {
   "cell_type": "markdown",
   "metadata": {},
   "source": [
    "⚠️ **Tipo das variáveis e funções globais (se aplicável)**:"
   ]
  },
  {
   "cell_type": "code",
   "execution_count": 1,
   "metadata": {
    "vscode": {
     "languageId": "ocaml"
    }
   },
   "outputs": [],
   "source": [
    "(* Alteração ao programa (se aplicável) *)"
   ]
  },
  {
   "cell_type": "markdown",
   "metadata": {},
   "source": [
    "```OCaml\n",
    "(2) let x = 10;;\n",
    "    let x = \n",
    "    let y = fun a -> a + x in\n",
    "    let y =\n",
    "        let x = y x in \n",
    "        let y = fun a -> a * x in\n",
    "        fun w -> y x + w in\n",
    "    fun w -> y w;;\n",
    "    let w = x 100;;\n",
    "```"
   ]
  },
  {
   "cell_type": "markdown",
   "metadata": {},
   "source": [
    "⚠️ **Tipo das variáveis e funções globais (se aplicável)**:"
   ]
  },
  {
   "cell_type": "code",
   "execution_count": null,
   "metadata": {
    "vscode": {
     "languageId": "ocaml"
    }
   },
   "outputs": [],
   "source": [
    "(* Alteração ao programa (se aplicável) *)"
   ]
  },
  {
   "cell_type": "markdown",
   "metadata": {},
   "source": [
    "```OCaml\n",
    "(3) let x = 10;;\n",
    "    let x = \n",
    "    let y = fun a -> a + x in\n",
    "    let y =\n",
    "        let x = y x in \n",
    "        let y = fun a -> a * y x in\n",
    "        y x in\n",
    "    fun w -> x + y w;;\n",
    "    let w = x + 100;;\n",
    "```"
   ]
  },
  {
   "cell_type": "markdown",
   "metadata": {},
   "source": [
    "⚠️ **Tipo das variáveis e funções globais (se aplicável)**:"
   ]
  },
  {
   "cell_type": "code",
   "execution_count": null,
   "metadata": {
    "vscode": {
     "languageId": "ocaml"
    }
   },
   "outputs": [],
   "source": [
    "(* Alteração ao programa (se aplicável) *)"
   ]
  },
  {
   "cell_type": "markdown",
   "metadata": {},
   "source": [
    "---"
   ]
  },
  {
   "cell_type": "markdown",
   "metadata": {},
   "source": [
    "## Funções Recursivas"
   ]
  },
  {
   "cell_type": "markdown",
   "metadata": {},
   "source": [
    "### 🔹 Exercício 10:\n",
    "\n",
    "Defina uma função `fib` que calcula o `i`-ésimo número da sequência de Fibonnaci. O argumento `i` é um valor inteiro. Recorde a definição recursiva da sequência de Fibonnaci:\n",
    "\n",
    "$$\n",
    "\\mathcal{F}(i)=\\left\\{\n",
    "    \\begin{array}{lc}\n",
    "    1 & \\text{se}~i = 1 \\\\[1em]\n",
    "    1 & \\text{se}~i = 2 \\\\[1em]\n",
    "    \\mathcal{F}(i-1) + \\mathcal{F}(i-2) & \\text{se}~i > 2\n",
    "    \\end{array}\\right.\n",
    "$$\n",
    "\n",
    "Crie o seu próprio conjunto de testes unitários para testar a função `fib`, utilizando expressões `assert`."
   ]
  },
  {
   "cell_type": "code",
   "execution_count": null,
   "metadata": {
    "vscode": {
     "languageId": "ocaml"
    }
   },
   "outputs": [],
   "source": [
    "let fib i = \n",
    "  (* Complete aqui *)"
   ]
  },
  {
   "cell_type": "code",
   "execution_count": null,
   "metadata": {
    "vscode": {
     "languageId": "ocaml"
    }
   },
   "outputs": [],
   "source": [
    "(* Testes unitários: *)"
   ]
  },
  {
   "cell_type": "markdown",
   "metadata": {},
   "source": [
    "### 🔹 Exercício 11:\n",
    "\n",
    "**(11.1)** O que acontece quando aplica a função `fib` a um número menor que `1`? Que tipo de problema de execução é este?"
   ]
  },
  {
   "cell_type": "markdown",
   "metadata": {},
   "source": [
    "⚠️ **Resposta:** [complete aqui]\n",
    "\n",
    "\n",
    "\n"
   ]
  },
  {
   "cell_type": "markdown",
   "metadata": {},
   "source": [
    "**(11.2)** Proponha novas definições da função `fib` em que os pontos inacessíveis do código estão explicitamente indicados. Poderá utilizar as expressões `assert false` ou `failwith`, ou simplesmente devolver um valor por omissão nos casos em que a função não tem imagem."
   ]
  },
  {
   "cell_type": "code",
   "execution_count": null,
   "metadata": {
    "vscode": {
     "languageId": "ocaml"
    }
   },
   "outputs": [],
   "source": [
    "(* Re-defina a função fib: *)\n",
    "\n",
    "let fib i = \n",
    "  (* Complete aqui *)"
   ]
  },
  {
   "cell_type": "markdown",
   "metadata": {},
   "source": [
    "**(11.3)** Implemente testes unitários para a re-definição da função `fib`."
   ]
  },
  {
   "cell_type": "code",
   "execution_count": null,
   "metadata": {
    "vscode": {
     "languageId": "ocaml"
    }
   },
   "outputs": [],
   "source": [
    "(* Testes unitários: *)"
   ]
  },
  {
   "cell_type": "markdown",
   "metadata": {},
   "source": [
    "### 🔹 Exercício 12:\n",
    "\n",
    "Defina em OCaml as funções `f` e `m`, mutuamente recursivas, que implementam a sequência *Hofstadter Feminino e Masculino*. Esta sequência é definida pelo seguinte conjunto de equações:\n",
    "\n",
    "$$\n",
    "\\begin{array}{ccl}\n",
    "\\mathcal{F}(0) & = & 1 \\\\[1em]\n",
    "\\mathcal{M}(0) & = & 0 \\\\[1em]\n",
    "\\mathcal{F}(n) & = & n - \\mathcal{M}(\\mathcal{F}(n - 1))\\\\[1em]\n",
    "\\mathcal{M}(n) & = & n - \\mathcal{F}(\\mathcal{M}(n - 1))\n",
    "\\end{array}\n",
    "$$"
   ]
  },
  {
   "cell_type": "code",
   "execution_count": null,
   "metadata": {
    "vscode": {
     "languageId": "ocaml"
    }
   },
   "outputs": [],
   "source": [
    "let f n = \n",
    "  (* Complete aqui *)"
   ]
  },
  {
   "cell_type": "markdown",
   "metadata": {},
   "source": [
    "### 🔹 Exercício 13:\n",
    "\n",
    "Considere a seguinte função auxiliar `f`:\n",
    "$$\n",
    "f(n) = \\left\\{\n",
    "\\begin{array}{ll}\n",
    "  n / 2 & \\text{se}~n~\\text{é par}\\\\[1em]\n",
    "  3n + 1 & \\text{se}~n~\\text{é ímpar}& \n",
    "\\end{array}\\right.\n",
    "$$\n",
    "\n",
    "Para um dado inteiro positivo `n`, a sequência de Collatz é definida da seguinte forma:\n",
    "\n",
    "1. Se `n = 1`, então termina e devolve `1`\n",
    "2. Se `n > 1`, então continua o cálculo da sequência para o resultado do `f n`. \n",
    "\n",
    "\n",
    "**(13.1)** Defina em OCaml a função `collatz` que calcula o resultado da sequência de Collatz para `n`, um inteiro positivo passado como argumento."
   ]
  },
  {
   "cell_type": "code",
   "execution_count": null,
   "metadata": {
    "vscode": {
     "languageId": "ocaml"
    }
   },
   "outputs": [],
   "source": [
    "let collatz n = \n",
    "  (* Complete aqui *)"
   ]
  },
  {
   "cell_type": "markdown",
   "metadata": {},
   "source": [
    "**(13.2)** Implemente testes unitários para a função `collatz`. "
   ]
  },
  {
   "cell_type": "code",
   "execution_count": null,
   "metadata": {
    "vscode": {
     "languageId": "ocaml"
    }
   },
   "outputs": [],
   "source": [
    "(* Testes unitários: *)"
   ]
  },
  {
   "cell_type": "markdown",
   "metadata": {},
   "source": [
    "### 🔹 Exercício 14:\n",
    "\n",
    "Instrumente a sua implementação de `collatz` de forma a imprimir no *standard output* os valores intermédios que a sequência vai calculando."
   ]
  },
  {
   "cell_type": "code",
   "execution_count": null,
   "metadata": {
    "vscode": {
     "languageId": "ocaml"
    }
   },
   "outputs": [],
   "source": [
    "let collatz n = \n",
    "  (* Complete aqui *)"
   ]
  },
  {
   "cell_type": "markdown",
   "metadata": {},
   "source": [
    "### 🔹 Exercício 15:\n",
    "\n",
    "Considere a seguinte definição matemática da função de *Ackermann*:\n",
    "\n",
    "$$\n",
    "\\mathcal{A}(m, n) = \\left\\{\n",
    "    \\begin{array}{ll}\n",
    "        n + 1 & \\text{se}~m = 0\\\\[1em]\n",
    "        \\mathcal{A}(m - 1, 1) & \\text{se}~n = 0\\\\[1em]\n",
    "        \\mathcal{A}(m - 1, \\mathcal{A}(m, n - 1)) & \n",
    "            \\text{se}~m > 0 \\wedge n > 0\n",
    "    \\end{array}\n",
    "\\right.\n",
    "$$\n",
    "\n",
    "**(15.1)** Defina em OCaml a função `ackermann` que implementa a anterior definição matemática. A sua função deverá receber dois argumentos, `m` e `n`, ambos valores inteiros positivos."
   ]
  },
  {
   "cell_type": "code",
   "execution_count": null,
   "metadata": {
    "vscode": {
     "languageId": "ocaml"
    }
   },
   "outputs": [],
   "source": [
    "let ackermann m n = \n",
    "  (* Complete aqui *)"
   ]
  },
  {
   "cell_type": "markdown",
   "metadata": {},
   "source": [
    "**(15.2)** Implemente testes unitários para a função `ackermann`. "
   ]
  },
  {
   "cell_type": "code",
   "execution_count": null,
   "metadata": {
    "vscode": {
     "languageId": "ocaml"
    }
   },
   "outputs": [],
   "source": [
    "(* Testes unitários: *)"
   ]
  },
  {
   "cell_type": "markdown",
   "metadata": {},
   "source": [
    "**(15.3)** Utilize o `utop` para testar a sua implementação de `ackermann` com diferentes inputs. O que observa?"
   ]
  },
  {
   "cell_type": "markdown",
   "metadata": {},
   "source": [
    "⚠️ **Resposta:** [complete aqui]"
   ]
  }
 ],
 "metadata": {
  "kernelspec": {
   "display_name": "OCaml lap2025",
   "language": "OCaml",
   "name": "ocaml-jupyter"
  },
  "language_info": {
   "codemirror_mode": "text/x-ocaml",
   "file_extension": ".ml",
   "mimetype": "text/x-ocaml",
   "name": "OCaml",
   "nbconverter_exporter": null,
   "pygments_lexer": "OCaml",
   "version": "4.14.0"
  }
 },
 "nbformat": 4,
 "nbformat_minor": 2
}
