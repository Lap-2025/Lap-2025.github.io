{
 "cells": [
  {
   "cell_type": "markdown",
   "metadata": {},
   "source": [
    "# Exercícios em Expressões, Variáveis e Tipos na Linguagem OCaml\n",
    "\n",
    "Nesta ficha de trabalho encontrará exercícios que lhe permitem praticar sobre conceitos básicos da linguagem OCaml, nomeadamente expressões, variáveis e tipos. \n",
    "\n",
    "A maior parte dos exercícios apresentam trechos de código OCaml que deverá analisar ou completar. Nesse caso, poderá alterar diretamente este ficheiro e recorrer ao `Jupyter Notebook` para executar diretamente o código e analisar o resultado produzido pelo interpretador OCaml. No entanto, não deve utilizar imediatamente o `Notebook` para obter uma resposta, tente responder às questões com aquilo que já aprendeu nas aulas teóricas ou pela leitura da bibliografia recomendada. Em geral, é **muito** boa prática de trabalho refletir primeiro numa questão e só depois utilizar o `Notebook` para confirmar as suas intuições/conclusões.\n",
    "\n",
    "Para resolver alguns exercícios, aconselhamos que utilize o *Interpretador Universal de OCaml* através do programa `utop`."
   ]
  },
  {
   "cell_type": "markdown",
   "metadata": {},
   "source": [
    "## Tipos\n"
   ]
  },
  {
   "cell_type": "markdown",
   "metadata": {},
   "source": [
    "### Exercício:\n",
    "\n",
    "Qual o tipo da variável `x` nas seguintes expressões:"
   ]
  },
  {
   "cell_type": "code",
   "execution_count": null,
   "metadata": {
    "vscode": {
     "languageId": "ocaml"
    }
   },
   "outputs": [],
   "source": [
    "let f x = if x then x else x\n",
    "let f x = if x > 0 then 73 else 42\n",
    "let f x = if x > 0.0 then 73 else 42\n",
    "let f x = if x <> x then 0 else -1\n",
    "let f x = if x <> \"\" then 42 else 73"
   ]
  },
  {
   "cell_type": "markdown",
   "metadata": {},
   "source": [
    "## Tipos: erros de tipificação"
   ]
  },
  {
   "cell_type": "markdown",
   "metadata": {},
   "source": [
    "### Exercício:\n",
    "\n",
    "Indique se os seguintes programas são bem tipificados ou mal tipificados. No caso positivo, indique o tipo de todas as variáveis globais. No caso negativo, indique a natureza do erro e proponha uma alteração ao programa que o torne bem tipificado."
   ]
  },
  {
   "cell_type": "code",
   "execution_count": null,
   "metadata": {
    "vscode": {
     "languageId": "ocaml"
    }
   },
   "outputs": [],
   "source": [
    "let x = 3;;\n",
    "let y = 4;;\n",
    "let w = string_of_int x + y;;"
   ]
  },
  {
   "cell_type": "code",
   "execution_count": null,
   "metadata": {
    "vscode": {
     "languageId": "ocaml"
    }
   },
   "outputs": [],
   "source": [
    "let x = 47;;\n",
    "let y = \n",
    "  if x mod 2 = 0 then\n",
    "    3.0\n",
    "  else\n",
    "    4.0;;\n",
    "let w = x + y;;"
   ]
  },
  {
   "cell_type": "code",
   "execution_count": null,
   "metadata": {
    "vscode": {
     "languageId": "ocaml"
    }
   },
   "outputs": [],
   "source": [
    "let f x = (x + 1) * (x - 1);;\n",
    "let u = f (f 2);;"
   ]
  },
  {
   "cell_type": "code",
   "execution_count": null,
   "metadata": {
    "vscode": {
     "languageId": "ocaml"
    }
   },
   "outputs": [],
   "source": [
    "let f x = x / 17;;\n",
    "let g x = \n",
    "  if x mod 2 = 0 then\n",
    "    \"even\"\n",
    "  else\n",
    "    false;;\n",
    "let u = f 42;;"
   ]
  },
  {
   "cell_type": "markdown",
   "metadata": {},
   "source": [
    "## Expressões: `let` aninhado"
   ]
  },
  {
   "cell_type": "markdown",
   "metadata": {},
   "source": [
    "### Exercício:\n",
    "\n",
    "Qual é o valor de `w`?"
   ]
  },
  {
   "cell_type": "code",
   "execution_count": null,
   "metadata": {
    "vscode": {
     "languageId": "ocaml"
    }
   },
   "outputs": [],
   "source": [
    "let x = 10;;\n",
    "let x = \n",
    "  let y = 10 + x in\n",
    "  let y = let x = y * x in y + x in\n",
    "  y + x ;;\n",
    "let w = x + 100;;"
   ]
  },
  {
   "cell_type": "markdown",
   "metadata": {},
   "source": [
    "\n",
    "### Exercício:\n",
    "\n",
    "Qual é o valor da variável `x`?"
   ]
  },
  {
   "cell_type": "code",
   "execution_count": null,
   "metadata": {
    "vscode": {
     "languageId": "ocaml"
    }
   },
   "outputs": [],
   "source": [
    "let x =\n",
    "  let x = \n",
    "    let x = 5 in\n",
    "    let x = x + x in\n",
    "    x * x * x in\n",
    "  let x = float_of_int x in\n",
    "  let x = x /. 5.0 in\n",
    "  x"
   ]
  },
  {
   "cell_type": "markdown",
   "metadata": {},
   "source": [
    "### Exercício:\n",
    "\n",
    "Qual o tipo da variável `x`?"
   ]
  },
  {
   "cell_type": "code",
   "execution_count": null,
   "metadata": {
    "vscode": {
     "languageId": "ocaml"
    }
   },
   "outputs": [],
   "source": [
    "let x =\n",
    "  let x = \n",
    "    let x = 2.0 in\n",
    "    let y = 10.0 in\n",
    "    y +. x *. y in\n",
    "  let z = int_of_float x in\n",
    "  let x = z * z in\n",
    "  \"Here is my result: \" ^ (string_of_int x);;"
   ]
  },
  {
   "cell_type": "markdown",
   "metadata": {},
   "source": [
    "\n",
    "## Expressões: comparação\n",
    "\n",
    "Considere as seguintes declarações de variáveis `x` e `y` em OCaml:"
   ]
  },
  {
   "cell_type": "code",
   "execution_count": null,
   "metadata": {
    "vscode": {
     "languageId": "ocaml"
    }
   },
   "outputs": [],
   "source": [
    "let x = 42;;\n",
    "let y = 42;;"
   ]
  },
  {
   "cell_type": "markdown",
   "metadata": {},
   "source": [
    "### Exercício:\n",
    "Qual é o tipo das variávies `x` e `y`?\n"
   ]
  },
  {
   "cell_type": "markdown",
   "metadata": {},
   "source": [
    "\n",
    "### Exercício: \n",
    "Qual o resultado das seguintes expressões Booleanas? Para confirmar a sua resposta, deverá primeiro utilizar o interpretador do `Jupyter Notebook` para executar as duas instruções do exercício anterior."
   ]
  },
  {
   "cell_type": "code",
   "execution_count": null,
   "metadata": {
    "vscode": {
     "languageId": "ocaml"
    }
   },
   "outputs": [],
   "source": [
    "x = y;;"
   ]
  },
  {
   "cell_type": "code",
   "execution_count": null,
   "metadata": {
    "vscode": {
     "languageId": "ocaml"
    }
   },
   "outputs": [],
   "source": [
    "x == y;;"
   ]
  },
  {
   "cell_type": "markdown",
   "metadata": {},
   "source": [
    "### Exercício:\n",
    "\n",
    "Considere agora as seguintes declarações:"
   ]
  },
  {
   "cell_type": "code",
   "execution_count": null,
   "metadata": {
    "vscode": {
     "languageId": "ocaml"
    }
   },
   "outputs": [],
   "source": [
    "let a = \"lap is cool\";;\n",
    "let b = \"lap is cool\";;"
   ]
  },
  {
   "cell_type": "markdown",
   "metadata": {},
   "source": [
    "Qual o resultado das seguintes expressões Booleanas?"
   ]
  },
  {
   "cell_type": "code",
   "execution_count": null,
   "metadata": {
    "vscode": {
     "languageId": "ocaml"
    }
   },
   "outputs": [],
   "source": [
    "a = b;;"
   ]
  },
  {
   "cell_type": "code",
   "execution_count": null,
   "metadata": {
    "vscode": {
     "languageId": "ocaml"
    }
   },
   "outputs": [],
   "source": [
    "a == b;;"
   ]
  },
  {
   "cell_type": "markdown",
   "metadata": {},
   "source": [
    "## Expressões: asserções\n",
    "\n",
    "### Exercício:\n",
    "\n",
    "Qual é o resultado da seguinte expressão?"
   ]
  },
  {
   "cell_type": "code",
   "execution_count": null,
   "metadata": {
    "vscode": {
     "languageId": "ocaml"
    }
   },
   "outputs": [],
   "source": [
    "assert true;;"
   ]
  },
  {
   "cell_type": "markdown",
   "metadata": {},
   "source": [
    "### Exercício:\n",
    "\n",
    "Qual é o resultado da seguinte expressão?"
   ]
  },
  {
   "cell_type": "code",
   "execution_count": null,
   "metadata": {
    "vscode": {
     "languageId": "ocaml"
    }
   },
   "outputs": [],
   "source": [
    "let x = 0;;\n",
    "assert (x > 0);;"
   ]
  },
  {
   "cell_type": "markdown",
   "metadata": {},
   "source": [
    "### Exercício:\n",
    "\n",
    "Escreva no `utop` uma expressão que verifica, utilizando `assert`, que \"lap\" é estruturalmente diferente de \"aed\"."
   ]
  },
  {
   "cell_type": "markdown",
   "metadata": {},
   "source": [
    "## Expressões: condicionais e Booleanas"
   ]
  },
  {
   "cell_type": "markdown",
   "metadata": {},
   "source": [
    "### Exercício:\n",
    "\n",
    "Qual o valor da variável `b` nas seguintes expressões?"
   ]
  },
  {
   "cell_type": "code",
   "execution_count": null,
   "metadata": {
    "vscode": {
     "languageId": "ocaml"
    }
   },
   "outputs": [],
   "source": [
    "let b = if true then false else true;;\n",
    "let b = not b;;\n",
    "let b = 73 > 42;; "
   ]
  },
  {
   "cell_type": "markdown",
   "metadata": {},
   "source": [
    "### Exercício:\n",
    "\n",
    "Escreva no `utop` uma expressão que avalia para o valor `42` se `2` é maior que `1`, caso contrário avalia para o valor `73`."
   ]
  },
  {
   "cell_type": "markdown",
   "metadata": {},
   "source": [
    "### Exercício:\n",
    "\n",
    "Defina uma função `sign` que devolve o sinal de `v`, um valor inteiro passado como argumento. A sua função `sign` deverá obedecer à seguinte definição matemática:\n",
    "\n",
    "$$\n",
    "\\mathcal{S}(v)=\\left\\{\n",
    "    \\begin{array}{lc}\n",
    "    1 & \\text{se}~v > 0 \\\\[1em]\n",
    "    0 & \\text{se}~v = 0 \\\\[1em]\n",
    "    -1 & \\text{se}~v < 0\n",
    "    \\end{array}\\right.\n",
    "$$\n",
    "\n",
    "Utilize uma expressão `if..then..else` aninhada. Utilize o `utop` para testar a sua função, aplicando-a a alguns valores concretos."
   ]
  },
  {
   "cell_type": "markdown",
   "metadata": {},
   "source": [
    "## Expresssões: conversão entre tipos"
   ]
  },
  {
   "cell_type": "markdown",
   "metadata": {},
   "source": [
    "### Exercício:\n",
    "\n",
    "Qual o tipo de retorno das seguintes funções?"
   ]
  },
  {
   "cell_type": "code",
   "execution_count": null,
   "metadata": {
    "vscode": {
     "languageId": "ocaml"
    }
   },
   "outputs": [],
   "source": [
    "let f x = int_of_string x;;\n",
    "let f x = string_of_int x;;\n",
    "let f (x: int) = x;;\n",
    "let f x = float_of_int x;;\n",
    "let f x = int_of_float x;;\n",
    "let f x = int_of_char x;;\n",
    "let f x = bool_of_string x;;"
   ]
  },
  {
   "cell_type": "markdown",
   "metadata": {},
   "source": [
    "## Expressões: strings"
   ]
  },
  {
   "cell_type": "markdown",
   "metadata": {},
   "source": [
    "### Exercício:\n",
    "\n",
    "Qual o valor da variável `w`?"
   ]
  },
  {
   "cell_type": "code",
   "execution_count": null,
   "metadata": {
    "vscode": {
     "languageId": "ocaml"
    }
   },
   "outputs": [],
   "source": [
    "let x = \"ola \";;\n",
    "let y = \"mundo\";;\n",
    "let w = x ^ y;;"
   ]
  },
  {
   "cell_type": "markdown",
   "metadata": {},
   "source": [
    "### Exercício:\n",
    "\n",
    "Qual o valor da variável `w`?"
   ]
  },
  {
   "cell_type": "code",
   "execution_count": null,
   "metadata": {
    "vscode": {
     "languageId": "ocaml"
    }
   },
   "outputs": [],
   "source": [
    "let w = (if 42 < 73 then \"adeus \" else \"ola \") ^ \"mundo\";;"
   ]
  },
  {
   "cell_type": "markdown",
   "metadata": {},
   "source": [
    "## Expressões: pontos inacessíveis no código\n",
    "\n",
    "É comum na definição de uma função existirem pontos ou caminhos que sabemos serem inacessíveis. Por exemplo, uma função `div` que divide `x` por `y`, dois valores inteiros, não poderá produzir um resultado significativo se `y = 0`. Muito provavelmente, espera-se que um cliente de `div` verifique dinamicamente que o valor de `y` é diferente de `0` antes de aplicar a função. Nesse caso, consideramos `y <> 0` como uma pré-condição à execução de `div` e temos um interesse em assinalar esse facto explicitamente no código."
   ]
  },
  {
   "cell_type": "markdown",
   "metadata": {},
   "source": [
    "### Exercício:\n",
    "\n",
    "Num cenário em que um cliente poderá não respeitar a pré-condição de uma chamada a uma função, será sempre responsabilidade dessa mesma função adoptar um estilo de *programação defensiva*. Em particular, explicitar os casos em que a execução da função simplesmente deve abortar.\n",
    "\n",
    "Uma abordagem possível será simplesmente marcar um ponto inacessível no código com a expressão `assert false`. Esta expressão aborta imediatamente a execução, já que é impossível respeitar a expressão Booleana `false`.\n",
    "\n",
    "Altere a definição da função `div_42` por forma a que, no caso em que `y = 0`, em vez da função devolver `0` deverá abortar com a expressão `assert false`."
   ]
  },
  {
   "cell_type": "code",
   "execution_count": null,
   "metadata": {
    "vscode": {
     "languageId": "ocaml"
    }
   },
   "outputs": [],
   "source": [
    "let div_42 y =\n",
    "  if y = 0 then\n",
    "    0 (* Alterar aqui. *)\n",
    "  else\n",
    "    42 / y"
   ]
  },
  {
   "cell_type": "markdown",
   "metadata": {},
   "source": [
    "### Exercício:\n",
    "\n",
    "Uma outra abordagem será utilizar a expressão `failwith \"XXXXXX\"` que aborta imediatamente a execução de um programa com a mensagem `XXXXXX`.\n",
    "\n",
    "Altere a definição da função `div_42` por forma a que, no caso em que `y = 0`, em vez da função devolver `0` deverá abortar com a expressão `failwith`. Escolha uma mensagem de erro significativa."
   ]
  },
  {
   "cell_type": "code",
   "execution_count": null,
   "metadata": {
    "vscode": {
     "languageId": "ocaml"
    }
   },
   "outputs": [],
   "source": [
    "let div_42 y =\n",
    "  if y = 0 then\n",
    "    0 (* Alterar aqui. *)\n",
    "  else\n",
    "    42 / y"
   ]
  },
  {
   "cell_type": "markdown",
   "metadata": {},
   "source": [
    "## Expressões: cálculo\n",
    "\n",
    "### Exercício:\n",
    "Complete a definição da função `circle_area` que calcula a área de um círculo. Esta função recebe como argumento um valor flutuante `r`, o raio do círculo, e devolve um valor flutuante com a área calculada."
   ]
  },
  {
   "cell_type": "code",
   "execution_count": null,
   "metadata": {
    "vscode": {
     "languageId": "ocaml"
    }
   },
   "outputs": [],
   "source": [
    "let circle_area (r: float) : float =\n",
    "  0.0 (* Completar aqui. *)"
   ]
  },
  {
   "cell_type": "markdown",
   "metadata": {},
   "source": [
    "\n",
    "Recorde a fórmula do cálculo da área de círculo, dado o valor do raio $r$:\n",
    "$$\n",
    "A = \\pi r^2\n",
    "$$"
   ]
  },
  {
   "cell_type": "markdown",
   "metadata": {},
   "source": [
    "Na definição da função `circle_area` deve utilizar $3.1416$ como valor de $\\pi$."
   ]
  },
  {
   "cell_type": "markdown",
   "metadata": {},
   "source": [
    "Pode confirmar a correcção da sua definição executando as seguintes expressões: "
   ]
  },
  {
   "cell_type": "code",
   "execution_count": null,
   "metadata": {
    "vscode": {
     "languageId": "ocaml"
    }
   },
   "outputs": [],
   "source": [
    "let epsilon = 0.00000001;;\n",
    "assert (circle_area 10.0 >= 314.16 -. epsilon);;\n",
    "assert (circle_area 10.0 <= 314.16 +. epsilon);;\n",
    "assert (circle_area 5.0 >= 78.54 -. epsilon);;\n",
    "assert (circle_area 5.0 <= 78.54 +. epsilon);;\n",
    "assert (circle_area 1.0 >= 3.1416 -. epsilon);;\n",
    "assert (circle_area 1.0 <= 3.1416 +. epsilon);;"
   ]
  },
  {
   "cell_type": "markdown",
   "metadata": {},
   "source": [
    "O conjunto de expressões `assert` apresentadas actua como um conjunto de testes unitários para a função `circle_area`. Se todas as expressões anteriores executaram correctamente, pode considerar a sua função \"correcta\". Se pelo menos uma das expressões `assert` abortou a sua execução com o erro `Assertion Failure`, deve corrigir a sua implementação da função `circle_area`. *Nota:* se uma expressão `assert` abortar a execução, então todas as expressões que lhe seguiam no bloco de código não serão executadas (na prática, há uma excepção de *runtime* que se propaga até ao top-level). Quer isto dizer que várias destas expressões `assert` poderão não executar corretamente, não é garantido que se corrigir o problema de uma delas as restantes passarão a executar sem problemas."
   ]
  },
  {
   "cell_type": "markdown",
   "metadata": {},
   "source": [
    "### Exercício:\n",
    "\n",
    "Crie o seu próprio conjunto de testes unitários para testar a função `sign`, utilizando expressões `assert`."
   ]
  },
  {
   "cell_type": "markdown",
   "metadata": {},
   "source": [
    "### Exercício:\n",
    "\n",
    "Provavelmente, na definição da função `circle_area` não teve em conta o caso em que o raio é um valor não positivo. Defina uma nova versão da função `circle_area` por casos:\n",
    "\n",
    "* se o valor de `r` é negativo ou zero, então utilize a expressão `assert false` para assinalar um ponto inacessível no código.    \n",
    "* caso contrário, devolve o valor da área calculada."
   ]
  },
  {
   "cell_type": "code",
   "execution_count": null,
   "metadata": {
    "vscode": {
     "languageId": "ocaml"
    }
   },
   "outputs": [],
   "source": [
    "let circle_area (r: float) : float =\n",
    "  0.0 (* Completar aqui. *)"
   ]
  },
  {
   "cell_type": "markdown",
   "metadata": {},
   "source": [
    "Pode confirmar a correcção da sua definição executando as seguintes expressões: "
   ]
  },
  {
   "cell_type": "code",
   "execution_count": null,
   "metadata": {
    "vscode": {
     "languageId": "ocaml"
    }
   },
   "outputs": [],
   "source": [
    "let epsilon = 0.00000001;;\n",
    "assert (circle_area 10.0 >= 314.16 -. epsilon);;\n",
    "assert (circle_area 10.0 <= 314.16 +. epsilon);;\n",
    "assert (circle_area 5.0 >= 78.54 -. epsilon);;\n",
    "assert (circle_area 5.0 <= 78.54 +. epsilon);;\n",
    "assert (circle_area 1.0 >= 3.1416 -. epsilon);;\n",
    "assert (circle_area 1.0 <= 3.1416 +. epsilon);;\n",
    "assert (circle_area 0.0 = 42.0);;"
   ]
  },
  {
   "cell_type": "markdown",
   "metadata": {},
   "source": [
    "Neste caso, se tudo correu como previsto, a última expressão `assert` deverá abortar a execução."
   ]
  }
 ],
 "metadata": {
  "kernelspec": {
   "display_name": "OCaml lap2024-teacher",
   "language": "OCaml",
   "name": "ocaml-jupyter"
  },
  "language_info": {
   "codemirror_mode": "text/x-ocaml",
   "file_extension": ".ml",
   "mimetype": "text/x-ocaml",
   "name": "OCaml",
   "nbconverter_exporter": null,
   "pygments_lexer": "OCaml",
   "version": "4.14.0"
  }
 },
 "nbformat": 4,
 "nbformat_minor": 2
}
