{
 "cells": [
  {
   "cell_type": "markdown",
   "metadata": {},
   "source": [
    "# Exercícios em Expressões, Variáveis e Tipos na Linguagem OCaml\n",
    "\n",
    "Nesta ficha de trabalho encontrará exercícios que lhe permitem praticar sobre conceitos básicos da linguagem OCaml, nomeadamente expressões, variáveis e tipos. \n",
    "\n",
    "A maior parte dos exercícios apresentam trechos de código OCaml que deverá analisar ou completar. Nesse caso, poderá alterar diretamente este ficheiro e recorrer ao `Jupyter Notebook` para executar diretamente o código e analisar o resultado produzido pelo interpretador OCaml. No entanto, não deve utilizar imediatamente o `Notebook` para obter uma resposta, tente responder às questões com aquilo que já aprendeu nas aulas teóricas ou pela leitura da bibliografia recomendada. Em geral, é **muito** boa prática de trabalho refletir primeiro numa questão e só depois utilizar o `Notebook` para confirmar as suas intuições/conclusões.\n",
    "\n",
    "Para resolver alguns exercícios, aconselhamos que utilize o *Interpretador Universal de OCaml* através do programa `utop`."
   ]
  },
  {
   "cell_type": "markdown",
   "metadata": {},
   "source": [
    "***"
   ]
  },
  {
   "cell_type": "markdown",
   "metadata": {},
   "source": [
    "## Tipos: erros de tipificação"
   ]
  },
  {
   "cell_type": "markdown",
   "metadata": {},
   "source": [
    "### 🔹 Exercício 1:\n",
    "\n",
    "Indique se os seguintes programas são **bem tipificados** ou **mal tipificados**. No caso positivo, indique o tipo de todas as variáveis globais. No caso negativo, indique a natureza do erro e proponha uma alteração ao programa que o torne bem tipificado."
   ]
  },
  {
   "cell_type": "markdown",
   "metadata": {},
   "source": [
    "\n",
    "```OCaml\n",
    "let x = 3;;\n",
    "```\n",
    "<div class=\"quiz-container\" style=\"border: 1px solid #ccc; padding: 15px; border-radius: 5px; background-color: #f9f9f9; margin: 10px 0;\">\n",
    "  <div class=\"radio-options\">\n",
    "    <label>\n",
    "      <input type=\"radio\" name=\"type-check\" value=\"well-typed\" id=\"well-typed-radio\"> Bem tipificada\n",
    "    </label>\n",
    "    <br>\n",
    "    <label>\n",
    "      <input type=\"radio\" name=\"type-check\" value=\"ill-typed\" id=\"ill-typed-radio\"> Mal tipificada\n",
    "    </label>\n",
    "  </div>\n",
    "</div>\n",
    "\n",
    "```OCaml\n",
    "let y = 4;;\n",
    "```\n",
    "<div class=\"quiz-container1\" style=\"border: 1px solid #ccc; padding: 15px; border-radius: 5px; background-color: #f9f9f9; margin: 10px 0;\">\n",
    "  <div class=\"radio-options\">\n",
    "    <label>\n",
    "      <input type=\"radio\" name=\"type-check1\" value=\"well-typed\" id=\"well-typed-radio\"> Bem tipificada\n",
    "    </label>\n",
    "    <br>\n",
    "    <label>\n",
    "      <input type=\"radio\" name=\"type-check1\" value=\"ill-typed\" id=\"ill-typed-radio\"> Mal tipificada\n",
    "    </label>\n",
    "  </div>\n",
    "</div>\n",
    "\n",
    "```OCaml \n",
    "let w = string_of_int x + y;;\n",
    "```\n",
    "<div class=\"quiz-container2\" style=\"border: 1px solid #ccc; padding: 15px; border-radius: 5px; background-color: #f9f9f9; margin: 10px 0;\">\n",
    "  <div class=\"radio-options\">\n",
    "    <label>\n",
    "      <input type=\"radio\" name=\"type-check2\" value=\"well-typed\" id=\"well-typed-radio\"> Bem tipificada\n",
    "    </label>\n",
    "    <br>\n",
    "    <label>\n",
    "      <input type=\"radio\" name=\"type-check2\" value=\"ill-typed\" id=\"ill-typed-radio\"> Mal tipificada\n",
    "    </label>\n",
    "  </div>\n",
    "</div>\n",
    "\n",
    "```OCaml\n",
    "let x = 47;;\n",
    "```\n",
    "<div class=\"quiz-container\" style=\"border: 1px solid #ccc; padding: 15px; border-radius: 5px; background-color: #f9f9f9; margin: 10px 0;\">\n",
    "  <div class=\"radio-options\">\n",
    "    <label>\n",
    "      <input type=\"radio\" name=\"type-check\" value=\"well-typed\" id=\"well-typed-radio\"> Bem tipificada\n",
    "    </label>\n",
    "    <br>\n",
    "    <label>\n",
    "      <input type=\"radio\" name=\"type-check\" value=\"ill-typed\" id=\"ill-typed-radio\"> Mal tipificada\n",
    "    </label>\n",
    "  </div>\n",
    "</div>\n",
    "\n",
    "\n",
    "```OCaml\n",
    "let y = \n",
    "  if x mod 2 = 0 then\n",
    "    3.0\n",
    "  else\n",
    "    4.0;;\n",
    "```\n",
    "<div class=\"quiz-container\" style=\"border: 1px solid #ccc; padding: 15px; border-radius: 5px; background-color: #f9f9f9; margin: 10px 0;\">\n",
    "  <div class=\"radio-options\">\n",
    "    <label>\n",
    "      <input type=\"radio\" name=\"type-check1\" value=\"well-typed\" id=\"well-typed-radio\"> Bem tipificada\n",
    "    </label>\n",
    "    <br>\n",
    "    <label>\n",
    "      <input type=\"radio\" name=\"type-check1\" value=\"ill-typed\" id=\"ill-typed-radio\"> Mal tipificada\n",
    "    </label>\n",
    "  </div>\n",
    "</div>\n",
    "\n",
    "\n",
    "```OCaml\n",
    "let w = x + y;;\n",
    "```\n",
    "<div class=\"quiz-container\" style=\"border: 1px solid #ccc; padding: 15px; border-radius: 5px; background-color: #f9f9f9; margin: 10px 0;\">\n",
    "  <div class=\"radio-options\">\n",
    "    <label>\n",
    "      <input type=\"radio\" name=\"type-check2\" value=\"well-typed\" id=\"well-typed-radio\"> Bem tipificada\n",
    "    </label>\n",
    "    <br>\n",
    "    <label>\n",
    "      <input type=\"radio\" name=\"type-check2\" value=\"ill-typed\" id=\"ill-typed-radio\"> Mal tipificada\n",
    "    </label>\n",
    "  </div>\n",
    "</div>\n"
   ]
  },
  {
   "cell_type": "markdown",
   "metadata": {},
   "source": [
    "***"
   ]
  },
  {
   "cell_type": "markdown",
   "metadata": {},
   "source": [
    "## Expressões: `let` aninhado"
   ]
  },
  {
   "cell_type": "markdown",
   "metadata": {},
   "source": [
    "### 🔹 Exercício 2:\n",
    "\n",
    "Qual é o valor da variável `w`?\n",
    "\n",
    "```OCaml\n",
    "let x = 10;;\n",
    "let x = \n",
    "  let y = 10 + x in\n",
    "  let y = let x = y * x in y + x in\n",
    "  y + x ;;\n",
    "let w = x + 100;;\n",
    "```"
   ]
  },
  {
   "cell_type": "markdown",
   "metadata": {},
   "source": [
    "⚠️ **Resposta**: [complete aqui]"
   ]
  },
  {
   "cell_type": "markdown",
   "metadata": {},
   "source": [
    "### Exercício 3:\n",
    "\n",
    "Qual é o valor da variável `x`?\n",
    "\n",
    "```OCaml\n",
    "let x =\n",
    "  let x = \n",
    "    let x = 5 in\n",
    "    let x = x + x in\n",
    "    x * x * x in\n",
    "  let x = float_of_int x in\n",
    "  let x = x /. 5.0 in\n",
    "  x\n",
    "```"
   ]
  },
  {
   "cell_type": "markdown",
   "metadata": {},
   "source": [
    "⚠️ **Resposta**: [complete aqui]"
   ]
  },
  {
   "cell_type": "markdown",
   "metadata": {},
   "source": [
    "### 🔹 Exercício 4:\n",
    "\n",
    "Qual o tipo da variável `x`?\n",
    "\n",
    "```OCaml\n",
    "let x =\n",
    "  let x = \n",
    "    let x = 2.0 in\n",
    "    let y = 10.0 in\n",
    "    y +. x *. y in\n",
    "  let z = int_of_float x in\n",
    "  let x = z * z in\n",
    "  \"Here is my result: \" ^ (string_of_int x);;\n",
    "```\n",
    "  "
   ]
  },
  {
   "cell_type": "markdown",
   "metadata": {},
   "source": [
    "⚠️ **Resposta**: [complete aqui]"
   ]
  },
  {
   "cell_type": "markdown",
   "metadata": {},
   "source": [
    "***"
   ]
  },
  {
   "cell_type": "markdown",
   "metadata": {},
   "source": [
    "\n",
    "## Expressões: comparação\n",
    "\n",
    "Considere as seguintes declarações de variáveis `x` e `y` em OCaml:\n",
    "\n",
    "```OCaml\n",
    "let x = 42;;\n",
    "let y = 42;;\n",
    "```"
   ]
  },
  {
   "cell_type": "markdown",
   "metadata": {},
   "source": [
    "### 🔹 Exercício 5:\n",
    "Qual é o tipo das variávies `x` e `y`?\n"
   ]
  },
  {
   "cell_type": "code",
   "execution_count": null,
   "metadata": {
    "vscode": {
     "languageId": "ocaml"
    }
   },
   "outputs": [],
   "source": [
    "(* Complete aqui *)"
   ]
  },
  {
   "cell_type": "markdown",
   "metadata": {},
   "source": [
    "\n",
    "### 🔹 Exercício 6: \n",
    "Qual o resultado das seguintes expressões Booleanas? \n",
    "```OCaml\n",
    "x = y;;\n",
    "```"
   ]
  },
  {
   "cell_type": "markdown",
   "metadata": {},
   "source": [
    "⚠️ **Resposta**: [complete aqui]"
   ]
  },
  {
   "cell_type": "markdown",
   "metadata": {},
   "source": [
    "```OCaml\n",
    "x == y;;\n",
    "```"
   ]
  },
  {
   "cell_type": "markdown",
   "metadata": {},
   "source": [
    "⚠️ **Resposta**: [complete aqui] <br>\n",
    "❓ **Porquê?** "
   ]
  },
  {
   "cell_type": "markdown",
   "metadata": {},
   "source": [
    "### 🔹 Exercício 7:\n",
    "\n",
    "Considere agora as seguintes declarações:\n",
    "\n",
    "```OCaml\n",
    "let a = \"lap is cool\";;\n",
    "let b = \"lap is cool\";;\n",
    "```"
   ]
  },
  {
   "cell_type": "markdown",
   "metadata": {},
   "source": [
    "Qual o resultado das seguintes expressões Booleanas?"
   ]
  },
  {
   "cell_type": "markdown",
   "metadata": {},
   "source": [
    "\n",
    "```OCaml\n",
    "a = b;;\n",
    "```\n"
   ]
  },
  {
   "cell_type": "code",
   "execution_count": null,
   "metadata": {
    "vscode": {
     "languageId": "ocaml"
    }
   },
   "outputs": [],
   "source": [
    "(* Complete aqui *)"
   ]
  },
  {
   "cell_type": "markdown",
   "metadata": {},
   "source": [
    "\n",
    "```OCaml\n",
    "a == b;;\n",
    "```"
   ]
  },
  {
   "cell_type": "code",
   "execution_count": null,
   "metadata": {
    "vscode": {
     "languageId": "ocaml"
    }
   },
   "outputs": [],
   "source": [
    "(* Complete aqui *)"
   ]
  },
  {
   "cell_type": "markdown",
   "metadata": {},
   "source": [
    "⚠️ Porquê? **Complete aqui**"
   ]
  },
  {
   "cell_type": "markdown",
   "metadata": {},
   "source": [
    "***"
   ]
  },
  {
   "cell_type": "markdown",
   "metadata": {},
   "source": [
    "## Expressões: asserções\n",
    "\n",
    "### 🔹 Exercício 8:\n",
    "\n",
    "Qual é o resultado da seguinte expressão?"
   ]
  },
  {
   "cell_type": "markdown",
   "metadata": {
    "vscode": {
     "languageId": "ocaml"
    }
   },
   "source": [
    "```OCaml\n",
    "assert true;;\n",
    "```"
   ]
  },
  {
   "cell_type": "markdown",
   "metadata": {},
   "source": [
    "⚠️ **Resposta**: [complete aqui]"
   ]
  },
  {
   "cell_type": "markdown",
   "metadata": {},
   "source": [
    "### 🔹 Exercício 9:\n",
    "\n",
    "Qual é o resultado da seguinte expressão?"
   ]
  },
  {
   "cell_type": "markdown",
   "metadata": {
    "vscode": {
     "languageId": "ocaml"
    }
   },
   "source": [
    "```OCaml\n",
    "let x = 0;;\n",
    "assert (x > 0);;\n",
    "```"
   ]
  },
  {
   "cell_type": "markdown",
   "metadata": {},
   "source": [
    "⚠️ **Resposta**: [complete aqui]"
   ]
  },
  {
   "cell_type": "markdown",
   "metadata": {},
   "source": [
    "### 🔹 Exercício 10:\n",
    "\n",
    "Escreva no `utop` uma expressão que verifica, utilizando `assert`, que \"OCaml\" é estruturalmente diferente de \"Java\"."
   ]
  },
  {
   "cell_type": "code",
   "execution_count": null,
   "metadata": {
    "vscode": {
     "languageId": "ocaml"
    }
   },
   "outputs": [],
   "source": [
    "(* Complete aqui *)"
   ]
  },
  {
   "cell_type": "markdown",
   "metadata": {},
   "source": [
    "***"
   ]
  },
  {
   "cell_type": "markdown",
   "metadata": {},
   "source": [
    "## Expressões: condicionais e Booleanas"
   ]
  },
  {
   "cell_type": "markdown",
   "metadata": {},
   "source": [
    "### 🔹 Exercício 11:\n",
    "\n",
    "Qual o valor da variável `b` nas seguintes expressões?"
   ]
  },
  {
   "cell_type": "markdown",
   "metadata": {},
   "source": [
    "\n",
    "```OCaml\n",
    "let b = if true then false else true;;\n",
    "```"
   ]
  },
  {
   "cell_type": "markdown",
   "metadata": {},
   "source": [
    "⚠️ **Resposta**: [complete aqui]"
   ]
  },
  {
   "cell_type": "markdown",
   "metadata": {},
   "source": [
    "\n",
    "\n",
    "```OCaml\n",
    "let b = not b;;\n",
    "```\n"
   ]
  },
  {
   "cell_type": "markdown",
   "metadata": {},
   "source": [
    "⚠️ **Resposta**: [complete aqui]"
   ]
  },
  {
   "cell_type": "markdown",
   "metadata": {},
   "source": [
    "\n",
    "```OCaml\n",
    "let b = 73 > 42;;\n",
    "``` "
   ]
  },
  {
   "cell_type": "markdown",
   "metadata": {},
   "source": [
    "⚠️ **Resposta**: [complete aqui]"
   ]
  },
  {
   "cell_type": "markdown",
   "metadata": {},
   "source": [
    "### 🔹 Exercício 12:\n",
    "\n",
    "Escreva no `utop` uma expressão que avalia para o valor `42` se `2` é maior que `1`, caso contrário avalia para o valor `73`."
   ]
  },
  {
   "cell_type": "code",
   "execution_count": 1,
   "metadata": {
    "vscode": {
     "languageId": "ocaml"
    }
   },
   "outputs": [],
   "source": [
    "(* Complete aqui *)"
   ]
  },
  {
   "cell_type": "markdown",
   "metadata": {},
   "source": [
    "***"
   ]
  },
  {
   "cell_type": "markdown",
   "metadata": {},
   "source": [
    "## Expressões: strings"
   ]
  },
  {
   "cell_type": "markdown",
   "metadata": {},
   "source": [
    "### 🔹 Exercício 13:\n",
    "\n",
    "Qual o valor da variável `w`?"
   ]
  },
  {
   "cell_type": "markdown",
   "metadata": {
    "vscode": {
     "languageId": "ocaml"
    }
   },
   "source": [
    "```OCaml\n",
    "let x = \"hello \";;\n",
    "let y = \"world!\";;\n",
    "let w = x ^ y;;\n",
    "```"
   ]
  },
  {
   "cell_type": "markdown",
   "metadata": {},
   "source": [
    "⚠️ **Resposta**: [complete aqui]"
   ]
  },
  {
   "cell_type": "markdown",
   "metadata": {},
   "source": [
    "### 🔹 Exercício 14:\n",
    "\n",
    "Qual o valor da variável `w`?"
   ]
  },
  {
   "cell_type": "markdown",
   "metadata": {
    "vscode": {
     "languageId": "ocaml"
    }
   },
   "source": [
    "```OCaml\n",
    "let w = (if 42 < 73 then \"adeus \" else \"ola \") ^ \"mundo\";;\n",
    "```"
   ]
  },
  {
   "cell_type": "markdown",
   "metadata": {},
   "source": [
    "⚠️ **Resposta**: [complete aqui]"
   ]
  }
 ],
 "metadata": {
  "kernelspec": {
   "display_name": "OCaml lap2025",
   "language": "OCaml",
   "name": "ocaml-jupyter"
  },
  "language_info": {
   "codemirror_mode": "text/x-ocaml",
   "file_extension": ".ml",
   "mimetype": "text/x-ocaml",
   "name": "OCaml",
   "nbconverter_exporter": null,
   "pygments_lexer": "OCaml",
   "version": "4.14.0"
  }
 },
 "nbformat": 4,
 "nbformat_minor": 2
}
