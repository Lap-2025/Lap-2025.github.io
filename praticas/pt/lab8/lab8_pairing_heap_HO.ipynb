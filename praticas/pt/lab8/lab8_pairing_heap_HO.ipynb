{
 "cells": [
  {
   "cell_type": "markdown",
   "metadata": {},
   "source": [
    "# Funções de Ordem Superior em Estruturas de dados funcionais - Pairing Heaps\n",
    "\n",
    "Vamos definir novas operações sobre Pairing Heaps que utilizam funções de ordem superior e percursos sobre a heap. Recorde o tipo de dados definido na aula anterior e implemente cada função seguindo as especificações dadas."
   ]
  },
  {
   "cell_type": "markdown",
   "metadata": {},
   "source": [
    "## Definição do tipo de dados"
   ]
  },
  {
   "cell_type": "markdown",
   "metadata": {},
   "source": [
    "Uma Pairing Heap é definida da seguinte maneira:\n",
    "\n",
    "1. é a árvore vazia, ou \n",
    "2. é a árvore com uma raiz e uma lista de Pairing Heaps, *i.e.*, os descendentes da raiz, e\n",
    "3. a raiz de uma Pairing Heap é o menor elemento da árvore (menor ou igual). Pode conter repetições."
   ]
  },
  {
   "cell_type": "markdown",
   "metadata": {},
   "source": [
    "O tipo de dados de uma árvore *interior* que será sempre não-vazia é definida como:"
   ]
  },
  {
   "cell_type": "code",
   "execution_count": null,
   "metadata": {
    "vscode": {
     "languageId": "ocaml"
    }
   },
   "outputs": [],
   "source": [
    "type tree = T of int * tree list"
   ]
  },
  {
   "cell_type": "markdown",
   "metadata": {},
   "source": [
    "Considerando que o constructor `T` representa a raíz de uma sub-árvore composta por uma chave (valor inteiro) e uma lista de descendentes, a Pairing Heap é definida da seguinte forma:"
   ]
  },
  {
   "cell_type": "code",
   "execution_count": null,
   "metadata": {
    "vscode": {
     "languageId": "ocaml"
    }
   },
   "outputs": [],
   "source": [
    "type t = \n",
    "  | E \n",
    "  | N of tree\n",
    ";;"
   ]
  },
  {
   "cell_type": "markdown",
   "metadata": {},
   "source": [
    "## Novas operações sobre Pairing Heaps"
   ]
  },
  {
   "cell_type": "markdown",
   "metadata": {},
   "source": [
    "### 🔹 Exercício 1\n",
    "\n",
    "Escreva uma definição para a função `heap_size`, com a seguinte assinatura:\n",
    "\n",
    "```OCaml\n",
    "  val heap_size : t -> int\n",
    "```\n",
    "\n",
    " Esta função deve devolver o número de elementos na Pairing Heap recebida como argumento."
   ]
  },
  {
   "cell_type": "code",
   "execution_count": null,
   "metadata": {
    "vscode": {
     "languageId": "ocaml"
    }
   },
   "outputs": [],
   "source": [
    "let heap_size h =\n",
    "  assert false (* Completar aqui *)"
   ]
  },
  {
   "cell_type": "markdown",
   "metadata": {},
   "source": [
    "### 🔹 Exercício 2\n",
    "\n",
    "Escreva uma definição para a função `heap_depth`, com a seguinte assinatura:\n",
    "\n",
    "```OCaml\n",
    "  val heap_depth : t -> int\n",
    "```\n",
    "\n",
    "Esta função recebe como *input* uma Pairing Heap `h` e devolve a altura da heap, definida como o número de níveis da heap (ou seja, o tamanho do caminho mais longo da raiz até uma folha). A heap vazia tem altura 0."
   ]
  },
  {
   "cell_type": "code",
   "execution_count": null,
   "metadata": {
    "vscode": {
     "languageId": "ocaml"
    }
   },
   "outputs": [],
   "source": [
    "let heap_depth h = \n",
    "  assert false (* Completar aqui *)"
   ]
  },
  {
   "cell_type": "markdown",
   "metadata": {},
   "source": [
    "### 🔹 Exercício 3 \n",
    "\n",
    "Escreva uma definição para a função `pre_order`, com a seguinte assinatura:\n",
    "\n",
    "```OCaml\n",
    "  val pre_order : t -> int list\n",
    "```\n",
    "\n",
    "A operação de `pre_order` devolve a lista de todos os elementos da Pairing Heap [h] segundo a travessia em pré-ordem, definida como:\n",
    "\n",
    "1. Visitar o valor da raiz;\n",
    "2. Percorrer a lista de sub-árvores da esquerda para a direita em pré-ordem.\n",
    "\n",
    "Sendo que a Pairing Heap vazia produz a lista vazia. Considere, por exemplo, a seguinte Pairing Heap:\n",
    "\n",
    "<img src=\"pairing_heap_example.png\" width=\"300\"/>\n",
    "\n",
    "Ao aplicar a função de `pre_order` sobre esta Pairing resultaria na lista seguinte:\n",
    "\n",
    "```OCaml\n",
    "[1; 8; 2; 9; 10; 3; 6; 7; 14; 15; 20]\n",
    "```\n"
   ]
  },
  {
   "cell_type": "code",
   "execution_count": null,
   "metadata": {
    "vscode": {
     "languageId": "ocaml"
    }
   },
   "outputs": [],
   "source": [
    "let pre_order h =\n",
    "  assert false (* Completar aqui *)"
   ]
  },
  {
   "cell_type": "markdown",
   "metadata": {},
   "source": [
    "### 🔹 Exercício 4\n",
    "\n",
    "Escreva uma definição para a função `post_order`, com a seguinte assinatura:\n",
    "\n",
    "\n",
    "```OCaml\n",
    "  val post_order : t -> int list\n",
    "```\n",
    "\n",
    "A operação de `post_order` devolve a lista de todos os elementos da Pairing Heap [h] segundo a travessia em pós-ordem, definida como:\n",
    "1. Percorrer a lista de sub-árvores da esquerda para a direita em pós-ordem.\n",
    "2. Visitar o valor da raiz.\n",
    "\n",
    "A heap vazia produz a lista vazia.\n",
    "\n",
    "Ao aplicar a função de `post_order` sobre a Pairing Heap apresentada no exercício 3 resultaria na lista seguinte:\n",
    "\n",
    "```OCaml\n",
    "[8; 9; 10; 2; 3; 7; 15; 20; 14; 6; 1]\n",
    "```\n"
   ]
  },
  {
   "cell_type": "code",
   "execution_count": null,
   "metadata": {
    "vscode": {
     "languageId": "ocaml"
    }
   },
   "outputs": [],
   "source": [
    "let post_order h =\n",
    "  assert false (* Completar aqui *)"
   ]
  },
  {
   "cell_type": "markdown",
   "metadata": {},
   "source": [
    "### 🔹 Exercício 5 \n",
    "\n",
    "Escreva uma definição para a função `map`, com a seguinte assinatura:\n",
    "\n",
    "\n",
    "```OCaml\n",
    "  val map : (int -> int) -> t -> t\n",
    "```\n",
    "\n",
    "A função `map` aplica a função `f` a cada elemento da Pairing Heap, preservando a sua estrutura."
   ]
  },
  {
   "cell_type": "code",
   "execution_count": null,
   "metadata": {
    "vscode": {
     "languageId": "ocaml"
    }
   },
   "outputs": [],
   "source": [
    "let rec map f h =\n",
    "  assert false (* Completar aqui *) "
   ]
  }
 ],
 "metadata": {
  "kernelspec": {
   "display_name": "OCaml lap2025",
   "language": "OCaml",
   "name": "ocaml-jupyter"
  },
  "language_info": {
   "codemirror_mode": "text/x-ocaml",
   "file_extension": ".ml",
   "mimetype": "text/x-ocaml",
   "name": "OCaml",
   "nbconverter_exporter": null,
   "pygments_lexer": "OCaml",
   "version": "4.14.0"
  }
 },
 "nbformat": 4,
 "nbformat_minor": 2
}
