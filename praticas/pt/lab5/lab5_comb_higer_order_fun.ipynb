{
 "cells": [
  {
   "cell_type": "markdown",
   "metadata": {},
   "source": [
    "# Exercícios em combinadores e funções de ordem superior sobre listas"
   ]
  },
  {
   "cell_type": "markdown",
   "metadata": {},
   "source": [
    "Esta aula prática tem como objectivo exercitar a utilização de funções do módulo `List` da biblioteca standard OCaml, em particular combinadores de ordem superior como `fold_left`, `fold_right`, `map`, etc. É assim desejável, e expectável, que faça uso regular de tais funções."
   ]
  },
  {
   "cell_type": "markdown",
   "metadata": {},
   "source": [
    "## Operações sobre listas"
   ]
  },
  {
   "cell_type": "markdown",
   "metadata": {},
   "source": [
    "### 🔹 Exercício 1 ⭐️\n",
    "\n",
    "Dada uma lista de *Strings* `strs` e uma outra *String* `sep`, servindo como separador, produza uma nova *String* que contém todos os elementos de `strs` separados por `sep`. Por exemplo, dados como *Input* `[\"hi\"; \"bye\"]` e `\",\"`, deve produzir a *String* `\"hi,bye\"`. \n",
    "\n",
    "**Nota:** não deve existir uma ocorrência do separador nem no início nem no fim da *String* produzida. "
   ]
  },
  {
   "cell_type": "code",
   "execution_count": null,
   "metadata": {
    "vscode": {
     "languageId": "ocaml"
    }
   },
   "outputs": [],
   "source": [
    "let join_with strs sep =\n",
    "  assert false;; (* Completar aqui *)"
   ]
  },
  {
   "cell_type": "code",
   "execution_count": null,
   "metadata": {
    "vscode": {
     "languageId": "ocaml"
    }
   },
   "outputs": [],
   "source": [
    "(* Testes unitários *)"
   ]
  },
  {
   "cell_type": "markdown",
   "metadata": {},
   "source": [
    "### 🔹 Exercício 2 ⭐️⭐️\n",
    "Defina uma função `proper_cuts` que dada uma lista `l` devolve todos os pares de listas que representam um corte na lista `l`. Por exemplo, `proper_cuts [1; 2; 3]` deve devolver \n",
    "\n",
    "```OCaml\n",
    "  [([], [1; 2; 3]); ([1], [2; 3]); ([1; 2], [3]); ([1; 2; 3], [])]\n",
    "```\n",
    "\n",
    "**Nota:** a função `proper_cuts` poderá utilizar a função `List.map` como função auxiliar."
   ]
  },
  {
   "cell_type": "code",
   "execution_count": null,
   "metadata": {
    "vscode": {
     "languageId": "ocaml"
    }
   },
   "outputs": [],
   "source": [
    "let rec proper_cuts l =\n",
    "  assert false (* Completar aqui *)"
   ]
  },
  {
   "cell_type": "code",
   "execution_count": null,
   "metadata": {
    "vscode": {
     "languageId": "ocaml"
    }
   },
   "outputs": [],
   "source": [
    "(* Testes unitários *)"
   ]
  },
  {
   "cell_type": "markdown",
   "metadata": {},
   "source": [
    "### 🔹 Exercício 3 ⭐️⭐️\n",
    "\n",
    "Considere a utilização de listas para representar conjuntos, tal como visto na aula prática 4. Defina uma função `power_set` que dado um conjunto `s` devolve o seu conjunto das partes, isto é, o conjunto de todos os subconjuntos de `s`. Por exemplo, `power_set [1; 2; 3; 4]` é a seguinte lista:\n",
    "\n",
    "```OCaml\n",
    "  [[]; [1]; [2]; [3]; [4]; [1; 2]; [1; 3]; [1; 4]; \n",
    "  [2; 3]; [2; 4]; [3; 4]; [1; 2; 3]; [1; 2; 4]; \n",
    "  [1; 3; 4]; [2; 3; 4]; [1; 2; 3; 4]]\n",
    "```\n",
    "\n",
    "**Nota:** a ordem pela qual os subconjuntos são gerados, assim como a ordem apresentada pelos elementos dentro de cada subconjunto, é irrelevante."
   ]
  },
  {
   "cell_type": "code",
   "execution_count": null,
   "metadata": {
    "vscode": {
     "languageId": "ocaml"
    }
   },
   "outputs": [],
   "source": [
    "let rec power_set s =\n",
    "  assert false (* Completar aqui *)"
   ]
  },
  {
   "cell_type": "code",
   "execution_count": null,
   "metadata": {
    "vscode": {
     "languageId": "ocaml"
    }
   },
   "outputs": [],
   "source": [
    "(* Testes unitários *)"
   ]
  },
  {
   "cell_type": "markdown",
   "metadata": {},
   "source": [
    "---"
   ]
  },
  {
   "cell_type": "markdown",
   "metadata": {},
   "source": [
    "## Matrizes"
   ]
  },
  {
   "cell_type": "markdown",
   "metadata": {},
   "source": [
    "O seguinte conjunto de exercícios tem como objectivo definir e manipular matrizes, utilizando listas de listas de inteiros. Utilizando uma representação *baseada nas linhas* da matriz, a seguinte matriz\n",
    "$$\n",
    "\\begin{bmatrix}\n",
    "    1 & 1 & 1 \\\\[1em]\n",
    "    9 & 8 & 7\n",
    "\\end{bmatrix}\n",
    "$$\n",
    "seria representada em OCaml como a lista\n",
    "\n",
    "```OCaml\n",
    "  [[1; 1; 1]; [9; 8; 7]]\n",
    "```\n",
    "\n",
    "Uma matriz linha, isto é, um vector é simplesmente representada como uma lista de inteiros, por exemplo, `[9; 8; 7]`."
   ]
  },
  {
   "cell_type": "markdown",
   "metadata": {},
   "source": [
    "### 🔹 Exercício 4 ⭐️\n",
    "\n",
    "Uma matriz válida é um valor do tipo `int list list` que contém pelo menos uma linha, tem pelo menos uma coluna e em que cada linha tem o mesmo número de colunas. Alguns exemplos de valores do tipo `int list list` que não são matrizes válidas:\n",
    "\n",
    "```OCaml\n",
    "[]\n",
    "[[1; 2]; [3]]\n",
    "```\n",
    "\n",
    "Defina a função `is_valid_matrix` que recebe um valor do tipo `int list list` e verifica se este é ou não uma matriz válida."
   ]
  },
  {
   "cell_type": "code",
   "execution_count": null,
   "metadata": {
    "vscode": {
     "languageId": "ocaml"
    }
   },
   "outputs": [],
   "source": [
    "let is_valid_matrix m =\n",
    "  assert false (* Completar aqui *)"
   ]
  },
  {
   "cell_type": "code",
   "execution_count": null,
   "metadata": {
    "vscode": {
     "languageId": "ocaml"
    }
   },
   "outputs": [],
   "source": [
    "(* Testes unitários *)"
   ]
  },
  {
   "cell_type": "markdown",
   "metadata": {},
   "source": [
    "### 🔹 Exercício 5 ⭐️\n",
    "\n",
    "Defina a função `add_row_vectors` que implementa a adição ponto a ponto de dois vectores. Por exemplo, `add_row_vectors [1; 1; 1] [9; 8; 7]` devolve `[10; 9; 8]`. Se os dois vectores não tiverem o mesmo tamanho, então o comportamento da função não está especificado. Isto é, pode implementar o comportamento que desejar."
   ]
  },
  {
   "cell_type": "code",
   "execution_count": null,
   "metadata": {
    "vscode": {
     "languageId": "ocaml"
    }
   },
   "outputs": [],
   "source": [
    "let add_row_vectors r1 r2 =\n",
    "  assert false (* Completar aqui *)"
   ]
  },
  {
   "cell_type": "code",
   "execution_count": null,
   "metadata": {
    "vscode": {
     "languageId": "ocaml"
    }
   },
   "outputs": [],
   "source": [
    "(* Testes unitários *)"
   ]
  },
  {
   "cell_type": "markdown",
   "metadata": {},
   "source": [
    "### 🔹 Exercício 6 ⭐️\n",
    "\n",
    "Defina a função `add_matrices` que [soma duas matrizes](https://mathworld.wolfram.com/MatrixAddition.html). Se as duas matrizes não tiverem o mesmo tamanho, então o comportamento da função não está especificado."
   ]
  },
  {
   "cell_type": "code",
   "execution_count": null,
   "metadata": {
    "vscode": {
     "languageId": "ocaml"
    }
   },
   "outputs": [],
   "source": [
    "let add_matrices m1 m2 =\n",
    "  assert false (* Completar aqui *)"
   ]
  },
  {
   "cell_type": "code",
   "execution_count": null,
   "metadata": {
    "vscode": {
     "languageId": "ocaml"
    }
   },
   "outputs": [],
   "source": [
    "(* Testes unitários *)"
   ]
  },
  {
   "cell_type": "markdown",
   "metadata": {},
   "source": [
    "### 🔹 Exercício 7 ⭐️⭐️⭐️\n",
    "\n",
    "Defina a função `multiply_matrices` que [multiplica duas matrizes](https://mathworld.wolfram.com/MatrixMultiplication.html). Se as duas matrizes não apresentam as dimensões correctas, então o comportamento da função não está especificado. \n",
    "\n",
    "**Dica:** defina funções para a [transposição de matrizes](https://mathworld.wolfram.com/Transpose.html) e [produto escalar](https://mathworld.wolfram.com/DotProduct.html) de dois vectores."
   ]
  },
  {
   "cell_type": "code",
   "execution_count": null,
   "metadata": {
    "vscode": {
     "languageId": "ocaml"
    }
   },
   "outputs": [],
   "source": [
    "let multiply_matrices m1 m2 =\n",
    "  assert false (* Completar aqui *)"
   ]
  },
  {
   "cell_type": "code",
   "execution_count": null,
   "metadata": {
    "vscode": {
     "languageId": "ocaml"
    }
   },
   "outputs": [],
   "source": [
    "(* Testes unitários *)"
   ]
  },
  {
   "cell_type": "markdown",
   "metadata": {},
   "source": [
    "### 🔹 Exercício 8 ⭐️⭐️⭐️⭐️\n",
    "\n",
    "Neste exercício considere os tipos de cartas implementados na aula passada: \n",
    "\n",
    "```OCaml \n",
    "type suite = \n",
    "  | Diamonds \n",
    "  | Hearts \n",
    "  | Clubs \n",
    "  | Spades\n",
    ";;\n",
    "\n",
    "type card_val =  \n",
    "  | King \n",
    "  | Queen \n",
    "  | Jack \n",
    "  | Point of int (* entre 1 e 10 *);;\n",
    "```\n",
    "\n",
    "E o novo tipo `card_points`, para apresentar o resultado: \n",
    "\n",
    "```OCaml\n",
    "let card_points c = \n",
    "  match c with \n",
    "  | King  -> K 10\n",
    "  | Queen -> Q 10\n",
    "  | Jack  -> J 10 \n",
    "  | Point (x) -> (\n",
    "    assert (x >= 1 && x < 10);\n",
    "    P x\n",
    "  )\n",
    ";;  \n",
    "```\n",
    "\n",
    "\n",
    "No jogo de cartas *Blackjack*, o objetivo é alcançar exatamente **21 pontos** utilizando uma combinação de cartas. As figuras (`Jack`, `Queen` e `King`) valem 10 pontos cada, e as cartas numeradas (`Point n`) valem o seu exatamente o seu valor (de 1 a 10, inclusive). Considere ainda que o Ás (`Ace`) vale sempre 1 ponto.\n",
    "\n",
    "O objetivo é implementar uma função `hands` que, dado um número de pontos em falta para chegar a 21, devolve todas as combinações possíveis de cartas que somam exatamente esse valor. Implemente a função `hands` que recebe o número de pontos que faltam para chegar a 21:\n",
    "\n",
    "```OCaml \n",
    "val hands : int -> card list list\n",
    "```\n",
    "\n",
    "Por exemplo, `hands 12` deve devolver: \n",
    "\n",
    "```OCaml \n",
    "[\n",
    "  [ P 2; P 10 ];\n",
    "  [ P 3; P 9 ];\n",
    "  [ P 4; P 8 ];\n",
    "  [ P 5; P 7 ];\n",
    "  [ P 6; P 6 ];\n",
    "  [ P 2; J 10 ];\n",
    "  [ P 2; Q 10 ];\n",
    "  [ P 2; K 10 ];\n",
    "  [ P 1; P 1; P 10 ];\n",
    "  [ P 1; P 1; J 10 ];\n",
    "  [ P 1; P 1; Q 10 ];\n",
    "  [ P 1; P 1; K 10 ];\n",
    "  [ P 1; P 2; P 9 ];\n",
    "  [ P 1; P 3; P 8 ];\n",
    "  [ P 1; P 4; P 7 ];\n",
    "  [ P 1; P 5; P 6 ];\n",
    "  [ P 1; P 1; P 1; P 9 ];\n",
    "  [ P 1; P 1; P 1; J 10 ];\n",
    "  [ P 1; P 1; P 1; Q 10 ];\n",
    "  [ P 1; P 1; P 1; K 10 ];\n",
    "  [ P 1; P 1; P 2; P 8 ];\n",
    "  [ P 1; P 1; P 3; P 7 ];\n",
    "  [ P 1; P 1; P 4; P 6 ];\n",
    "  [ P 1; P 1; P 5; P 5 ];\n",
    "  [ P 1; P 2; P 2; P 7 ];\n",
    "  [ P 1; P 2; P 3; P 6 ];\n",
    "  [ P 1; P 2; P 4; P 5 ];\n",
    "  [ P 3; P 3; P 3; P 3 ];\n",
    "]\n",
    "```"
   ]
  },
  {
   "cell_type": "code",
   "execution_count": null,
   "metadata": {
    "vscode": {
     "languageId": "ocaml"
    }
   },
   "outputs": [],
   "source": [
    "let hands target = \n",
    "  assert false (* Complete aqui *)"
   ]
  },
  {
   "cell_type": "code",
   "execution_count": null,
   "metadata": {
    "vscode": {
     "languageId": "ocaml"
    }
   },
   "outputs": [],
   "source": [
    "(* Testes unitários *)"
   ]
  }
 ],
 "metadata": {
  "kernelspec": {
   "display_name": "OCaml lap2025",
   "language": "OCaml",
   "name": "ocaml-jupyter"
  },
  "language_info": {
   "codemirror_mode": "text/x-ocaml",
   "file_extension": ".ml",
   "mimetype": "text/x-ocaml",
   "name": "OCaml",
   "nbconverter_exporter": null,
   "pygments_lexer": "OCaml",
   "version": "4.14.0"
  }
 },
 "nbformat": 4,
 "nbformat_minor": 2
}
