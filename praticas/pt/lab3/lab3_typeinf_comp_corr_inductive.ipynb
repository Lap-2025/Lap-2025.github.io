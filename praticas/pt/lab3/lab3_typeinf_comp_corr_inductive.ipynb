{
 "cells": [
  {
   "cell_type": "markdown",
   "metadata": {},
   "source": [
    "# Exercícios em inferência de tipos, composição de funções, correcção de programas e pensamento indutivo"
   ]
  },
  {
   "cell_type": "markdown",
   "metadata": {},
   "source": [
    "## Inferência de tipos e composições de funções"
   ]
  },
  {
   "cell_type": "markdown",
   "metadata": {},
   "source": [
    "### 🔹 Exercício 1:\n",
    "Considere as seguintes definições de funções:\n",
    "\n",
    "```OCaml \n",
    "(1) let f = fun x -> x\n",
    "(2) let g = fun h -> fun x -> h x\n",
    "(3) let k u = u (g (fun x -> f x) 0)\n",
    "```\n"
   ]
  },
  {
   "cell_type": "markdown",
   "metadata": {},
   "source": [
    "Qual o tipo de cada uma destas funções?"
   ]
  },
  {
   "cell_type": "code",
   "execution_count": null,
   "metadata": {
    "vscode": {
     "languageId": "ocaml"
    }
   },
   "outputs": [],
   "source": [
    "(* Complete aqui: *)\n",
    "(1) \n",
    "(2) \n",
    "(3)"
   ]
  },
  {
   "cell_type": "markdown",
   "metadata": {},
   "source": [
    "### 🔹 Exercício 2:\n",
    "Utilizando as funções anteriormente definidas, construa uma expressão de tipo:\n",
    "\n",
    "```OCaml\n",
    "(1) `int`\n",
    "(2) `bool`\n",
    "(3) `int -> int`\n",
    "(4) `'a -> 'a`\n",
    "```\n"
   ]
  },
  {
   "cell_type": "code",
   "execution_count": null,
   "metadata": {
    "vscode": {
     "languageId": "ocaml"
    }
   },
   "outputs": [],
   "source": [
    "(* Complete aqui: *)\n",
    "(1) \n",
    "(2) \n",
    "(3)\n",
    "(4)"
   ]
  },
  {
   "cell_type": "markdown",
   "metadata": {},
   "source": [
    "### 🔹 Exercício 3:\n",
    "Justifique, utilizando um sistema de equações qual o tipo da seguinte expressão:\n",
    "\n",
    "```OCaml\n",
    "(fun x -> \n",
    "    if x > 3 then\n",
    "        string_of_int x \n",
    "    else \n",
    "        \"pouco\") \n",
    "    4;;\n",
    "```"
   ]
  },
  {
   "cell_type": "markdown",
   "metadata": {},
   "source": [
    "---"
   ]
  },
  {
   "cell_type": "markdown",
   "metadata": {},
   "source": [
    "## Correcção de programas: Pré e Pós-condições"
   ]
  },
  {
   "cell_type": "markdown",
   "metadata": {},
   "source": [
    "### 🔹 Exercício 4:\n",
    "\n",
    "Dadas as seguintes definições de funções, indique as pré e pós-condições de cada uma:\n",
    "\n",
    "```OCaml\n",
    "(1) let rec fact x =\n",
    "    if x = 0 then\n",
    "      1\n",
    "    else x * fact (x - 1)\n",
    "```\n"
   ]
  },
  {
   "cell_type": "markdown",
   "metadata": {},
   "source": [
    "⚠️ **Resposta:** [complete aqui]"
   ]
  },
  {
   "cell_type": "markdown",
   "metadata": {},
   "source": [
    "\n",
    "```OCaml\n",
    "(2) let rec gcd u v =\n",
    "    if v = 0 then\n",
    "      u\n",
    "    else gcd v (u mod v)\n",
    "```\n"
   ]
  },
  {
   "cell_type": "markdown",
   "metadata": {},
   "source": [
    "⚠️ **Resposta:** [complete aqui]"
   ]
  },
  {
   "cell_type": "markdown",
   "metadata": {},
   "source": [
    "\n",
    "```OCaml\n",
    "(3) let division a b =\n",
    "      let rec division' q r =\n",
    "        if r < b then\n",
    "          (q, r)\n",
    "        else\n",
    "          division' (q + 1) (r - b) a b\n",
    "      in\n",
    "      division' 0 a \n",
    "```"
   ]
  },
  {
   "cell_type": "markdown",
   "metadata": {},
   "source": [
    "⚠️ **Resposta:** [complete aqui]"
   ]
  },
  {
   "cell_type": "markdown",
   "metadata": {},
   "source": [
    "---"
   ]
  },
  {
   "cell_type": "markdown",
   "metadata": {},
   "source": [
    "## Funções recursivas"
   ]
  },
  {
   "cell_type": "markdown",
   "metadata": {},
   "source": [
    "### 🔹 Exercício 5:\n",
    "\n",
    "Considere uma corredor com duas vias e comprimento total de $\\mathcal{N}$ unidades. Para simplificar a ilustração do problema, iremos então considerar a estrada como um rectângulo de dimensões $2\\times\\mathcal{N}$.\n",
    "\n",
    "A câmara municipal a que pertence essa estrada decidiu que pretende pavimentar a estrada com publicidade, evitando assim cobrar portagens aos utilizadores. Por razões de logística, os painéis publicitários deverão ter todos o mesmo tamanho e serão rectângulos de dimensões $2\\times 1$. Assim, é possível cobrir a estrada à largura com um só painel, ou ao comprimento sendo nesse caso necessário colocar dois paineis publicitários juntos.\n",
    "\n",
    "A imagem seguinte apresenta 4 das 13 formas distintias possíveis de pavimentar uma estrada com comprimento de 6 unidades:\n",
    "\n",
    "<img src=\"https://lap-2024.github.io/praticas/road.png\" />\n",
    "\n",
    "Quantas formas distintas existem de pavimentar uma estrada com comprimento $\\mathcal{N}$ unidades? Defina a seguinte função OCaml, cujo argumento é o comprimento da estrada e o resultado é o total de formas distintas de pavimentação:  \n",
    "\n",
    "```OCaml \n",
    "val road : int -> int\n",
    "```\n",
    "\n",
    "**Exemplo:** Para uma estrada de 42 unidades de comprimento, existem 433494437 distintas de a pavimentar."
   ]
  },
  {
   "cell_type": "code",
   "execution_count": null,
   "metadata": {
    "vscode": {
     "languageId": "ocaml"
    }
   },
   "outputs": [],
   "source": [
    "let road n = \n",
    "  (* Complete aqui: *)"
   ]
  },
  {
   "cell_type": "markdown",
   "metadata": {},
   "source": [
    "### 🔹 Exercício complementar:\n",
    "\n",
    "De forma a maximizar o número de paineis publicitários, a câmara municipal decidiu pavimentar a estrada apenas com paineis  verticais. Posto isto, altere a sua função de forma a que devolva todas as formas possíveis de colocar paineis publicitários verticalmente no pavimento. \n",
    "\n",
    "```OCaml\n",
    "let vert_road : int -> int\n",
    "```\n",
    "\n",
    "**Exemplo:** Para uma estrada com 10 unidades de comprimento, existem 3628800 formas distintas de a pavimentar com paineis publicitários verticais. "
   ]
  },
  {
   "cell_type": "code",
   "execution_count": null,
   "metadata": {
    "vscode": {
     "languageId": "ocaml"
    }
   },
   "outputs": [],
   "source": [
    "let vert_road n = \n",
    "  (* Complete aqui: *)"
   ]
  }
 ],
 "metadata": {
  "kernelspec": {
   "display_name": "OCaml lap2024-teacher",
   "language": "OCaml",
   "name": "ocaml-jupyter"
  },
  "language_info": {
   "codemirror_mode": "text/x-ocaml",
   "file_extension": ".ml",
   "mimetype": "text/x-ocaml",
   "name": "OCaml",
   "nbconverter_exporter": null,
   "pygments_lexer": "OCaml",
   "version": "4.14.0"
  }
 },
 "nbformat": 4,
 "nbformat_minor": 2
}
