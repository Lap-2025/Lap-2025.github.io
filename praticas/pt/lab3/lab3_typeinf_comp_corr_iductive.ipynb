{
 "cells": [
  {
   "cell_type": "markdown",
   "metadata": {},
   "source": [
    "# Exercícios em inferência de tipos, composição de funções, correcção de programas e pensamento indutivo"
   ]
  },
  {
   "cell_type": "markdown",
   "metadata": {},
   "source": [
    "## Inferência de tipos e composições de funções"
   ]
  },
  {
   "cell_type": "markdown",
   "metadata": {},
   "source": [
    "### 🔹 Exercício 1:\n",
    "Considere as seguintes definições de funções:\n",
    "\n",
    "\n",
    "```OCaml \n",
    "(1) let f = fun x -> x\n",
    "(2) let g = fun h -> fun x -> h x\n",
    "(3) let k u = u (g (fun x -> f x) 0)\n",
    "```\n"
   ]
  },
  {
   "cell_type": "markdown",
   "metadata": {},
   "source": [
    "Qual o tipo de cada uma destas funções?"
   ]
  },
  {
   "cell_type": "code",
   "execution_count": null,
   "metadata": {
    "vscode": {
     "languageId": "ocaml"
    }
   },
   "outputs": [],
   "source": [
    "(* Complete aqui: *)\n",
    "(1) \n",
    "(2) \n",
    "(3)"
   ]
  },
  {
   "cell_type": "markdown",
   "metadata": {},
   "source": [
    "### 🔹 Exercício 2:\n",
    "Utilizando as funções anteriormente definidas, construa uma expressão de tipo:\n",
    "\n",
    "```OCaml\n",
    "(1) `int`\n",
    "(2) `bool`\n",
    "(3) `int -> int`\n",
    "(4) `'a -> 'a`\n",
    "```\n"
   ]
  },
  {
   "cell_type": "code",
   "execution_count": null,
   "metadata": {
    "vscode": {
     "languageId": "ocaml"
    }
   },
   "outputs": [],
   "source": [
    "(* Complete aqui: *)\n",
    "(1) \n",
    "(2) \n",
    "(3)\n",
    "(4)"
   ]
  },
  {
   "cell_type": "markdown",
   "metadata": {},
   "source": [
    "---"
   ]
  },
  {
   "cell_type": "markdown",
   "metadata": {},
   "source": [
    "## Correcção de programas: Pré e Pós-condições"
   ]
  },
  {
   "cell_type": "markdown",
   "metadata": {},
   "source": [
    "### 🔹 Exercício 3:\n",
    "\n",
    "Dadas as seguintes definições de funções, indique as pré e pós-condições de cada uma:\n",
    "\n",
    "```OCaml\n",
    "(1) let rec fact x =\n",
    "    if x = 0 then\n",
    "      1\n",
    "    else \n",
    "      x * fact (x - 1)\n",
    "```\n"
   ]
  },
  {
   "cell_type": "markdown",
   "metadata": {},
   "source": [
    "⚠️ **Resposta:** [complete aqui]"
   ]
  },
  {
   "cell_type": "markdown",
   "metadata": {},
   "source": [
    "\n",
    "```OCaml\n",
    "(2) let rec gcd u v =\n",
    "    if v = 0 then\n",
    "      u\n",
    "    else \n",
    "      gcd v (u mod v)\n",
    "```"
   ]
  },
  {
   "cell_type": "markdown",
   "metadata": {},
   "source": [
    "⚠️ **Resposta:** [complete aqui]"
   ]
  },
  {
   "cell_type": "markdown",
   "metadata": {},
   "source": [
    "```OCaml\n",
    "(3) let division a b =\n",
    "      let rec division' q r =\n",
    "        if r < b then\n",
    "          (q, r)\n",
    "        else\n",
    "          division' (q + 1) (r - b)\n",
    "      in\n",
    "      division' 0 a \n",
    "```"
   ]
  },
  {
   "cell_type": "markdown",
   "metadata": {},
   "source": [
    "⚠️ **Resposta:** [complete aqui]"
   ]
  },
  {
   "cell_type": "markdown",
   "metadata": {},
   "source": [
    "---"
   ]
  },
  {
   "cell_type": "markdown",
   "metadata": {},
   "source": [
    "## Funções recursivas"
   ]
  },
  {
   "cell_type": "markdown",
   "metadata": {},
   "source": [
    "### 🔹 Exercício 4:\n",
    "Considere um corredor de comprimento $\\mathcal{N}$ unidades e com duas vias. Para simplificar a ilustração do problema, consideremos que este corredor é uma estrada rectângular de dimensões $2\\times\\mathcal{N}$.\n",
    "\n",
    "A câmara municipal a que pertence essa estrada decidiu que a pretende pavimentar com publicidade, evitando assim cobrar portagens aos utilizadores. Por razões de logística, os painéis publicitários deverão ter todos o mesmo tamanho e serão rectângulos de dimensões $2\\times 1$. Assim, é possível cobrir a largura da estrada com um só painel, ou o comprimento sendo, nesse caso, necessário colocar dois paineis publicitários juntos.\n",
    "\n",
    "A imagem seguinte apresenta 4 das possíveis 13 formas distintas de pavimentar uma estrada com comprimento 6 unidades:\n",
    "\n",
    "<img src=\"https://lap-2024.github.io/praticas/road.png\" />\n",
    "\n",
    "Quantas formas distintas existem de pavimentar uma estrada com comprimento $\\mathcal{N}$ unidades? Responda à questão definindo a seguinte função OCaml, cujo argumento é o comprimento da estrada e o resultado é o total de formas distintas de pavimentação:  \n",
    "\n",
    "```OCaml \n",
    "val road : int -> int\n",
    "```\n",
    "\n",
    "**Exemplo:** Para uma estrada de 42 unidades de comprimento, existem 433494437 formas distintas de a pavimentar."
   ]
  },
  {
   "cell_type": "code",
   "execution_count": null,
   "metadata": {
    "vscode": {
     "languageId": "ocaml"
    }
   },
   "outputs": [],
   "source": [
    "let road n = \n",
    "  (* Complete aqui: *)"
   ]
  }
 ],
 "metadata": {
  "kernelspec": {
   "display_name": "OCaml lap2024-teacher",
   "language": "OCaml",
   "name": "ocaml-jupyter"
  },
  "language_info": {
   "codemirror_mode": "text/x-ocaml",
   "file_extension": ".ml",
   "mimetype": "text/x-ocaml",
   "name": "OCaml",
   "nbconverter_exporter": null,
   "pygments_lexer": "OCaml",
   "version": "4.14.0"
  }
 },
 "nbformat": 4,
 "nbformat_minor": 2
}
