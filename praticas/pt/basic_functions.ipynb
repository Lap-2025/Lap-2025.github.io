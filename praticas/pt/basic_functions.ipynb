{
 "cells": [
  {
   "cell_type": "markdown",
   "metadata": {},
   "source": [
    "## Tipos\n"
   ]
  },
  {
   "cell_type": "markdown",
   "metadata": {},
   "source": [
    "### Exercício:\n",
    "\n",
    "Qual o tipo da variável `x` nas seguintes expressões:"
   ]
  },
  {
   "cell_type": "markdown",
   "metadata": {},
   "source": [
    "```OCaml\n",
    "(1) let f x = if x then x else x\n",
    "(2) let f x = if x > 0 then 73 else 42\n",
    "(3) let f x = if x > 0.0 then 73 else 42\n",
    "(4) let f x = if x <> x then 0 else -1\n",
    "(5) let f x = if x <> \"\" then 42 else 73\n",
    "```"
   ]
  },
  {
   "cell_type": "markdown",
   "metadata": {},
   "source": [
    "Resposta: **Complete aqui**"
   ]
  },
  {
   "cell_type": "code",
   "execution_count": null,
   "metadata": {
    "vscode": {
     "languageId": "ocaml"
    }
   },
   "outputs": [],
   "source": [
    "(* Complete aqui com anotações de tipo. \n",
    "E.g., para declarar um parâmetro x inteiro:  let f (x: int) = ... *)"
   ]
  },
  {
   "cell_type": "markdown",
   "metadata": {},
   "source": [
    "### Exemplo ?\n",
    "\n",
    "```OCaml\n",
    "let f x = (x + 1) * (x - 1);;\n",
    "```\n",
    "<div class=\"quiz-container\" style=\"border: 1px solid #ccc; padding: 15px; border-radius: 5px; background-color: #f9f9f9; margin: 10px 0;\">\n",
    "  <div class=\"radio-options\">\n",
    "    <label>\n",
    "      <input type=\"radio\" name=\"type-check\" value=\"well-typed\" id=\"well-typed-radio\"> Bem tipificada\n",
    "    </label>\n",
    "    <br>\n",
    "    <label>\n",
    "      <input type=\"radio\" name=\"type-check\" value=\"ill-typed\" id=\"ill-typed-radio\"> Mal tipificada\n",
    "    </label>\n",
    "  </div>\n",
    "</div>\n",
    "\n",
    "```OCaml\n",
    "let u = f (f 2);;\n",
    "```\n",
    "<div class=\"quiz-container\" style=\"border: 1px solid #ccc; padding: 15px; border-radius: 5px; background-color: #f9f9f9; margin: 10px 0;\">\n",
    "  <div class=\"radio-options\">\n",
    "    <label>\n",
    "      <input type=\"radio\" name=\"type-check1\" value=\"well-typed\" id=\"well-typed-radio\"> Bem tipificada\n",
    "    </label>\n",
    "    <br>\n",
    "    <label>\n",
    "      <input type=\"radio\" name=\"type-check1\" value=\"ill-typed\" id=\"ill-typed-radio\"> Mal tipificada\n",
    "    </label>\n",
    "  </div>\n",
    "</div>\n"
   ]
  },
  {
   "cell_type": "markdown",
   "metadata": {},
   "source": [
    "### Exemplo ?\n",
    "\n",
    "```OCaml\n",
    "let f x = x / 17;;\n",
    "```\n",
    "<div class=\"quiz-container\" style=\"border: 1px solid #ccc; padding: 15px; border-radius: 5px; background-color: #f9f9f9; margin: 10px 0;\">\n",
    "  <div class=\"radio-options\">\n",
    "    <label>\n",
    "      <input type=\"radio\" name=\"type-check\" value=\"well-typed\" id=\"well-typed-radio\"> Bem tipificada\n",
    "    </label>\n",
    "    <br>\n",
    "    <label>\n",
    "      <input type=\"radio\" name=\"type-check\" value=\"ill-typed\" id=\"ill-typed-radio\"> Mal tipificada\n",
    "    </label>\n",
    "  </div>\n",
    "</div>\n",
    "\n",
    "```OCaml\n",
    "let g x = \n",
    "  if x mod 2 = 0 then\n",
    "    \"even\"\n",
    "  else\n",
    "    false;;\n",
    "```\n",
    "<div class=\"quiz-container\" style=\"border: 1px solid #ccc; padding: 15px; border-radius: 5px; background-color: #f9f9f9; margin: 10px 0;\">\n",
    "  <div class=\"radio-options\">\n",
    "    <label>\n",
    "      <input type=\"radio\" name=\"type-check1\" value=\"well-typed\" id=\"well-typed-radio\"> Bem tipificada\n",
    "    </label>\n",
    "    <br>\n",
    "    <label>\n",
    "      <input type=\"radio\" name=\"type-check1\" value=\"ill-typed\" id=\"ill-typed-radio\"> Mal tipificada\n",
    "    </label>\n",
    "  </div>\n",
    "</div>\n",
    "\n",
    "```OCaml\n",
    "let u = f 42;;\n",
    "```\n",
    "<div class=\"quiz-container\" style=\"border: 1px solid #ccc; padding: 15px; border-radius: 5px; background-color: #f9f9f9; margin: 10px 0;\">\n",
    "  <div class=\"radio-options\">\n",
    "    <label>\n",
    "      <input type=\"radio\" name=\"type-check2\" value=\"well-typed\" id=\"well-typed-radio\"> Bem tipificada\n",
    "    </label>\n",
    "    <br>\n",
    "    <label>\n",
    "      <input type=\"radio\" name=\"type-check2\" value=\"ill-typed\" id=\"ill-typed-radio\"> Mal tipificada\n",
    "    </label>\n",
    "  </div>\n",
    "</div>\n"
   ]
  },
  {
   "cell_type": "markdown",
   "metadata": {},
   "source": [
    "Resposta: **Complete aqui**"
   ]
  },
  {
   "cell_type": "markdown",
   "metadata": {},
   "source": [
    "### Exercício:\n",
    "\n",
    "Defina uma função `sign` que devolve o sinal de `v`, um valor inteiro passado como argumento. A sua função `sign` deverá obedecer à seguinte definição matemática:\n",
    "\n",
    "$$\n",
    "\\mathcal{S}(v)=\\left\\{\n",
    "    \\begin{array}{lc}\n",
    "    1 & \\text{se}~v > 0 \\\\[1em]\n",
    "    0 & \\text{se}~v = 0 \\\\[1em]\n",
    "    -1 & \\text{se}~v < 0\n",
    "    \\end{array}\\right.\n",
    "$$\n",
    "\n",
    "Utilize uma expressão `if..then..else` aninhada. Utilize o `utop` para testar a sua função, aplicando-a a alguns valores concretos."
   ]
  },
  {
   "cell_type": "code",
   "execution_count": null,
   "metadata": {
    "vscode": {
     "languageId": "ocaml"
    }
   },
   "outputs": [
    {
     "ename": "error",
     "evalue": "compile_error",
     "output_type": "error",
     "traceback": [
      "File \"[2]\", line 3, characters 0-0:\n",
      "Error: Syntax error\n"
     ]
    }
   ],
   "source": [
    "let sign v =\n",
    "  (* Complete aqui *)"
   ]
  },
  {
   "cell_type": "markdown",
   "metadata": {},
   "source": [
    "## Expresssões: conversão entre tipos"
   ]
  },
  {
   "cell_type": "markdown",
   "metadata": {},
   "source": [
    "### Exercício:\n",
    "\n",
    "Qual o tipo de retorno das seguintes funções?"
   ]
  },
  {
   "cell_type": "markdown",
   "metadata": {},
   "source": [
    "```OCaml\n",
    "(1) let f x = int_of_string x;;\n",
    "(2) let f x = string_of_int x;;\n",
    "(3) let f (x: int) = x;;\n",
    "(4) let f x = float_of_int x;;\n",
    "(5) let f x = int_of_float x;;\n",
    "(6) let f x = int_of_char x;;\n",
    "(7) let f x = bool_of_string x;;\n",
    "```"
   ]
  },
  {
   "cell_type": "code",
   "execution_count": null,
   "metadata": {
    "vscode": {
     "languageId": "ocaml"
    }
   },
   "outputs": [],
   "source": [
    "(* Complete aqui,... *)"
   ]
  },
  {
   "cell_type": "markdown",
   "metadata": {},
   "source": [
    "## 💡 Expressões: pontos inacessíveis no código\n",
    "\n",
    "É comum na definição de uma função existirem pontos ou caminhos que sabemos serem inacessíveis. Por exemplo, uma função `div` que divide `x` por `y`, dois valores inteiros, não poderá produzir um resultado significativo se `y = 0`. Muito provavelmente, espera-se que um cliente de `div` verifique dinamicamente que o valor de `y` é diferente de `0` antes de aplicar a função. Nesse caso, consideramos `y <> 0` como uma pré-condição à execução de `div` e temos um interesse em assinalar esse facto explicitamente no código."
   ]
  },
  {
   "cell_type": "markdown",
   "metadata": {},
   "source": [
    "### Exercício:\n",
    "\n",
    "Num cenário em que um cliente poderá não respeitar a pré-condição de uma chamada a uma função, será sempre responsabilidade dessa mesma função adoptar um estilo de *programação defensiva*. Em particular, explicitar os casos em que a execução da função simplesmente deve abortar.\n",
    "\n",
    "Uma abordagem possível será simplesmente marcar um ponto inacessível no código com a expressão `assert false`. Esta expressão aborta imediatamente a execução, já que é impossível respeitar a expressão Booleana `false`.\n",
    "\n",
    "Altere a definição da função `div_42` por forma a que, no caso em que `y = 0`, em vez da função devolver `0` deverá abortar com a expressão `assert false`."
   ]
  },
  {
   "cell_type": "code",
   "execution_count": null,
   "metadata": {
    "vscode": {
     "languageId": "ocaml"
    }
   },
   "outputs": [],
   "source": [
    "let div_42 y =\n",
    "  if y = 0 then\n",
    "    0 (* Alterar aqui. *)\n",
    "  else\n",
    "    42 / y"
   ]
  },
  {
   "cell_type": "markdown",
   "metadata": {},
   "source": [
    "### Exercício:\n",
    "\n",
    "Uma outra abordagem será utilizar a expressão `failwith \"XXXXXX\"` que aborta imediatamente a execução de um programa com a mensagem `XXXXXX`.\n",
    "\n",
    "Altere a definição da função `div_42` por forma a que, no caso em que `y = 0`, em vez da função devolver `0` deverá abortar com a expressão `failwith`. Escolha uma mensagem de erro significativa."
   ]
  },
  {
   "cell_type": "code",
   "execution_count": null,
   "metadata": {
    "vscode": {
     "languageId": "ocaml"
    }
   },
   "outputs": [],
   "source": [
    "let div_42 y =\n",
    "  if y = 0 then\n",
    "    0 (* Alterar aqui. *)\n",
    "  else\n",
    "    42 / y"
   ]
  },
  {
   "cell_type": "markdown",
   "metadata": {},
   "source": [
    "## Expressões: cálculo\n",
    "\n",
    "### Enunciado do problema:\n",
    "Complete a definição da função `circle_area` que calcula a área de um círculo. Esta função recebe como argumento um valor flutuante `r`, o raio do círculo, e devolve um valor flutuante com a área calculada."
   ]
  },
  {
   "cell_type": "code",
   "execution_count": null,
   "metadata": {
    "vscode": {
     "languageId": "ocaml"
    }
   },
   "outputs": [],
   "source": [
    "let circle_area (r: float) : float =\n",
    "  0.0 (* Completar aqui. *)"
   ]
  },
  {
   "cell_type": "markdown",
   "metadata": {},
   "source": [
    "\n",
    "Recorde a fórmula do cálculo da área de círculo, dado o valor do raio $r$:\n",
    "$$\n",
    "A = \\pi r^2\n",
    "$$"
   ]
  },
  {
   "cell_type": "markdown",
   "metadata": {},
   "source": [
    "Na definição da função `circle_area` deve utilizar $3.1416$ como valor de $\\pi$."
   ]
  },
  {
   "cell_type": "markdown",
   "metadata": {},
   "source": [
    "Pode confirmar a correcção da sua definição executando as seguintes expressões: "
   ]
  },
  {
   "cell_type": "code",
   "execution_count": null,
   "metadata": {
    "vscode": {
     "languageId": "ocaml"
    }
   },
   "outputs": [],
   "source": [
    "let epsilon = 0.00000001;;\n",
    "assert (circle_area 10.0 >= 314.16 -. epsilon);;\n",
    "assert (circle_area 10.0 <= 314.16 +. epsilon);;\n",
    "assert (circle_area 5.0 >= 78.54 -. epsilon);;\n",
    "assert (circle_area 5.0 <= 78.54 +. epsilon);;\n",
    "assert (circle_area 1.0 >= 3.1416 -. epsilon);;\n",
    "assert (circle_area 1.0 <= 3.1416 +. epsilon);;"
   ]
  },
  {
   "cell_type": "markdown",
   "metadata": {},
   "source": [
    "### Uma nota de programação\n",
    "Devido a erros de arredondamento, a maioria dos números em ponto flutuante tornam-se ligeiramente imprecisos. Enquanto essa imprecisão ($\\epsilon$) for pequena, geralmente pode ser ignorada. No entanto, isso significa que números que deveriam ser iguais podem não ser exatamente iguais e um teste simples de igualdade falha.\n",
    "\n",
    "Fonte e leitura recomendada: https://floating-point-gui.de/errors/comparison/"
   ]
  },
  {
   "cell_type": "markdown",
   "metadata": {},
   "source": [
    "### Sobre asserções:\n",
    "\n",
    "O conjunto de expressões `assert` apresentadas actua como um conjunto de testes unitários para a função `circle_area`. Se todas as expressões anteriores executaram correctamente, pode considerar a sua função \"correcta\". Se pelo menos uma das expressões `assert` abortou a sua execução com o erro `Assertion Failure`, deve corrigir a sua implementação da função `circle_area`. *Nota:* se uma expressão `assert` abortar a execução, então todas as expressões que lhe seguiam no bloco de código não serão executadas (na prática, há uma excepção de *runtime* que se propaga até ao top-level). Quer isto dizer que várias destas expressões `assert` poderão não executar corretamente, não é garantido que se corrigir o problema de uma delas as restantes passarão a executar sem problemas."
   ]
  },
  {
   "cell_type": "markdown",
   "metadata": {},
   "source": [
    "### Exercício:\n",
    "\n",
    "Crie o seu próprio conjunto de testes unitários para testar a função `sign`, utilizando expressões `assert`."
   ]
  },
  {
   "cell_type": "markdown",
   "metadata": {},
   "source": [
    "### Errata:\n",
    "\n",
    "Provavelmente, na definição da função `circle_area` não teve em conta o caso em que o raio é um valor não positivo. Defina uma nova versão da função `circle_area` por casos:\n",
    "\n",
    "* se o valor de `r` é negativo ou zero, então utilize a expressão `assert false` para assinalar um ponto inacessível no código.    \n",
    "* caso contrário, devolve o valor da área calculada."
   ]
  },
  {
   "cell_type": "code",
   "execution_count": null,
   "metadata": {
    "vscode": {
     "languageId": "ocaml"
    }
   },
   "outputs": [],
   "source": [
    "let circle_area (r: float) : float =\n",
    "  0.0 (* Completar aqui. *)"
   ]
  },
  {
   "cell_type": "markdown",
   "metadata": {},
   "source": [
    "Pode confirmar a correcção da sua definição executando as seguintes expressões: "
   ]
  },
  {
   "cell_type": "code",
   "execution_count": null,
   "metadata": {
    "vscode": {
     "languageId": "ocaml"
    }
   },
   "outputs": [],
   "source": [
    "let epsilon = 0.00000001;;\n",
    "assert (circle_area 10.0 >= 314.16 -. epsilon);;\n",
    "assert (circle_area 10.0 <= 314.16 +. epsilon);;\n",
    "assert (circle_area 5.0 >= 78.54 -. epsilon);;\n",
    "assert (circle_area 5.0 <= 78.54 +. epsilon);;\n",
    "assert (circle_area 1.0 >= 3.1416 -. epsilon);;\n",
    "assert (circle_area 1.0 <= 3.1416 +. epsilon);;\n",
    "assert (circle_area 0.0 = 42.0);;"
   ]
  },
  {
   "cell_type": "markdown",
   "metadata": {},
   "source": [
    "Neste caso, se tudo correu como previsto, a última expressão `assert` deverá abortar a execução."
   ]
  },
  {
   "cell_type": "code",
   "execution_count": null,
   "metadata": {
    "vscode": {
     "languageId": "ocaml"
    }
   },
   "outputs": [],
   "source": [
    "(* Complete aqui, etc ... *)"
   ]
  }
 ],
 "metadata": {
  "language_info": {
   "name": "python"
  }
 },
 "nbformat": 4,
 "nbformat_minor": 2
}
