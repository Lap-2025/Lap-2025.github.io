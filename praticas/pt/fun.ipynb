{
 "cells": [
  {
   "cell_type": "markdown",
   "metadata": {},
   "source": [
    "# Exercícios em Input/Output, Testes Unitários e Definição de Funções Recursivas na Linguagem OCaml"
   ]
  },
  {
   "cell_type": "markdown",
   "metadata": {},
   "source": [
    "## Input/Output"
   ]
  },
  {
   "cell_type": "markdown",
   "metadata": {},
   "source": [
    "### Exercício:\n",
    "\n",
    "Escrevas as seguintes expressões no `utop`:"
   ]
  },
  {
   "cell_type": "code",
   "execution_count": null,
   "metadata": {
    "vscode": {
     "languageId": "ocaml"
    }
   },
   "outputs": [],
   "source": [
    "print_endline \"Hello world!\";;\n",
    "print_string \"Hello world!\";;"
   ]
  },
  {
   "cell_type": "markdown",
   "metadata": {},
   "source": [
    "Consegue perceber a diferença no output produzido?"
   ]
  },
  {
   "cell_type": "markdown",
   "metadata": {},
   "source": [
    "### Exercício:\n",
    "\n",
    "Utilize a expressão `read_line ()` para ler um número inteiro a partir do *Standard Input* e atribua o valor lido à variável `x`. Imprima-o de seguida, utilizando a expressão `print_endline x`."
   ]
  },
  {
   "cell_type": "markdown",
   "metadata": {},
   "source": [
    "### Exercício:\n",
    "\n",
    "Utilize a expressão `read_int ()` para ler um número inteiro a partir do *Standard Input* e atribua o valor lido à variável `x`. Imprima-o de seguida, utilizando a expressão `print_int x`."
   ]
  },
  {
   "cell_type": "markdown",
   "metadata": {},
   "source": [
    "### Exercício:\n",
    "\n",
    "Utilize a expressão `read_int ()` para ler um número inteiro a partir do *Standard Input* e atribua o valor lido à variável `x`. Imprima depois a seguinte mensagem `O valor lido é: XXXXX`, onde `XXXXX` corresponde ao valor de `x`.\n",
    "\n",
    "*Dica:* para poder imprimir o valor de `x` como parte de uma mensagem mais complexa, deverá primeiro convertê-lo para uma string. Consulte a secção de exercícios *Expressões: conversão entre tipos* do Notebook da semana 2, para inspiração."
   ]
  },
  {
   "cell_type": "markdown",
   "metadata": {},
   "source": [
    "### Exercício:\n",
    "\n",
    "Relembre a definição matemática da função `sign`, como apresentada no Notebook da semana 2:\n",
    "\n",
    "$$\n",
    "\\mathcal{S}(v)=\\left\\{\n",
    "    \\begin{array}{lc}\n",
    "    1 & \\text{se}~v > 0 \\\\[1em]\n",
    "    0 & \\text{se}~v = 0 \\\\[1em]\n",
    "    -1 & \\text{se}~v < 0\n",
    "    \\end{array}\\right.\n",
    "$$\n",
    "\n",
    "Defina uma versão da função `sign` que em vez de devolver um inteiro devolve a string `positivo` (caso o argumento seja maior que `0`), a string `zero` (caso o argumento seja igual a `0`), ou a string `negativo` (caso o número seja menor que `0`).\n",
    "\n",
    "Deverá agora utilizar esta definição da função `sign` para construir no `utop` um pequeno programa que faz o seguinte:\n",
    "\n",
    "1. lê um inteiro do *Standard Input*;\n",
    "\n",
    "2. aplica a função `sign` ao inteiro lido;\n",
    "\n",
    "3. utilizando o valor devolvido pela aplicação da função `sign`, imprime a seguinte mensagem para o *Standard Output*: `O valor introduzido é: XXXXX`, onde `XXXXX` corresponde à string `positivo`, `zero`, ou `negativo`."
   ]
  },
  {
   "cell_type": "markdown",
   "metadata": {},
   "source": [
    "### Exercício:\n",
    "\n",
    "Utilizando a definição original da função `sign` (*i.e.*, a definição que devolve um valor inteiro), construa no `utop` um programa que executa exatamente os mesmos três passos que no exercício anterior."
   ]
  },
  {
   "cell_type": "markdown",
   "metadata": {},
   "source": [
    "## Aplicação Parcial de Funções"
   ]
  },
  {
   "cell_type": "markdown",
   "metadata": {},
   "source": [
    "### Exercício:\n",
    "\n",
    "Considere a seguinte definição da função `add`:"
   ]
  },
  {
   "cell_type": "code",
   "execution_count": null,
   "metadata": {
    "vscode": {
     "languageId": "ocaml"
    }
   },
   "outputs": [],
   "source": [
    "let add x y = x + y"
   ]
  },
  {
   "cell_type": "markdown",
   "metadata": {},
   "source": [
    "Qual das seguintes chamadas avalia para um valor inteiro, para uma função ou produz um erro?"
   ]
  },
  {
   "cell_type": "code",
   "execution_count": null,
   "metadata": {
    "vscode": {
     "languageId": "ocaml"
    }
   },
   "outputs": [],
   "source": [
    "add 5 1;;\n",
    "add 5;;\n",
    "(add 5) 1;;\n",
    "add (5 1);;"
   ]
  },
  {
   "cell_type": "markdown",
   "metadata": {},
   "source": [
    "### Exercício:\n",
    "\n",
    "Qual o valor da variável `w` depois de completamente avaliado o seguinte programa:"
   ]
  },
  {
   "cell_type": "code",
   "execution_count": null,
   "metadata": {
    "vscode": {
     "languageId": "ocaml"
    }
   },
   "outputs": [],
   "source": [
    "let x = 10;;\n",
    "let x = \n",
    "  let y = fun a -> a + x in\n",
    "  let y =\n",
    "    let x = y x in \n",
    "    let y = fun a -> a * x in\n",
    "    y x in\n",
    "  x * y;;\n",
    "let w = x + 100;;"
   ]
  },
  {
   "cell_type": "markdown",
   "metadata": {},
   "source": [
    "### Exercício:\n",
    "\n",
    "Indique se os seguintes programas são bem tipificados ou mal tipificados. No caso positivo, indique o tipo de todas as variáveis e funções globais. No caso negativo, indique a natureza do erro e proponha uma alteração ao programa que o torne bem tipificado."
   ]
  },
  {
   "cell_type": "code",
   "execution_count": null,
   "metadata": {
    "vscode": {
     "languageId": "ocaml"
    }
   },
   "outputs": [],
   "source": [
    "let x = 10;;\n",
    "let x = \n",
    "  let y = fun a -> a + x in\n",
    "  let y =\n",
    "    let x = y x in \n",
    "    let y = fun a -> a * x in\n",
    "    y x in\n",
    "  fun x -> x * y;;\n",
    "let w = x + 100;;"
   ]
  },
  {
   "cell_type": "code",
   "execution_count": null,
   "metadata": {
    "vscode": {
     "languageId": "ocaml"
    }
   },
   "outputs": [],
   "source": [
    "let x = 10;;\n",
    "let x = \n",
    "  let y = fun a -> a + x in\n",
    "  let y =\n",
    "    let x = y x in \n",
    "    let y = fun a -> a * x in\n",
    "    fun w -> y x + w in\n",
    "  fun w -> y w;;\n",
    "let w = x 100;;"
   ]
  },
  {
   "cell_type": "code",
   "execution_count": null,
   "metadata": {
    "vscode": {
     "languageId": "ocaml"
    }
   },
   "outputs": [],
   "source": [
    "let x = 10;;\n",
    "let x = \n",
    "  let y = fun a -> a + x in\n",
    "  let y =\n",
    "    let x = y x in \n",
    "    let y = fun a -> a * y x in\n",
    "    y x in\n",
    "  fun w -> x + y w;;\n",
    "let w = x + 100;;"
   ]
  },
  {
   "cell_type": "markdown",
   "metadata": {},
   "source": [
    "## Funções Recursivas"
   ]
  },
  {
   "cell_type": "markdown",
   "metadata": {},
   "source": [
    "### Exercício:\n",
    "\n",
    "Defina uma função `fib` que calcula o `i`-ésimo número da sequência de Fibonnaci. O argumento `i` é um valor inteiro. Recorde a definição recursiva da sequência de Fibonnaci:\n",
    "\n",
    "$$\n",
    "\\mathcal{F}(i)=\\left\\{\n",
    "    \\begin{array}{lc}\n",
    "    1 & \\text{se}~i = 1 \\\\[1em]\n",
    "    1 & \\text{se}~i = 2 \\\\[1em]\n",
    "    \\mathcal{F}(i-1) + \\mathcal{F}(i-2) & \\text{se}~i > 2\n",
    "    \\end{array}\\right.\n",
    "$$\n",
    "\n",
    "Crie o seu próprio conjunto de testes unitários para testar a função `fib`, utilizando expressões `assert`."
   ]
  },
  {
   "cell_type": "markdown",
   "metadata": {},
   "source": [
    "### Exercício:\n",
    "\n",
    "* O que acontece quando aplica a função `fib` a um número menor que `1`? Que tipo de problema de execução é este?\n",
    "* Proponha novas definições da função `fib` em que os pontos inacessíveis do código estão explicitamente indicados. Poderá utilizar as expressões `assert false` ou `failwith`, ou simplesmente devolver um valor por omissão nos casos em que a função não tem imagem."
   ]
  },
  {
   "cell_type": "markdown",
   "metadata": {},
   "source": [
    "### Exercício:\n",
    "\n",
    "Defina em OCaml as funções `f` e `m`, mutuamente recursivas, que implementam a sequência *Hofstadter Feminino e Masculino*. Esta sequência é definida pelo seguinte conjunto de equações:"
   ]
  },
  {
   "cell_type": "markdown",
   "metadata": {},
   "source": [
    "$$\n",
    "\\begin{array}{ccl}\n",
    "\\mathcal{F}(0) & = & 1 \\\\[1em]\n",
    "\\mathcal{M}(0) & = & 0 \\\\[1em]\n",
    "\\mathcal{F}(n) & = & n - \\mathcal{M}(\\mathcal{F}(n - 1))\\\\[1em]\n",
    "\\mathcal{M}(n) & = & n - \\mathcal{F}(\\mathcal{M}(n - 1))\n",
    "\\end{array}\n",
    "$$"
   ]
  },
  {
   "cell_type": "markdown",
   "metadata": {},
   "source": [
    "### Exercício:\n",
    "\n",
    "Considere a seguinte função auxiliar `f`:"
   ]
  },
  {
   "cell_type": "markdown",
   "metadata": {},
   "source": [
    "$$\n",
    "f(n) = \\left\\{\n",
    "\\begin{array}{ll}\n",
    "  n / 2 & \\text{se}~n~\\text{é par}\\\\[1em]\n",
    "  3n + 1 & \\text{se}~n~\\text{é ímpar}& \n",
    "\\end{array}\\right.\n",
    "$$"
   ]
  },
  {
   "cell_type": "markdown",
   "metadata": {},
   "source": [
    "Para um dado inteiro positivo `n`, a sequência de Collatz é definida da seguinte forma:\n",
    "\n",
    "1. Se `n = 1`, então termina e devolve `1`\n",
    "2. Se `n > 1`, então continua o cálculo da sequência para o resultado do `f n`. "
   ]
  },
  {
   "cell_type": "markdown",
   "metadata": {},
   "source": [
    "Defina em OCaml a função `collatz` que calcula o resultado da sequência de Collatz para `n`, um inteiro positivo passado como argumento."
   ]
  },
  {
   "cell_type": "markdown",
   "metadata": {},
   "source": [
    "Utilize o `utop` para testar a sua implementação de `collatz` com diferentes inputs. O que observa?"
   ]
  },
  {
   "cell_type": "markdown",
   "metadata": {},
   "source": [
    "### Exercício:\n",
    "\n",
    "Instrumente a sua implementação de `collatz` de forma a imprimir no *standard output* os valores intermédios que a sequência vai calculando."
   ]
  },
  {
   "cell_type": "markdown",
   "metadata": {},
   "source": [
    "### Exercício:\n",
    "\n",
    "Considere a seguinte definição matemática da função de *Ackermann*:"
   ]
  },
  {
   "cell_type": "markdown",
   "metadata": {},
   "source": [
    "$$\n",
    "\\mathcal{A}(m, n) = \\left\\{\n",
    "    \\begin{array}{ll}\n",
    "        n + 1 & \\text{se}~m = 0\\\\[1em]\n",
    "        \\mathcal{A}(m - 1, 1) & \\text{se}~n = 0\\\\[1em]\n",
    "        \\mathcal{A}(m - 1, \\mathcal{A}(m, n - 1)) & \n",
    "            \\text{se}~m > 0 \\wedge n > 0\n",
    "    \\end{array}\n",
    "\\right.\n",
    "$$"
   ]
  },
  {
   "cell_type": "markdown",
   "metadata": {},
   "source": [
    "Defina em OCaml a função `ackermann` que implementa a anterior definição matemática. A sua função deverá receber dois argumentos, `m` e `n`, ambos valores inteiros positivos."
   ]
  },
  {
   "cell_type": "markdown",
   "metadata": {},
   "source": [
    "Utilize o `utop` para testar a sua implementação de `ackermann` com diferentes inputs. O que observa?"
   ]
  }
 ],
 "metadata": {
  "kernelspec": {
   "display_name": "OCaml lap2024",
   "language": "OCaml",
   "name": "ocaml-jupyter"
  },
  "language_info": {
   "codemirror_mode": "text/x-ocaml",
   "file_extension": ".ml",
   "mimetype": "text/x-ocaml",
   "name": "OCaml",
   "nbconverter_exporter": null,
   "pygments_lexer": "OCaml",
   "version": "4.14.0"
  }
 },
 "nbformat": 4,
 "nbformat_minor": 2
}
