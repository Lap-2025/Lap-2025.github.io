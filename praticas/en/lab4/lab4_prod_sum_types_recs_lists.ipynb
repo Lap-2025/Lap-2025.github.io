{
 "cells": [
  {
   "cell_type": "markdown",
   "metadata": {},
   "source": [
    "# Exercises on product types, sum types, records and lists"
   ]
  },
  {
   "cell_type": "markdown",
   "metadata": {},
   "source": [
    "## Product types: pairs and tuples"
   ]
  },
  {
   "cell_type": "markdown",
   "metadata": {},
   "source": [
    "### 🔹 Exercise 1 ⭐️\n",
    "Complete the definition of type `point`, that represents the cartesian coordinates of a point in a plane. Both axis must be represented as values of type `float`."
   ]
  },
  {
   "cell_type": "code",
   "execution_count": null,
   "metadata": {
    "vscode": {
     "languageId": "ocaml"
    }
   },
   "outputs": [],
   "source": [
    "type point"
   ]
  },
  {
   "cell_type": "markdown",
   "metadata": {},
   "source": [
    "### 🔹 Exercise 2 ⭐️\n",
    "Using the definition of `point` from the previous exercise, complete the definition of the function `dist` that computes the Euclidean distance between two points:"
   ]
  },
  {
   "cell_type": "code",
   "execution_count": null,
   "metadata": {
    "vscode": {
     "languageId": "ocaml"
    }
   },
   "outputs": [],
   "source": [
    "let dist p1 p2 =\n",
    "  assert false (* Complete here *)"
   ]
  },
  {
   "cell_type": "markdown",
   "metadata": {},
   "source": [
    "### 🔹 Exercise 3 ⭐️\n",
    "Complete the definition of the type `line` that represents a line in a plane."
   ]
  },
  {
   "cell_type": "code",
   "execution_count": null,
   "metadata": {
    "vscode": {
     "languageId": "ocaml"
    }
   },
   "outputs": [],
   "source": [
    "type line"
   ]
  },
  {
   "cell_type": "markdown",
   "metadata": {},
   "source": [
    "### 🔹 Exercise 4 ⭐️\n",
    "Using types `point` and `line`, complete the definition of the function `point_in_line` that checks if a given point belongs to a given line:"
   ]
  },
  {
   "cell_type": "code",
   "execution_count": null,
   "metadata": {
    "vscode": {
     "languageId": "ocaml"
    }
   },
   "outputs": [],
   "source": [
    "let point_in_line p r =\n",
    "  assert false (* Complete here *)"
   ]
  },
  {
   "cell_type": "markdown",
   "metadata": {},
   "source": [
    "---"
   ]
  },
  {
   "cell_type": "markdown",
   "metadata": {},
   "source": [
    "## Records"
   ]
  },
  {
   "cell_type": "markdown",
   "metadata": {},
   "source": [
    "### 🔹 Exercise 5 ⭐️\n",
    "\n",
    "Complete the definition of the type `frac`, that represents a fraction of two integer values, the `numerator` and `denominator`. The type `frac` should be defined as a record with two fiels, `num` and `denom`."
   ]
  },
  {
   "cell_type": "code",
   "execution_count": null,
   "metadata": {
    "vscode": {
     "languageId": "ocaml"
    }
   },
   "outputs": [],
   "source": [
    "type frac"
   ]
  },
  {
   "cell_type": "markdown",
   "metadata": {},
   "source": [
    "⚠️ **Note:** You should make sure that the denominator is always positive. This way, the sign of a fraction is always given by the sign of the numerator. "
   ]
  },
  {
   "cell_type": "markdown",
   "metadata": {},
   "source": [
    "### 🔹 Exercise 6 ⭐️⭐️\n",
    "\n",
    "Implement a function that returns the fraction given by two integers `a` and `b`."
   ]
  },
  {
   "cell_type": "code",
   "execution_count": null,
   "metadata": {
    "vscode": {
     "languageId": "ocaml"
    }
   },
   "outputs": [],
   "source": [
    "(* \n",
    "    [frac a b] returns the fraction given by [a] and [b]\n",
    "    requires: [b > 0] \n",
    "*)\n",
    "let frac a b = \n",
    "  assert false (* Complete here *)"
   ]
  },
  {
   "cell_type": "markdown",
   "metadata": {},
   "source": [
    "### 🔹 Exercise 7 ⭐️⭐️\n",
    "Recall the definition of Euclid's algorithm that computes the greatest common divisor between two integers:\n",
    "\n",
    "```OCaml\n",
    "(*\n",
    "  requires: [b > 0]\n",
    "  Seeing as the function is not defined for negative denominators\n",
    "*)\n",
    "let rec gcd a b =\n",
    "  if b = 0 then\n",
    "    a\n",
    "  else\n",
    "    gcd b (a mod b)\n",
    "```\n",
    "\n",
    "Complete the definition of the function `simp` that simplifies a given fraction and ensures that the denominator is positive.<br>\n",
    "A fraction is irreducible is the greatest common divisor between the numerator and denominator is 1. "
   ]
  },
  {
   "cell_type": "code",
   "execution_count": null,
   "metadata": {
    "vscode": {
     "languageId": "ocaml"
    }
   },
   "outputs": [],
   "source": [
    "(*\n",
    "  requires: [b > 0]\n",
    "  Seeing as the function is not defined for negative denominators\n",
    "*)\n",
    "let rec gcd a b =\n",
    "  if b = 0 then\n",
    "    a\n",
    "  else\n",
    "    gcd b (a mod b);; \n",
    "\n",
    "let simp f =\n",
    "  assert false (* Complete here *)"
   ]
  },
  {
   "cell_type": "markdown",
   "metadata": {},
   "source": [
    "### 🔹 Exercise 8 ⭐️⭐️\n",
    "Complete the definitions for the following functions:"
   ]
  },
  {
   "cell_type": "code",
   "execution_count": null,
   "metadata": {
    "vscode": {
     "languageId": "ocaml"
    }
   },
   "outputs": [],
   "source": [
    "(* \n",
    "    [add f1 f2] is the addition of the fractions [f1] and [f2]\n",
    "    requires: [f1.denom > 0 && f2.denom > 0] \n",
    "*)\n",
    "let add_frac f1 f2 =\n",
    "  assert false (* Complete here *)\n"
   ]
  },
  {
   "cell_type": "code",
   "execution_count": null,
   "metadata": {
    "vscode": {
     "languageId": "ocaml"
    }
   },
   "outputs": [],
   "source": [
    "(* \n",
    "    [neg_frac f] is the negation of the fraction [f]\n",
    "    requires: [f.denom > 0] \n",
    "*)\n",
    "let neg_frac f =\n",
    "  assert false (* Complete here *)\n"
   ]
  },
  {
   "cell_type": "code",
   "execution_count": null,
   "metadata": {
    "vscode": {
     "languageId": "ocaml"
    }
   },
   "outputs": [],
   "source": [
    "(*\n",
    "    [sub_frac f1 f2] is the difference between [f1] and [f2]\n",
    "    requires: [f1.denom > 0 && f2.denom > 0] \n",
    "*)\n",
    "let sub_frac f1 f2 =\n",
    "  assert false (* Complete here *)\n"
   ]
  },
  {
   "cell_type": "code",
   "execution_count": null,
   "metadata": {
    "vscode": {
     "languageId": "ocaml"
    }
   },
   "outputs": [],
   "source": [
    "(* \n",
    "    [mul_frac f1 f2] is the product of [f1] and [f2]\n",
    "    requires: [f1.denom > 0 && f2.denom > 0] \n",
    "*)\n",
    "let mul_frac f1 f2 =\n",
    "  assert false (* Complete here *)\n"
   ]
  },
  {
   "cell_type": "code",
   "execution_count": null,
   "metadata": {
    "vscode": {
     "languageId": "ocaml"
    }
   },
   "outputs": [],
   "source": [
    "(*\n",
    "    [inv_frac f] is the inverse of [f]\n",
    "    requires: [f.denom > 0 && f.num > 0]\n",
    "*)\n",
    "let inv_frac f =\n",
    "  assert false (* Complete here *)"
   ]
  },
  {
   "cell_type": "code",
   "execution_count": null,
   "metadata": {
    "vscode": {
     "languageId": "ocaml"
    }
   },
   "outputs": [],
   "source": [
    "(*\n",
    "    [div_frac f] is the division of [f1] and [f2]\n",
    "    requires: f.denom > 0 && f1.num <> 0 && f2.denom > 0 && f2.num <> 0 \n",
    "*)\n",
    "let div_frac f1 f2 =\n",
    "  assert false (* Complete here *)"
   ]
  },
  {
   "cell_type": "markdown",
   "metadata": {},
   "source": [
    "**⚠️ Remark:** the fractions should be their **simplified** form."
   ]
  },
  {
   "cell_type": "markdown",
   "metadata": {},
   "source": [
    "---"
   ]
  },
  {
   "cell_type": "markdown",
   "metadata": {},
   "source": [
    "## Sum types "
   ]
  },
  {
   "cell_type": "markdown",
   "metadata": {},
   "source": [
    "### 🔹 Exercise 9 ⭐️⭐️\n",
    "Consider the following type definition for `t`:\n",
    "\n",
    "```OCaml\n",
    "type t = A of t | B of int * t | C\n",
    "```\n",
    "\n",
    "Is the *pattern matching* found in the definition of `g` exhaustive? Explain why.<br>\n",
    "If you find that the *pattern matching* is not exhaustive, complete it with the cases that make it so.\n",
    "\n",
    "```OCaml\n",
    "let g v = \n",
    "  match v with\n",
    "  | A (C) -> 0\n",
    "  | A (B (x, C)) -> 2\n",
    "  | A (_) -> 1\n",
    "  | B (0, _) -> 3\n",
    "  | B (y, A (_)) -> 4\n",
    "  | C -> 5\n",
    "```\n"
   ]
  },
  {
   "cell_type": "markdown",
   "metadata": {},
   "source": [
    "**⚠️ Rationale:** answer here.\n",
    "\n"
   ]
  },
  {
   "cell_type": "code",
   "execution_count": null,
   "metadata": {
    "vscode": {
     "languageId": "ocaml"
    }
   },
   "outputs": [],
   "source": [
    "(* Complete here *)"
   ]
  },
  {
   "cell_type": "markdown",
   "metadata": {},
   "source": [
    "### 🔹 Exercise 10 ⭐️\n",
    "Complete the definition of the type `suit`, which represents the suit of a playing card. Recall that a normal deck of carts has the following suits:\n",
    "- Diamonds\n",
    "- Hearts\n",
    "- Clubs\n",
    "- Spades"
   ]
  },
  {
   "cell_type": "code",
   "execution_count": null,
   "metadata": {
    "vscode": {
     "languageId": "ocaml"
    }
   },
   "outputs": [],
   "source": [
    "type suit"
   ]
  },
  {
   "cell_type": "markdown",
   "metadata": {},
   "source": [
    "### 🔹 Exercise 11 ⭐️\n",
    "Complete the definition of the type `card_val`, which represents the face value of a playing card. The following possibilities are considered for card values:  \n",
    "- King  \n",
    "- Queen  \n",
    "- Jack  \n",
    "- Point, whose integer value ranges from 1 to 10  "
   ]
  },
  {
   "cell_type": "code",
   "execution_count": null,
   "metadata": {
    "vscode": {
     "languageId": "ocaml"
    }
   },
   "outputs": [],
   "source": [
    "type card_val"
   ]
  },
  {
   "cell_type": "markdown",
   "metadata": {},
   "source": [
    "### 🔹 Exercise 12 ⭐️"
   ]
  },
  {
   "cell_type": "markdown",
   "metadata": {},
   "source": [
    "Using the `suit` and `card_val` types from the previous exercises, complete the definition of the `card` type, which represents a playing card. You may choose between defining it as a pair or as a record type.  \n"
   ]
  },
  {
   "cell_type": "code",
   "execution_count": null,
   "metadata": {
    "vscode": {
     "languageId": "ocaml"
    }
   },
   "outputs": [],
   "source": [
    "type card"
   ]
  },
  {
   "cell_type": "markdown",
   "metadata": {},
   "source": [
    "---"
   ]
  },
  {
   "cell_type": "markdown",
   "metadata": {},
   "source": [
    "## Lists"
   ]
  },
  {
   "cell_type": "markdown",
   "metadata": {},
   "source": [
    "### 🔹 Exercise 13 ⭐️\n",
    "Complete the definition of `interval`, such that `interval i j` is a list of integers from `i`, including, and `j`, excluding."
   ]
  },
  {
   "cell_type": "code",
   "execution_count": null,
   "metadata": {
    "vscode": {
     "languageId": "ocaml"
    }
   },
   "outputs": [],
   "source": [
    "let interval i j =\n",
    "  assert false (* Complete here *)"
   ]
  },
  {
   "cell_type": "markdown",
   "metadata": {},
   "source": [
    "### 🔹 Exercise 14 ⭐️⭐️\n",
    "Now consider the following definition of the type `t`:\n",
    "\n",
    "```OCaml\n",
    "type t = \n",
    "    | B \n",
    "    | N \n",
    "    | R\n",
    "```\n",
    "\n",
    "Complete the definition of the function `permit`, such that `permut l` is a new list where the values `B` are replaced with `N`, values `N` by `R` and values `R` by `B`.\n"
   ]
  },
  {
   "cell_type": "code",
   "execution_count": null,
   "metadata": {
    "vscode": {
     "languageId": "ocaml"
    }
   },
   "outputs": [],
   "source": [
    "type t = \n",
    "  | B \n",
    "  | N \n",
    "  | R;;\n",
    "\n",
    "let permut l = \n",
    "  assert false (* Complete here *)"
   ]
  },
  {
   "cell_type": "markdown",
   "metadata": {},
   "source": [
    "### 🔹 Exercise 15 ⭐️⭐️\n",
    "In this exercise, you should use lists to represent sets of integer values. A set is an unordered list with no duplicate elements.  \n",
    "Complete the definition of the following functions:  "
   ]
  },
  {
   "cell_type": "code",
   "execution_count": null,
   "metadata": {
    "vscode": {
     "languageId": "ocaml"
    }
   },
   "outputs": [],
   "source": [
    "(*\n",
    "    [mem x s] checks if [x] belongs in the set [s] \n",
    "*)\n",
    "let mem x s =\n",
    "  assert false (* Complete here *)"
   ]
  },
  {
   "cell_type": "code",
   "execution_count": null,
   "metadata": {
    "vscode": {
     "languageId": "ocaml"
    }
   },
   "outputs": [],
   "source": [
    "(*\n",
    "    [add x s] inserts the element [x] in the set [s]. If [x]\n",
    "    already belongs in [s], then [add x s] behaves as the identity function\n",
    "*)\n",
    "let add x s =\n",
    "  assert false (* Complete here *)"
   ]
  },
  {
   "cell_type": "code",
   "execution_count": null,
   "metadata": {
    "vscode": {
     "languageId": "ocaml"
    }
   },
   "outputs": [],
   "source": [
    "(*\n",
    "    [union s1 s2] is the union of sets [s1] and [s2] \n",
    "*)\n",
    "let union s1 s2 =\n",
    "  assert false (* Complete here *)"
   ]
  },
  {
   "cell_type": "code",
   "execution_count": null,
   "metadata": {
    "vscode": {
     "languageId": "ocaml"
    }
   },
   "outputs": [],
   "source": [
    "(*\n",
    "    [inter s1 s2] is the intersection of sets [s1] and [s2] \n",
    "*)\n",
    "let inter s1 s2 =\n",
    "  assert false (* Complete here *)"
   ]
  },
  {
   "cell_type": "code",
   "execution_count": null,
   "metadata": {
    "vscode": {
     "languageId": "ocaml"
    }
   },
   "outputs": [],
   "source": [
    "(*  \n",
    "    [diff s1 s2] is the set difference between [s1] and [s2] \n",
    "*)\n",
    "let diff s1 s2 =\n",
    "  assert false (* Complete here *)"
   ]
  },
  {
   "cell_type": "markdown",
   "metadata": {},
   "source": [
    "### 🔹 Exercise 16 ⭐️⭐️⭐️\n",
    "Now consider that a set is defined as an ordered list. With this precondition in mind, redefine the defititions of the union and intersection of sets."
   ]
  },
  {
   "cell_type": "code",
   "execution_count": null,
   "metadata": {
    "vscode": {
     "languageId": "ocaml"
    }
   },
   "outputs": [],
   "source": [
    "let union l1 l2 =\n",
    "  assert false (* Complete here *)"
   ]
  },
  {
   "cell_type": "code",
   "execution_count": null,
   "metadata": {
    "vscode": {
     "languageId": "ocaml"
    }
   },
   "outputs": [],
   "source": [
    "let inter l1 l2 =\n",
    "  assert false (* Complete here *)"
   ]
  },
  {
   "cell_type": "markdown",
   "metadata": {},
   "source": [
    "### 🔹 Exercise 17 ⭐️⭐️\n",
    "Complete the definition of the function `insert`, such that `insert x l` inserts the value `x` in the ordered list `l`."
   ]
  },
  {
   "cell_type": "code",
   "execution_count": null,
   "metadata": {
    "vscode": {
     "languageId": "ocaml"
    }
   },
   "outputs": [],
   "source": [
    "let rec insert x l =\n",
    "  assert false (* Complete here *)"
   ]
  },
  {
   "cell_type": "markdown",
   "metadata": {},
   "source": [
    "### 🔹 Exercise 18 ⭐️⭐️⭐️\n",
    "Complete the defition of the function `insertion_sort` that implements the algorithm of Inserition in Ordered Lists. You should use the `insert` function defined in the previous exercise."
   ]
  },
  {
   "cell_type": "code",
   "execution_count": null,
   "metadata": {
    "vscode": {
     "languageId": "ocaml"
    }
   },
   "outputs": [],
   "source": [
    "let rec insertion_sort l =\n",
    "  assert false (* Complete here *)"
   ]
  }
 ],
 "metadata": {
  "kernelspec": {
   "display_name": "OCaml lap2025",
   "language": "OCaml",
   "name": "ocaml-jupyter"
  },
  "language_info": {
   "codemirror_mode": "text/x-ocaml",
   "file_extension": ".ml",
   "mimetype": "text/x-ocaml",
   "name": "OCaml",
   "nbconverter_exporter": null,
   "pygments_lexer": "OCaml",
   "version": "4.14.0"
  }
 },
 "nbformat": 4,
 "nbformat_minor": 2
}
