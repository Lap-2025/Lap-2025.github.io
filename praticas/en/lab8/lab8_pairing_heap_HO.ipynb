{
 "cells": [
  {
   "cell_type": "markdown",
   "metadata": {},
   "source": [
    "# Higher-Order Functions in Functional Data Structures - Pairing Heaps\n",
    "\n",
    "We will define new operations on Pairing Heaps that use higher-order functions and traversals over the heap. <br>\n",
    "Recall the data type defined in the previous lab and implement each function following the given specifications.\n",
    "\n",
    "## Definition of the Data Type\n",
    "\n",
    "A Pairing Heap is defined as follows:\n",
    "\n",
    "1. it is the empty tree, or  \n",
    "2. it is a tree with a root and a list of Pairing Heaps, *i.e.*, the descendants of the root, and  \n",
    "3. the root of a Pairing Heap is the smallest element in the tree (smallest or equal). It may contain duplicates.\n",
    "\n",
    "The data type for an *inner* tree, which will always be non-empty, is defined as:"
   ]
  },
  {
   "cell_type": "code",
   "execution_count": null,
   "metadata": {
    "vscode": {
     "languageId": "ocaml"
    }
   },
   "outputs": [],
   "source": [
    "type tree = T of int * tree list"
   ]
  },
  {
   "cell_type": "markdown",
   "metadata": {},
   "source": [
    "Considering that the constructor `T` represents the root of a subtree composed of a key (integer value) and a list of descendants, the Pairing Heap is defined as follows:"
   ]
  },
  {
   "cell_type": "code",
   "execution_count": null,
   "metadata": {
    "vscode": {
     "languageId": "ocaml"
    }
   },
   "outputs": [],
   "source": [
    "type t = \n",
    "  | E \n",
    "  | N of tree\n",
    ";;"
   ]
  },
  {
   "cell_type": "markdown",
   "metadata": {},
   "source": [
    "## New Operations on Pairing Heaps\n",
    "\n",
    "### 🔹 Exercise 1\n",
    "\n",
    "Implement the `heap sort` algorithm on lists. This algorithm works as follows:\n",
    "\n",
    "1. Place all the elements from the list into a heap;\n",
    "2. Recursively remove the minimum element from the heap until it is empty. As each element is removed from the heap, it should be placed into a new list;\n",
    "3. The new list will have the elements ordered in reverse order. Reverse this list to obtain a permutation of the list `l` sorted in natural order.\n",
    "\n",
    "**Hint:** Start by defining two auxiliary functions, `heapify` and `de_heapify`, which correspond to steps 1 and 2 mentioned above.\n",
    "\n",
    "Remember the functions `create`, `add`, `find_min`, `delete_min`, `merge`, and `merge_list` from the previous lesson.\n"
   ]
  },
  {
   "cell_type": "code",
   "execution_count": null,
   "metadata": {
    "vscode": {
     "languageId": "ocaml"
    }
   },
   "outputs": [],
   "source": [
    "let heapsort l =\n",
    "  assert false (* Complete here *)"
   ]
  },
  {
   "cell_type": "markdown",
   "metadata": {},
   "source": [
    "### 🔹 Exercise 2\n",
    "\n",
    "Escreva uma definição para a função `heap_size`, com a seguinte assinatura:\n",
    "\n",
    "```OCaml\n",
    "  val heap_size : t -> int\n",
    "```\n",
    "\n",
    "This function should return the number of elements in the Pairing Heap passed as an argument."
   ]
  },
  {
   "cell_type": "code",
   "execution_count": null,
   "metadata": {
    "vscode": {
     "languageId": "ocaml"
    }
   },
   "outputs": [],
   "source": [
    "let rec heap_size h =\n",
    "  assert false (* Complete here *)"
   ]
  },
  {
   "cell_type": "markdown",
   "metadata": {},
   "source": [
    "### 🔹 Exercise 3\n",
    "\n",
    "Write a definition for the `heap_depth` function with the following signature:\n",
    "\n",
    "```ocaml\n",
    "  val heap_depth : t -> int\n",
    "```\n",
    "\n",
    "This function takes as *input* a Pairing Heap `h` and returns the height of the heap, defined as the number of levels in the heap (i.e., the size of the longest path from the root to a leaf). The empty heap has height 0."
   ]
  },
  {
   "cell_type": "code",
   "execution_count": null,
   "metadata": {
    "vscode": {
     "languageId": "ocaml"
    }
   },
   "outputs": [],
   "source": [
    "let rec heap_depth h =\n",
    "  assert false (* Complete here *)"
   ]
  },
  {
   "cell_type": "markdown",
   "metadata": {},
   "source": [
    "### 🔹 Exercise 4\n",
    "\n",
    "Write a definition for the `map` function with the following signature:\n",
    "\n",
    "```ocaml\n",
    "  val map : (int -> int) -> t -> t\n",
    "```\n",
    "\n",
    "The `map` function applies the function `f` to each element of the Pairing Heap, preserving its structure."
   ]
  },
  {
   "cell_type": "code",
   "execution_count": null,
   "metadata": {
    "vscode": {
     "languageId": "ocaml"
    }
   },
   "outputs": [],
   "source": [
    "let rec map f h =\n",
    "  assert false (* Complete here *)"
   ]
  },
  {
   "cell_type": "markdown",
   "metadata": {},
   "source": [
    "### 🔹 Exercise 5\n",
    "\n",
    "Write a definition for the `pre_order` function with the following signature:\n",
    "\n",
    "```ocaml\n",
    "  val pre_order : t -> int list\n",
    "```\n",
    "\n",
    "The `pre_order` operation returns a list of all the elements of the Pairing Heap [h] according to the pre-order traversal, defined as\n",
    "\n",
    "\n",
    "\n",
    "1. Visit the value of the root;\n",
    "2. Traverse the list of subtrees from left to right in pre-order.\n",
    "\n",
    "The empty Pairing Heap produces an empty list. Consider, for example, the following Pairing Heap:\n",
    "<img src=\"pairing_heap_example.png\" width=\"300\"/>\n",
    "\n",
    "When applying the `pre_order` function to this Pairing Heap, the resulting list would be:\n",
    "```OCaml\n",
    "[1; 8; 2; 9; 10; 3; 6; 7; 14; 15; 20]\n",
    "```\n"
   ]
  },
  {
   "cell_type": "code",
   "execution_count": null,
   "metadata": {
    "vscode": {
     "languageId": "ocaml"
    }
   },
   "outputs": [],
   "source": [
    "let rec pre_order h =\n",
    "  assert false (* Complete here *)"
   ]
  },
  {
   "cell_type": "markdown",
   "metadata": {},
   "source": [
    "### 🔹 Exercise 6\n",
    "\n",
    "Write a definition for the `post_order` function with the following signature:\n",
    "\n",
    "```OCaml\n",
    "  val post_order : t -> int list\n",
    "```\n",
    "The `post_order` operation returns a list of all the elements of the Pairing Heap [h] according to the post-order traversal, defined as:\n",
    "\n",
    "1. Traverse the list of subtrees from left to right in post-order.\n",
    "2. Visit the value of the root.\n",
    "\n",
    "The empty heap produces an empty list.\n",
    "\n",
    "When applying the `post_order` function to the Pairing Heap presented in Exercise 5, the resulting list would be:\n",
    "```OCaml\n",
    "[8; 9; 10; 2; 3; 7; 15; 20; 14; 6; 1]\n",
    "```\n"
   ]
  },
  {
   "cell_type": "code",
   "execution_count": null,
   "metadata": {
    "vscode": {
     "languageId": "ocaml"
    }
   },
   "outputs": [],
   "source": [
    "let rec post_order h =\n",
    "  assert false (* Complete here *)"
   ]
  }
 ],
 "metadata": {
  "kernelspec": {
   "display_name": "OCaml lap2025",
   "language": "OCaml",
   "name": "ocaml-jupyter"
  },
  "language_info": {
   "codemirror_mode": "text/x-ocaml",
   "file_extension": ".ml",
   "mimetype": "text/x-ocaml",
   "name": "OCaml",
   "nbconverter_exporter": null,
   "pygments_lexer": "OCaml",
   "version": "4.14.0"
  }
 },
 "nbformat": 4,
 "nbformat_minor": 2
}
