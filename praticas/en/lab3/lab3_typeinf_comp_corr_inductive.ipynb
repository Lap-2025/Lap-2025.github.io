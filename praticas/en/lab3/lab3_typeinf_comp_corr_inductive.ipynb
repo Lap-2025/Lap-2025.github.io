{
 "cells": [
  {
   "cell_type": "markdown",
   "metadata": {},
   "source": [
    "# Exercises on type inference, function composition, program correctness and inductive reasoning"
   ]
  },
  {
   "cell_type": "markdown",
   "metadata": {},
   "source": [
    "## Type inference and function composition"
   ]
  },
  {
   "cell_type": "markdown",
   "metadata": {},
   "source": [
    "### 🔹 Exercise 1:\n",
    "\n",
    "Consider the following function definitions:\n",
    "\n",
    "```OCaml \n",
    "(1) let f = fun x -> x\n",
    "(2) let g = fun h -> fun x -> h x\n",
    "(3) let k u = u (g (fun x -> f x) 0)\n",
    "```\n"
   ]
  },
  {
   "cell_type": "markdown",
   "metadata": {},
   "source": [
    "What is the type of each function?"
   ]
  },
  {
   "cell_type": "code",
   "execution_count": null,
   "metadata": {
    "vscode": {
     "languageId": "ocaml"
    }
   },
   "outputs": [],
   "source": [
    "(* Complete here: *)\n",
    "(1) \n",
    "(2) \n",
    "(3)"
   ]
  },
  {
   "cell_type": "markdown",
   "metadata": {},
   "source": [
    "### 🔹 Exercise 2:\n",
    "\n",
    "Using the previously defined functions, construct expressions of type:\n",
    "\n",
    "```OCaml\n",
    "(1) `int`\n",
    "(2) `bool`\n",
    "(3) `int -> int`\n",
    "(4) `'a -> 'a`\n",
    "```\n"
   ]
  },
  {
   "cell_type": "code",
   "execution_count": null,
   "metadata": {
    "vscode": {
     "languageId": "ocaml"
    }
   },
   "outputs": [],
   "source": [
    "(* Complete here: *)\n",
    "(1) \n",
    "(2) \n",
    "(3)\n",
    "(4)"
   ]
  },
  {
   "cell_type": "markdown",
   "metadata": {},
   "source": [
    "### 🔹 Exercise 3:\n",
    "\n",
    "Justify, using a system of equations, the type of the following expression:\n",
    "\n",
    "```OCaml\n",
    "(fun x -> \n",
    "    if x > 3 then\n",
    "        string_of_int x \n",
    "    else \n",
    "        \"too few\") \n",
    "    4;;\n",
    "```"
   ]
  },
  {
   "cell_type": "markdown",
   "metadata": {},
   "source": [
    "---"
   ]
  },
  {
   "cell_type": "markdown",
   "metadata": {},
   "source": [
    "## Program correctness: pre and post-conditions "
   ]
  },
  {
   "cell_type": "markdown",
   "metadata": {},
   "source": [
    "### 🔹 Exercise 4:\n",
    "\n",
    "Given the following function definitions, indicate the preconditions and postconditions of each one:\n",
    "\n",
    "```OCaml\n",
    "(1) let rec fact x =\n",
    "    if x = 0 then\n",
    "      1\n",
    "    else x * fact (x - 1)\n",
    "```\n"
   ]
  },
  {
   "cell_type": "markdown",
   "metadata": {},
   "source": [
    "⚠️ **Answer:** [Complete here]"
   ]
  },
  {
   "cell_type": "markdown",
   "metadata": {},
   "source": [
    "\n",
    "\n",
    "```OCaml\n",
    "(2) let rec gcd u v =\n",
    "    if v = 0 then\n",
    "      u\n",
    "    else gcd v (u mod v)\n",
    "```\n"
   ]
  },
  {
   "cell_type": "markdown",
   "metadata": {},
   "source": [
    "⚠️ **Answer:** [Complete here]"
   ]
  },
  {
   "cell_type": "markdown",
   "metadata": {},
   "source": [
    "\n",
    "```OCaml\n",
    "(3) let division a b =\n",
    "      let rec division' q r =\n",
    "        if r < b then\n",
    "          (q, r)\n",
    "        else\n",
    "          division' (q + 1) (r - b)\n",
    "      in\n",
    "      division' 0 a \n",
    "```"
   ]
  },
  {
   "cell_type": "markdown",
   "metadata": {},
   "source": [
    "⚠️ **Answer:** [Complete here]"
   ]
  },
  {
   "cell_type": "markdown",
   "metadata": {},
   "source": [
    "---"
   ]
  },
  {
   "cell_type": "markdown",
   "metadata": {},
   "source": [
    "## Recursive Functions "
   ]
  },
  {
   "cell_type": "markdown",
   "metadata": {},
   "source": [
    "### 🔹 Exercise 5:  \n",
    "\n",
    "Consider a corridor with two lanes and a total length of $\\mathcal{N}$ units. \n",
    "To simplify the illustration of the problem, we will consider the road as a rectangle with dimensions $2 \\times \\mathcal{N}$ .  \n",
    "\n",
    "The municipality responsible for this road has decided to pave it with advertisements, thus avoiding the need to charge tolls for users. \n",
    "For logistical reasons, all advertisement panels must have the same size and be rectangles of dimensions $2 \\times 1$. This means that the road can be covered widthwise with a single panel or lengthwise by placing two advertisement panels together.  \n",
    "\n",
    "The following image shows 4 of the 13 distinct ways to pave a road of length 6 units:  \n",
    "\n",
    "![Road Paving](https://lap-2024.github.io/praticas/road.png)  \n",
    "\n",
    "How many distinct ways are there to pave a road of length $\\mathcal{N}$ units? \n",
    "Define the following OCaml function, where the argument is the road length and the result is the total number of distinct paving arrangements:  \n",
    "\n",
    "```ocaml\n",
    "val road : int -> int\n",
    "```\n",
    "\n",
    "**Example**: For a road of 42 units in length, there are 433,494,437 distinct ways to pave it. "
   ]
  },
  {
   "cell_type": "code",
   "execution_count": null,
   "metadata": {
    "vscode": {
     "languageId": "ocaml"
    }
   },
   "outputs": [],
   "source": [
    "let road n = \n",
    "  (* Complete here: *)"
   ]
  },
  {
   "cell_type": "markdown",
   "metadata": {},
   "source": [
    "### 🔹 Exercise 6:  \n",
    "\n",
    "To maximize the number of advertisement panels, the municipal government has decided to pave the road using only vertical panels. Given this constraint, modify your function so that it returns all possible ways to place vertical advertisement panels on the pavement.  \n",
    "\n",
    "```ocaml\n",
    "let vert_road : int -> int\n",
    "```\n",
    "\n",
    "**Example**: For a road of 10 units in length, there are 3,628,800 distinct ways to pave it using vertical advertisement panels."
   ]
  },
  {
   "cell_type": "code",
   "execution_count": null,
   "metadata": {
    "vscode": {
     "languageId": "ocaml"
    }
   },
   "outputs": [],
   "source": [
    "let vert_road n = \n",
    "  (* Complete here: *)"
   ]
  }
 ],
 "metadata": {
  "kernelspec": {
   "display_name": "OCaml lap2024-teacher",
   "language": "OCaml",
   "name": "ocaml-jupyter"
  },
  "language_info": {
   "codemirror_mode": "text/x-ocaml",
   "file_extension": ".ml",
   "mimetype": "text/x-ocaml",
   "name": "OCaml",
   "nbconverter_exporter": null,
   "pygments_lexer": "OCaml",
   "version": "4.14.0"
  }
 },
 "nbformat": 4,
 "nbformat_minor": 2
}
