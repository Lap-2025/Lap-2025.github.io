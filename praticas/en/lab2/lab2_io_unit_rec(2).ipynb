{
 "cells": [
  {
   "cell_type": "markdown",
   "metadata": {},
   "source": [
    "# Exercises on Input/Output, Unit testing, and Recursive Functions in OCaml"
   ]
  },
  {
   "cell_type": "markdown",
   "metadata": {},
   "source": [
    "## Input/Output"
   ]
  },
  {
   "cell_type": "markdown",
   "metadata": {},
   "source": [
    "### 🔹 Exercise 1:\n",
    "\n",
    "Write the following expressions in `utop`:"
   ]
  },
  {
   "cell_type": "code",
   "execution_count": null,
   "metadata": {
    "vscode": {
     "languageId": "ocaml"
    }
   },
   "outputs": [],
   "source": [
    "print_endline \"Hello world!\";;\n",
    "print_string \"Hello world!\";;"
   ]
  },
  {
   "cell_type": "markdown",
   "metadata": {},
   "source": [
    "What is the observable difference in the output?"
   ]
  },
  {
   "cell_type": "markdown",
   "metadata": {},
   "source": [
    "⚠️ **Answer:** [complete here]"
   ]
  },
  {
   "cell_type": "markdown",
   "metadata": {},
   "source": [
    "### 🔹 Exercise 2:\n",
    "\n",
    "Use the expression `read_line ()` to read an integer number from the *Standard Input* and store it in a variable `x`.\n",
    "\n",
    "Afterwards, print it using the function `print_endline`."
   ]
  },
  {
   "cell_type": "code",
   "execution_count": null,
   "metadata": {
    "vscode": {
     "languageId": "ocaml"
    }
   },
   "outputs": [],
   "source": [
    "(* Answer: *)"
   ]
  },
  {
   "cell_type": "markdown",
   "metadata": {},
   "source": [
    "### 🔹 Exercise 3:\n",
    "\n",
    "Use the expression `read_int ()` to read an integer number from the *Standard Input* and atribute it to the variable `x`.\n",
    "\n",
    "Afterwards, print it using the function `print_int`"
   ]
  },
  {
   "cell_type": "code",
   "execution_count": null,
   "metadata": {
    "vscode": {
     "languageId": "ocaml"
    }
   },
   "outputs": [],
   "source": [
    "(* Answer: *)"
   ]
  },
  {
   "cell_type": "markdown",
   "metadata": {},
   "source": [
    "### 🔹 Exercise 4:\n",
    "\n",
    "Use the expression `read_int ()` to read an integer from the *Standard Input* and assign the value read to the variable `x`.\n",
    "\n",
    "Then print the following message: `The value read is: XXXXX`, where `XXXXX` corresponds to the value of `x`.\n",
    "\n",
    "💡 **Tip:** To print the value of `x` as part of a more complex message, you should first convert it to a string. Check the *Expressions: Type Conversion* section of the Exercises in the Notebook for Week 2 - `lab2_basic_functions(1).ipynb` for inspiration."
   ]
  },
  {
   "cell_type": "code",
   "execution_count": null,
   "metadata": {
    "vscode": {
     "languageId": "ocaml"
    }
   },
   "outputs": [],
   "source": [
    "(* Answer: *)"
   ]
  },
  {
   "cell_type": "markdown",
   "metadata": {},
   "source": [
    "### 🔹 Exercise 5:\n",
    "\n",
    "Recall the definition for the function `sign`, presented in the Notebook from week 2:\n",
    "\n",
    "$$\n",
    "\\mathcal{S}(v)=\\left\\{\n",
    "    \\begin{array}{lc}\n",
    "    1 & \\text{if}~v > 0 \\\\[1em]\n",
    "    0 & \\text{if}~v = 0 \\\\[1em]\n",
    "    -1 & \\text{if}~v < 0\n",
    "    \\end{array}\\right.\n",
    "$$\n",
    "\n",
    "Define a version of the `sign` function that instead of returning an integer returns the string `positive` (if the argument is greater than `0`), the string `zero` (if the argument is equal to `0`), or the string `negative` (if the number is less than `0`).\n",
    "\n",
    "You should now use this definition of the `sign` function to build a small program in `utop` that does the following:\n",
    "1. reads an integer from *Standard Input*;\n",
    "2. applies the `sign` function to the read integer;\n",
    "3. using the value returned by the application of the `sign` function, prints the following message to *Standard Output*: `The introduced value is: XXXXX`, where `XXXXX` corresponds to the string `positive`, `zero`, or `negative`."
   ]
  },
  {
   "cell_type": "code",
   "execution_count": null,
   "metadata": {
    "vscode": {
     "languageId": "ocaml"
    }
   },
   "outputs": [],
   "source": [
    "(* Answer: *)"
   ]
  },
  {
   "cell_type": "markdown",
   "metadata": {},
   "source": [
    "### 🔹 Exercise 6:\n",
    "\n",
    "Using the original definition of the `sign` function (*i.e.*, the definition that returns an integer value), build a program in `utop` that executes exactly the same three steps as in the previous exercise."
   ]
  },
  {
   "cell_type": "code",
   "execution_count": null,
   "metadata": {
    "vscode": {
     "languageId": "ocaml"
    }
   },
   "outputs": [],
   "source": [
    "(* Answer: *)"
   ]
  },
  {
   "cell_type": "markdown",
   "metadata": {},
   "source": [
    "---"
   ]
  },
  {
   "cell_type": "markdown",
   "metadata": {},
   "source": [
    "## Partial Applications "
   ]
  },
  {
   "cell_type": "markdown",
   "metadata": {},
   "source": [
    "### 🔹 Exercise 7:\n",
    "\n",
    "Consider the following definition for the function `add`:\n",
    "\n",
    "```OCaml\n",
    "let add x y = x + y\n",
    "```\n",
    "\n",
    "Which of these calls evaluates to an integer value, to a function or produces an error?\n",
    "\n",
    "```OCaml\n",
    "(1) add 5 1;;\n",
    "(2) add 5;;\n",
    "(3) (add 5) 1;;\n",
    "(4) add (5 1);;\n",
    "```"
   ]
  },
  {
   "cell_type": "markdown",
   "metadata": {},
   "source": [
    "⚠️ **Answer:** [complete here]"
   ]
  },
  {
   "cell_type": "markdown",
   "metadata": {},
   "source": [
    "### 🔹 Exercise 8:\n",
    "\n",
    "In the following program, what is the value of `w` after being fully evaluated?\n",
    "\n",
    "```OCaml\n",
    "let x = 10;;\n",
    "let x = \n",
    "  let y = fun a -> a + x in\n",
    "  let y =\n",
    "    let x = y x in \n",
    "    let y = fun a -> a * x in\n",
    "    y x in\n",
    "  x * y;;\n",
    "let w = x + 100;;\n",
    "```"
   ]
  },
  {
   "cell_type": "markdown",
   "metadata": {},
   "source": [
    "⚠️ **Answer:** [complete here]"
   ]
  },
  {
   "cell_type": "markdown",
   "metadata": {},
   "source": [
    "### 🔹 Exercise 9:\n",
    "\n",
    "Indicate whether the following programs are well-typed or ill-typed. In the positive case, indicate the type of all variables and global functions. In the negative case, indicate the nature of the error and propose a change to the program that would make it well-typed.\n",
    "\n",
    "```OCaml\n",
    "(1) let x = 10;;\n",
    "    let x = \n",
    "    let y = fun a -> a + x in\n",
    "    let y =\n",
    "        let x = y x in \n",
    "        let y = fun a -> a * x in\n",
    "        y x in\n",
    "    fun x -> x * y;;\n",
    "    let w = x + 100;;\n",
    "```"
   ]
  },
  {
   "cell_type": "markdown",
   "metadata": {
    "vscode": {
     "languageId": "plaintext"
    }
   },
   "source": [
    "⚠️ **Variable types and global functions (if applicable)**:"
   ]
  },
  {
   "cell_type": "code",
   "execution_count": 1,
   "metadata": {
    "vscode": {
     "languageId": "ocaml"
    }
   },
   "outputs": [],
   "source": [
    "(* Changes to the program (if applicable) *)"
   ]
  },
  {
   "cell_type": "markdown",
   "metadata": {},
   "source": [
    "```OCaml\n",
    "(2) let x = 10;;\n",
    "    let x = \n",
    "    let y = fun a -> a + x in\n",
    "    let y =\n",
    "        let x = y x in \n",
    "        let y = fun a -> a * x in\n",
    "        fun w -> y x + w in\n",
    "    fun w -> y w;;\n",
    "    let w = x 100;;\n",
    "```"
   ]
  },
  {
   "cell_type": "markdown",
   "metadata": {},
   "source": [
    "⚠️ **Variable types and global functions (if applicable)**:"
   ]
  },
  {
   "cell_type": "code",
   "execution_count": null,
   "metadata": {
    "vscode": {
     "languageId": "ocaml"
    }
   },
   "outputs": [],
   "source": [
    "(* Changes to the program (if applicable) *)"
   ]
  },
  {
   "cell_type": "markdown",
   "metadata": {},
   "source": [
    "```OCaml\n",
    "(3) let x = 10;;\n",
    "    let x = \n",
    "    let y = fun a -> a + x in\n",
    "    let y =\n",
    "        let x = y x in \n",
    "        let y = fun a -> a * y x in\n",
    "        y x in\n",
    "    fun w -> x + y w;;\n",
    "    let w = x + 100;;\n",
    "```"
   ]
  },
  {
   "cell_type": "markdown",
   "metadata": {},
   "source": [
    "⚠️ **Variable types and global functions (if applicable)**:"
   ]
  },
  {
   "cell_type": "code",
   "execution_count": null,
   "metadata": {
    "vscode": {
     "languageId": "ocaml"
    }
   },
   "outputs": [],
   "source": [
    "(* Changes to the program (if applicable) *)"
   ]
  },
  {
   "cell_type": "markdown",
   "metadata": {},
   "source": [
    "---"
   ]
  },
  {
   "cell_type": "markdown",
   "metadata": {},
   "source": [
    "## Recursive Functions "
   ]
  },
  {
   "cell_type": "markdown",
   "metadata": {},
   "source": [
    "### 🔹 Exercise 10:\n",
    "\n",
    "\n",
    "Define a function `fib` that calculates the `i`-th number of the Fibonacci sequence. The argument `i` is an integer value. Recall the recursive definition of the Fibonacci sequence:\n",
    "\n",
    "$$\n",
    "\\mathcal{F}(i)=\\left\\{\n",
    "   \\begin{array}{lc}\n",
    "   1 & \\text{if}~i = 1 \\\\[1em]\n",
    "   1 & \\text{if}~i = 2 \\\\[1em]\n",
    "   \\mathcal{F}(i-1) + \\mathcal{F}(i-2) & \\text{if}~i > 2\n",
    "   \\end{array}\\right.\n",
    "$$\n",
    "\n",
    "Create your own set of unit tests to test the `fib` function, using `assert` expressions."
   ]
  },
  {
   "cell_type": "code",
   "execution_count": null,
   "metadata": {
    "vscode": {
     "languageId": "ocaml"
    }
   },
   "outputs": [],
   "source": [
    "let fib i = \n",
    "  (* complete here *)\n",
    "\n",
    "\n",
    "(* Unit tests: *)"
   ]
  },
  {
   "cell_type": "markdown",
   "metadata": {},
   "source": [
    "### 🔹 Exercise 11:\n",
    "\n",
    "**(11.1)** What happens when you call `fib` with a number smaller than `1`? What's this type of execution problem? "
   ]
  },
  {
   "cell_type": "markdown",
   "metadata": {},
   "source": [
    "⚠️ **Answer:** [complete here]"
   ]
  },
  {
   "cell_type": "markdown",
   "metadata": {},
   "source": [
    "**(11.2)** Propose new definitions of the `fib` function where the inaccessible points of the code are explicitly indicated. You can use the expressions `assert false` or `failwith`, or simply return a default value in cases where the function has no image."
   ]
  },
  {
   "cell_type": "code",
   "execution_count": null,
   "metadata": {
    "vscode": {
     "languageId": "ocaml"
    }
   },
   "outputs": [],
   "source": [
    "(* Redefine the fib function. *)\n",
    "\n",
    "let fib i = \n",
    "  (* complete here *)"
   ]
  },
  {
   "cell_type": "markdown",
   "metadata": {},
   "source": [
    "### 🔹 Exercise 12:\n",
    "\n",
    "Define in OCaml the functions `f` and `m`, mutually recursive, that implement the *Hofstadter Female and Male* sequence. This sequence is defined by the following set of equations:\n",
    "\n",
    "$$\n",
    "\\begin{array}{ccl}\n",
    "\\mathcal{F}(0) & = & 1 \\\\[1em]\n",
    "\\mathcal{M}(0) & = & 0 \\\\[1em]\n",
    "\\mathcal{F}(n) & = & n - \\mathcal{M}(\\mathcal{F}(n - 1))\\\\[1em]\n",
    "\\mathcal{M}(n) & = & n - \\mathcal{F}(\\mathcal{M}(n - 1))\n",
    "\\end{array}\n",
    "$$"
   ]
  },
  {
   "cell_type": "code",
   "execution_count": null,
   "metadata": {
    "vscode": {
     "languageId": "ocaml"
    }
   },
   "outputs": [],
   "source": [
    "let hofstadter n = \n",
    "  (* complete here *)"
   ]
  },
  {
   "cell_type": "markdown",
   "metadata": {},
   "source": [
    "### 🔹 Exercise 13:\n",
    "\n",
    "Consider the following auxiliary function `f`:\n",
    "\n",
    "$$\n",
    "f(n) = \\left\\{\n",
    "\\begin{array}{ll}\n",
    " n / 2 & \\text{if}~n~\\text{is even}\\\\[1em]\n",
    " 3n + 1 & \\text{if}~n~\\text{is odd}& \n",
    "\\end{array}\\right.\n",
    "$$\n",
    "\n",
    "For a given positive integer `n`, the Collatz sequence is defined as follows:\n",
    "1. If `n = 1`, then terminate and return `1`\n",
    "2. If `n > 1`, then continue calculating the sequence for the result of `f n`. \n",
    "\n",
    "**(13.1)** Define in OCaml the function `collatz` that calculates the result of the Collatz sequence for `n`, a positive integer passed as an argument."
   ]
  },
  {
   "cell_type": "code",
   "execution_count": null,
   "metadata": {
    "vscode": {
     "languageId": "ocaml"
    }
   },
   "outputs": [],
   "source": [
    "let collatz n = \n",
    "  (* complete here *)"
   ]
  },
  {
   "cell_type": "markdown",
   "metadata": {},
   "source": [
    "**(13.2)** Implement usit tests for the `collatz` function. "
   ]
  },
  {
   "cell_type": "code",
   "execution_count": null,
   "metadata": {
    "vscode": {
     "languageId": "ocaml"
    }
   },
   "outputs": [],
   "source": [
    "(* Unit tests *)"
   ]
  },
  {
   "cell_type": "markdown",
   "metadata": {},
   "source": [
    "### 🔹 Exercise 14:\n",
    "\n",
    "Change your implementation of the `collatz` function to print to the *standard output* the intermediate values that the sequence will compute."
   ]
  },
  {
   "cell_type": "code",
   "execution_count": null,
   "metadata": {
    "vscode": {
     "languageId": "ocaml"
    }
   },
   "outputs": [],
   "source": [
    "let collatz n = \n",
    "  (* complete here *)"
   ]
  },
  {
   "cell_type": "markdown",
   "metadata": {},
   "source": [
    "### 🔹 Exercise 15:\n",
    "\n",
    "Consider the following mathematical definition of the *Ackermann* function:\n",
    "\n",
    "$$\n",
    "\\mathcal{A}(m, n) = \\left\\{\n",
    "    \\begin{array}{ll}\n",
    "        n + 1 & \\text{if}~m = 0\\\\[1em]\n",
    "        \\mathcal{A}(m - 1, 1) & \\text{if}~n = 0\\\\[1em]\n",
    "        \\mathcal{A}(m - 1, \\mathcal{A}(m, n - 1)) & \n",
    "            \\text{if}~m > 0 \\wedge n > 0\n",
    "    \\end{array}\n",
    "\\right.\n",
    "$$\n",
    "\n",
    "**(15.1)** Define in OCaml the function `ackermann` that implements the above mathematical definition. Your function should take two arguments, `m` and `n`, both positive integer values.\n"
   ]
  },
  {
   "cell_type": "code",
   "execution_count": null,
   "metadata": {
    "vscode": {
     "languageId": "ocaml"
    }
   },
   "outputs": [],
   "source": [
    "let ackermann m n = \n",
    "  (* complete here *)"
   ]
  },
  {
   "cell_type": "markdown",
   "metadata": {},
   "source": [
    "**(13.2)** Implement usit tests for the `collatz` function. "
   ]
  },
  {
   "cell_type": "code",
   "execution_count": null,
   "metadata": {
    "vscode": {
     "languageId": "ocaml"
    }
   },
   "outputs": [],
   "source": [
    "(* Unit tests *)"
   ]
  },
  {
   "cell_type": "markdown",
   "metadata": {},
   "source": [
    "### 🔹 Exercise 14:\n",
    "\n",
    "Change your implementation of the `collatz` function to print to the *standard output* the intermediate values that the sequence will compute."
   ]
  },
  {
   "cell_type": "code",
   "execution_count": null,
   "metadata": {
    "vscode": {
     "languageId": "ocaml"
    }
   },
   "outputs": [],
   "source": [
    "let collatz n = \n",
    "  (* complete here *)"
   ]
  },
  {
   "cell_type": "markdown",
   "metadata": {},
   "source": [
    "### 🔹 Exercise 15:\n",
    "\n",
    "Consider the following mathematical definition of the *Ackermann* function:\n",
    "\n",
    "$$\n",
    "\\mathcal{A}(m, n) = \\left\\{\n",
    "    \\begin{array}{ll}\n",
    "        n + 1 & \\text{if}~m = 0\\\\[1em]\n",
    "        \\mathcal{A}(m - 1, 1) & \\text{if}~n = 0\\\\[1em]\n",
    "        \\mathcal{A}(m - 1, \\mathcal{A}(m, n - 1)) & \n",
    "            \\text{if}~m > 0 \\wedge n > 0\n",
    "    \\end{array}\n",
    "\\right.\n",
    "$$\n",
    "\n",
    "**(15.1)** Define in OCaml the function `ackermann` that implements the above mathematical definition. Your function should take two arguments, `m` and `n`, both positive integer values.\n"
   ]
  },
  {
   "cell_type": "code",
   "execution_count": null,
   "metadata": {
    "vscode": {
     "languageId": "ocaml"
    }
   },
   "outputs": [],
   "source": [
    "let ackermann m n = \n",
    "  (* complete here *)"
   ]
  },
  {
   "cell_type": "markdown",
   "metadata": {},
   "source": [
    "**(15.2)** Write some unit tests for the function `ackermann`. "
   ]
  },
  {
   "cell_type": "code",
   "execution_count": null,
   "metadata": {
    "vscode": {
     "languageId": "ocaml"
    }
   },
   "outputs": [],
   "source": [
    "(* Unit tests *)"
   ]
  },
  {
   "cell_type": "markdown",
   "metadata": {},
   "source": [
    "**(15.3)** Use the `utop` to test your implementation of `ackermann` with different inputs. What do you observe? "
   ]
  },
  {
   "cell_type": "markdown",
   "metadata": {},
   "source": [
    "⚠️ **Answer:** [complete here]"
   ]
  }
 ],
 "metadata": {
  "kernelspec": {
   "display_name": "OCaml lap2025",
   "language": "OCaml",
   "name": "ocaml-jupyter"
  },
  "language_info": {
   "codemirror_mode": "text/x-ocaml",
   "file_extension": ".ml",
   "mimetype": "text/x-ocaml",
   "name": "OCaml",
   "nbconverter_exporter": null,
   "pygments_lexer": "OCaml",
   "version": "4.14.0"
  }
 },
 "nbformat": 4,
 "nbformat_minor": 2
}
