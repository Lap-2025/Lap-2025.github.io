{
 "cells": [
  {
   "cell_type": "markdown",
   "metadata": {},
   "source": [
    "# Exercises on Function signatures, type conversion and computations"
   ]
  },
  {
   "cell_type": "markdown",
   "metadata": {},
   "source": [
    "## Function signatures "
   ]
  },
  {
   "cell_type": "markdown",
   "metadata": {},
   "source": [
    "### 🔹 Exercise 1:\n",
    "\n",
    "What is the signature of the following functions:\n",
    "\n",
    "```OCaml\n",
    "(1) let f x = if x then x else x\n",
    "(2) let f x = if x > 0 then 73 else 42\n",
    "(3) let f x = if x > 0.0 then 73 else 42\n",
    "(4) let f x = if x <> x then 0 else -1\n",
    "(5) let f x = if x <> \"\" then 42 else 73\n",
    "```\n"
   ]
  },
  {
   "cell_type": "markdown",
   "metadata": {},
   "source": [
    "Complete here.\n",
    "\n",
    "```OCaml\n",
    "(1) val f : ...\n",
    "(2) val f : ...\n",
    "(3) val f : ...\n",
    "(4) val f : ... \n",
    "(5) val f : ...\n",
    "```\n"
   ]
  },
  {
   "cell_type": "markdown",
   "metadata": {},
   "source": [
    "Now, rewrite the functions with type annotations, either in `utop` or the cell bellow."
   ]
  },
  {
   "cell_type": "code",
   "execution_count": null,
   "metadata": {
    "vscode": {
     "languageId": "ocaml"
    }
   },
   "outputs": [],
   "source": [
    "(*  \n",
    "  Write the functions with type annotations after the comment.\n",
    "  E.g., to declare an int parameter:  let f (x: int) = ... \n",
    "*)"
   ]
  },
  {
   "cell_type": "markdown",
   "metadata": {},
   "source": [
    "---"
   ]
  },
  {
   "cell_type": "markdown",
   "metadata": {},
   "source": [
    "### 🔹 Exercise 2\n",
    "\n",
    "Verify if the functions are well or ill-typed. If they are ill-typed, give a rationale on why that is.\n",
    "\n",
    "```OCaml\n",
    "(1) let f x = (x + 1) * (x - 1);;\n",
    "```\n",
    "<div class=\"quiz-container\" style=\"border: 1px solid #ccc; padding: 15px; border-radius: 5px; background-color: #f9f9f9; margin: 10px 0;\">\n",
    "  <div class=\"radio-options\">\n",
    "    <label>\n",
    "      <input type=\"radio\" name=\"type-check\" value=\"well-typed\" id=\"well-typed-radio\"> Well-typed\n",
    "    </label>\n",
    "    <br>\n",
    "    <label>\n",
    "      <input type=\"radio\" name=\"type-check\" value=\"ill-typed\" id=\"ill-typed-radio\"> Ill-typed\n",
    "    </label>\n",
    "  </div>\n",
    "</div>\n"
   ]
  },
  {
   "cell_type": "markdown",
   "metadata": {},
   "source": [
    "⚠️ **Rationale:** [complete here]"
   ]
  },
  {
   "cell_type": "markdown",
   "metadata": {},
   "source": [
    "---"
   ]
  },
  {
   "cell_type": "markdown",
   "metadata": {},
   "source": [
    "\n",
    "```OCaml\n",
    "(2) let u = f (f 2);;\n",
    "```\n",
    "<div class=\"quiz-container\" style=\"border: 1px solid #ccc; padding: 15px; border-radius: 5px; background-color: #f9f9f9; margin: 10px 0;\">\n",
    "  <div class=\"radio-options\">\n",
    "    <label>\n",
    "      <input type=\"radio\" name=\"type-check1\" value=\"well-typed\" id=\"well-typed-radio\"> Well-typed\n",
    "    </label>\n",
    "    <br>\n",
    "    <label>\n",
    "      <input type=\"radio\" name=\"type-check1\" value=\"ill-typed\" id=\"ill-typed-radio\"> Ill-typed\n",
    "    </label>\n",
    "  </div>\n",
    "</div>\n"
   ]
  },
  {
   "cell_type": "markdown",
   "metadata": {},
   "source": [
    "⚠️ **Rationale:** [complete here]"
   ]
  },
  {
   "cell_type": "markdown",
   "metadata": {},
   "source": [
    "---"
   ]
  },
  {
   "cell_type": "markdown",
   "metadata": {},
   "source": [
    "\n",
    "```OCaml\n",
    "(3) let f x = x / 17;;\n",
    "```\n",
    "<div class=\"quiz-container\" style=\"border: 1px solid #ccc; padding: 15px; border-radius: 5px; background-color: #f9f9f9; margin: 10px 0;\">\n",
    "  <div class=\"radio-options\">\n",
    "    <label>\n",
    "      <input type=\"radio\" name=\"type-check\" value=\"well-typed\" id=\"well-typed-radio\"> Well-typed\n",
    "    </label>\n",
    "    <br>\n",
    "    <label>\n",
    "      <input type=\"radio\" name=\"type-check\" value=\"ill-typed\" id=\"ill-typed-radio\"> Ill-typed\n",
    "    </label>\n",
    "  </div>\n",
    "</div>"
   ]
  },
  {
   "cell_type": "markdown",
   "metadata": {},
   "source": [
    "⚠️ **Rationale:** [complete here]"
   ]
  },
  {
   "cell_type": "markdown",
   "metadata": {},
   "source": [
    "---"
   ]
  },
  {
   "cell_type": "markdown",
   "metadata": {},
   "source": [
    "```OCaml\n",
    "(4) let g x = \n",
    "      if x mod 2 = 0 then\n",
    "        \"even\"\n",
    "      else\n",
    "        false;;\n",
    "```\n",
    "<div class=\"quiz-container\" style=\"border: 1px solid #ccc; padding: 15px; border-radius: 5px; background-color: #f9f9f9; margin: 10px 0;\">\n",
    "  <div class=\"radio-options\">\n",
    "    <label>\n",
    "      <input type=\"radio\" name=\"type-check1\" value=\"well-typed\" id=\"well-typed-radio\"> Well-typed\n",
    "    </label>\n",
    "    <br>\n",
    "    <label>\n",
    "      <input type=\"radio\" name=\"type-check1\" value=\"ill-typed\" id=\"ill-typed-radio\"> Ill-typed\n",
    "    </label>\n",
    "  </div>\n",
    "</div>\n"
   ]
  },
  {
   "cell_type": "markdown",
   "metadata": {},
   "source": [
    "⚠️ **Rationale:** [complete here]"
   ]
  },
  {
   "cell_type": "markdown",
   "metadata": {},
   "source": [
    "---"
   ]
  },
  {
   "cell_type": "markdown",
   "metadata": {},
   "source": [
    "\n",
    "```OCaml\n",
    "(5) let u = f 42;;\n",
    "```\n",
    "<div class=\"quiz-container\" style=\"border: 1px solid #ccc; padding: 15px; border-radius: 5px; background-color: #f9f9f9; margin: 10px 0;\">\n",
    "  <div class=\"radio-options\">\n",
    "    <label>\n",
    "      <input type=\"radio\" name=\"type-check2\" value=\"well-typed\" id=\"well-typed-radio\"> Well-typed\n",
    "    </label>\n",
    "    <br>\n",
    "    <label>\n",
    "      <input type=\"radio\" name=\"type-check2\" value=\"ill-typed\" id=\"ill-typed-radio\"> Ill-typed\n",
    "    </label>\n",
    "  </div>\n",
    "</div>\n"
   ]
  },
  {
   "cell_type": "markdown",
   "metadata": {},
   "source": [
    "⚠️ **Rationale:** [complete here]"
   ]
  },
  {
   "cell_type": "markdown",
   "metadata": {},
   "source": [
    "---"
   ]
  },
  {
   "cell_type": "markdown",
   "metadata": {},
   "source": [
    "### 🔹 Exercise 3:\n",
    "\n",
    "Define a funtion, `sign`, that returns the sign of `v`, an integer argument of the function. Your function `sign` should obey the following mathematical definition:\n",
    "$$\n",
    "\\mathcal{S}(v)=\\left\\{\n",
    "    \\begin{array}{lc}\n",
    "    1 & \\text{if}~v > 0 \\\\[1em]\n",
    "    0 & \\text{if}~v = 0 \\\\[1em]\n",
    "    -1 & \\text{if}~v < 0\n",
    "    \\end{array}\\right.\n",
    "$$\n",
    "\n",
    "Use a nested `if..then..else` expression. You can use the `utop` to test your function, applying enough examples to test the coverage of the function."
   ]
  },
  {
   "cell_type": "code",
   "execution_count": null,
   "metadata": {
    "vscode": {
     "languageId": "ocaml"
    }
   },
   "outputs": [],
   "source": [
    "let sign v =\n",
    "  (* Complete here *)"
   ]
  },
  {
   "cell_type": "markdown",
   "metadata": {},
   "source": [
    "---"
   ]
  },
  {
   "cell_type": "markdown",
   "metadata": {},
   "source": [
    "## Expressions: Type conversion "
   ]
  },
  {
   "cell_type": "markdown",
   "metadata": {},
   "source": [
    "### 🔹 Exercise 4:\n",
    "\n",
    "What is the return type of the following functions?"
   ]
  },
  {
   "cell_type": "markdown",
   "metadata": {},
   "source": [
    "```OCaml\n",
    "(1) let f x = int_of_string x;;\n",
    "(2) let f x = string_of_int x;;\n",
    "(3) let f (x: int) = x;;\n",
    "(4) let f x = x;;\n",
    "(5) let f x = float_of_int x;;\n",
    "(6) let f x = int_of_float x;;\n",
    "(7) let f x = int_of_char x;;\n",
    "(8) let f x = bool_of_string x;;\n",
    "```\n"
   ]
  },
  {
   "cell_type": "markdown",
   "metadata": {},
   "source": [
    "Complete here.\n",
    "\n",
    "```OCaml\n",
    "(1)   \n",
    "(2)\n",
    "(3)\n",
    "(4)\n",
    "(5)\n",
    "(6)\n",
    "(7)\n",
    "(8)\n",
    "```"
   ]
  },
  {
   "cell_type": "markdown",
   "metadata": {},
   "source": [
    "### 🔹 Exercise 5:\n",
    "\n",
    "**(5.1)** In a scenario where a client might not respect the precondition of a function call, it is always the responsibility of the function itself to adopt a *defensive programming* style. In particular, it should explicitly handle cases where the function's execution must simply abort.\n",
    "\n",
    "One possible approach is to mark an inaccessible point in the code using the expression `assert false`. This expression immediately aborts execution since it is impossible to satisfy the Boolean expression false.\n",
    "\n",
    "Modify the definition of the function `div_42` so that, in the case where `y = 0`, instead of returning `0`, the function aborts with the expression `assert false`."
   ]
  },
  {
   "cell_type": "code",
   "execution_count": null,
   "metadata": {
    "vscode": {
     "languageId": "ocaml"
    }
   },
   "outputs": [],
   "source": [
    "let div_42 y =\n",
    "  if y = 0 then\n",
    "    0 (* Change here. *)\n",
    "  else\n",
    "    42 / y"
   ]
  },
  {
   "cell_type": "markdown",
   "metadata": {},
   "source": [
    "> #### 💡 **Expressions: Inaccessible code**\n",
    "> It is common in the definition of a function for there to be points or paths that we know are inaccessible. \n",
    ">\n",
    "> For example, a function `div` that divides `x` by `y`, two integer values, cannot produce a meaningful result if `y = 0`. Most likely, a client of `div` is expected to dynamically check that `y` is different from 0 before applying the function. \n",
    ">    \n",
    "> In this case, we consider `y <> 0` as a precondition for executing `div`, and we are interested in explicitly signaling this fact in the code."
   ]
  },
  {
   "cell_type": "markdown",
   "metadata": {},
   "source": [
    "**(5.2)** \n",
    "One other approach is to use the expression `failwith \"XXXXX\"` that aborts the execution of a program with the message `XXXXX`.\n",
    "\n",
    "Change the definition of the function `div_42` where now you should abort with the expression `failwith` and a meaningful error message."
   ]
  },
  {
   "cell_type": "code",
   "execution_count": null,
   "metadata": {
    "vscode": {
     "languageId": "ocaml"
    }
   },
   "outputs": [],
   "source": [
    "let div_42 y =\n",
    "  if y = 0 then\n",
    "    0 (* Change here. *)\n",
    "  else\n",
    "    42 / y"
   ]
  },
  {
   "cell_type": "markdown",
   "metadata": {},
   "source": [
    "---"
   ]
  },
  {
   "cell_type": "markdown",
   "metadata": {},
   "source": [
    "## Expressions: Computations\n",
    "\n",
    "### 🔹 Exercise 6:\n",
    "Complete the definition of the `circle_area` function that computes the area of a circle. This function takes as a argument a floating-point value `r`, the circle's radius, and returns a floating-point with the computed area.\n",
    "\n",
    "Recall the formula to compute the area of a circle, given a radius $r$:\n",
    "$$\n",
    "A = \\pi r^2\n",
    "$$\n",
    "\n",
    "Consider the value of $\\pi$ as being $3.1416$.\n",
    "\n",
    "You should also write, commented, the signature of the function `circle_are`. It is a good habit."
   ]
  },
  {
   "cell_type": "code",
   "execution_count": null,
   "metadata": {
    "vscode": {
     "languageId": "ocaml"
    }
   },
   "outputs": [],
   "source": [
    "let circle_area r =\n",
    "  0.0 (* Complete here. *)"
   ]
  },
  {
   "cell_type": "markdown",
   "metadata": {},
   "source": [
    "You can confirm the correction of your definition executing the following expressions:"
   ]
  },
  {
   "cell_type": "code",
   "execution_count": null,
   "metadata": {
    "vscode": {
     "languageId": "ocaml"
    }
   },
   "outputs": [],
   "source": [
    "let epsilon = 0.00000001;;\n",
    "assert (circle_area 10.0 >= 314.16 -. epsilon);;\n",
    "assert (circle_area 10.0 <= 314.16 +. epsilon);;\n",
    "assert (circle_area 5.0 >= 78.54 -. epsilon);;\n",
    "assert (circle_area 5.0 <= 78.54 +. epsilon);;\n",
    "assert (circle_area 1.0 >= 3.1416 -. epsilon);;\n",
    "assert (circle_area 1.0 <= 3.1416 +. epsilon);;"
   ]
  },
  {
   "cell_type": "markdown",
   "metadata": {},
   "source": [
    "> #### 💡 **A note on programming**\n",
    ">\n",
    "> Due to rounding errors, most floating-point numbers end up being slightly imprecise. \n",
    ">\n",
    ">As long as this imprecision ($\\epsilon$) stays small, it can usually be ignored. However, it also means that numbers expected to be equal often differ slightly, and a simple equality test fails[1].\n",
    ">\n",
    "> [1] Source and recommended reading material: https://floating-point-gui.de/errors/comparison/\n"
   ]
  },
  {
   "cell_type": "markdown",
   "metadata": {},
   "source": [
    "> #### 💡 **On assertions:**  \n",
    ">\n",
    "> O conjunto de expressões `assert` apresentadas actua como um conjunto de testes unitários para a função `circle_area`. \n",
    "> The set of expressions `assert` presented act as a set of unit tests for the `circle_area` function. If all the previous \n",
    "> expressions executed correctly, you can consider function the function \"correct\" ✅. \n",
    ">\n",
    "> If at least one the `assert` expressions aborted execution with an `Assertion Failure` error, you must fix your implementation\n",
    "> of the `circle_area` function.\n",
    "> \n",
    ">\n",
    "> ✏️ **Note:** If an `assert` expression aborts execution, all subsequent expressions in the code block will not be executed (in practice,\n",
    "> a *runtime* exception propagates to the top level). This means that multiple `assert` expressions may fail to execute correctly, \n",
    "> and fixing one issue does not guarantee that the remaining expressions will execute without problems."
   ]
  },
  {
   "cell_type": "markdown",
   "metadata": {},
   "source": [
    "---"
   ]
  },
  {
   "cell_type": "markdown",
   "metadata": {},
   "source": [
    "### 🔹 Exercise 7:\n",
    "\n",
    "Create your own unit testing suite for the function `sign`, using `assert` expressions."
   ]
  },
  {
   "cell_type": "code",
   "execution_count": null,
   "metadata": {
    "vscode": {
     "languageId": "ocaml"
    }
   },
   "outputs": [],
   "source": [
    "(* Complete here *)"
   ]
  },
  {
   "cell_type": "markdown",
   "metadata": {},
   "source": [
    "---"
   ]
  },
  {
   "cell_type": "markdown",
   "metadata": {},
   "source": [
    "### 🔹 Exercise 8:\n",
    "\n",
    "You probably did not consider the case where the radius is a non-positive value in the definition of the `circle_area` function. Define a new version of the `circle_area` function using case analysis:\n",
    "\n",
    "* If the value of `r` is negative or zero, use the expression `assert false` to indicate an unreachable point in the code.  \n",
    "* Otherwise, return the calculated area value.\n"
   ]
  },
  {
   "cell_type": "code",
   "execution_count": null,
   "metadata": {
    "vscode": {
     "languageId": "ocaml"
    }
   },
   "outputs": [],
   "source": [
    "let circle_area r =\n",
    "  0.0 (* Complete here. *)"
   ]
  },
  {
   "cell_type": "markdown",
   "metadata": {},
   "source": [
    "You can confirm the correctness of your function executing the following expressions:"
   ]
  },
  {
   "cell_type": "code",
   "execution_count": null,
   "metadata": {
    "vscode": {
     "languageId": "ocaml"
    }
   },
   "outputs": [],
   "source": [
    "let epsilon = 0.00000001;;\n",
    "assert (circle_area 10.0 >= 314.16 -. epsilon);;\n",
    "assert (circle_area 10.0 <= 314.16 +. epsilon);;\n",
    "assert (circle_area 5.0 >= 78.54 -. epsilon);;\n",
    "assert (circle_area 5.0 <= 78.54 +. epsilon);;\n",
    "assert (circle_area 1.0 >= 3.1416 -. epsilon);;\n",
    "assert (circle_area 1.0 <= 3.1416 +. epsilon);;\n",
    "assert (circle_area 0.0 = 42.0);;"
   ]
  },
  {
   "cell_type": "markdown",
   "metadata": {},
   "source": [
    "In this case, if everything went according to plan, the last `assert` expression should abort the execution."
   ]
  }
 ],
 "metadata": {
  "kernelspec": {
   "display_name": "OCaml lap2025",
   "language": "OCaml",
   "name": "ocaml-jupyter"
  },
  "language_info": {
   "codemirror_mode": "text/x-ocaml",
   "file_extension": ".ml",
   "mimetype": "text/x-ocaml",
   "name": "OCaml",
   "nbconverter_exporter": null,
   "pygments_lexer": "OCaml",
   "version": "4.14.0"
  }
 },
 "nbformat": 4,
 "nbformat_minor": 2
}
