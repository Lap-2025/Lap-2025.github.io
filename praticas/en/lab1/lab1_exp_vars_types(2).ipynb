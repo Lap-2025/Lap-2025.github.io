{
 "cells": [
  {
   "cell_type": "markdown",
   "metadata": {},
   "source": [
    "# Expressions, Variables and Types in OCaml\n",
    "\n",
    "In this lab we will tackle exercises on basic concepts in OCaml, namely expressions, variables and types.\n",
    "\n",
    "Most of the exercises present OCaml code snippets that you should analyze or complete. In this case, you can directly modify this file and use the `Jupyter Notebook` to directly execute the code and analyze the result produced by the OCaml interpreter. However, you should not immediately use the `Notebook` to get an answer; try to answer the questions with what you have already learned in the theoretical classes or by reading the recommended bibliography. In general, it is a **very** good work practice to reflect first on a question and only then use the `Notebook` to confirm your intuitions/conclusions.\n",
    "\n",
    "To solve some exercises, we recommend that you use the *Universal OCaml Interpreter* through the `utop` program, or answer directly in an `OCaml` cell."
   ]
  },
  {
   "cell_type": "markdown",
   "metadata": {},
   "source": [
    "***"
   ]
  },
  {
   "cell_type": "markdown",
   "metadata": {},
   "source": [
    "## Types: Typing Errors"
   ]
  },
  {
   "cell_type": "markdown",
   "metadata": {},
   "source": [
    "### 🔹 Exercise 1:\n",
    "\n",
    "\n",
    "Indicate whether the following programs are **well-typed** or **ill-typed**.<br>\n",
    "- If they are well-typed, indicate the type of all global variables.<br>\n",
    "- If they are ill-typed, indicate the nature of the error and propose a change to the program that would make it well-typed."
   ]
  },
  {
   "cell_type": "markdown",
   "metadata": {},
   "source": [
    "\n",
    "```OCaml\n",
    "(1) let x = 3;;\n",
    "```\n",
    "<div class=\"quiz-container\" style=\"border: 1px solid #ccc; padding: 15px; border-radius: 5px; background-color: #f9f9f9; margin: 10px 0;\">\n",
    "  <div class=\"radio-options\">\n",
    "    <label>\n",
    "      <input type=\"radio\" name=\"type-check\" value=\"well-typed\" id=\"well-typed-radio\"> Well-typed\n",
    "    </label>\n",
    "    <br>\n",
    "    <label>\n",
    "      <input type=\"radio\" name=\"type-check\" value=\"ill-typed\" id=\"ill-typed-radio\"> Ill-typed\n",
    "    </label>\n",
    "  </div>\n",
    "</div>\n",
    "\n",
    "```OCaml\n",
    "(2) let y = 4;;\n",
    "```\n",
    "<div class=\"quiz-container1\" style=\"border: 1px solid #ccc; padding: 15px; border-radius: 5px; background-color: #f9f9f9; margin: 10px 0;\">\n",
    "  <div class=\"radio-options\">\n",
    "    <label>\n",
    "      <input type=\"radio\" name=\"type-check1\" value=\"well-typed\" id=\"well-typed-radio\"> Well-typed\n",
    "    </label>\n",
    "    <br>\n",
    "    <label>\n",
    "      <input type=\"radio\" name=\"type-check1\" value=\"ill-typed\" id=\"ill-typed-radio\"> Ill-typed\n",
    "    </label>\n",
    "  </div>\n",
    "</div>\n",
    "\n",
    "```OCaml \n",
    "(3) let w = string_of_int x + y;;\n",
    "```\n",
    "<div class=\"quiz-container2\" style=\"border: 1px solid #ccc; padding: 15px; border-radius: 5px; background-color: #f9f9f9; margin: 10px 0;\">\n",
    "  <div class=\"radio-options\">\n",
    "    <label>\n",
    "      <input type=\"radio\" name=\"type-check2\" value=\"well-typed\" id=\"well-typed-radio\"> Well-typed\n",
    "    </label>\n",
    "    <br>\n",
    "    <label>\n",
    "      <input type=\"radio\" name=\"type-check2\" value=\"ill-typed\" id=\"ill-typed-radio\"> Ill-typed\n",
    "    </label>\n",
    "  </div>\n",
    "</div>\n",
    "\n",
    "```OCaml\n",
    "(4) let x = 47;;\n",
    "```\n",
    "<div class=\"quiz-container\" style=\"border: 1px solid #ccc; padding: 15px; border-radius: 5px; background-color: #f9f9f9; margin: 10px 0;\">\n",
    "  <div class=\"radio-options\">\n",
    "    <label>\n",
    "      <input type=\"radio\" name=\"type-check3\" value=\"well-typed\" id=\"well-typed-radio\"> Well-typed\n",
    "    </label>\n",
    "    <br>\n",
    "    <label>\n",
    "      <input type=\"radio\" name=\"type-check3\" value=\"ill-typed\" id=\"ill-typed-radio\"> Ill-typed\n",
    "    </label>\n",
    "  </div>\n",
    "</div>\n",
    "\n",
    "\n",
    "```OCaml\n",
    "(5) let y = \n",
    "    if x mod 2 = 0 then\n",
    "      3.0\n",
    "    else\n",
    "      4.0;;\n",
    "```\n",
    "<div class=\"quiz-container\" style=\"border: 1px solid #ccc; padding: 15px; border-radius: 5px; background-color: #f9f9f9; margin: 10px 0;\">\n",
    "  <div class=\"radio-options\">\n",
    "    <label>\n",
    "      <input type=\"radio\" name=\"type-check4\" value=\"well-typed\" id=\"well-typed-radio\"> Well-typed\n",
    "    </label>\n",
    "    <br>\n",
    "    <label>\n",
    "      <input type=\"radio\" name=\"type-check4\" value=\"ill-typed\" id=\"ill-typed-radio\"> Ill-typed\n",
    "    </label>\n",
    "  </div>\n",
    "</div>\n",
    "\n",
    "\n",
    "```OCaml\n",
    "(6) let w = x + y;;\n",
    "```\n",
    "<div class=\"quiz-container\" style=\"border: 1px solid #ccc; padding: 15px; border-radius: 5px; background-color: #f9f9f9; margin: 10px 0;\">\n",
    "  <div class=\"radio-options\">\n",
    "    <label>\n",
    "      <input type=\"radio\" name=\"type-check5\" value=\"well-typed\" id=\"well-typed-radio\"> Well-typed\n",
    "    </label>\n",
    "    <br>\n",
    "    <label>\n",
    "      <input type=\"radio\" name=\"type-check5\" value=\"ill-typed\" id=\"ill-typed-radio\"> Ill-typed\n",
    "    </label>\n",
    "  </div>\n",
    "</div>\n"
   ]
  },
  {
   "cell_type": "markdown",
   "metadata": {},
   "source": [
    "***"
   ]
  },
  {
   "cell_type": "markdown",
   "metadata": {},
   "source": [
    "## Expressions: Nested `let`"
   ]
  },
  {
   "cell_type": "markdown",
   "metadata": {},
   "source": [
    "### 🔹 Exercise 2:\n",
    "\n",
    "What is value of the variable `w`?\n",
    "\n",
    "```OCaml\n",
    "let x = 10;;\n",
    "let x = \n",
    "  let y = 10 + x in\n",
    "  let y = let x = y * x in y + x in\n",
    "  y + x ;;\n",
    "let w = x + 100;;\n",
    "```"
   ]
  },
  {
   "cell_type": "markdown",
   "metadata": {},
   "source": [
    "⚠️ **Answer**: [complete here]"
   ]
  },
  {
   "cell_type": "markdown",
   "metadata": {},
   "source": [
    "### 🔹 Exercise 3:\n",
    "\n",
    "What is the value of the variable `x`?\n",
    "\n",
    "```OCaml\n",
    "let x =\n",
    "  let x = \n",
    "    let x = 5 in\n",
    "    let x = x + x in\n",
    "    x * x * x in\n",
    "  let x = float_of_int x in\n",
    "  let x = x /. 5.0 in\n",
    "  x\n",
    "```"
   ]
  },
  {
   "cell_type": "markdown",
   "metadata": {},
   "source": [
    "⚠️ **Answer**: [complete here]"
   ]
  },
  {
   "cell_type": "markdown",
   "metadata": {},
   "source": [
    "### 🔹 Exercise 4:\n",
    "\n",
    "What is the type of `x`?\n",
    "\n",
    "```OCaml\n",
    "let x =\n",
    "  let x = \n",
    "    let x = 2.0 in\n",
    "    let y = 10.0 in\n",
    "    y +. x *. y in\n",
    "  let z = int_of_float x in\n",
    "  let x = z * z in\n",
    "  \"Here is my result: \" ^ (string_of_int x);;\n",
    "```\n",
    "  "
   ]
  },
  {
   "cell_type": "markdown",
   "metadata": {},
   "source": [
    "⚠️ **Answer**: [complete here]"
   ]
  },
  {
   "cell_type": "markdown",
   "metadata": {},
   "source": [
    "***"
   ]
  },
  {
   "cell_type": "markdown",
   "metadata": {},
   "source": [
    "\n",
    "## Expressions: Comparison\n",
    "\n",
    "Consider the following variable declarations `x` and `y` in OCaml:\n",
    "\n",
    "```OCaml\n",
    "let x = 42;;\n",
    "let y = 42;;\n",
    "```\n"
   ]
  },
  {
   "cell_type": "markdown",
   "metadata": {},
   "source": [
    "### 🔹 Exercise 5:\n",
    "What is the type of the variable `x` and `y`?"
   ]
  },
  {
   "cell_type": "markdown",
   "metadata": {},
   "source": [
    "⚠️ **Answer**: [complete here]"
   ]
  },
  {
   "cell_type": "markdown",
   "metadata": {},
   "source": [
    "### 🔹 Exercise 6: \n",
    "Qual o resultado das seguintes Expressions Booleanas? \n",
    "\n",
    "```OCaml\n",
    "x = y;;\n",
    "```"
   ]
  },
  {
   "cell_type": "markdown",
   "metadata": {},
   "source": [
    "⚠️ **Answer**: [complete here]"
   ]
  },
  {
   "cell_type": "markdown",
   "metadata": {},
   "source": [
    "\n",
    "```OCaml\n",
    "x == y;;\n",
    "```\n"
   ]
  },
  {
   "cell_type": "markdown",
   "metadata": {},
   "source": [
    "⚠️ **Answer**: [complete here] <br>\n",
    "❓ **Why?** "
   ]
  },
  {
   "cell_type": "markdown",
   "metadata": {},
   "source": [
    "### 🔹 Exercise 7:\n",
    "\n",
    "Now consider the following declarations:\n",
    "\n",
    "```OCaml\n",
    "let a = \"lap is cool\";;\n",
    "let b = \"lap is cool\";;\n",
    "```"
   ]
  },
  {
   "cell_type": "markdown",
   "metadata": {},
   "source": [
    "What is the result of the following Boolean expressions?\n",
    "\n",
    "```OCaml\n",
    "a = b\n",
    "```\n"
   ]
  },
  {
   "cell_type": "markdown",
   "metadata": {},
   "source": [
    "⚠️ **Answer**: [complete here]"
   ]
  },
  {
   "cell_type": "markdown",
   "metadata": {},
   "source": [
    "\n",
    "```OCaml\n",
    "a == b;;\n",
    "```\n"
   ]
  },
  {
   "cell_type": "markdown",
   "metadata": {},
   "source": [
    "⚠️ **Answer**: [complete here] <br>\n",
    "❓ **Why?** "
   ]
  },
  {
   "cell_type": "markdown",
   "metadata": {},
   "source": [
    "***"
   ]
  },
  {
   "cell_type": "markdown",
   "metadata": {},
   "source": [
    "## Expressions: Assertions\n",
    "\n",
    "### 🔹 Exercise 8:\n",
    "\n",
    "What is the result of the following expression?"
   ]
  },
  {
   "cell_type": "markdown",
   "metadata": {
    "vscode": {
     "languageId": "ocaml"
    }
   },
   "source": [
    "```OCaml\n",
    "assert true;;\n",
    "```"
   ]
  },
  {
   "cell_type": "markdown",
   "metadata": {},
   "source": [
    "⚠️ **Answer**: [complete here]"
   ]
  },
  {
   "cell_type": "markdown",
   "metadata": {},
   "source": [
    "### 🔹 Exercise 9:\n",
    "\n",
    "What is the result of the following expression?"
   ]
  },
  {
   "cell_type": "markdown",
   "metadata": {
    "vscode": {
     "languageId": "ocaml"
    }
   },
   "source": [
    "```OCaml\n",
    "let x = 0;;\n",
    "assert (x > 0);;\n",
    "```"
   ]
  },
  {
   "cell_type": "markdown",
   "metadata": {},
   "source": [
    "⚠️ **Answer**: [complete here]"
   ]
  },
  {
   "cell_type": "markdown",
   "metadata": {},
   "source": [
    "### 🔹 Exercise 10:\n",
    "\n",
    "Write in the `utop`, or the cell bellow, an expression that check, using an `assert` that \"OCaml\" is structurally diferent to \"Java\""
   ]
  },
  {
   "cell_type": "code",
   "execution_count": null,
   "metadata": {
    "vscode": {
     "languageId": "ocaml"
    }
   },
   "outputs": [],
   "source": [
    "(* complete here *)"
   ]
  },
  {
   "cell_type": "markdown",
   "metadata": {},
   "source": [
    "***"
   ]
  },
  {
   "cell_type": "markdown",
   "metadata": {},
   "source": [
    "## Expressions: Conditionals and Booleans"
   ]
  },
  {
   "cell_type": "markdown",
   "metadata": {},
   "source": [
    "### 🔹 Exercise 11:\n",
    "\n",
    "What is the value of the variable `b` in the following expressions?"
   ]
  },
  {
   "cell_type": "markdown",
   "metadata": {},
   "source": [
    "\n",
    "```OCaml\n",
    "(1) let b = if true then false else true;;\n",
    "```\n"
   ]
  },
  {
   "cell_type": "markdown",
   "metadata": {},
   "source": [
    "⚠️ **Answer**: [complete here]"
   ]
  },
  {
   "cell_type": "markdown",
   "metadata": {},
   "source": [
    "\n",
    "\n",
    "```OCaml\n",
    "(2) let b = not b;;\n",
    "```\n"
   ]
  },
  {
   "cell_type": "markdown",
   "metadata": {},
   "source": [
    "⚠️ **Answer**: [complete here]"
   ]
  },
  {
   "cell_type": "markdown",
   "metadata": {},
   "source": [
    "\n",
    "```OCaml\n",
    "(3) let b = 73 > 42;;\n",
    "``` "
   ]
  },
  {
   "cell_type": "markdown",
   "metadata": {},
   "source": [
    "⚠️ **Answer**: [complete here]"
   ]
  },
  {
   "cell_type": "markdown",
   "metadata": {},
   "source": [
    "### 🔹 Exercise 12:\n",
    "\n",
    "Write in the `utop`, or the cell bellow, an expression that evaluates to `42` if `2` is greater than `1`, otherwise to the value `73`."
   ]
  },
  {
   "cell_type": "code",
   "execution_count": 1,
   "metadata": {
    "vscode": {
     "languageId": "ocaml"
    }
   },
   "outputs": [],
   "source": [
    "(* complete here *)"
   ]
  },
  {
   "cell_type": "markdown",
   "metadata": {},
   "source": [
    "***"
   ]
  },
  {
   "cell_type": "markdown",
   "metadata": {},
   "source": [
    "## Expressions: Strings"
   ]
  },
  {
   "cell_type": "markdown",
   "metadata": {},
   "source": [
    "### 🔹 Exercise 13:\n",
    "\n",
    "What is the value of variable `w`?\n",
    "\n",
    "```OCaml\n",
    "let x = \"hello \";;\n",
    "let y = \"world!\";;\n",
    "let w = x ^ y;;\n",
    "```\n"
   ]
  },
  {
   "cell_type": "markdown",
   "metadata": {},
   "source": [
    "⚠️ **Answer**: [complete here]"
   ]
  },
  {
   "cell_type": "markdown",
   "metadata": {},
   "source": [
    "### 🔹 Exercise 14:\n",
    "\n",
    "What is the value of the variable `w`?"
   ]
  },
  {
   "cell_type": "markdown",
   "metadata": {
    "vscode": {
     "languageId": "ocaml"
    }
   },
   "source": [
    "```OCaml\n",
    "let w = (if 42 < 73 then \"goodbye \" else \"hello \") ^ \"world\";;\n",
    "```"
   ]
  },
  {
   "cell_type": "markdown",
   "metadata": {},
   "source": [
    "⚠️ **Answer**: [complete here]"
   ]
  }
 ],
 "metadata": {
  "kernelspec": {
   "display_name": "OCaml lap2025",
   "language": "OCaml",
   "name": "ocaml-jupyter"
  },
  "language_info": {
   "codemirror_mode": "text/x-ocaml",
   "file_extension": ".ml",
   "mimetype": "text/x-ocaml",
   "name": "OCaml",
   "nbconverter_exporter": null,
   "pygments_lexer": "OCaml",
   "version": "4.14.0"
  }
 },
 "nbformat": 4,
 "nbformat_minor": 2
}
