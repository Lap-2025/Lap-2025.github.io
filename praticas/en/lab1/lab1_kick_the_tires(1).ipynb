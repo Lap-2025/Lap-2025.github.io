{
 "cells": [
  {
   "cell_type": "markdown",
   "id": "632d471d-99b8-492b-ae15-0fa2fa9114cf",
   "metadata": {},
   "source": [
    "# Jypyter Notebook\n",
    "During the Programming Languages and Environments course, we will use `Jupyter Notebooks` as an environment to complete exercises of the practical labs."
   ]
  },
  {
   "cell_type": "markdown",
   "id": "d445af83-3695-44d7-9c08-438d294bf61e",
   "metadata": {},
   "source": [
    "Your first contact with `Jupyter Notebooks` will be relatively simple and is only meant to guarantee that all the necessary software and VS Code extensions were successfully installed. "
   ]
  },
  {
   "cell_type": "markdown",
   "id": "85e18f77-2271-47c9-8270-69b49f92ae92",
   "metadata": {},
   "source": [
    "As a starting point, you should click \"Run All\" on the top menu of this Notebook. It is expected that VS Code prompts you regarding which `kernel` to execute. You should select the `ocaml` kernel.\n",
    "\n",
    "If all cells execute correctly (you should see a green tick next to each one), then you're all set!"
   ]
  },
  {
   "cell_type": "code",
   "execution_count": null,
   "id": "d160d195",
   "metadata": {
    "vscode": {
     "languageId": "ocaml"
    }
   },
   "outputs": [],
   "source": [
    "let x = 1;;"
   ]
  },
  {
   "cell_type": "code",
   "execution_count": null,
   "id": "c4d93e3f",
   "metadata": {
    "vscode": {
     "languageId": "ocaml"
    }
   },
   "outputs": [],
   "source": [
    "let y = x + x;;"
   ]
  },
  {
   "cell_type": "code",
   "execution_count": null,
   "id": "3369a857",
   "metadata": {
    "vscode": {
     "languageId": "ocaml"
    }
   },
   "outputs": [],
   "source": [
    "let rec flatten l =\n",
    "  match l with\n",
    "  | [] -> []\n",
    "  | x :: xs -> x @ flatten xs"
   ]
  },
  {
   "cell_type": "code",
   "execution_count": null,
   "id": "cdd156c5",
   "metadata": {
    "vscode": {
     "languageId": "ocaml"
    }
   },
   "outputs": [],
   "source": [
    "flatten [[1;2;3]; [4;5;6]; [7;8;9]]"
   ]
  }
 ],
 "metadata": {
  "kernelspec": {
   "display_name": "OCaml stable",
   "language": "OCaml",
   "name": "ocaml-jupyter"
  },
  "language_info": {
   "codemirror_mode": "text/x-ocaml",
   "file_extension": ".ml",
   "mimetype": "text/x-ocaml",
   "name": "OCaml",
   "nbconverter_exporter": null,
   "pygments_lexer": "OCaml",
   "version": "4.14.0"
  }
 },
 "nbformat": 4,
 "nbformat_minor": 5
}
