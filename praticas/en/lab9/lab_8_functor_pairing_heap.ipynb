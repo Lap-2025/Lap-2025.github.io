{
 "cells": [
  {
   "cell_type": "markdown",
   "metadata": {},
   "source": [
    "# Functores - Modular Data Structures "
   ]
  },
  {
   "cell_type": "markdown",
   "metadata": {},
   "source": [
    "## Pairing Heap with a Functor"
   ]
  },
  {
   "cell_type": "markdown",
   "metadata": {},
   "source": [
    "### 🔹 Exercise 1 ⭐️\n",
    "\n",
    "Recall the [Notebook](https://lap-2025.github.io/praticas/en/lab7/lab7_pairing_heap.ipynb) from last week.\n",
    "\n",
    "Complete the following signature `S`, which will serve as the interface for the *Pairing Heap* data structure. You should complete this signature based on the operations of a *Pairing Heap*. Compared to last week's *Notebook*, we have added only the `is_empty` operation, which checks whether a given *heap* is empty or not."
   ]
  },
  {
   "cell_type": "code",
   "execution_count": null,
   "metadata": {
    "vscode": {
     "languageId": "ocaml"
    }
   },
   "outputs": [],
   "source": [
    "module type S = \n",
    "  sig\n",
    "    (** The type of elements in the heap. *)\n",
    "    type elt\n",
    "\n",
    "    (** The type of the heap. *)\n",
    "    type t\n",
    "\n",
    "    (** The empty heap. *)\n",
    "    val create : unit -> t\n",
    "\n",
    "    (** Checks whether a given heap is empty. *)\n",
    "    val is_empty : t -> bool\n",
    "\n",
    "    (** Returns the minimum element of the heap, or [None] if the heap is empty. *)\n",
    "    val find_min : t -> elt option\n",
    "\n",
    "    (** Merges two heaps. *)\n",
    "    val merge : t -> t -> t\n",
    "\n",
    "    (** Adds a new element to the heap. *)\n",
    "    val add : elt -> t -> t\n",
    "\n",
    "    (** [delete_min h] returns a new heap containing all elements of [h] except the minimum. \n",
    "        If the heap is empty, it returns the empty heap. *)\n",
    "    val delete_min : t -> t     \n",
    "end\n"
   ]
  },
  {
   "cell_type": "markdown",
   "metadata": {},
   "source": [
    "### 🔹 Exercise 2 ⭐️\n",
    "\n",
    "Complete the `ORD` signature below. This signature should represent values of a type `t` equipped with an ordering relation. Thus, you should add a function `leq` such that `leq x y` returns `true` if `x` is less than or equal to `y`; `false` otherwise."
   ]
  },
  {
   "cell_type": "code",
   "execution_count": null,
   "metadata": {
    "vscode": {
     "languageId": "ocaml"
    }
   },
   "outputs": [],
   "source": [
    "module type ORD = sig\n",
    "  type t\n",
    "  (* Complete here *)\n",
    "end"
   ]
  },
  {
   "cell_type": "markdown",
   "metadata": {},
   "source": [
    "### 🔹 Exercise 3 ⭐️⭐️\n",
    "\n",
    "Now use the previously defined `S` and `ORD` signatures to create a functorial implementation of a *Pairing Heap*. You should complete the indicated operations so that the following constraint holds:\n",
    "\n",
    "```ocaml\n",
    "S with type elt = O.t\n",
    "```"
   ]
  },
  {
   "cell_type": "code",
   "execution_count": null,
   "metadata": {
    "vscode": {
     "languageId": "ocaml"
    }
   },
   "outputs": [],
   "source": [
    "module Make (O : ORD) : S with type elt = O.t = \n",
    "  struct\n",
    "    type elt = (* Complete here *)\n",
    "\n",
    "    type tree = (* Complete here *)\n",
    "\n",
    "    type t = \n",
    "      | E \n",
    "      | N of tree\n",
    "\n",
    "    let create = E\n",
    "\n",
    "    let is_empty h =\n",
    "      assert false (* Complete here *)\n",
    "\n",
    "    let find_min h =\n",
    "      match h with\n",
    "      | E -> None\n",
    "      | N _ -> assert false (* Complete here *)\n",
    "\n",
    "    let merge h1 h2 =\n",
    "      match h1, h2 with\n",
    "      | E, h -> h\n",
    "      | h, E -> h\n",
    "      | N _, N _ -> assert false (* Complete here *)\n",
    "\n",
    "    let add x h =\n",
    "      assert false (* Complete here *)\n",
    "\n",
    "    let rec merge_list h =\n",
    "      match h with\n",
    "      | [] -> E\n",
    "      | [ t ] -> N t\n",
    "      | t1 :: t2 :: r -> merge (merge (N t1) (N t2)) (merge_list r)\n",
    "\n",
    "    let delete_min h =\n",
    "      match h with\n",
    "      | E -> E\n",
    "      | N _ -> assert false (* Complete here *)\n",
    "  end"
   ]
  },
  {
   "cell_type": "markdown",
   "metadata": {},
   "source": [
    "## Application: Modular HeapSort "
   ]
  },
  {
   "cell_type": "markdown",
   "metadata": {},
   "source": [
    "### 🔹 Exercise 4 ⭐️⭐️⭐️\n",
    "\n",
    "Use the `Make` functor from the previous question to define a modular implementation of the `heap sort` algorithm over lists. This algorithm works as follows:\n",
    "\n",
    "1. Insert all elements from the list into a heap;\n",
    "2. Recursively remove the minimum element from the heap until it is empty. As each element is removed, it should be added to a new list;\n",
    "3. The new list contains the elements in reverse order. Reverse this list to obtain a sorted permutation of the original list `l`.\n",
    "\n",
    "Start by defining the module `Heap`, which should be an instance of the previously defined `Make` functor. Try experimenting with different types for the heap elements, such as integers or strings.\n",
    "\n",
    "**Hint:** start by defining two helper functions, `heapify` and `de_heapify`, corresponding respectively to steps 1 and 2 described above."
   ]
  },
  {
   "cell_type": "code",
   "execution_count": null,
   "metadata": {
    "vscode": {
     "languageId": "ocaml"
    }
   },
   "outputs": [],
   "source": [
    "module Heap (* Complete here *)\n",
    "\n",
    "let heapsort l =\n",
    "  assert false (* Complete here *)"
   ]
  },
  {
   "cell_type": "code",
   "execution_count": null,
   "metadata": {
    "vscode": {
     "languageId": "ocaml"
    }
   },
   "outputs": [],
   "source": [
    "(* Unit tests *)"
   ]
  }
 ],
 "metadata": {
  "kernelspec": {
   "display_name": "OCaml lap2024-teacher",
   "language": "OCaml",
   "name": "ocaml-jupyter"
  },
  "language_info": {
   "codemirror_mode": "text/x-ocaml",
   "file_extension": ".ml",
   "mimetype": "text/x-ocaml",
   "name": "OCaml",
   "nbconverter_exporter": null,
   "pygments_lexer": "OCaml",
   "version": "4.14.0"
  }
 },
 "nbformat": 4,
 "nbformat_minor": 2
}
