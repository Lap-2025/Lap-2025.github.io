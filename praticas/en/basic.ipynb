{
 "cells": [
  {
   "cell_type": "markdown",
   "metadata": {},
   "source": [
    "# Expressions, Variables and Types in OCaml\n",
    "\n",
    "In this lab we will tackle exercises on basic concepts in OCaml, namely expressions, variables and types.\n",
    "\n",
    "Most of the exercises present OCaml code snippets that you should analyze or complete. In this case, you can directly modify this file and use the `Jupyter Notebook` to directly execute the code and analyze the result produced by the OCaml interpreter. However, you should not immediately use the `Notebook` to get an answer; try to answer the questions with what you have already learned in the theoretical classes or by reading the recommended bibliography. In general, it is a **very** good work practice to reflect first on a question and only then use the `Notebook` to confirm your intuitions/conclusions.\n",
    "\n",
    "To solve some exercises, we recommend that you use the *Universal OCaml Interpreter* through the `utop` program."
   ]
  },
  {
   "cell_type": "markdown",
   "metadata": {},
   "source": [
    "## Types\n"
   ]
  },
  {
   "cell_type": "markdown",
   "metadata": {},
   "source": [
    "### Exercise:\n",
    "\n",
    "What is the type of `x` in the following expressions. Answer below and then check your answer using `utop`.\n",
    "\n",
    "```ocaml\n",
    "let f x = if x then x else x\n",
    "```\n",
    "Answer: **Complete Here**\n",
    "\n",
    "```ocaml\n",
    "let f x = if x > 0 then 73 else 42\n",
    "```\n",
    "Answer: **Complete Here**\n",
    "\n",
    "```ocaml\n",
    "let f x = if x > 0.0 then 73 else 42\n",
    "```\n",
    "Answer: **Complete Here**\n",
    "\n",
    "```ocaml\n",
    "let f x = if x <> x then 0 else -1\n",
    "```\n",
    "Answer: **Complete Here**\n",
    "\n",
    "```ocaml\n",
    "let f x = if x <> \"\" then 42 else 73```\n",
    "```\n",
    "Answer: **Complete Here**\n"
   ]
  },
  {
   "cell_type": "markdown",
   "metadata": {},
   "source": [
    "## Types: typing errors"
   ]
  },
  {
   "cell_type": "markdown",
   "metadata": {},
   "source": [
    "### Exercise:\n",
    "\n",
    "Indicate whether the following programs are **well-typed** or **ill-typed**.\n",
    "\n",
    "If they are well-typed, indicate the type of all global variables.\n",
    " \n",
    "If they are ill-typed, indicate the nature of the error and propose a change to the program that would make it well-typed."
   ]
  },
  {
   "cell_type": "markdown",
   "metadata": {},
   "source": [
    "#### Example 1\n",
    "\n",
    "```ocaml\n",
    "let x = 3;;\n",
    "```\n",
    "## Type Checking Quiz\n",
    "\n",
    "Is the following expression well-typed?\n",
    "\n",
    "```ocaml\n",
    "let f x y = x + (y : string)\n",
    "```\n",
    "<div class=\"quiz-container\" style=\"border: 1px solid #ccc; padding: 15px; border-radius: 5px; background-color: #f9f9f9; margin: 10px 0;\">\n",
    "  <div class=\"radio-options\">\n",
    "    <label>\n",
    "      <input type=\"radio\" name=\"type-check\" value=\"well-typed\" id=\"well-typed-radio\"> Well-typed\n",
    "    </label>\n",
    "    <br>\n",
    "    <label>\n",
    "      <input type=\"radio\" name=\"type-check\" value=\"ill-typed\" id=\"ill-typed-radio\"> Ill-typed\n",
    "    </label>\n",
    "  </div>\n",
    "</div>\n",
    "\n",
    "```ocaml\n",
    "let y = 4;;\n",
    "```\n",
    "<div class=\"quiz-container\" style=\"border: 1px solid #ccc; padding: 15px; border-radius: 5px; background-color: #f9f9f9; margin: 10px 0;\">\n",
    "  <div class=\"radio-options\">\n",
    "    <label>\n",
    "      <input type=\"radio\" name=\"type-check\" value=\"well-typed\" id=\"well-typed-radio\"> Well-typed\n",
    "    </label>\n",
    "    <br>\n",
    "    <label>\n",
    "      <input type=\"radio\" name=\"type-check\" value=\"ill-typed\" id=\"ill-typed-radio\"> Ill-typed\n",
    "    </label>\n",
    "  </div>\n",
    "</div>\n",
    "\n",
    "```ocaml \n",
    "let w = string_of_int x + y;;\n",
    "```\n",
    "<div class=\"quiz-container\" style=\"border: 1px solid #ccc; padding: 15px; border-radius: 5px; background-color: #f9f9f9; margin: 10px 0;\">\n",
    "  <div class=\"radio-options\">\n",
    "    <label>\n",
    "      <input type=\"radio\" name=\"type-check\" value=\"well-typed\" id=\"well-typed-radio\"> Well-typed\n",
    "    </label>\n",
    "    <br>\n",
    "    <label>\n",
    "      <input type=\"radio\" name=\"type-check\" value=\"ill-typed\" id=\"ill-typed-radio\"> Ill-typed\n",
    "    </label>\n",
    "  </div>\n",
    "</div>\n"
   ]
  },
  {
   "cell_type": "markdown",
   "metadata": {},
   "source": [
    "Answer: **Complete Here**"
   ]
  },
  {
   "cell_type": "markdown",
   "metadata": {
    "vscode": {
     "languageId": "plaintext"
    }
   },
   "source": [
    "### Example 2\n",
    "\n",
    "```ocaml\n",
    "let x = 47;;\n",
    "```\n",
    "<div class=\"quiz-container\" style=\"border: 1px solid #ccc; padding: 15px; border-radius: 5px; background-color: #f9f9f9; margin: 10px 0;\">\n",
    "  <div class=\"radio-options\">\n",
    "    <label>\n",
    "      <input type=\"radio\" name=\"type-check\" value=\"well-typed\" id=\"well-typed-radio\"> Well-typed\n",
    "    </label>\n",
    "    <br>\n",
    "    <label>\n",
    "      <input type=\"radio\" name=\"type-check\" value=\"ill-typed\" id=\"ill-typed-radio\"> Ill-typed\n",
    "    </label>\n",
    "  </div>\n",
    "</div>\n",
    "\n",
    "```ocaml\n",
    "let y = \n",
    "  if x mod 2 = 0 then\n",
    "    3.0\n",
    "  else\n",
    "    4.0;;\n",
    "```\n",
    "<div class=\"quiz-container\" style=\"border: 1px solid #ccc; padding: 15px; border-radius: 5px; background-color: #f9f9f9; margin: 10px 0;\">\n",
    "  <div class=\"radio-options\">\n",
    "    <label>\n",
    "      <input type=\"radio\" name=\"type-check\" value=\"well-typed\" id=\"well-typed-radio\"> Well-typed\n",
    "    </label>\n",
    "    <br>\n",
    "    <label>\n",
    "      <input type=\"radio\" name=\"type-check\" value=\"ill-typed\" id=\"ill-typed-radio\"> Ill-typed\n",
    "    </label>\n",
    "  </div>\n",
    "</div>\n",
    "\n",
    "```ocaml\n",
    "let w = x + y;;\n",
    "```\n",
    "<div class=\"quiz-container\" style=\"border: 1px solid #ccc; padding: 15px; border-radius: 5px; background-color: #f9f9f9; margin: 10px 0;\">\n",
    "  <div class=\"radio-options\">\n",
    "    <label>\n",
    "      <input type=\"radio\" name=\"type-check\" value=\"well-typed\" id=\"well-typed-radio\"> Well-typed\n",
    "    </label>\n",
    "    <br>\n",
    "    <label>\n",
    "      <input type=\"radio\" name=\"type-check\" value=\"ill-typed\" id=\"ill-typed-radio\"> Ill-typed\n",
    "    </label>\n",
    "  </div>\n",
    "</div>"
   ]
  },
  {
   "cell_type": "markdown",
   "metadata": {},
   "source": [
    "Answer: **Complete Here**"
   ]
  },
  {
   "cell_type": "markdown",
   "metadata": {},
   "source": [
    "### Example 3\n",
    "\n",
    "```ocaml\n",
    "let f x = (x + 1) * (x - 1);;\n",
    "```\n",
    "<div class=\"quiz-container\" style=\"border: 1px solid #ccc; padding: 15px; border-radius: 5px; background-color: #f9f9f9; margin: 10px 0;\">\n",
    "  <div class=\"radio-options\">\n",
    "    <label>\n",
    "      <input type=\"radio\" name=\"type-check\" value=\"well-typed\" id=\"well-typed-radio\"> Well-typed\n",
    "    </label>\n",
    "    <br>\n",
    "    <label>\n",
    "      <input type=\"radio\" name=\"type-check\" value=\"ill-typed\" id=\"ill-typed-radio\"> Ill-typed\n",
    "    </label>\n",
    "  </div>\n",
    "</div>\n",
    "\n",
    "```ocaml\n",
    "let u = f (f 2);;\n",
    "```\n",
    "<div class=\"quiz-container\" style=\"border: 1px solid #ccc; padding: 15px; border-radius: 5px; background-color: #f9f9f9; margin: 10px 0;\">\n",
    "  <div class=\"radio-options\">\n",
    "    <label>\n",
    "      <input type=\"radio\" name=\"type-check\" value=\"well-typed\" id=\"well-typed-radio\"> Well-typed\n",
    "    </label>\n",
    "    <br>\n",
    "    <label>\n",
    "      <input type=\"radio\" name=\"type-check\" value=\"ill-typed\" id=\"ill-typed-radio\"> Ill-typed\n",
    "    </label>\n",
    "  </div>\n",
    "</div>"
   ]
  },
  {
   "cell_type": "markdown",
   "metadata": {},
   "source": [
    "Answer: **Complete Here**"
   ]
  },
  {
   "cell_type": "markdown",
   "metadata": {},
   "source": [
    "### Program 4\n",
    "\n",
    "```ocaml\n",
    "let f x = x / 17;;\n",
    "```\n",
    "<div class=\"quiz-container\" style=\"border: 1px solid #ccc; padding: 15px; border-radius: 5px; background-color: #f9f9f9; margin: 10px 0;\">\n",
    "  <div class=\"radio-options\">\n",
    "    <label>\n",
    "      <input type=\"radio\" name=\"type-check\" value=\"well-typed\" id=\"well-typed-radio\"> Well-typed\n",
    "    </label>\n",
    "    <br>\n",
    "    <label>\n",
    "      <input type=\"radio\" name=\"type-check\" value=\"ill-typed\" id=\"ill-typed-radio\"> Ill-typed\n",
    "    </label>\n",
    "  </div>\n",
    "</div>\n",
    "\n",
    "\n",
    "```ocaml\n",
    "let g x = \n",
    "  if x mod 2 = 0 then\n",
    "    \"even\"\n",
    "  else\n",
    "    false;;\n",
    "```\n",
    "<div class=\"quiz-container\" style=\"border: 1px solid #ccc; padding: 15px; border-radius: 5px; background-color: #f9f9f9; margin: 10px 0;\">\n",
    "  <div class=\"radio-options\">\n",
    "    <label>\n",
    "      <input type=\"radio\" name=\"type-check\" value=\"well-typed\" id=\"well-typed-radio\"> Well-typed\n",
    "    </label>\n",
    "    <br>\n",
    "    <label>\n",
    "      <input type=\"radio\" name=\"type-check\" value=\"ill-typed\" id=\"ill-typed-radio\"> Ill-typed\n",
    "    </label>\n",
    "  </div>\n",
    "</div>\n",
    "\n",
    "\n",
    "```ocaml\n",
    "let u = f 42;;\n",
    "```\n",
    "<div class=\"quiz-container\" style=\"border: 1px solid #ccc; padding: 15px; border-radius: 5px; background-color: #f9f9f9; margin: 10px 0;\">\n",
    "  <div class=\"radio-options\">\n",
    "    <label>\n",
    "      <input type=\"radio\" name=\"type-check\" value=\"well-typed\" id=\"well-typed-radio\"> Well-typed\n",
    "    </label>\n",
    "    <br>\n",
    "    <label>\n",
    "      <input type=\"radio\" name=\"type-check\" value=\"ill-typed\" id=\"ill-typed-radio\"> Ill-typed\n",
    "    </label>\n",
    "  </div>\n",
    "</div>\n"
   ]
  },
  {
   "cell_type": "markdown",
   "metadata": {},
   "source": [
    "Answer: **Complete Here**"
   ]
  },
  {
   "cell_type": "markdown",
   "metadata": {},
   "source": [
    "## Expressions: nested `let`\n",
    "\n",
    "In these next exercises, you should mentally or manually check the final value of a given expression.<br>\n",
    "Afterwards you can check your solution using `utop`."
   ]
  },
  {
   "cell_type": "markdown",
   "metadata": {},
   "source": [
    "### Exercise 1:\n",
    "\n",
    "What is the value of `w`?\n",
    "```ocaml\n",
    "let x = 10;;\n",
    "let x = \n",
    "  let y = 10 + x in\n",
    "  let y = let x = y * x in y + x in\n",
    "  y + x ;;\n",
    "let w = x + 100;;\n",
    "```"
   ]
  },
  {
   "cell_type": "markdown",
   "metadata": {},
   "source": [
    "Answer: **Complete Here**"
   ]
  },
  {
   "cell_type": "markdown",
   "metadata": {},
   "source": [
    "\n",
    "### Exercise 2:\n",
    "\n",
    "What is the value of `x`?\n",
    "```ocaml\n",
    "let x =\n",
    "  let x = \n",
    "    let x = 5 in\n",
    "    let x = x + x in\n",
    "    x * x * x in\n",
    "  let x = float_of_int x in\n",
    "  let x = x /. 5.0 in\n",
    "  x\n",
    "```"
   ]
  },
  {
   "cell_type": "markdown",
   "metadata": {},
   "source": [
    "Answer: **Complete Here**"
   ]
  },
  {
   "cell_type": "markdown",
   "metadata": {},
   "source": [
    "### Exercise 3:\n",
    "\n",
    "What is the type of `x`?\n",
    "\n",
    "```ocaml\n",
    "let x =\n",
    "  let x = \n",
    "    let x = 2.0 in\n",
    "    let y = 10.0 in\n",
    "    y +. x *. y in\n",
    "  let z = int_of_float x in\n",
    "  let x = z * z in\n",
    "  \"Here is my result: \" ^ (string_of_int x);;```\n",
    "  "
   ]
  },
  {
   "cell_type": "markdown",
   "metadata": {},
   "source": [
    "Answer: **Complete Here**"
   ]
  },
  {
   "cell_type": "markdown",
   "metadata": {},
   "source": [
    "\n",
    "## Expressions: comparison\n",
    "\n",
    "Consider the following variable declarion `x` and `y` in OCaml:\n",
    "```ocaml\n",
    "let x = 42;;\n",
    "let y = 42;;\n",
    "```\n"
   ]
  },
  {
   "cell_type": "markdown",
   "metadata": {},
   "source": [
    "### Exercise 1:\n",
    "What is the type of `x` and `y`?\n"
   ]
  },
  {
   "cell_type": "markdown",
   "metadata": {},
   "source": [
    "Answer: **Complete Here**"
   ]
  },
  {
   "cell_type": "markdown",
   "metadata": {},
   "source": [
    "\n",
    "### Exercise 2:\n",
    "\n",
    "What is the result of the following Boolean expressions? \n",
    "```ocaml\n",
    "x = y;;\n",
    "```\n"
   ]
  },
  {
   "cell_type": "markdown",
   "metadata": {},
   "source": [
    "Answer: **Complete Here**"
   ]
  },
  {
   "cell_type": "markdown",
   "metadata": {
    "vscode": {
     "languageId": "ocaml"
    }
   },
   "source": [
    "```ocaml\n",
    "x == y;;\n",
    "```"
   ]
  },
  {
   "cell_type": "markdown",
   "metadata": {},
   "source": [
    "Answer: **Complete Here**<br>\n",
    "Why: **Complete Here**"
   ]
  },
  {
   "cell_type": "markdown",
   "metadata": {},
   "source": [
    "### Exercise 3:\n",
    "\n",
    "Now consider the following declarations:\n",
    "```ocaml\n",
    "let a = \"lap is cool\";;\n",
    "let b = \"lap is cool\";;\n",
    "```"
   ]
  },
  {
   "cell_type": "markdown",
   "metadata": {},
   "source": [
    "What is the result of the following Boolean expressions?"
   ]
  },
  {
   "cell_type": "markdown",
   "metadata": {
    "vscode": {
     "languageId": "ocaml"
    }
   },
   "source": [
    "```ocaml\n",
    "a = b;;\n",
    "```"
   ]
  },
  {
   "cell_type": "markdown",
   "metadata": {},
   "source": [
    "Answer: **Complete Here**"
   ]
  },
  {
   "cell_type": "markdown",
   "metadata": {
    "vscode": {
     "languageId": "ocaml"
    }
   },
   "source": [
    "```ocaml\n",
    "a == b;;\n",
    "```"
   ]
  },
  {
   "cell_type": "markdown",
   "metadata": {},
   "source": [
    "Answer: **Complete Here**<br>\n",
    "Why: **Complete Here**"
   ]
  },
  {
   "cell_type": "markdown",
   "metadata": {},
   "source": [
    "## Expressions: Assertions\n",
    "\n",
    "### Exercise 1:\n",
    "\n",
    "What is the result of the following expression?"
   ]
  },
  {
   "cell_type": "markdown",
   "metadata": {
    "vscode": {
     "languageId": "ocaml"
    }
   },
   "source": [
    "```ocaml\n",
    "assert true;;\n",
    "```"
   ]
  },
  {
   "cell_type": "markdown",
   "metadata": {},
   "source": [
    "Answer: **Complete Here**"
   ]
  },
  {
   "cell_type": "markdown",
   "metadata": {},
   "source": [
    "### Exercise 2:\n",
    "\n",
    "What is the result of the following expression?"
   ]
  },
  {
   "cell_type": "markdown",
   "metadata": {
    "vscode": {
     "languageId": "ocaml"
    }
   },
   "source": [
    "```ocaml\n",
    "let x = 0;;\n",
    "assert (x > 0);;\n",
    "```"
   ]
  },
  {
   "cell_type": "markdown",
   "metadata": {},
   "source": [
    "Answer: **Complete Here**"
   ]
  },
  {
   "cell_type": "markdown",
   "metadata": {},
   "source": [
    "### Exercise:\n",
    "\n",
    "Using the `utop`, write an expression, using an `assert`, that \"OCaml\" is structurally different than \"Java\"."
   ]
  },
  {
   "cell_type": "code",
   "execution_count": null,
   "metadata": {
    "vscode": {
     "languageId": "ocaml"
    }
   },
   "outputs": [],
   "source": [
    "(* Complete here *)"
   ]
  },
  {
   "cell_type": "markdown",
   "metadata": {},
   "source": [
    "## Expressions: Conditionals and Booleans"
   ]
  },
  {
   "cell_type": "markdown",
   "metadata": {},
   "source": [
    "### Exercise 1:\n",
    "\n",
    "What is the value of `b` in the following expressions?"
   ]
  },
  {
   "cell_type": "markdown",
   "metadata": {
    "vscode": {
     "languageId": "ocaml"
    }
   },
   "source": [
    "```ocaml\n",
    "let b = if true then false else true;;\n",
    "```"
   ]
  },
  {
   "cell_type": "markdown",
   "metadata": {},
   "source": [
    "Answer: **Complete Here**"
   ]
  },
  {
   "cell_type": "markdown",
   "metadata": {},
   "source": [
    "\n",
    "```ocaml\n",
    "let b = not b;;\n",
    "```\n"
   ]
  },
  {
   "cell_type": "markdown",
   "metadata": {},
   "source": [
    "Answer: **Complete Here**"
   ]
  },
  {
   "cell_type": "markdown",
   "metadata": {},
   "source": [
    "\n",
    "```ocaml\n",
    "let b = 73 > 42;;\n",
    "``` "
   ]
  },
  {
   "cell_type": "markdown",
   "metadata": {},
   "source": [
    "Answer: **Complete Here**"
   ]
  },
  {
   "cell_type": "markdown",
   "metadata": {},
   "source": [
    "### Exercise 2:\n",
    "\n",
    "Using the `utop`, write an expression that evaluates to `42` if `2` is greater than `1`, and `73` if that is not the case."
   ]
  },
  {
   "cell_type": "code",
   "execution_count": 5,
   "metadata": {
    "vscode": {
     "languageId": "ocaml"
    }
   },
   "outputs": [],
   "source": [
    "(* Complete here *)"
   ]
  },
  {
   "cell_type": "markdown",
   "metadata": {},
   "source": [
    "### Exercise 3:\n",
    "\n",
    "Define a funtion, `sign`, that returns the sign of `v`, an integer argument of the function. Your function `sign` should obey the following mathematical definition:\n",
    "$$\n",
    "\\mathcal{S}(v)=\\left\\{\n",
    "    \\begin{array}{lc}\n",
    "    1 & \\text{if}~v > 0 \\\\[1em]\n",
    "    0 & \\text{if}~v = 0 \\\\[1em]\n",
    "    -1 & \\text{if}~v < 0\n",
    "    \\end{array}\\right.\n",
    "$$\n",
    "\n",
    "Use a nested `if..then..else` expression. You can use the `utop` to test your function, applying enough examples to test the coverage of the function."
   ]
  },
  {
   "cell_type": "code",
   "execution_count": null,
   "metadata": {
    "vscode": {
     "languageId": "ocaml"
    }
   },
   "outputs": [],
   "source": [
    "let sign v = \n",
    "(* Complete here *)"
   ]
  },
  {
   "cell_type": "markdown",
   "metadata": {},
   "source": [
    "## Expressions: type conversion"
   ]
  },
  {
   "cell_type": "markdown",
   "metadata": {},
   "source": [
    "### Exercise:\n",
    "\n",
    "What is the return type of the following functions?"
   ]
  },
  {
   "cell_type": "markdown",
   "metadata": {
    "vscode": {
     "languageId": "ocaml"
    }
   },
   "source": [
    "```ocaml\n",
    "let f x = int_of_string x;;\n",
    "```\n"
   ]
  },
  {
   "cell_type": "markdown",
   "metadata": {},
   "source": [
    "Answer: **Complete Here**"
   ]
  },
  {
   "cell_type": "markdown",
   "metadata": {},
   "source": [
    "```ocaml\n",
    "let f x = string_of_int x;;\n",
    "```\n"
   ]
  },
  {
   "cell_type": "markdown",
   "metadata": {},
   "source": [
    "Answer: **Complete Here**"
   ]
  },
  {
   "cell_type": "markdown",
   "metadata": {},
   "source": [
    "```ocaml\n",
    "let f (x: int) = x;;\n",
    "```\n"
   ]
  },
  {
   "cell_type": "markdown",
   "metadata": {},
   "source": [
    "Answer: **Complete Here**"
   ]
  },
  {
   "cell_type": "markdown",
   "metadata": {},
   "source": [
    "```ocaml\n",
    "let f x = float_of_int x;;\n",
    "```\n"
   ]
  },
  {
   "cell_type": "markdown",
   "metadata": {},
   "source": [
    "Answer: **Complete Here**"
   ]
  },
  {
   "cell_type": "markdown",
   "metadata": {},
   "source": [
    "```ocaml\n",
    "let f x = int_of_float x;;\n",
    "```\n"
   ]
  },
  {
   "cell_type": "markdown",
   "metadata": {},
   "source": [
    "Answer: **Complete Here**"
   ]
  },
  {
   "cell_type": "markdown",
   "metadata": {},
   "source": [
    "```ocaml\n",
    "let f x = int_of_char x;;\n",
    "```\n"
   ]
  },
  {
   "cell_type": "markdown",
   "metadata": {},
   "source": [
    "Answer: **Complete Here**"
   ]
  },
  {
   "cell_type": "markdown",
   "metadata": {},
   "source": [
    "```ocaml\n",
    "let f x = bool_of_string x;;\n",
    "```"
   ]
  },
  {
   "cell_type": "markdown",
   "metadata": {},
   "source": [
    "Answer: **Complete Here**"
   ]
  },
  {
   "cell_type": "markdown",
   "metadata": {},
   "source": [
    "## Expressions: strings"
   ]
  },
  {
   "cell_type": "markdown",
   "metadata": {},
   "source": [
    "### Exercise 1:\n",
    "\n",
    "What the value of the variable `w`?"
   ]
  },
  {
   "cell_type": "markdown",
   "metadata": {
    "vscode": {
     "languageId": "ocaml"
    }
   },
   "source": [
    "```ocaml\n",
    "let x = \"hello \";;\n",
    "let y = \"world!\";;\n",
    "let w = x ^ y;;\n",
    "```"
   ]
  },
  {
   "cell_type": "markdown",
   "metadata": {},
   "source": [
    "Answer: **Complete Here**"
   ]
  },
  {
   "cell_type": "markdown",
   "metadata": {},
   "source": [
    "### Exercise 2:\n",
    "\n",
    "What is the value of the variable `w`?"
   ]
  },
  {
   "cell_type": "markdown",
   "metadata": {
    "vscode": {
     "languageId": "ocaml"
    }
   },
   "source": [
    "```ocaml\n",
    "let w = (if 42 < 73 then \"goodbye \" else \"hello \") ^ \"world\";;\n",
    "```"
   ]
  },
  {
   "cell_type": "markdown",
   "metadata": {},
   "source": [
    "Answer: **Complete Here**"
   ]
  },
  {
   "cell_type": "markdown",
   "metadata": {},
   "source": [
    "## Expressions: inaccessible code\n",
    "\n",
    "It is common in the definition of a function for there to be points or paths that we know are inaccessible. For example, a function `div` that divides `x` by `y`, two integer values, cannot produce a meaningful result if `y = 0`. Most likely, a client of `div` is expected to dynamically check that `y` is different from 0 before applying the function. In this case, we consider `y <> 0` as a precondition for executing `div`, and we are interested in explicitly signaling this fact in the code."
   ]
  },
  {
   "cell_type": "markdown",
   "metadata": {},
   "source": [
    "### Exercise:\n",
    "\n",
    "In a scenario where a client might not respect the precondition of a function call, it is always the responsibility of the function itself to adopt a *defensive programming* style. In particular, it should explicitly handle cases where the function's execution must simply abort.\n",
    "\n",
    "One possible approach is to mark an inaccessible point in the code using the expression `assert false`. This expression immediately aborts execution since it is impossible to satisfy the Boolean expression false.\n",
    "\n",
    "Modify the definition of the function `div_42` so that, in the case where `y = 0`, instead of returning `0`, the function aborts with the expression `assert false`."
   ]
  },
  {
   "cell_type": "code",
   "execution_count": null,
   "metadata": {
    "vscode": {
     "languageId": "ocaml"
    }
   },
   "outputs": [],
   "source": [
    "let div_42 y =\n",
    "  if y = 0 then\n",
    "    0 (* Change here. *)\n",
    "  else\n",
    "    42 / y"
   ]
  },
  {
   "cell_type": "markdown",
   "metadata": {},
   "source": [
    "### Exercise:\n",
    "\n",
    "One other approach is to use the expression `failwith \"XXXXX\"` that aborts the execution of a program with the message `XXXXX`.\n",
    "\n",
    "Change the definition of the function `div_42` where now you should abort with the expression `failwith` and a meaningful error message."
   ]
  },
  {
   "cell_type": "code",
   "execution_count": null,
   "metadata": {
    "vscode": {
     "languageId": "ocaml"
    }
   },
   "outputs": [],
   "source": [
    "let div_42 y =\n",
    "  if y = 0 then\n",
    "    0 (* Change here. *)\n",
    "  else\n",
    "    42 / y"
   ]
  },
  {
   "cell_type": "markdown",
   "metadata": {},
   "source": [
    "## Expressions: Computations\n",
    "\n",
    "### Exercise:\n",
    "Complete the definition of the `circle_area` function that computes the area of a circle. This function takes as a argument a floating-point value `r`, the circle's radius, and returns a floating-point with the computed area."
   ]
  },
  {
   "cell_type": "code",
   "execution_count": null,
   "metadata": {
    "vscode": {
     "languageId": "ocaml"
    }
   },
   "outputs": [],
   "source": [
    "let circle_area (r: float) : float =\n",
    "  0.0 (* Complete here. *)"
   ]
  },
  {
   "cell_type": "markdown",
   "metadata": {},
   "source": [
    "Recall the formula to compute the area of a circle, given a radius $r$:\n",
    "$$\n",
    "A = \\pi r^2\n",
    "$$"
   ]
  },
  {
   "cell_type": "markdown",
   "metadata": {},
   "source": [
    "Consider the value of $\\pi$ as being $3.1416$."
   ]
  },
  {
   "cell_type": "markdown",
   "metadata": {},
   "source": [
    "You can confirm the correction of your definition executing the following expressions:"
   ]
  },
  {
   "cell_type": "code",
   "execution_count": null,
   "metadata": {
    "vscode": {
     "languageId": "ocaml"
    }
   },
   "outputs": [],
   "source": [
    "let epsilon = 0.00000001;;\n",
    "assert (circle_area 10.0 >= 314.16 -. epsilon);;\n",
    "assert (circle_area 10.0 <= 314.16 +. epsilon);;\n",
    "assert (circle_area 5.0 >= 78.54 -. epsilon);;\n",
    "assert (circle_area 5.0 <= 78.54 +. epsilon);;\n",
    "assert (circle_area 1.0 >= 3.1416 -. epsilon);;\n",
    "assert (circle_area 1.0 <= 3.1416 +. epsilon);;"
   ]
  },
  {
   "cell_type": "markdown",
   "metadata": {
    "vscode": {
     "languageId": "ocaml"
    }
   },
   "source": [
    "**Optional**: Why do you think we have to consider the result of `circle_area` with a given `epsilon`?<br>\n",
    "Answer: **Complete Here**"
   ]
  },
  {
   "cell_type": "markdown",
   "metadata": {},
   "source": [
    "### On assertions\n",
    "\n",
    "The set of `assert` expressions presented acts as a set of unit tests for the `circle_area` function. If all the previous expressions executed correctly, you can consider your function *\"correct\"*. If at least one of the `assert` expressions aborted execution with an `Assertion Failure` error, you must fix your implementation of the `circle_area` function.  \n",
    "\n",
    "**Note:** If an `assert` expression aborts execution, all subsequent expressions in the code block will not be executed (in practice, a *runtime* exception propagates to the top level). This means that multiple `assert` expressions may fail to execute correctly, and fixing one issue does not guarantee that the remaining expressions will execute without problems.\n"
   ]
  },
  {
   "cell_type": "markdown",
   "metadata": {},
   "source": [
    "### Exercise:\n",
    "\n",
    "Create your own unit testing suite for the function `sign`, using `assert` expressions."
   ]
  },
  {
   "cell_type": "markdown",
   "metadata": {},
   "source": [
    "### Exercise:\n",
    "\n",
    "You probably did not consider the case where the radius is a non-positive value in the definition of the `circle_area` function. Define a new version of the `circle_area` function using case analysis:\n",
    "\n",
    "* If the value of `r` is negative or zero, use the expression `assert false` to indicate an unreachable point in the code.  \n",
    "* Otherwise, return the calculated area value.\n"
   ]
  },
  {
   "cell_type": "code",
   "execution_count": null,
   "metadata": {
    "vscode": {
     "languageId": "ocaml"
    }
   },
   "outputs": [],
   "source": [
    "let circle_area (r: float) : float =\n",
    "  0.0 (* Complete. *)"
   ]
  },
  {
   "cell_type": "markdown",
   "metadata": {},
   "source": [
    "You can confirm the correctness of your function executing the following expressions:"
   ]
  },
  {
   "cell_type": "code",
   "execution_count": null,
   "metadata": {
    "vscode": {
     "languageId": "ocaml"
    }
   },
   "outputs": [],
   "source": [
    "let epsilon = 0.00000001;;\n",
    "assert (circle_area 10.0 >= 314.16 -. epsilon);;\n",
    "assert (circle_area 10.0 <= 314.16 +. epsilon);;\n",
    "assert (circle_area 5.0 >= 78.54 -. epsilon);;\n",
    "assert (circle_area 5.0 <= 78.54 +. epsilon);;\n",
    "assert (circle_area 1.0 >= 3.1416 -. epsilon);;\n",
    "assert (circle_area 1.0 <= 3.1416 +. epsilon);;\n",
    "assert (circle_area 0.0 = 42.0);;"
   ]
  },
  {
   "cell_type": "markdown",
   "metadata": {},
   "source": [
    "In this case, if everything went according to plan, the last `assert` expression should abort the execution."
   ]
  }
 ],
 "metadata": {
  "kernelspec": {
   "display_name": "OCaml stable",
   "language": "OCaml",
   "name": "ocaml-jupyter"
  },
  "language_info": {
   "codemirror_mode": "text/x-ocaml",
   "file_extension": ".ml",
   "mimetype": "text/x-ocaml",
   "name": "OCaml",
   "nbconverter_exporter": null,
   "pygments_lexer": "OCaml",
   "version": "4.14.0"
  }
 },
 "nbformat": 4,
 "nbformat_minor": 4
}
