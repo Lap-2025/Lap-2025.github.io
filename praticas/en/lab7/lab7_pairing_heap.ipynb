{
 "cells": [
  {
   "cell_type": "markdown",
   "metadata": {},
   "source": [
    "# Functional data structures-- Pairing Heaps"
   ]
  },
  {
   "cell_type": "markdown",
   "metadata": {},
   "source": [
    "This *Notebook* proposes the implementation, in OCaml, of a **Priority Queue** based on a functional data structure. The variant we present is called a *Pairing Heap* and is encoded using an n-ary tree.\n",
    "\n",
    "A good description of the behavior of Pairing Heaps can be found on the [Wikipedia](https://en.wikipedia.org/wiki/Pairing_heap) page. An even better presentation of this data structure can be found in the masterpiece by C. Okasaki, [*Purely Functional Data Structures*](https://www.cambridge.org/core/books/purely-functional-data-structures/0409255DA1B48FA731859AC72E34D494), Chapter 5.5.\n",
    "\n",
    "Despite its simple implementation, Pairing Heaps are actually very efficient in terms of runtime and competitive with imperative implementations of Heaps (*e.g.*, binary trees encoded in an *array*).\n"
   ]
  },
  {
   "cell_type": "markdown",
   "metadata": {},
   "source": [
    "## Data type definition "
   ]
  },
  {
   "cell_type": "markdown",
   "metadata": {},
   "source": [
    "The following image shows a valid Pairing Heap:\n",
    "\n",
    "<img src=\"pairing_heap_example.png\" />\n",
    "\n",
    "A Pairing Heap is defined as follows:\n",
    "\n",
    "1. it is the empty tree, or  \n",
    "2. it is a tree with a root and a list of Pairing Heaps, *i.e.*, the descendants of the root, and  \n",
    "3. the root of a Pairing Heap is the smallest element in the tree (smallest or equal). It may contain duplicates.\n"
   ]
  },
  {
   "cell_type": "markdown",
   "metadata": {},
   "source": [
    "If we follow this description strictly to define the data type of a Pairing Heap, we could end up introducing the empty tree as a descendant of a node. Thus, to avoid this pitfall, we start by introducing the data type of an *inner* tree, which will always be non-empty:\n"
   ]
  },
  {
   "cell_type": "code",
   "execution_count": null,
   "metadata": {
    "vscode": {
     "languageId": "ocaml"
    }
   },
   "outputs": [],
   "source": [
    "type tree = T of int * tree list"
   ]
  },
  {
   "cell_type": "markdown",
   "metadata": {},
   "source": [
    "The constructor `T` represents the root of a subtree composed of a key (an integer value) and a list of descendants. We are now in a position to define the *top-level* notion of a Pairing Heap:\n"
   ]
  },
  {
   "cell_type": "code",
   "execution_count": null,
   "metadata": {
    "vscode": {
     "languageId": "ocaml"
    }
   },
   "outputs": [],
   "source": [
    "type t = E | N of tree"
   ]
  },
  {
   "cell_type": "markdown",
   "metadata": {},
   "source": [
    "## Operations over Pairing Heaps"
   ]
  },
  {
   "cell_type": "markdown",
   "metadata": {},
   "source": [
    "### Exercise 1:"
   ]
  },
  {
   "cell_type": "markdown",
   "metadata": {},
   "source": [
    "Write a definition for the `create` function with the following signature:"
   ]
  },
  {
   "cell_type": "markdown",
   "metadata": {
    "vscode": {
     "languageId": "ocaml"
    }
   },
   "source": [
    "```ocaml\n",
    "  val create : t\n",
    "```"
   ]
  },
  {
   "cell_type": "markdown",
   "metadata": {},
   "source": [
    "This function should only return an empty Pairing Heap."
   ]
  },
  {
   "cell_type": "code",
   "execution_count": null,
   "metadata": {
    "vscode": {
     "languageId": "ocaml"
    }
   },
   "outputs": [],
   "source": [
    "let create =\n",
    "  assert false (* Complete Here *)"
   ]
  },
  {
   "cell_type": "code",
   "execution_count": null,
   "metadata": {
    "vscode": {
     "languageId": "ocaml"
    }
   },
   "outputs": [],
   "source": [
    "(* Unit tests for exercise 1 *)"
   ]
  },
  {
   "cell_type": "markdown",
   "metadata": {},
   "source": [
    "### Exercise 2:"
   ]
  },
  {
   "cell_type": "markdown",
   "metadata": {},
   "source": [
    "Write a function `find_min`, with the following signature:"
   ]
  },
  {
   "cell_type": "markdown",
   "metadata": {
    "vscode": {
     "languageId": "ocaml"
    }
   },
   "source": [
    "```ocaml\n",
    "  val find_min : t -> int option\n",
    "```"
   ]
  },
  {
   "cell_type": "markdown",
   "metadata": {},
   "source": [
    "This function expects as *input* a Pairing Heap `h` and, if `h` is not the empty Heap, returns its minimum value (*i.e.*, its root). If `h` is the empty Heap, `find_min` should return `None`."
   ]
  },
  {
   "cell_type": "code",
   "execution_count": null,
   "metadata": {
    "vscode": {
     "languageId": "ocaml"
    }
   },
   "outputs": [],
   "source": [
    "let find_min h = \n",
    "  assert false (* Complete here *)"
   ]
  },
  {
   "cell_type": "code",
   "execution_count": null,
   "metadata": {
    "vscode": {
     "languageId": "ocaml"
    }
   },
   "outputs": [],
   "source": [
    "(* Unit tests for exercise 2 *)"
   ]
  },
  {
   "cell_type": "markdown",
   "metadata": {},
   "source": [
    "### Exercise 3:"
   ]
  },
  {
   "cell_type": "markdown",
   "metadata": {},
   "source": [
    "The `merge` operation on Pairing Heaps is relatively simple: given two heaps `h1` and `h2`, if the root of `h1` is smaller than the root of `h2`, return a new heap in which `h2` becomes the leftmost child of `h1`; otherwise, return a new heap in which `h1` is the leftmost child of `h2`.\n",
    "\n",
    "Consider, for example, the following Pairing Heaps:"
   ]
  },
  {
   "cell_type": "markdown",
   "metadata": {},
   "source": [
    "<img src=\"heaps_before_merge.png\" />"
   ]
  },
  {
   "cell_type": "markdown",
   "metadata": {},
   "source": [
    "Applying the `merge` function to these two heaps would result in the following Pairing Heap:\n",
    "\n",
    "<img src=\"pairing_heap_after_merge.png\" />"
   ]
  },
  {
   "cell_type": "markdown",
   "metadata": {},
   "source": [
    "Therefore, `merge` **is not** a recursive operation. This function has the following signature:"
   ]
  },
  {
   "cell_type": "markdown",
   "metadata": {
    "vscode": {
     "languageId": "ocaml"
    }
   },
   "source": [
    "```ocaml\n",
    "  val merge : t -> t -> t\n",
    "```"
   ]
  },
  {
   "cell_type": "markdown",
   "metadata": {},
   "source": [
    "Write a definition for the function `merge`."
   ]
  },
  {
   "cell_type": "code",
   "execution_count": null,
   "metadata": {
    "vscode": {
     "languageId": "ocaml"
    }
   },
   "outputs": [],
   "source": [
    "let merge h1 h2 =\n",
    "  assert false (* Complete here *)"
   ]
  },
  {
   "cell_type": "code",
   "execution_count": null,
   "metadata": {
    "vscode": {
     "languageId": "ocaml"
    }
   },
   "outputs": [],
   "source": [
    "(* Unit tests for exercise 3 *)"
   ]
  },
  {
   "cell_type": "markdown",
   "metadata": {},
   "source": [
    "### Exercise 4:"
   ]
  },
  {
   "cell_type": "markdown",
   "metadata": {},
   "source": [
    "Write a definition for the function `add`, with the following signature:"
   ]
  },
  {
   "cell_type": "markdown",
   "metadata": {
    "vscode": {
     "languageId": "ocaml"
    }
   },
   "source": [
    "```ocaml\n",
    "  val add : int -> t -> t\n",
    "```"
   ]
  },
  {
   "cell_type": "markdown",
   "metadata": {},
   "source": [
    "The `add` function should use `merge` as an auxiliary function. Inserting a new element `x` into a Pairing Heap `h` is as simple as:\n",
    "\n",
    "1. creating a temporary heap `h'` that contains only `x`;\n",
    "2. applying `merge` to `h'` and `h`."
   ]
  },
  {
   "cell_type": "code",
   "execution_count": null,
   "metadata": {
    "vscode": {
     "languageId": "ocaml"
    }
   },
   "outputs": [],
   "source": [
    "let add x h = \n",
    "  assert false (* Complete here *)"
   ]
  },
  {
   "cell_type": "code",
   "execution_count": null,
   "metadata": {
    "vscode": {
     "languageId": "ocaml"
    }
   },
   "outputs": [],
   "source": [
    "(* Unit test for exercise 4 *)"
   ]
  },
  {
   "cell_type": "markdown",
   "metadata": {},
   "source": [
    "### Exercise 5:"
   ]
  },
  {
   "cell_type": "markdown",
   "metadata": {},
   "source": [
    "The name Pairing Heaps comes from the use of an auxiliary function, which is used during the operation of removing the minimum element from the heap. Considering, again, the following heap:\n",
    "\n",
    "<img src=\"pairing_heap_example.png\" />\n",
    "\n",
    "When we try to remove the minimum element, *i.e.*, the root `1`, we now need to produce a single Pairing Heap from a list of Pairing Heaps. We follow a two-step strategy:\n",
    "\n",
    "1. apply `merge` to each consecutive pair of Pairing Heaps in the list (the first with the second, the third with the fourth, and so on);\n",
    "2. recursively apply `merge_list` to all the intermediate Pairing Heaps, from left to right, until only one Pairing Heap remains.\n",
    "\n",
    "For the above example, we would obtain the following Pairing Heap:\n",
    "```ocaml\n",
    "N\n",
    " (T (2,\n",
    "   [T (3, [T (6, [T (7, []); T (14, [T (15, []); T (20, [])])])]); T (8, []);\n",
    "    T (9, []); T (10, [])]))\n",
    "``"
   ]
  },
  {
   "cell_type": "markdown",
   "metadata": {},
   "source": [
    "Write a definition for the function `merge_list`, with the following signature:"
   ]
  },
  {
   "cell_type": "markdown",
   "metadata": {
    "vscode": {
     "languageId": "ocaml"
    }
   },
   "source": [
    "```ocaml\n",
    "  val merge_list : tree list -> t\n",
    "```"
   ]
  },
  {
   "cell_type": "code",
   "execution_count": null,
   "metadata": {
    "vscode": {
     "languageId": "ocaml"
    }
   },
   "outputs": [],
   "source": [
    "let rec merge_list h =\n",
    "  assert false (* Complete here *)"
   ]
  },
  {
   "cell_type": "code",
   "execution_count": null,
   "metadata": {
    "vscode": {
     "languageId": "ocaml"
    }
   },
   "outputs": [],
   "source": [
    "(* Unit tests for exercise 5 *)"
   ]
  },
  {
   "cell_type": "markdown",
   "metadata": {},
   "source": [
    "### Exercise 6:"
   ]
  },
  {
   "cell_type": "markdown",
   "metadata": {},
   "source": [
    "Write a function definition for `delete_min`, with the following signature:"
   ]
  },
  {
   "cell_type": "markdown",
   "metadata": {
    "vscode": {
     "languageId": "ocaml"
    }
   },
   "source": [
    "```ocaml\n",
    "  val delete_min : t -> t\n",
    "```"
   ]
  },
  {
   "cell_type": "markdown",
   "metadata": {},
   "source": [
    "The `delete_min` function takes a heap `h` as an argument and returns a new heap with the same elements as `h`, except for the minimum element. If `h` is the empty heap, then `heap h = h`."
   ]
  },
  {
   "cell_type": "code",
   "execution_count": null,
   "metadata": {
    "vscode": {
     "languageId": "ocaml"
    }
   },
   "outputs": [],
   "source": [
    "let delete_min h =\n",
    "  assert false (* Complete here *)"
   ]
  },
  {
   "cell_type": "code",
   "execution_count": null,
   "metadata": {
    "vscode": {
     "languageId": "ocaml"
    }
   },
   "outputs": [],
   "source": [
    "(* Unit tests for exercise 6 *)"
   ]
  },
  {
   "cell_type": "markdown",
   "metadata": {},
   "source": [
    "### Bonus exercise:"
   ]
  },
  {
   "cell_type": "markdown",
   "metadata": {},
   "source": [
    "Write a definition for the function `is_heap`, with the following signature:"
   ]
  },
  {
   "cell_type": "markdown",
   "metadata": {
    "vscode": {
     "languageId": "ocaml"
    }
   },
   "source": [
    "```ocaml\n",
    "  val is_heap : t -> bool\n",
    "```"
   ]
  },
  {
   "cell_type": "markdown",
   "metadata": {},
   "source": [
    "The `is_heap` function takes a heap `h` as an argument and checks whether it is a valid heap. A heap is valid if it respects the heap property: the key of the root of any subtree has a value smaller than those of its descendants.\n",
    "\n",
    "**Hint:** Start by defining some auxiliary functions, namely:\n",
    "\n",
    "* `le_tree_list e l`, where `e` is an integer value and `l` is a list of `tree`, which checks that `e` is smaller than the keys of all the roots of the heaps in `l`.\n",
    "* `le_tree e t`, where `e` is an integer value and `t` is a value of type `tree`, which checks that `e` is smaller than the key of the root of `t`.\n"
   ]
  },
  {
   "cell_type": "code",
   "execution_count": null,
   "metadata": {
    "vscode": {
     "languageId": "ocaml"
    }
   },
   "outputs": [],
   "source": [
    "let is_heap h =\n",
    "  assert false (* Complete here *)"
   ]
  },
  {
   "cell_type": "code",
   "execution_count": null,
   "metadata": {
    "vscode": {
     "languageId": "ocaml"
    }
   },
   "outputs": [],
   "source": [
    "(* Unit tests for bonus exercise *)"
   ]
  }
 ],
 "metadata": {
  "kernelspec": {
   "display_name": "OCaml lap2024-teacher",
   "language": "OCaml",
   "name": "ocaml-jupyter"
  },
  "language_info": {
   "codemirror_mode": "text/x-ocaml",
   "file_extension": ".ml",
   "mimetype": "text/x-ocaml",
   "name": "OCaml",
   "nbconverter_exporter": null,
   "pygments_lexer": "OCaml",
   "version": "4.14.0"
  }
 },
 "nbformat": 4,
 "nbformat_minor": 2
}
