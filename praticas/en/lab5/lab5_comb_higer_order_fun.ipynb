{
 "cells": [
  {
   "cell_type": "markdown",
   "metadata": {},
   "source": [
    "# Exercises on combinators and higher-order functions on lists"
   ]
  },
  {
   "cell_type": "markdown",
   "metadata": {},
   "source": [
    "The goal of this lab is to practice the use of functions from the `List` module of the OCaml standard library, particularly higher-order combinators like `fold_left`, `fold_right`, `map`, etc. It is therefore desirable, and expected, that you make regular use of such functions."
   ]
  },
  {
   "cell_type": "markdown",
   "metadata": {},
   "source": [
    "## Operations over lists "
   ]
  },
  {
   "cell_type": "markdown",
   "metadata": {},
   "source": [
    "### 🔹 Exercise 1 ⭐️\n",
    "\n",
    "Given a list of *Strings* `strs` and another *String* `sep`, which serves as a separator, produce a new *String* that contains all elements of `strs` separated by `sep`. For example, given the input `[\"hi\"; \"bye\"]` and `\",\"`, it should produce the *String* `\"hi,bye\"`.\n",
    "\n",
    "**Note:** There should be no occurrence of the separator at the beginning or at the end of the produced *String*."
   ]
  },
  {
   "cell_type": "code",
   "execution_count": null,
   "metadata": {
    "vscode": {
     "languageId": "ocaml"
    }
   },
   "outputs": [],
   "source": [
    "let join_with strs sep =\n",
    "  assert false;; (* Complete here *)"
   ]
  },
  {
   "cell_type": "code",
   "execution_count": null,
   "metadata": {
    "vscode": {
     "languageId": "ocaml"
    }
   },
   "outputs": [],
   "source": [
    "(* Unit tests *)"
   ]
  },
  {
   "cell_type": "markdown",
   "metadata": {},
   "source": [
    "### 🔹 Exercise 2 ⭐️⭐️\n",
    "Define a function `proper_cuts` that, given a list `l`, returns all pairs of lists that represent a cut in the list `l`. For example, `proper_cuts [1; 2; 3]` should return\n",
    "\n",
    "```OCaml\n",
    "  [([], [1; 2; 3]); ([1], [2; 3]); ([1; 2], [3]); ([1; 2; 3], [])]\n",
    "```\n",
    "\n",
    "**Note**: The `proper_cuts` function may use the function `List.map` as an auxiliary function."
   ]
  },
  {
   "cell_type": "code",
   "execution_count": null,
   "metadata": {
    "vscode": {
     "languageId": "ocaml"
    }
   },
   "outputs": [],
   "source": [
    "let rec proper_cuts l =\n",
    "  assert false (* Complete here *)"
   ]
  },
  {
   "cell_type": "code",
   "execution_count": null,
   "metadata": {
    "vscode": {
     "languageId": "ocaml"
    }
   },
   "outputs": [],
   "source": [
    "(* Unit tests *)"
   ]
  },
  {
   "cell_type": "markdown",
   "metadata": {},
   "source": [
    "### 🔹 Exercise 3 ⭐️⭐️\n",
    "\n",
    "Consider the use of lists to represent sets, as seen in practical lesson 4. Define a function `power_set` that, given a set `s`, returns its power set, i.e., the set of all subsets of `s`. For example, `power_set [1; 2; 3; 4]` is the following list:\n",
    "\n",
    "```OCaml\n",
    "  [[]; [1]; [2]; [3]; [4]; [1; 2]; [1; 3]; [1; 4]; \n",
    "  [2; 3]; [2; 4]; [3; 4]; [1; 2; 3]; [1; 2; 4]; \n",
    "  [1; 3; 4]; [2; 3; 4]; [1; 2; 3; 4]]\n",
    "```\n",
    "\n",
    "**Note**: the order in which the subsets are generated, as well as the order of the elements within each subset, is irrelevant."
   ]
  },
  {
   "cell_type": "code",
   "execution_count": null,
   "metadata": {
    "vscode": {
     "languageId": "ocaml"
    }
   },
   "outputs": [],
   "source": [
    "let rec power_set s =\n",
    "  assert false (* Complete here *)"
   ]
  },
  {
   "cell_type": "code",
   "execution_count": null,
   "metadata": {
    "vscode": {
     "languageId": "ocaml"
    }
   },
   "outputs": [],
   "source": [
    "(* Unit tests *)"
   ]
  },
  {
   "cell_type": "markdown",
   "metadata": {},
   "source": [
    "---"
   ]
  },
  {
   "cell_type": "markdown",
   "metadata": {},
   "source": [
    "## Matrices"
   ]
  },
  {
   "cell_type": "markdown",
   "metadata": {},
   "source": [
    "The following set of exercises aims to define and manipulate matrices using lists of lists of integers. Using a *row-based* representation of the matrix, the following matrix\n",
    "$$\n",
    "\\begin{bmatrix}\n",
    "    1 & 1 & 1 \\\\[1em]\n",
    "    9 & 8 & 7\n",
    "\\end{bmatrix}\n",
    "$$\n",
    "would be represented in OCaml as the list\n",
    "\n",
    "```OCaml\n",
    "  [[1; 1; 1]; [9; 8; 7]]\n",
    "```\n",
    "A row matrix, that is, a vector, is simply represented as a list of integers, for example, `[9; 8; 7]`."
   ]
  },
  {
   "cell_type": "markdown",
   "metadata": {},
   "source": [
    "### 🔹 Exercise 4 ⭐️\n",
    "\n",
    "A valid matrix is a value of type `int list list` that contains at least one row, has at least one column, and in which each row has the same number of columns. Some examples of values of type `int list list` that are not valid matrices:\n",
    "\n",
    "```OCaml\n",
    "[]\n",
    "[[1; 2]; [3]]\n",
    "```\n",
    "\n",
    "Define the function `is_valid_matrix` that takes a value of type `int list list` and checks whether it is a valid matrix or not."
   ]
  },
  {
   "cell_type": "code",
   "execution_count": null,
   "metadata": {
    "vscode": {
     "languageId": "ocaml"
    }
   },
   "outputs": [],
   "source": [
    "let is_valid_matrix m =\n",
    "  assert false (* Complete here *)"
   ]
  },
  {
   "cell_type": "code",
   "execution_count": null,
   "metadata": {
    "vscode": {
     "languageId": "ocaml"
    }
   },
   "outputs": [],
   "source": [
    "(* Unit tests *)"
   ]
  },
  {
   "cell_type": "markdown",
   "metadata": {},
   "source": [
    "### 🔹 Exercise 5 ⭐️\n",
    "\n",
    "Define the function `add_row_vectors` that implements point-wise addition of two vectors. For example, `add_row_vectors [1; 1; 1] [9; 8; 7]` returns `[10; 9; 8]`. If the two vectors do not have the same size, then the behavior of the function is unspecified. That is, you can implement the behavior as you wish."
   ]
  },
  {
   "cell_type": "code",
   "execution_count": null,
   "metadata": {
    "vscode": {
     "languageId": "ocaml"
    }
   },
   "outputs": [],
   "source": [
    "let add_row_vectors r1 r2 =\n",
    "  assert false (* Complete here *)"
   ]
  },
  {
   "cell_type": "code",
   "execution_count": null,
   "metadata": {
    "vscode": {
     "languageId": "ocaml"
    }
   },
   "outputs": [],
   "source": [
    "(* Unit tests"
   ]
  },
  {
   "cell_type": "markdown",
   "metadata": {},
   "source": [
    "### 🔹 Exercise 6 ⭐️\n",
    "\n",
    "Define the function `add_matrices` that [adds two matrices](https://mathworld.wolfram.com/MatrixAddition.html). If the two matrices do not have the same size, then the behavior of the function is unspecified."
   ]
  },
  {
   "cell_type": "code",
   "execution_count": null,
   "metadata": {
    "vscode": {
     "languageId": "ocaml"
    }
   },
   "outputs": [],
   "source": [
    "let add_matrices m1 m2 =\n",
    "  assert false (* Complete aqui *)"
   ]
  },
  {
   "cell_type": "code",
   "execution_count": null,
   "metadata": {
    "vscode": {
     "languageId": "ocaml"
    }
   },
   "outputs": [],
   "source": [
    "(* Unit tests *)"
   ]
  },
  {
   "cell_type": "markdown",
   "metadata": {},
   "source": [
    "### 🔹 Exercise 7 ⭐️⭐️⭐️\n",
    "\n",
    "Define the function `multiply_matrices` that [multiplies two matrices](https://mathworld.wolfram.com/MatrixMultiplication.html). If the two matrices do not have the correct dimensions, then the behavior of the function is unspecified.\n",
    "\n",
    "**Hint:** define functions for the [transpose of matrices](https://mathworld.wolfram.com/Transpose.html) and the [dot product](https://mathworld.wolfram.com/DotProduct.html) of two vectors."
   ]
  },
  {
   "cell_type": "code",
   "execution_count": null,
   "metadata": {
    "vscode": {
     "languageId": "ocaml"
    }
   },
   "outputs": [],
   "source": [
    "let multiply_matrices m1 m2 =\n",
    "  assert false (* Complete here *)"
   ]
  },
  {
   "cell_type": "code",
   "execution_count": null,
   "metadata": {
    "vscode": {
     "languageId": "ocaml"
    }
   },
   "outputs": [],
   "source": [
    "(* Unit tests *)"
   ]
  },
  {
   "cell_type": "markdown",
   "metadata": {},
   "source": [
    "### 🔹 Exercise 8 ⭐️⭐️⭐️⭐️\n",
    "\n",
    "In this exercise, consider the card type implemented in the previous lesson:\n",
    "\n",
    "```OCaml\n",
    "type suit = \n",
    "  | Diamonds \n",
    "  | Hearts \n",
    "  | Clubs \n",
    "  | Spades\n",
    ";; \n",
    "```\n",
    "\n",
    "```OCaml \n",
    "type card_val =  \n",
    "  | King\n",
    "  | Queen \n",
    "  | Jack\n",
    "  | Point of int (* between 1 and 10, inclusive *)\n",
    ";;\n",
    "```\n",
    "\n",
    "```OCaml \n",
    "type card = {\n",
    "  suit : suit; \n",
    "  value : card_val\n",
    "}\n",
    "```\n",
    "\n",
    "In the card game _Blackjack_, the goal is to reach exactly **21** points using a combination of cards. The face cards (`Jack`, `Queen`, and `King`) are worth 10 points each, and the numbered cards (`Point n`) are worth their exact value (from 1 to 10, inclusive). Also, consider that the Ace (`P 1`) is always worth 1 point.\n",
    "\n",
    "Consider the function `points_of_card`, which determines the number of points corresponding to a card:\n",
    "\n",
    "```OCaml\n",
    "let points_of_card c = \n",
    "  match c.value with \n",
    "  | Point (x) -> (\n",
    "    assert (x >= 1 && x <= 10);\n",
    "    x)\n",
    "  | _ -> 10\n",
    ";;\n",
    "```\n",
    "\n",
    "Additionally, the function to convert a suit into a string:\n",
    "\n",
    "```OCaml\n",
    "let string_of_suit s =\n",
    "  match s with \n",
    "  | Diamonds -> \"♦\"\n",
    "  | Hearts   -> \"♥\"\n",
    "  | Clubs    -> \"♣\"\n",
    "  | Spades   -> \"♠\"\n",
    ";;\n",
    "```\n",
    "\n",
    "Finally, the function to convert a card into a string:\n",
    "\n",
    "```OCaml\n",
    "let string_of_card c =\n",
    "  match c.value with \n",
    "  | King  -> \"K\" ^ (string_of_suit c.suit) ^ \"10\" \n",
    "  | Queen -> \"Q\" ^ (string_of_suit c.suit) ^ \"10\" \n",
    "  | Jack  -> \"J\" ^ (string_of_suit c.suit) ^ \"10\" \n",
    "  | Point 1 -> \"A\" ^ (string_of_suit c.suit) ^ \"1\"\n",
    "  | Point x -> \"P\" ^ (string_of_suit c.suit) ^ (string_of_int x)\n",
    ";;\n",
    "```\n",
    "\n",
    "The goal is to implement the function `hands`, which, given a number of points missing to reach 21, returns all possible combinations of cards that sum up to that exact value, using a deck of cards (4 suits per card, e.g., King Spades, King Hearts, King Clubs, King Diamonds).\n",
    "\n",
    "Implement the `hands` function with the following signature:\n",
    "\n",
    "```OCaml \n",
    "val hands : int -> card list list\n",
    "```\n",
    "\n",
    "When applied to `3` (i.e., when 3 points are needed to reach 21), the function should compute all possible hands that total exactly 3 points. The result should be a list with the following combinations:\n",
    "\n",
    "```OCaml \n",
    "[[\"P♠3\"]; [\"A♠1\"; \"P♠2\"]; [\"P♣3\"]; [\"P♣2\"; \"A♠1\"];\n",
    " [\"A♣1\"; \"P♠2\"]; [\"A♣1\"; \"P♣2\"]; [\"P♥3\"]; [\"P♥2\"; \"A♠1\"];\n",
    " [\"P♥2\"; \"A♣1\"]; [\"A♥1\"; \"P♠2\"]; [\"A♥1\"; \"P♣2\"];\n",
    " [\"A♥1\"; \"A♣1\"; \"A♠1\"]; [\"A♥1\"; \"P♥2\"]; [\"P♦3\"];\n",
    " [\"P♦2\"; \"A♠1\"]; [\"P♦2\"; \"A♣1\"]; [\"P♦2\"; \"A♥1\"];\n",
    " [\"A♦1\"; \"P♠2\"]; [\"A♦1\"; \"P♣2\"]; [\"A♦1\"; \"A♣1\"; \"A♠1\"];\n",
    " [\"A♦1\"; \"P♥2\"]; [\"A♦1\"; \"A♥1\"; \"A♠1\"];\n",
    " [\"A♦1\"; \"A♥1\"; \"A♣1\"]; [\"A♦1\"; \"P♦2\"]]\n",
    "```"
   ]
  },
  {
   "cell_type": "code",
   "execution_count": null,
   "metadata": {
    "vscode": {
     "languageId": "ocaml"
    }
   },
   "outputs": [],
   "source": [
    "let hands target = \n",
    "  assert false (* Complete here *)"
   ]
  },
  {
   "cell_type": "code",
   "execution_count": null,
   "metadata": {
    "vscode": {
     "languageId": "ocaml"
    }
   },
   "outputs": [],
   "source": [
    "(* Unit tests *)"
   ]
  }
 ],
 "metadata": {
  "kernelspec": {
   "display_name": "OCaml lap2025",
   "language": "OCaml",
   "name": "ocaml-jupyter"
  },
  "language_info": {
   "codemirror_mode": "text/x-ocaml",
   "file_extension": ".ml",
   "mimetype": "text/x-ocaml",
   "name": "OCaml",
   "nbconverter_exporter": null,
   "pygments_lexer": "OCaml",
   "version": "4.14.0"
  }
 },
 "nbformat": 4,
 "nbformat_minor": 2
}
