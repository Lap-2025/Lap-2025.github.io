{
 "cells": [
  {
   "cell_type": "markdown",
   "id": "4536e426",
   "metadata": {},
   "source": [
    "# Jupyter Notebook\n",
    "Durante a Unidade Curricular de Linguagens e Ambientes de Programação iremos utilizar a tecnologia `Jupyter Notebooks` como ambiente para realizarmos exercícios e responder a desafios colocados durante as aulas práticas."
   ]
  },
  {
   "cell_type": "markdown",
   "id": "e128411b",
   "metadata": {},
   "source": [
    "O primeiro contacto com a tecnologia `Jupyter Notebooks` será relativamente simples e servirá apenas para garantir que todo o software necessário foi instalado corretamente. Queremos também garantir que todas as extensões do VS Code foram corretamente instaladas."
   ]
  },
  {
   "cell_type": "markdown",
   "id": "2b5716f8",
   "metadata": {},
   "source": [
    "Como teste \"kick the tires\", deverá utilizar o botão \"Run All\", no menu de topo deste Notebook. É expectável que o VS Code o questione sobre o `kernel` a executar. Deve aqui selecionar o kernel `ocaml`.\n",
    "\n",
    "Se os trechos de código OCaml que se seguem executarem corretamente (deverá ver um pequeno símbolo verde junto de cada um), então tudo correu como previsto."
   ]
  },
  {
   "cell_type": "code",
   "execution_count": 1,
   "id": "d160d195",
   "metadata": {
    "vscode": {
     "languageId": "ocaml"
    }
   },
   "outputs": [
    {
     "data": {
      "text/plain": [
       "val x : int = 1\n"
      ]
     },
     "execution_count": 1,
     "metadata": {},
     "output_type": "execute_result"
    }
   ],
   "source": [
    "let x = 1;;"
   ]
  },
  {
   "cell_type": "code",
   "execution_count": 2,
   "id": "c4d93e3f",
   "metadata": {
    "vscode": {
     "languageId": "ocaml"
    }
   },
   "outputs": [
    {
     "data": {
      "text/plain": [
       "val y : int = 2\n"
      ]
     },
     "execution_count": 2,
     "metadata": {},
     "output_type": "execute_result"
    }
   ],
   "source": [
    "let y = x + x;;"
   ]
  },
  {
   "cell_type": "code",
   "execution_count": 3,
   "id": "3369a857",
   "metadata": {
    "vscode": {
     "languageId": "ocaml"
    }
   },
   "outputs": [
    {
     "data": {
      "text/plain": [
       "val flatten : 'a list list -> 'a list = <fun>\n"
      ]
     },
     "execution_count": 3,
     "metadata": {},
     "output_type": "execute_result"
    }
   ],
   "source": [
    "let rec flatten l =\n",
    "  match l with\n",
    "  | [] -> []\n",
    "  | x :: xs -> x @ flatten xs"
   ]
  },
  {
   "cell_type": "code",
   "execution_count": 4,
   "id": "cdd156c5",
   "metadata": {
    "vscode": {
     "languageId": "ocaml"
    }
   },
   "outputs": [
    {
     "data": {
      "text/plain": [
       "- : int list = [1; 2; 3; 4; 5; 6; 7; 8; 9]\n"
      ]
     },
     "execution_count": 4,
     "metadata": {},
     "output_type": "execute_result"
    }
   ],
   "source": [
    "flatten [[1;2;3]; [4;5;6]; [7;8;9]]"
   ]
  }
 ],
 "metadata": {
  "kernelspec": {
   "display_name": "OCaml lap2024-teacher",
   "language": "OCaml",
   "name": "ocaml-jupyter"
  },
  "language_info": {
   "codemirror_mode": "text/x-ocaml",
   "file_extension": ".ml",
   "mimetype": "text/x-ocaml",
   "name": "OCaml",
   "nbconverter_exporter": null,
   "pygments_lexer": "OCaml",
   "version": "4.14.0"
  }
 },
 "nbformat": 4,
 "nbformat_minor": 5
}
