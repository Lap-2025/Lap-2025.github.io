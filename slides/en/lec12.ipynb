{
 "cells": [
  {
   "cell_type": "markdown",
   "id": "8e114588",
   "metadata": {},
   "source": [
    "# Algebraic Types\n",
    "\n",
    "Besides inductively defined lists, we can define other types of data. An example is the binary tree type.\n",
    "\n",
    "## Binary Trees\n",
    "A binary tree is a data type that can be defined inductively as:"
   ]
  },
  {
   "cell_type": "code",
   "execution_count": null,
   "id": "3040ecd0",
   "metadata": {
    "vscode": {
     "languageId": "ocaml"
    }
   },
   "outputs": [],
   "source": [
    "type 'a tree = Empty | Node of 'a * 'a tree * 'a tree"
   ]
  },
  {
   "cell_type": "markdown",
   "id": "b54c749d",
   "metadata": {},
   "source": [
    "An example of a binary tree with the following structure is:\n",
    "\n",
    "```ocaml\n",
    "    2\n",
    "   / \\\n",
    "  1   3 \n",
    "```\n"
   ]
  },
  {
   "cell_type": "code",
   "execution_count": null,
   "id": "f979f2f6",
   "metadata": {
    "vscode": {
     "languageId": "ocaml"
    }
   },
   "outputs": [],
   "source": [
    "let t0 = Node(2, \n",
    "              Node(1, \n",
    "                   Empty, \n",
    "                   Empty), \n",
    "              Node(3, \n",
    "                   Empty, \n",
    "                   Empty))"
   ]
  },
  {
   "cell_type": "markdown",
   "id": "5d7e44b5",
   "metadata": {},
   "source": [
    "To insert an element into a binary tree in OCaml, we generate the binary tree that results from inserting the element. We do this inductively on the structure of the tree. There are many ways to insert an element into a binary tree. One of them is the following:\n"
   ]
  },
  {
   "cell_type": "code",
   "execution_count": null,
   "id": "bc4a885c",
   "metadata": {
    "vscode": {
     "languageId": "ocaml"
    }
   },
   "outputs": [],
   "source": [
    "let rec insert x t = \n",
    "  match t with \n",
    "  | Empty -> Node(x, Empty, Empty)\n",
    "  | Node(y,l,r) -> Node(x,t,Empty)\n",
    "\n",
    "let _ = assert (insert 0 t0 = Node (0, Node (2, Node (1, Empty, Empty), Node (3, Empty, Empty)), Empty))\n"
   ]
  },
  {
   "cell_type": "markdown",
   "id": "0a26a713",
   "metadata": {},
   "source": [
    "\n",
    "## Binary Search Trees \n",
    "A binary search tree is a binary tree with the following property: for each node, the value of the node is greater than all the values in the left subtree and smaller than all the values in the right subtree. Additionally, the left subtree and the right subtree are also binary search trees.\n",
    "\n",
    "The insertion of an element into a binary search tree, while preserving the binary search tree property, is done as follows:"
   ]
  },
  {
   "cell_type": "code",
   "execution_count": null,
   "id": "9e7ec91c",
   "metadata": {
    "vscode": {
     "languageId": "ocaml"
    }
   },
   "outputs": [],
   "source": [
    "\n",
    "let rec insert_bst x t = \n",
    "  match t with \n",
    "  | Empty -> Node(x, Empty, Empty)\n",
    "  | Node(y,l,r) -> if x < y then Node(y,insert_bst x l,r) else Node(y,l, insert_bst x r)\n",
    "\n",
    "let t1 = insert_bst 0 t0\n",
    "let t2 = Node(4, t0, Empty)\n",
    "let _ = assert(t1 = Node (2, Node (1, Node (0, Empty, Empty), Empty), Node (3, Empty, Empty)))\n"
   ]
  },
  {
   "cell_type": "markdown",
   "id": "95a77ddb",
   "metadata": {},
   "source": [
    "Let's define an auxiliary function `remove_min` that removes the node with the smallest value from a binary search tree. This function will be useful for removing a node from the binary search tree. The `remove_min` function will return the binary search tree without the node containing the smallest value."
   ]
  },
  {
   "cell_type": "code",
   "execution_count": null,
   "id": "d78bc4a5",
   "metadata": {
    "vscode": {
     "languageId": "ocaml"
    }
   },
   "outputs": [],
   "source": [
    "(** [remove_min t] denotes the tree removing the minimum value from [t]\n",
    "    pre: [t <> Empty] *)\n",
    "let rec remove_min t = \n",
    "  match t with \n",
    "  | Empty -> failwith \"Precondition violated!\"\n",
    "  | Node(x,Empty,r) -> r\n",
    "  | Node(x,l,r) -> Node(x, remove_min l, r)\n",
    "\n",
    "(** [min_tree t] denotes the smaller value in [t]\n",
    "    pre: [t <> Empty] *)\n",
    "let rec min_tree t = \n",
    "  match t with \n",
    "  | Empty -> failwith \"Precondition violated!\"\n",
    "  | Node(x,Empty,r) -> x\n",
    "  | Node(x,l,r) -> min_tree l\n",
    "\n",
    "(** [min_tree t] denotes the larger value in [t]\n",
    "    pre: [t <> Empty] *)\n",
    "let rec max_tree t = \n",
    "  match t with \n",
    "  | Empty -> failwith \"Precondition violated!\"\n",
    "  | Node(x,_,Empty) -> x\n",
    "  | Node(_,_,r) -> max_tree r"
   ]
  },
  {
   "cell_type": "markdown",
   "id": "d61eb0ea",
   "metadata": {},
   "source": [
    "Given these auxiliary functions, we can define a function that corresponds to the inductive proof of the binary search tree property. If we consider that the recursive call on the left subtree and on the right subtree corresponds to the induction hypothesis (the property for a smaller tree), then we can define the result for the composed tree by checking whether all elements in the left subtree are smaller than the root and all elements in the right subtree are greater than the root."
   ]
  },
  {
   "cell_type": "code",
   "execution_count": null,
   "id": "3c4dd962",
   "metadata": {
    "vscode": {
     "languageId": "ocaml"
    }
   },
   "outputs": [],
   "source": [
    "let rec is_a_bst t = \n",
    "  match t with \n",
    "  (* Base case *)\n",
    "  | Empty -> true  \n",
    "\n",
    "  (* Base case *)\n",
    "  | Node(_, Empty,Empty) -> true\n",
    "\n",
    "  (* Inductive case if the left subtree is empty *)\n",
    "  | Node(x,Empty,r) -> (* by h.i. *) is_a_bst r && min_tree r >= x\n",
    "\n",
    "  (* Inductive case if the right subtree is empty *)\n",
    "  | Node(x,l,Empty) -> (* by h.i. *) is_a_bst l && max_tree l < x \n",
    "\n",
    "  (* General Inductive case *)\n",
    "  | Node(x,l,r) -> (* by h.i. *) is_a_bst l && (* by h.i. *) is_a_bst r && max_tree l < x && min_tree r >= x\n",
    "\n",
    "let _ = assert(is_a_bst t0)\n",
    "let _ = assert(is_a_bst t1)\n",
    "let _ = assert(is_a_bst t2)\n"
   ]
  },
  {
   "cell_type": "markdown",
   "id": "bfde3ab5",
   "metadata": {},
   "source": [
    "The removal of a value from a binary search tree is done by searching for the value and removing it. When an intermediate node is removed, it must be replaced by the minimum value of the right subtree (or by the maximum value of the left subtree). This is done by calling the `remove_min` function on the right subtree and replacing the intermediate node with the result. The left subtree remains unchanged. The result is a new binary search tree with the same properties as before, but without the removed value."
   ]
  },
  {
   "cell_type": "code",
   "execution_count": null,
   "id": "7bda1123",
   "metadata": {
    "vscode": {
     "languageId": "ocaml"
    }
   },
   "outputs": [],
   "source": [
    "let rec remove x t = \n",
    "  match t with\n",
    "  | Empty -> Empty\n",
    "  | Node(y,l,r) -> \n",
    "    if x = y then \n",
    "      Node(min_tree r, l, remove_min r)\n",
    "    else \n",
    "      if x < y then \n",
    "        Node(y, remove x l ,r) \n",
    "      else \n",
    "        Node(y, l, remove x r)\n",
    "\n",
    "let _ = assert (remove 2 t0 = Node (3, Node (1, Empty, Empty), Empty))\n",
    "let _ = assert (remove 2 t2 = Node (4, Node (3, Node (1, Empty, Empty), Empty), Empty))"
   ]
  },
  {
   "cell_type": "markdown",
   "id": "c2276ef3",
   "metadata": {},
   "source": [
    "- binary trees\n",
    "- insert in a bst\n",
    "- remove in a bst (remove_min)\n",
    "- tree_size\n",
    "- depth\n",
    "- pre_order \n",
    "- in_order\n",
    "- post_order\n",
    "- map\n",
    "- fold_in_order\n",
    "- fold_pre_order\n",
    "- fold_post_order"
   ]
  },
  {
   "cell_type": "markdown",
   "id": "a6aa3d9f",
   "metadata": {},
   "source": [
    "An alternative to the `remove_min` function above is to compute the minimum value at the same time as it is removed. The `remove` function is then defined as follows:"
   ]
  },
  {
   "cell_type": "code",
   "execution_count": null,
   "id": "c95871d9",
   "metadata": {
    "vscode": {
     "languageId": "ocaml"
    }
   },
   "outputs": [],
   "source": [
    "(** pre: [t <> Empty] *)\n",
    "let rec remove_min t = \n",
    "  match t with \n",
    "  | Empty -> failwith \"There is no minimum\"\n",
    "  | Node(y,Empty,r) -> (y,r)\n",
    "  | Node(y,l,r) -> let (min,l') = remove_min l in (min, Node(y,l',r))\n",
    "\n",
    "let rec remove x t = \n",
    "  match t with \n",
    "  | Empty -> Empty\n",
    "  | Node(y,l,r) -> \n",
    "      if x = y then \n",
    "        begin match r with\n",
    "        | Empty -> l\n",
    "        | _ -> let (min,r') = remove_min r in Node(min, l, r')\n",
    "        end\n",
    "      else if x < y then \n",
    "        Node(y, remove x l, r)\n",
    "      else \n",
    "        Node(y, l, remove x r)\n",
    "\n",
    "let _ = assert (remove 2 t0 = Node (3, Node (1, Empty, Empty), Empty))\n",
    "let _ = assert (remove 2 t2 = Node (4, Node (3, Node (1, Empty, Empty), Empty), Empty))"
   ]
  },
  {
   "cell_type": "markdown",
   "id": "e5137bb7",
   "metadata": {},
   "source": [
    "Other functions on trees that we can define are the following:"
   ]
  },
  {
   "cell_type": "code",
   "execution_count": null,
   "id": "b481c026",
   "metadata": {
    "vscode": {
     "languageId": "ocaml"
    }
   },
   "outputs": [],
   "source": [
    "let rec tree_size t = \n",
    "  match t with\n",
    "  | Empty -> 0\n",
    "  | Node(_, l, r) -> 1 + tree_size l + tree_size r\n",
    "\n",
    "  \n",
    "let rec tree_depth t = \n",
    "  match t with\n",
    "  | Empty -> 0\n",
    "  | Node(_,l,r) -> 1 + max (tree_depth l) (tree_depth r)\n",
    "    \n",
    "let _ = assert (4 = tree_size t2)\n",
    "let _ = assert (3 = tree_depth t2)\n"
   ]
  },
  {
   "cell_type": "markdown",
   "id": "71279a0f",
   "metadata": {},
   "source": [
    "# Traversals in Binary Trees\n",
    "\n",
    "Traversals in binary trees are functions that traverse the tree in a specific way. There are three types of binary tree traversals:\n",
    "\n",
    "- **pre-order**: visits the root, then the left subtree, and then the right subtree\n",
    "- **in-order**: visits the left subtree, then the root, and then the right subtree\n",
    "- **post-order**: visits the left subtree, then the right subtree, and then the root\n"
   ]
  },
  {
   "cell_type": "code",
   "execution_count": null,
   "id": "f27af539",
   "metadata": {
    "vscode": {
     "languageId": "ocaml"
    }
   },
   "outputs": [],
   "source": [
    "let t = Node(1,Empty,Node(2,Empty,Node (3,Empty,Empty)))\n",
    "let t3 = Node(0, t, t)\n",
    "\n",
    "let rec pre_order t = \n",
    "  match t with \n",
    "  | Empty -> []\n",
    "  | Node(x,l,r) -> x::(pre_order l)@(pre_order r)\n",
    "\n",
    "let _ = assert([0;1;2;3;1;2;3] = pre_order t3)"
   ]
  },
  {
   "cell_type": "code",
   "execution_count": null,
   "id": "0a87a47e",
   "metadata": {
    "vscode": {
     "languageId": "ocaml"
    }
   },
   "outputs": [],
   "source": [
    "let rec in_order t = \n",
    "  match t with \n",
    "  | Empty -> []\n",
    "  | Node(x,l,r) -> (in_order l)@[x]@(in_order r)\n",
    "\n",
    "let _ = assert( [1;2;3;0;1;2;3] = in_order t3)"
   ]
  },
  {
   "cell_type": "code",
   "execution_count": null,
   "id": "fcb84679",
   "metadata": {
    "vscode": {
     "languageId": "ocaml"
    }
   },
   "outputs": [],
   "source": [
    "let ot = Node(4,Node(2,Node(1,Empty,Empty),Node(3,Empty,Empty)),Node(6,Node(5,Empty,Empty),Node(7,Empty,Empty)))\n",
    "\n",
    "let _ = assert( [1; 2; 3; 4; 5; 6; 7] = in_order ot)\n",
    "let _ = assert( [4; 2; 1; 3; 6; 5; 7] = pre_order ot)"
   ]
  },
  {
   "cell_type": "code",
   "execution_count": null,
   "id": "945fec77",
   "metadata": {
    "vscode": {
     "languageId": "ocaml"
    }
   },
   "outputs": [],
   "source": [
    "let rec post_order t = \n",
    "  match t with \n",
    "  | Empty -> []\n",
    "  | Node(x,l,r) -> (post_order l)@(post_order r)@[x]\n",
    "\n",
    "let _ = assert( [1; 3; 2; 5; 7; 6; 4] = post_order ot)"
   ]
  },
  {
   "cell_type": "code",
   "execution_count": null,
   "id": "31e21b21",
   "metadata": {
    "vscode": {
     "languageId": "ocaml"
    }
   },
   "outputs": [],
   "source": [
    "let rec in_order_rev t = \n",
    "  match t with \n",
    "  | Empty -> []\n",
    "  | Node(x,l,r) -> (in_order_rev r)@[x]@(in_order_rev l)\n",
    "\n",
    "let _ = assert( [7; 6; 5; 4; 3; 2; 1] = in_order_rev ot)"
   ]
  },
  {
   "cell_type": "markdown",
   "id": "ec9bb8df",
   "metadata": {},
   "source": [
    "# Higher-order functions (Map e Fold)"
   ]
  },
  {
   "cell_type": "code",
   "execution_count": null,
   "id": "01d88ca0",
   "metadata": {
    "vscode": {
     "languageId": "ocaml"
    }
   },
   "outputs": [],
   "source": [
    "let rec map f t = \n",
    "  match t with\n",
    "  | Empty -> Empty\n",
    "  | Node(x,l,r) -> Node(f x, map f l, map f r)\n",
    "\n",
    "let _ = map string_of_int ot\n",
    "let _ = map ((+)1) ot"
   ]
  },
  {
   "cell_type": "code",
   "execution_count": null,
   "id": "a7b71551",
   "metadata": {
    "vscode": {
     "languageId": "ocaml"
    }
   },
   "outputs": [],
   "source": [
    "let map_opt f o = \n",
    "  match o with\n",
    "  | None -> None\n",
    "  | Some v -> Some (f v)\n",
    "\n",
    "let _ = map_opt string_of_int (Some 1)\n",
    "let _ = map_opt string_of_int None\n",
    "let _ = map_opt ((+)1) (Some 1)\n",
    "let _ = map_opt ((+)1) None"
   ]
  },
  {
   "cell_type": "code",
   "execution_count": null,
   "id": "bd79e6fe",
   "metadata": {
    "vscode": {
     "languageId": "ocaml"
    }
   },
   "outputs": [],
   "source": [
    "let rec fold_left f acc l = \n",
    "  match l with \n",
    "  | [] -> acc\n",
    "  | x::xs -> fold_left f (f acc x) xs\n",
    "\n",
    "let _ = fold_left (+) 0 (pre_order ot)\n",
    "\n",
    "let rec fold_in_order f acc t =  \n",
    "  match t with\n",
    "  | Empty -> acc\n",
    "  | Node(x,l,r) -> let acc_l = fold_in_order f acc l in let acc_root = f acc_l x in fold_in_order f acc_root r\n",
    "\n",
    "let _ = fold_in_order (+) 0 ot\n",
    "let _ = fold_in_order (fun acc x -> acc@[x]) [] ot\n",
    "let filter p t = fold_in_order (fun acc x -> if p x then acc@[x] else acc) [] ot\n",
    "\n",
    "let _ = filter (fun x -> x mod 2 = 0) ot\n",
    "\n"
   ]
  },
  {
   "cell_type": "code",
   "execution_count": null,
   "id": "ae244672",
   "metadata": {
    "vscode": {
     "languageId": "ocaml"
    }
   },
   "outputs": [],
   "source": [
    "let rec fold_pre_order f acc t =  \n",
    "  match t with\n",
    "  | Empty -> acc\n",
    "  | Node(x,l,r) -> let acc_root = f acc x in let acc_l = fold_pre_order f acc_root l in fold_pre_order f acc_l r\n",
    "\n",
    "let _ = fold_pre_order (fun acc x -> acc@[x]) [] ot\n"
   ]
  }
 ],
 "metadata": {
  "kernelspec": {
   "display_name": "OCaml default",
   "language": "OCaml",
   "name": "ocaml-jupyter"
  },
  "language_info": {
   "codemirror_mode": "text/x-ocaml",
   "file_extension": ".ml",
   "mimetype": "text/x-ocaml",
   "name": "OCaml",
   "nbconverter_exporter": null,
   "pygments_lexer": "OCaml",
   "version": "4.14.2"
  }
 },
 "nbformat": 4,
 "nbformat_minor": 5
}
