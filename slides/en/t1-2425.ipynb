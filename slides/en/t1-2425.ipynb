{
 "cells": [
  {
   "cell_type": "markdown",
   "metadata": {},
   "source": [
    "# Primeiro Teste Lap 2025"
   ]
  },
  {
   "cell_type": "markdown",
   "metadata": {},
   "source": [
    "### ✅ **Regras:** \n",
    "- O teste tem a duração de **90 minutos**. \n",
    "- Pode ser realizado a lápis. \n",
    "- Podem sair ao final de 45 minutos. \n",
    "- Podem entrar nos primeiros 30 minutos.\n",
    "- A não ser que seja explicitamente pedido, podem utilizar funções da biblioteca sem restrições. \n",
    "- **Não podem apresentar soluções imperativas.**"
   ]
  },
  {
   "cell_type": "markdown",
   "metadata": {},
   "source": [
    "#### ⭐️ **Pergunta 1 (2 valores)**\n",
    "\n",
    "Esta pergunta é sobre expressões em OCaml e o seu tipo. Considere um tabuleiro de xadrez com uma quadricula de oito por oito casas (cells). A numeração das colunas é feita com as letras de `A` a `H` e as linhas com os numeros de `1` a `8`. **Na representação que vamos usar, as linhas vão de `0` a `7`.** \n",
    "\n",
    "![chessboard](chessboard.png)\n",
    "\n",
    "Considere as seguintes definições de tipos:\n",
    "\n",
    "```OCaml\n",
    "(1) type chesscell = char * int\n",
    "(2) type chesspiece_kind = Pawn | Knight | Bishop | Rook | Queen | King\n",
    "(3) type color = White | Black\n",
    "(4) type chesspiece = White of chesspiece_kind | Black of chesspiece_kind\n",
    "(5) type chessmove = chesspiece_kind * chesscell * chesscell\n",
    "(6) type chessgame = chessmove list                           \n",
    "(7) type cell = None | Some of chesspiece                     \n",
    "(8) type chessboard = cell list list  \n",
    "```\n",
    "\n",
    "**Notas:**\n",
    "- `chessmove` representa uma jogada; é um triplo com o tipo da peça `chesspiece_kind`, a origem da peça, isto é, a célula em que se encontra e a célula para a qual se vai mover;\n",
    "- `chessgame` representa um jogo de xadrez e é uma lista de jogadas `chessmove`; \n",
    "- `cell` representa uma célula do tabuleiro de xadrez; uma célula está vazia ou contém uma peça `chesspiece`; \n",
    "- `chessboard` representa um tabuleiro de xadrez; é composto por uma lista de listas, em que cada lista é composta por 8 células (isto é, uma lista por linha do tabuleiro).\n",
    "\n",
    "Escreva uma expressão para cada um dos tipos `chesscell`, `chesspiece`, `chessmove`, `chessgame`, `cell`, e `chessboard`. Note que o tipo da expressão deve ser precisamente o indicado e não um tipo mais genérico."
   ]
  },
  {
   "cell_type": "code",
   "execution_count": null,
   "metadata": {
    "vscode": {
     "languageId": "ocaml"
    }
   },
   "outputs": [],
   "source": [
    "let chesscell_thing = ('A',1)\n",
    "let chesspiece_thing = White Knight\n",
    "let chessmove_thing = (chesspiece_thing, chesscell_thing, chesscell_thing)\n",
    "let chessgame = [chessmove_thing]\n",
    "let cell_thing = Some chesspiece_thing\n",
    "let chessboard_thing = [[cell_thing]]"
   ]
  },
  {
   "cell_type": "markdown",
   "metadata": {},
   "source": [
    "#### ⭐️⭐️ **Pergunta 2 (3 valores)** \n",
    "\n",
    "Esta pergunta é sobre inferência de tipos de expressões em OCaml. Considere as seguintes expressões em OCaml. \n",
    "\n",
    "```OCaml\n",
    "(1) let mk = fun p c1 c2 -> Some (Pawn, c1, c2)\n",
    "(2) let mk_piece = fun p -> fun c -> match c with \"White\" -> White p | _ -> Black p\n",
    "(3) let mk_pawn = fun c -> mk_piece Pawn c\n",
    "(4) let mk_board = fun () -> List.init 8 (fun i -> List.init 8 (fun j -> None))\n",
    "(5) let mk_chessmove p = fun c1 c2 -> (p,c1,c2)\n",
    "```\n",
    "\n",
    "**Indique o tipo mais genérico de cada expressão** segundo o algoritmo de inferência de tipos de Hindley-Milner. **Não precisa de apresentar a AST nem os passos intermédios.** Se a expressão não for bem tipificada, indique o motivo.\n",
    "\n",
    "Considere a função `List.init` com o tipo: `int -> (int -> 'a) -> 'a list` que inicializa uma lista com base numa função que gera os elementos da lista com base no índice. \n",
    "\n",
    "Por exemplo, `List.init 3 (fun i -> i)` resulta na lista `[0; 1; 2]`."
   ]
  },
  {
   "cell_type": "code",
   "execution_count": null,
   "metadata": {
    "vscode": {
     "languageId": "ocaml"
    }
   },
   "outputs": [],
   "source": [
    "(* let mk : No type  = fun p c1 c2 -> Some (Pawn, c1, c2) *)\n",
    "let mk_piece : chesspiece_kind -> string -> chesspiece = fun p -> fun c -> match c with \"White\" -> White p | _ -> Black p\n",
    "let mk_pawn : string -> chesspiece = fun c -> mk_piece Pawn c\n",
    "let mk_board : () -> cell list list = fun () -> List.init 8 (fun i -> List.init 8 (fun j -> None))\n",
    "let mk_chessmove p : 'a -> 'b -> 'c -> 'a * 'b * 'c = fun c1 c2 -> (p,c1,c2)"
   ]
  },
  {
   "cell_type": "markdown",
   "metadata": {},
   "source": [
    "#### ⭐️⭐️ **Pergunta 3 (2 valores)** \n",
    "\n",
    "Esta pergunta é sobre funções sobre listas e tuplos em OCaml. Considere uma lista de peças de xadrez (tipo `chesspiece_kind`) onde cada peça tem uma pontuação associada. As pontuações são as seguintes:\n",
    "\n",
    "| Peça     |  Valor |\n",
    "|----------|--------|\n",
    "| `Pawn`   | 1      |\n",
    "| `Knight` | 3      |\n",
    "| `Bishop` | 3      |\n",
    "| `Rook`   | 5      |\n",
    "| `Queen`  | 9      |\n",
    "| `King`   | 0      |\n",
    "\n",
    "\n",
    "Escreva uma função que recebe uma lista de peças e devolve a pontuação total da lista. A função deve ter a seguinte assinatura:\n",
    "\n",
    "```OCaml\n",
    "val score : chesspiece_kind list -> int\n",
    "```\n",
    "\n",
    "Considere os seguintes testes:\n",
    "\n",
    "```OCaml\n",
    "let _ = assert (score [Pawn; Knight; Bishop] = 1 + 3 + 3)\n",
    "let _ = assert (score [Pawn; Knight; Bishop; Rook] = 1 + 3 + 3 + 5)\n",
    "let _ = assert (score [Pawn; Knight; Bishop; Rook; Queen] = 1 + 3 + 3 + 5 + 9)\n",
    "```\n"
   ]
  },
  {
   "cell_type": "code",
   "execution_count": null,
   "metadata": {
    "vscode": {
     "languageId": "ocaml"
    }
   },
   "outputs": [],
   "source": [
    "let value_of pk = \n",
    "  match pk with\n",
    "  | Pawn -> 1\n",
    "  | Knight -> 3\n",
    "  | Bishop -> 3\n",
    "  | Rook -> 5\n",
    "  | Queen -> 9\n",
    "  | King -> 0\n",
    "\n",
    "let rec score l = \n",
    "  match l with \n",
    "  | [] -> 0 \n",
    "  | p::ps -> (value_of p) + score ps"
   ]
  },
  {
   "cell_type": "markdown",
   "metadata": {},
   "source": [
    "#### ⭐️⭐️⭐️ **Pergunta 4 (4 valores)**\n",
    "\n",
    "Esta pergunta é sobre a utilização de *pattern matching* em OCaml. Considere a assinatura da função:\n",
    "\n",
    "```OCaml\n",
    "val is_move_legal : chessmove -> bool\n",
    "```\n",
    "\n",
    "que verifica se um movimento de xadrez é válido. Comece por verificar se o movimento se encontra **dentro do tabuleiro** (A-H) (0-7). A função deve verificar depois se o movimento é válido para a peça especificada **ignorando a cor e as outras peças do tabuleiro**. Considere apenas os seguintes movimentos:\n",
    "\n",
    "- `Pawn` move-se uma casa para frente (na direção 0 $\\rightarrow$ 7). Não são considerados outros movimentos para esta peça.\n",
    "- `Knight` move-se em L (duas casas numa direção e uma casa na direção perpendicular).\n",
    "- `Bishop` move-se em diagonal quantas casas quiser.\n",
    "- `Rook` move-se em linha reta quantas casas quiser.\n",
    "- `Queen` move-se em linha reta ou diagonal quantas casas quiser.\n",
    "- `King` move-se uma casa em qualquer direção.\n",
    "\n",
    "A função deve retornar `true` se o movimento for válido e `false` caso contrário.\n",
    "A função deve ser definida usando *pattern matching*. Recorde que os operadores `<, >, =` também são válidos para caracteres. Se necessário, utilize a função `int_of_char: char -> int` para converter a letra da coluna num número inteiro, e a função `abs: int -> int` para obter o valor absoluto de um número inteiro."
   ]
  },
  {
   "cell_type": "code",
   "execution_count": null,
   "metadata": {
    "vscode": {
     "languageId": "ocaml"
    }
   },
   "outputs": [],
   "source": [
    "let in_the_board (c,l) =\n",
    "  c >= 'A' && c <= 'H' && l >= 0 && l <= 7\n",
    "\n",
    "let is_move_legal (k,c1,c2) = \n",
    "  in_the_board c1 && \n",
    "  in_the_board c2 &&\n",
    "  let v = ((snd c1) - (snd c2)) in \n",
    "  let h = abs ((int_of_char (fst c1)) - (int_of_char (fst c2))) in \n",
    "  let av = abs v in \n",
    "  match k with \n",
    "  | Pawn -> v = 1 && h = 0\n",
    "  | Knight -> av = 1 && h = 2 || av = 2 && h = 1\n",
    "  | Bishop -> av = h && av <> 0\n",
    "  | Rook -> av = 0 && h <> 0 || av <> 0 && h = 0\n",
    "  | Queen -> av = h || av = 0 && h <> 0 || av <> 0 && h = 0\n",
    "  | King -> av <= 1 && h <= 1 && (av <> 0 || h <> 0)\n"
   ]
  },
  {
   "cell_type": "markdown",
   "metadata": {},
   "source": [
    "#### ⭐️⭐️⭐️ **Pergunta 5 (3 valores)** \n",
    "\n",
    "Esta pergunta é sobre funções recursivas sobre listas de inteiros em OCaml. Escreva uma função recursiva que recebe uma lista e produz uma lista com a diferença de elementos consecutivos, dois a dois. \n",
    "\n",
    "para uma lista `l = [ a1; a2; a3; ...; an ]` a função deve devolver a lista `[a2 - a1; a3 - a2; ...; an - an-1]`. \n",
    "\n",
    "No caso de a lista ser vazia ou conter só um elemento a função devolve uma lista vazia. A função deve ter a seguinte assinatura:\n",
    "\n",
    "```OCaml\n",
    "val diff2 : int list -> int list\n",
    "```\n",
    "\n",
    "A função deve ser recursiva e não deve usar funções auxiliares como, por exemplo, `fold_right`, `fold_left`, ou `map`."
   ]
  },
  {
   "cell_type": "code",
   "execution_count": null,
   "metadata": {
    "vscode": {
     "languageId": "ocaml"
    }
   },
   "outputs": [],
   "source": [
    "let rec diff2 l = \n",
    "  match l with \n",
    "  | [] -> []\n",
    "  | [x] -> []\n",
    "  | x::y::ys -> (y-x)::diff2 (y::ys)"
   ]
  },
  {
   "cell_type": "markdown",
   "metadata": {},
   "source": [
    "#### ⭐️⭐️ **Pergunta 6 (3 valores)**\n",
    "\n",
    "Esta pergunta é sobre funções recursivas sobre listas, tuplos, e variantes em OCaml. Considere uma lista de jogadas de xadrez (tipo `chessmove`) que descreve uma partida completa. \n",
    "\n",
    "Escreva uma função que recebe uma lista de jogadas e devolve a lista de jogadas de cada jogador separadas. A função deve ter a seguinte assinatura:\n",
    "\n",
    "```OCaml\n",
    "val split_moves : chessmove list -> (chessmove list * chessmove list) = <fun>\n",
    "```\n",
    "A função deve ser recursiva e não deve usar funções auxiliares. A lista de jogadas deve ser separada em duas listas, uma para cada jogador. A primeira jogada é do jogador branco e a segunda do jogador preto, e assim sucessivamente.\n",
    "\n",
    "Considere os seguintes testes:\n",
    "\n",
    "```OCaml\n",
    "let moves = [(Pawn, (\"A\", 1), (\"A\", 2)); (Knight, (\"B\", 1), (\"C\", 3)); (Bishop, (\"C\", 1), (\"D\", 4)); (Rook, (\"D\", 1), (\"E\", 5)); (Queen, (\"E\", 1), (\"F\", 6)); (King, (\"F\", 1), (\"G\", 7))]\n",
    "let modes_white = [(Pawn, (\"A\", 1), (\"A\", 2)); (Bishop, (\"C\", 1), (\"D\", 4)); (Queen, (\"E\", 1), (\"F\", 6))]\n",
    "let modes_black = [(Knight, (\"B\", 1), (\"C\", 3)); (Rook, (\"D\", 1), (\"E\", 5)); (King, (\"F\", 1), (\"G\", 7))]\n",
    "let _ = assert (split_moves moves = (modes_white, modes_black))\n",
    "```\n",
    "\n"
   ]
  },
  {
   "cell_type": "code",
   "execution_count": null,
   "metadata": {
    "vscode": {
     "languageId": "ocaml"
    }
   },
   "outputs": [],
   "source": [
    "let rec split_moves l = \n",
    "  match l with \n",
    "  | [] -> ([],[])\n",
    "  | [x] -> ([x],[])\n",
    "  | x::y::ps -> let (l1,l2) = split_moves ps in (x::l1, y::l2)\n",
    "\n",
    "let moves = [(Pawn, (\"A\", 1), (\"A\", 2)); (Knight, (\"B\", 1), (\"C\", 3)); (Bishop, (\"C\", 1), (\"D\", 4)); (Rook, (\"D\", 1), (\"E\", 5)); (Queen, (\"E\", 1), (\"F\", 6)); (King, (\"F\", 1), (\"G\", 7))]\n",
    "let modes_white = [(Pawn, (\"A\", 1), (\"A\", 2)); (Bishop, (\"C\", 1), (\"D\", 4)); (Queen, (\"E\", 1), (\"F\", 6))]\n",
    "let modes_black = [(Knight, (\"B\", 1), (\"C\", 3)); (Rook, (\"D\", 1), (\"E\", 5)); (King, (\"F\", 1), (\"G\", 7))]\n",
    "let _ = assert (split_moves moves = (modes_white, modes_black))"
   ]
  },
  {
   "cell_type": "markdown",
   "metadata": {},
   "source": [
    "#### ⭐️ **Pergunta 7 (1 valor)**\n",
    "Esta pergunta é sobre funções de ordem superior em OCaml. Implemente a função `for_all` que recebe uma função `p` e uma lista e devolve `true` se a função `p` for verdadeira para todos os elementos da lista. Caso contrário, devolve `false`. A função deve ter a seguinte assinatura:\n",
    "\n",
    "```OCaml\n",
    "val for_all : ('a -> bool) -> 'a list -> bool\n",
    "```\n",
    "\n",
    "Considere os seguintes testes \n",
    "\n",
    "```OCaml\n",
    "let _ = assert (for_all (fun x -> x > 0) [1;2;3;4;5])\n",
    "let _ = assert (not (for_all (fun x -> x > 0) [1;2;3;4;-5]))\n",
    "let _ = assert (for_all (fun x -> x > 0) [])\n",
    "let _ = assert (for_all (fun x -> x > 0) [1])\n",
    "let _ = assert (not (for_all (fun x -> x > 0) [1;2;3;4;5;0]))\n",
    "```\n"
   ]
  },
  {
   "cell_type": "code",
   "execution_count": null,
   "metadata": {
    "vscode": {
     "languageId": "ocaml"
    }
   },
   "outputs": [
    {
     "data": {
      "text/plain": [
       "val for_all : ('a -> bool) -> 'a list -> bool = <fun>\n"
      ]
     },
     "execution_count": 1,
     "metadata": {},
     "output_type": "execute_result"
    },
    {
     "data": {
      "text/plain": [
       "- : unit = ()\n"
      ]
     },
     "execution_count": 1,
     "metadata": {},
     "output_type": "execute_result"
    },
    {
     "data": {
      "text/plain": [
       "- : unit = ()\n"
      ]
     },
     "execution_count": 1,
     "metadata": {},
     "output_type": "execute_result"
    },
    {
     "data": {
      "text/plain": [
       "- : unit = ()\n"
      ]
     },
     "execution_count": 1,
     "metadata": {},
     "output_type": "execute_result"
    },
    {
     "data": {
      "text/plain": [
       "- : unit = ()\n"
      ]
     },
     "execution_count": 1,
     "metadata": {},
     "output_type": "execute_result"
    },
    {
     "data": {
      "text/plain": [
       "- : unit = ()\n"
      ]
     },
     "execution_count": 1,
     "metadata": {},
     "output_type": "execute_result"
    }
   ],
   "source": [
    "let rec for_all p = function\n",
    "  | [] -> true\n",
    "  | x::xs -> p x && for_all p xs\n",
    "\n",
    "  let _ = assert (for_all (fun x -> x > 0) [1;2;3;4;5])\n",
    "let _ = assert (not (for_all (fun x -> x > 0) [1;2;3;4;-5]))\n",
    "let _ = assert (for_all (fun x -> x > 0) [])\n",
    "let _ = assert (for_all (fun x -> x > 0) [1])\n",
    "let _ = assert (not (for_all (fun x -> x > 0) [1;2;3;4;5;0]))"
   ]
  },
  {
   "cell_type": "markdown",
   "metadata": {},
   "source": [
    "#### ⭐️⭐️⭐️⭐️ **Pergunta 8 (2 valores)**\n",
    "\n",
    "Esta pergunta é sobre fazer uma função recursiva com `fold_left` a partir da função recursiva simples produzida na pergunta 5. A função `fold_left` tem a seguinte assinatura:\n",
    "\n",
    "```OCaml\n",
    "val fold_left : ('a -> 'b -> 'a) -> 'a -> 'b list -> 'a\n",
    "```\n",
    "\n",
    "A função `fold_left` aplica uma função a cada elemento de uma lista, acumulando o resultado. \n",
    "\n",
    "Defina a função `diff2_fold` com complexidade linear, usando `fold_left` com o mesmo comportamento da função `diff2` definida na pergunta 5. A função deve ter a seguinte assinatura:\n",
    "\n",
    "```OCaml\n",
    "val diff2_fold : int list -> int list\n",
    "```"
   ]
  },
  {
   "cell_type": "code",
   "execution_count": null,
   "metadata": {
    "vscode": {
     "languageId": "ocaml"
    }
   },
   "outputs": [],
   "source": [
    "let rec diff2 l = \n",
    "  match l with \n",
    "  | [] -> []\n",
    "  | [x] -> []\n",
    "  | x::y::ys -> (y-x)::diff2 (y::ys)\n",
    "\n",
    "let diff2_tail l = \n",
    "  let rec f (prev,acc) l =\n",
    "    match l with \n",
    "    | [] -> acc\n",
    "    | x::xs -> f (x, (prev-x)::acc) xs\n",
    "  in List.rev (f (hd l,[]) (tl l))\n",
    "\n",
    "let diff2_fold l = \n",
    "  if l = [] then [] else \n",
    "  List.rev (List.fold_left (fun (prev,acc) x -> (x, (prev-x)::acc)) (hd l,[]) (tl l))\n"
   ]
  }
 ],
 "metadata": {
  "kernelspec": {
   "display_name": "OCaml default",
   "language": "OCaml",
   "name": "ocaml-jupyter"
  },
  "language_info": {
   "codemirror_mode": "text/x-ocaml",
   "file_extension": ".ml",
   "mimetype": "text/x-ocaml",
   "name": "OCaml",
   "nbconverter_exporter": null,
   "pygments_lexer": "OCaml",
   "version": "4.14.2"
  }
 },
 "nbformat": 4,
 "nbformat_minor": 2
}
