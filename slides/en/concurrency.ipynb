{
 "cells": [
  {
   "cell_type": "code",
   "execution_count": null,
   "id": "251c18e6",
   "metadata": {
    "vscode": {
     "languageId": "ocaml"
    }
   },
   "outputs": [
    {
     "ename": "error",
     "evalue": "compile_error",
     "output_type": "error",
     "traceback": [
      "File \"[1]\", line 2, characters 31-43:\n2 |   let ts = (List.map (fun x -> Domain.spawn (fun _ -> f x)) l) in\n                                   ^^^^^^^^^^^^\nError: Unbound module Domain\n"
     ]
    }
   ],
   "source": [
    "(* Only with ocaml 5 *)\n",
    "\n",
    "let pmap = fun f l -> \n",
    "  let ts = (List.map (fun x -> Domain.spawn (fun _ -> f x)) l) in\n",
    "  List.map Domain.join ts;;\n",
    "\n",
    "let _ = pmap ((+) 1) [1;2;3;4]"
   ]
  },
  {
   "cell_type": "code",
   "execution_count": null,
   "id": "05afa253",
   "metadata": {
    "vscode": {
     "languageId": "ocaml"
    }
   },
   "outputs": [],
   "source": [
    "let rec fib n = if n < 2 then 1 else fib (n-1) + fib (n-2);;\n",
    "\n",
    "let map_reduce f_map f_red acc_init l = \n",
    "  (List.map (fun x -> Domain.spawn (fun _ -> f_map x)) l)\n",
    "  |> \n",
    "  List.fold_left (fun acc t -> f_red acc (Domain.join t)) acc_init;;\n",
    "\n",
    "\n",
    "map_reduce fib (+) 0 [10;20;30;40];;\n",
    "\n",
    "map_reduce fib (fun acc x -> x::acc) [] [10;20;30;40];;\n",
    "\n",
    "List.map fib [10;20;30;40];;"
   ]
  }
 ],
 "metadata": {
  "kernelspec": {
   "display_name": "OCaml default",
   "language": "OCaml",
   "name": "ocaml-jupyter"
  },
  "language_info": {
   "codemirror_mode": "text/x-ocaml",
   "file_extension": ".ml",
   "mimetype": "text/x-ocaml",
   "name": "OCaml",
   "nbconverter_exporter": null,
   "pygments_lexer": "OCaml",
   "version": "4.14.2"
  }
 },
 "nbformat": 4,
 "nbformat_minor": 5
}
