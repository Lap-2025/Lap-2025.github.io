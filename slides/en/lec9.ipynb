{
 "cells": [
  {
   "cell_type": "markdown",
   "metadata": {},
   "source": [
    "# Programming Languages and Environments \n",
    "## (Lecture 9)\n",
    "\n",
    "### Syllabus\n",
    "\n",
    "- Exercises on Lists \n",
    "- Higher-order functions \n",
    "- Maps and folds "
   ]
  },
  {
   "cell_type": "markdown",
   "metadata": {},
   "source": [
    "# Examples \n",
    "\n",
    "1. Iterating over lists of integers \n",
    "    1. Membership\n",
    "    3. Average of elements \n",
    "    4. Elements greater than \n",
    "    5. Counting (higher-order) \n",
    "2. List transformation \n",
    "    1. Projection \n",
    "    2. Filter\n",
    "    3. Zip and unzip \n",
    "    4. Function composition \n",
    "3. Compacting elements \n",
    "    1. Uncompacting\n",
    "4. Grouping elements \n",
    "    1. Ungrouping elements \n",
    "6. Merging sorted lists \n",
    "7. Merge sort "
   ]
  },
  {
   "cell_type": "markdown",
   "metadata": {},
   "source": [
    "# Iterating over lists of integers \n",
    "\n",
    "## Membership "
   ]
  },
  {
   "cell_type": "code",
   "execution_count": null,
   "metadata": {
    "vscode": {
     "languageId": "ocaml"
    }
   },
   "outputs": [],
   "source": [
    "(** [mem a l] is true if and only if a is equal to an element of list [l].\n",
    "    pre: [true]\n",
    "*)\n",
    "let rec mem x l = \n",
    "    match l with\n",
    "    | [] -> false\n",
    "    | y::ys -> if x = y then true else mem x ys"
   ]
  },
  {
   "cell_type": "code",
   "execution_count": null,
   "metadata": {
    "vscode": {
     "languageId": "ocaml"
    }
   },
   "outputs": [],
   "source": [
    "let _ = assert (mem 1 [1;2;3;4;5] = true)\n",
    "let _ = assert (mem 'a' ['a';'b';'c';'d';'e'] = true)"
   ]
  },
  {
   "cell_type": "markdown",
   "metadata": {},
   "source": [
    "## Computing the average of elements in a list"
   ]
  },
  {
   "cell_type": "code",
   "execution_count": null,
   "metadata": {
    "vscode": {
     "languageId": "ocaml"
    }
   },
   "outputs": [],
   "source": [
    "(** [avg l] is the average of the elements in list [l].\n",
    "    pre: [length l > 0] is not empty.\n",
    "    *)\n",
    "let avg l = \n",
    "    let rec sum l = \n",
    "        match l with\n",
    "        | [] -> 0\n",
    "        | x::xs -> x + sum xs\n",
    "    in\n",
    "    let rec len l = \n",
    "        match l with\n",
    "        | [] -> 0\n",
    "        | x::xs -> 1 + len xs\n",
    "    in\n",
    "    (sum l) / (len l)"
   ]
  },
  {
   "cell_type": "code",
   "execution_count": null,
   "metadata": {
    "vscode": {
     "languageId": "ocaml"
    }
   },
   "outputs": [],
   "source": [
    "(** [avg l] is the average of the elements in list [l].\n",
    "    pre: [length l > 0] is not empty.\n",
    "    *)\n",
    "let avg l = \n",
    "  let rec sum_count l = \n",
    "    match l with\n",
    "    | [] -> (0, 0)\n",
    "    | x::xs -> \n",
    "      let (sum, count) = sum_count xs in\n",
    "      (sum + x, count + 1)\n",
    "  in \n",
    "  let (sum, count) = sum_count l in sum / count"
   ]
  },
  {
   "cell_type": "code",
   "execution_count": null,
   "metadata": {
    "vscode": {
     "languageId": "ocaml"
    }
   },
   "outputs": [],
   "source": [
    "(** [avg l] is the average of the elements in list [l].\n",
    "    pre: [length l > 0] is not empty.\n",
    "    *)\n",
    "let avg l = \n",
    "  let rec sum_count l acc count = \n",
    "    match l with\n",
    "    | [] -> (acc, count)\n",
    "    | x::xs -> sum_count xs (acc + x) (count + 1)\n",
    "  in \n",
    "  let (sum, count) = sum_count l 0 0 in sum / count"
   ]
  },
  {
   "cell_type": "code",
   "execution_count": null,
   "metadata": {
    "vscode": {
     "languageId": "ocaml"
    }
   },
   "outputs": [],
   "source": [
    "(** [avg l] is the average of the elements in list [l].\n",
    "    pre: [length l > 0] is not empty.\n",
    "    *)\n",
    "let avg l = \n",
    "  let (sum, count) = List.fold_left (fun (sum, count) x -> (sum + x, count + 1)) (0, 0) l\n",
    "  in sum/count"
   ]
  },
  {
   "cell_type": "code",
   "execution_count": null,
   "metadata": {
    "vscode": {
     "languageId": "ocaml"
    }
   },
   "outputs": [],
   "source": [
    "let _ = assert (avg [1;2;3;4;5] = 3)\n",
    "let _ = assert (avg [1;2;3;4;5;6;7] = 4)\n"
   ]
  },
  {
   "cell_type": "markdown",
   "metadata": {},
   "source": [
    "## Counting elements greater than some threshold"
   ]
  },
  {
   "cell_type": "code",
   "execution_count": null,
   "metadata": {
    "vscode": {
     "languageId": "ocaml"
    }
   },
   "outputs": [],
   "source": [
    "(** [count_greater_than x l] is the number of elements in list [l] that are greater than [x].\n",
    "    pre: [true]\n",
    "    *)\n",
    "let rec count_greater_than x l = \n",
    "    match l with\n",
    "    | [] -> 0\n",
    "    | y::ys -> \n",
    "      if y > x then 1 + count_greater_than x ys\n",
    "      else count_greater_than x ys\n"
   ]
  },
  {
   "cell_type": "code",
   "execution_count": null,
   "metadata": {
    "vscode": {
     "languageId": "ocaml"
    }
   },
   "outputs": [],
   "source": [
    "let _ = assert (count_greater_than 3 [1;2;3;4;5] = 2) \n",
    "let _ = assert (count_greater_than 'f' ['a';'b';'c';'d';'e';'f';'g'] = 1) \n",
    "let _ = assert (count_greater_than 3. [1.;2.;3.;4.;5.] = 2) \n",
    "let _ = assert (count_greater_than \"hello\" [\"hello\";\"world\";\"hello\";\"world\";\"hello\"] = 2)\n"
   ]
  },
  {
   "cell_type": "code",
   "execution_count": null,
   "metadata": {
    "vscode": {
     "languageId": "ocaml"
    }
   },
   "outputs": [],
   "source": [
    "(** [count_greater_than x l] is the number of elements in list [l] that are greater than [x].\n",
    "    pre: [true]\n",
    "    *)\n",
    "let count_greater_than x l = \n",
    "  List.fold_left (fun n y -> if y > x then n + 1 else n) 0 l"
   ]
  },
  {
   "cell_type": "code",
   "execution_count": null,
   "metadata": {
    "vscode": {
     "languageId": "ocaml"
    }
   },
   "outputs": [],
   "source": [
    "let _ = assert (count_greater_than 3 [1;2;3;4;5] = 2) \n",
    "let _ = assert (count_greater_than 'f' ['a';'b';'c';'d';'e';'f';'g'] = 1) \n",
    "let _ = assert (count_greater_than 3. [1.;2.;3.;4.;5.] = 2) \n",
    "let _ = assert (count_greater_than \"hello\" [\"hello\";\"world\";\"hello\";\"world\";\"hello\"] = 2)\n"
   ]
  },
  {
   "cell_type": "markdown",
   "metadata": {},
   "source": [
    "## Couting elements that satisfy a given predicate (higher-order)"
   ]
  },
  {
   "cell_type": "code",
   "execution_count": null,
   "metadata": {
    "vscode": {
     "languageId": "ocaml"
    }
   },
   "outputs": [],
   "source": [
    "(** [count_if p l] is the number of elements in list [l] that satisfy predicate [p].\n",
    "    pre: [true]\n",
    "    *)\n",
    "let rec count_if p l = \n",
    "    match l with\n",
    "    | [] -> 0\n",
    "    | x::xs -> \n",
    "      if p x then 1 + count_if p xs\n",
    "      else count_if p xs"
   ]
  },
  {
   "cell_type": "code",
   "execution_count": null,
   "metadata": {
    "vscode": {
     "languageId": "ocaml"
    }
   },
   "outputs": [],
   "source": [
    "let count_greater_than n = count_if (fun x -> x > n)\n",
    "\n",
    "let _ = assert (count_greater_than 3 [1;2;3;4;5] = 2) \n",
    "let _ = assert (count_greater_than 'f' ['a';'b';'c';'d';'e';'f';'g'] = 1) \n",
    "let _ = assert (count_greater_than 3. [1.;2.;3.;4.;5.] = 2) \n",
    "let _ = assert (count_greater_than \"hello\" [\"hello\";\"world\";\"hello\";\"world\";\"hello\"] = 2)\n"
   ]
  },
  {
   "cell_type": "code",
   "execution_count": null,
   "metadata": {
    "vscode": {
     "languageId": "ocaml"
    }
   },
   "outputs": [],
   "source": [
    "let count_less_than n = count_if (fun x -> x < n)\n",
    "\n",
    "let _ = assert (count_less_than 3 [1;2;3;4;5] = 2) \n",
    "let _ = assert (count_less_than 'f' ['a';'b';'c';'d';'e';'f';'g'] = 5) \n",
    "let _ = assert (count_less_than 3. [1.;2.;3.;4.;5.] = 2) \n",
    "let _ = assert (count_less_than \"hello\" [\"hello\";\"world\";\"hello\";\"world\";\"hello\"] = 0)\n"
   ]
  },
  {
   "cell_type": "code",
   "execution_count": null,
   "metadata": {
    "vscode": {
     "languageId": "ocaml"
    }
   },
   "outputs": [],
   "source": [
    "type person = {name: string; age: int}\n",
    "let count_age_equal_to n = count_if (fun x -> x.age = n)\n",
    "\n",
    "let _ = assert (count_age_equal_to 3 [{name=\"a\"; age=1}; {name=\"b\"; age=2}; {name=\"c\"; age=3}; {name=\"d\"; age=4}; {name=\"e\"; age=3}] = 2)\n",
    "let _ = assert (count_age_equal_to 1 [{name=\"a\"; age=1}; {name=\"b\"; age=2}; {name=\"c\"; age=3}; {name=\"d\"; age=4}; {name=\"e\"; age=5}] = 1)"
   ]
  },
  {
   "cell_type": "code",
   "execution_count": null,
   "metadata": {
    "vscode": {
     "languageId": "ocaml"
    }
   },
   "outputs": [],
   "source": [
    "(** [count_if p l] is the number of elements in list [l] that satisfy predicate [p].\n",
    "    pre: [true]\n",
    "    *)\n",
    "let count_if p l = \n",
    "  List.fold_left (fun n x -> if p x then n + 1 else n) 0 l"
   ]
  },
  {
   "cell_type": "code",
   "execution_count": null,
   "metadata": {
    "vscode": {
     "languageId": "ocaml"
    }
   },
   "outputs": [],
   "source": [
    "type person = {name: string; age: int}\n",
    "let count_age_equal_to n = count_if (fun x -> x.age = n)\n",
    "\n",
    "let _ = assert (count_age_equal_to 3 [{name=\"a\"; age=1}; {name=\"b\"; age=2}; {name=\"c\"; age=3}; {name=\"d\"; age=4}; {name=\"e\"; age=3}] = 2)\n",
    "let _ = assert (count_age_equal_to 1 [{name=\"a\"; age=1}; {name=\"b\"; age=2}; {name=\"c\"; age=3}; {name=\"d\"; age=4}; {name=\"e\"; age=5}] = 1)"
   ]
  },
  {
   "cell_type": "markdown",
   "metadata": {},
   "source": [
    "# List transformation \n",
    "\n",
    "## Projection"
   ]
  },
  {
   "cell_type": "code",
   "execution_count": null,
   "metadata": {
    "vscode": {
     "languageId": "ocaml"
    }
   },
   "outputs": [],
   "source": [
    "(** [project_fst l] is the list of the first elements of the pairs in list [l].\n",
    "    pre: [true]\n",
    "    *)\n",
    "let rec project_fst l = \n",
    "  match l with\n",
    "  | [] -> []\n",
    "  | (x,_)::xs -> x::project_fst xs"
   ]
  },
  {
   "cell_type": "code",
   "execution_count": null,
   "metadata": {
    "vscode": {
     "languageId": "ocaml"
    }
   },
   "outputs": [],
   "source": [
    "let _ = assert (project_fst [] = [])\n",
    "let _ = assert (project_fst [(1,2);(3,4);(5,6)] = [1;3;5])"
   ]
  },
  {
   "cell_type": "code",
   "execution_count": null,
   "metadata": {
    "vscode": {
     "languageId": "ocaml"
    }
   },
   "outputs": [],
   "source": [
    "(** [project_fst l] is the list of the first elements of the pairs in list [l].\n",
    "    pre: [true]\n",
    "    *)\n",
    "let project_fst l = \n",
    "  List.map (fun (x,_) -> x) l"
   ]
  },
  {
   "cell_type": "code",
   "execution_count": null,
   "metadata": {
    "vscode": {
     "languageId": "ocaml"
    }
   },
   "outputs": [],
   "source": [
    "let _ = assert (project_fst [] = [])\n",
    "let _ = assert (project_fst [(1,2);(3,4);(5,6)] = [1;3;5])"
   ]
  },
  {
   "cell_type": "code",
   "execution_count": null,
   "metadata": {
    "vscode": {
     "languageId": "ocaml"
    }
   },
   "outputs": [],
   "source": [
    "(** [project_name l] is the list of the names of the people in list [l].\n",
    "    pre: [true]\n",
    "    *)\n",
    "let rec project_name l = \n",
    "  match l with\n",
    "  | [] -> []\n",
    "  | {name=n; age=_}::ps -> n::project_name ps"
   ]
  },
  {
   "cell_type": "code",
   "execution_count": null,
   "metadata": {
    "vscode": {
     "languageId": "ocaml"
    }
   },
   "outputs": [],
   "source": [
    "let _ = assert (project_name [] = [])\n",
    "let _ = assert (project_name [{name=\"a\"; age=1}; {name=\"b\"; age=2}; {name=\"c\"; age=3}; {name=\"d\"; age=4}; {name=\"e\"; age=5}] = [\"a\";\"b\";\"c\";\"d\";\"e\"])"
   ]
  },
  {
   "cell_type": "code",
   "execution_count": null,
   "metadata": {
    "vscode": {
     "languageId": "ocaml"
    }
   },
   "outputs": [],
   "source": [
    "(** [project_name l] is the list of the names of the people in list [l].\n",
    "    pre: [true]\n",
    "    *)\n",
    "let project_name l = \n",
    "  List.map (fun x -> x.name) l"
   ]
  },
  {
   "cell_type": "code",
   "execution_count": null,
   "metadata": {
    "vscode": {
     "languageId": "ocaml"
    }
   },
   "outputs": [],
   "source": [
    "let _ = assert (project_name [] = [])\n",
    "let _ = assert (project_name [{name=\"a\"; age=1}; {name=\"b\"; age=2}; {name=\"c\"; age=3}; {name=\"d\"; age=4}; {name=\"e\"; age=5}] = [\"a\";\"b\";\"c\";\"d\";\"e\"])"
   ]
  },
  {
   "cell_type": "markdown",
   "metadata": {},
   "source": [
    "## Filtering"
   ]
  },
  {
   "cell_type": "code",
   "execution_count": null,
   "metadata": {
    "vscode": {
     "languageId": "ocaml"
    }
   },
   "outputs": [],
   "source": [
    "(** [filter l] is the list of the names of the people in list [l].\n",
    "    pre: [true]\n",
    "    *)\n",
    "let rec filter p l = \n",
    "  match l with\n",
    "  | [] -> []\n",
    "  | x::xs -> if p x then x::filter p xs else filter p xs"
   ]
  },
  {
   "cell_type": "code",
   "execution_count": null,
   "metadata": {
    "vscode": {
     "languageId": "ocaml"
    }
   },
   "outputs": [],
   "source": [
    "let _ = assert (filter (fun x -> x = \"hello\") [] = [])\n",
    "let _ = assert (filter (fun x -> x = \"hello\") [\"hello\";\"world\";\"hello\";\"world\";\"hello\"] = [\"hello\";\"hello\";\"hello\"])\n",
    "let _ = assert (filter (fun x -> x > 3) [1;2;3;4;5] = [4;5])\n",
    "let _ = assert (filter (fun x -> x < 'f') ['a';'b';'c';'d';'e';'f';'g'] = ['a';'b';'c';'d';'e'])"
   ]
  },
  {
   "cell_type": "code",
   "execution_count": null,
   "metadata": {
    "vscode": {
     "languageId": "ocaml"
    }
   },
   "outputs": [],
   "source": [
    "(** [filter l] is the list of the names of the people in list [l].\n",
    "    pre: [true]\n",
    "    *)\n",
    "let filter p l = \n",
    "  List.fold_left (fun acc x -> if p x then acc@[x] else acc) [] l"
   ]
  },
  {
   "cell_type": "code",
   "execution_count": null,
   "metadata": {
    "vscode": {
     "languageId": "ocaml"
    }
   },
   "outputs": [],
   "source": [
    "let _ = assert (filter (fun x -> x = \"hello\") [] = [])\n",
    "let _ = assert (filter (fun x -> x = \"hello\") [\"hello\";\"world\";\"hello\";\"world\";\"hello\"] = [\"hello\";\"hello\";\"hello\"])\n",
    "let _ = assert (filter (fun x -> x > 3) [1;2;3;4;5] = [4;5])\n",
    "let _ = assert (filter (fun x -> x < 'f') ['a';'b';'c';'d';'e';'f';'g'] = ['a';'b';'c';'d';'e'])"
   ]
  },
  {
   "cell_type": "code",
   "execution_count": null,
   "metadata": {
    "vscode": {
     "languageId": "ocaml"
    }
   },
   "outputs": [],
   "source": [
    "(** [filter l] is the list of the names of the people in list [l].\n",
    "    pre: [true]\n",
    "    *)\n",
    "let filter p l = \n",
    "  List.rev (List.fold_left (fun acc x -> if p x then x::acc else acc) [] l)"
   ]
  },
  {
   "cell_type": "code",
   "execution_count": null,
   "metadata": {
    "vscode": {
     "languageId": "ocaml"
    }
   },
   "outputs": [],
   "source": [
    "let _ = assert (filter (fun x -> x = \"hello\") [] = [])\n",
    "let _ = assert (filter (fun x -> x = \"hello\") [\"hello\";\"world\";\"hello\";\"world\";\"hello\"] = [\"hello\";\"hello\";\"hello\"])\n",
    "let _ = assert (filter (fun x -> x > 3) [1;2;3;4;5] = [4;5])\n",
    "let _ = assert (filter (fun x -> x < 'f') ['a';'b';'c';'d';'e';'f';'g'] = ['a';'b';'c';'d';'e'])"
   ]
  },
  {
   "cell_type": "code",
   "execution_count": null,
   "metadata": {
    "vscode": {
     "languageId": "ocaml"
    }
   },
   "outputs": [],
   "source": [
    "(** [filter l] is the list of the names of the people in list [l].\n",
    "    pre: [true]\n",
    "    *)\n",
    "let filter p l = \n",
    "  List.fold_right (fun x acc -> if p x then x::acc else acc) l []"
   ]
  },
  {
   "cell_type": "code",
   "execution_count": null,
   "metadata": {
    "vscode": {
     "languageId": "ocaml"
    }
   },
   "outputs": [],
   "source": [
    "let _ = assert (filter (fun x -> x = \"hello\") [] = [])\n",
    "let _ = assert (filter (fun x -> x = \"hello\") [\"hello\";\"world\";\"hello\";\"world\";\"hello\"] = [\"hello\";\"hello\";\"hello\"])\n",
    "let _ = assert (filter (fun x -> x > 3) [1;2;3;4;5] = [4;5])\n",
    "let _ = assert (filter (fun x -> x < 'f') ['a';'b';'c';'d';'e';'f';'g'] = ['a';'b';'c';'d';'e'])"
   ]
  },
  {
   "cell_type": "code",
   "execution_count": null,
   "metadata": {
    "vscode": {
     "languageId": "ocaml"
    }
   },
   "outputs": [],
   "source": [
    "(** [filter l] is the list of the names of the people in list [l].\n",
    "    pre: [true]\n",
    "    *)\n",
    "let filter p l = \n",
    "  List.fold_right (fun x xs -> x @ xs) (List.map (fun x -> if p x then [x] else []) l) []"
   ]
  },
  {
   "cell_type": "code",
   "execution_count": null,
   "metadata": {
    "vscode": {
     "languageId": "ocaml"
    }
   },
   "outputs": [],
   "source": [
    "let _ = assert (filter (fun x -> x = \"hello\") [] = [])\n",
    "let _ = assert (filter (fun x -> x = \"hello\") [\"hello\";\"world\";\"hello\";\"world\";\"hello\"] = [\"hello\";\"hello\";\"hello\"])\n",
    "let _ = assert (filter (fun x -> x > 3) [1;2;3;4;5] = [4;5])\n",
    "let _ = assert (filter (fun x -> x < 'f') ['a';'b';'c';'d';'e';'f';'g'] = ['a';'b';'c';'d';'e'])"
   ]
  },
  {
   "cell_type": "markdown",
   "metadata": {},
   "source": [
    "Is there a version better than other? In what situation is it better to use one? What are the arguments to consider?"
   ]
  },
  {
   "cell_type": "markdown",
   "metadata": {},
   "source": [
    "## Zip and Unzip \n"
   ]
  },
  {
   "cell_type": "code",
   "execution_count": null,
   "metadata": {
    "vscode": {
     "languageId": "ocaml"
    }
   },
   "outputs": [],
   "source": [
    "(** [zip l1 l2] is the list of pairs of elements from lists [l1] and [l2].\n",
    "    pre: [length l1 = length l2]\n",
    "    *)\n",
    "let rec zip l1 l2 = \n",
    "  match (l1, l2) with\n",
    "  | ([], []) -> []\n",
    "  | (x::xs, y::ys) -> (x,y)::zip xs ys\n",
    "  | (_, _) -> failwith \"zip: lists have different lengths\""
   ]
  },
  {
   "cell_type": "code",
   "execution_count": null,
   "metadata": {
    "vscode": {
     "languageId": "ocaml"
    }
   },
   "outputs": [],
   "source": [
    "let _ = assert (zip [1;2;3] ['a';'b';'c'] = [(1,'a');(2,'b');(3,'c')])"
   ]
  },
  {
   "cell_type": "code",
   "execution_count": null,
   "metadata": {
    "vscode": {
     "languageId": "ocaml"
    }
   },
   "outputs": [],
   "source": [
    "let rec map2 f l1 l2 = \n",
    "    match l1, l2 with\n",
    "  | [], [] -> []\n",
    "  | x::xs, y::ys -> f x y::map2 f xs ys\n",
    "  | _, _ -> failwith \"zip: lists have different lengths\""
   ]
  },
  {
   "cell_type": "code",
   "execution_count": null,
   "metadata": {
    "vscode": {
     "languageId": "ocaml"
    }
   },
   "outputs": [],
   "source": [
    "(** [zip l1 l2] is the list of pairs of elements from lists [l1] and [l2].\n",
    "    pre: [length l1 = length l2]\n",
    "    *)\n",
    "let zip l1 l2 = \n",
    "  map2 (fun x y -> (x,y)) l1 l2"
   ]
  },
  {
   "cell_type": "code",
   "execution_count": null,
   "metadata": {
    "vscode": {
     "languageId": "ocaml"
    }
   },
   "outputs": [],
   "source": [
    "let _ = assert (zip [1;2;3] ['a';'b';'c'] = [(1,'a');(2,'b');(3,'c')])"
   ]
  },
  {
   "cell_type": "code",
   "execution_count": null,
   "metadata": {
    "vscode": {
     "languageId": "ocaml"
    }
   },
   "outputs": [],
   "source": [
    "(** [unzip l] is the pair of lists of the first and second elements of the pairs in list [l].\n",
    "    pre: [true]\n",
    "    *)\n",
    "let rec unzip l =\n",
    "  match l with\n",
    "  | [] -> ([], [])\n",
    "  | (x,y)::xs -> \n",
    "    let (xs, ys) = unzip xs in\n",
    "    (x::xs, y::ys)"
   ]
  },
  {
   "cell_type": "code",
   "execution_count": null,
   "metadata": {
    "vscode": {
     "languageId": "ocaml"
    }
   },
   "outputs": [],
   "source": [
    "let _ = assert (unzip [] = ([], []))\n",
    "let _ = assert (unzip [(1,'a');(2,'b');(3,'c')] = ([1;2;3], ['a';'b';'c']))"
   ]
  },
  {
   "cell_type": "code",
   "execution_count": null,
   "metadata": {
    "vscode": {
     "languageId": "ocaml"
    }
   },
   "outputs": [],
   "source": [
    "(** [unzip l] is the pair of lists of the first and second elements of the pairs in list [l].\n",
    "    pre: [true]\n",
    "    *)\n",
    "let rec unzip l =\n",
    "  List.fold_right (fun (x,y) (xs, ys) -> (x::xs, y::ys)) l ([], [])"
   ]
  },
  {
   "cell_type": "code",
   "execution_count": null,
   "metadata": {
    "vscode": {
     "languageId": "ocaml"
    }
   },
   "outputs": [],
   "source": [
    "let _ = assert (unzip [] = ([], []))\n",
    "let _ = assert (unzip [(1,'a');(2,'b');(3,'c')] = ([1;2;3], ['a';'b';'c']))\n",
    "let _ = assert (unzip (zip [1;2;3] ['a';'b';'c']) = ([1;2;3], ['a';'b';'c']))\n",
    "\n"
   ]
  },
  {
   "cell_type": "markdown",
   "metadata": {},
   "source": [
    "## Function composition"
   ]
  },
  {
   "cell_type": "markdown",
   "metadata": {},
   "source": [
    "The `map` function and be used to suport function composition."
   ]
  },
  {
   "cell_type": "code",
   "execution_count": null,
   "metadata": {
    "vscode": {
     "languageId": "ocaml"
    }
   },
   "outputs": [],
   "source": [
    "let rec duplicate l = \n",
    "  match l with\n",
    "  | [] -> []\n",
    "  | x::xs -> (2*x)::duplicate xs"
   ]
  },
  {
   "cell_type": "code",
   "execution_count": null,
   "metadata": {
    "vscode": {
     "languageId": "ocaml"
    }
   },
   "outputs": [],
   "source": [
    "let _ = assert (duplicate [1;2;3;4;5] = [2;4;6;8;10])"
   ]
  },
  {
   "cell_type": "code",
   "execution_count": null,
   "metadata": {
    "vscode": {
     "languageId": "ocaml"
    }
   },
   "outputs": [],
   "source": [
    "let duplicate l = \n",
    "  List.map (fun x -> 2*x) l"
   ]
  },
  {
   "cell_type": "code",
   "execution_count": null,
   "metadata": {
    "vscode": {
     "languageId": "ocaml"
    }
   },
   "outputs": [],
   "source": [
    "let _ = assert (duplicate [1;2;3;4;5] = [2;4;6;8;10])"
   ]
  },
  {
   "cell_type": "code",
   "execution_count": null,
   "metadata": {
    "vscode": {
     "languageId": "ocaml"
    }
   },
   "outputs": [],
   "source": [
    "let string_list_of_int_list l = \n",
    "  List.map string_of_int l"
   ]
  },
  {
   "cell_type": "code",
   "execution_count": null,
   "metadata": {
    "vscode": {
     "languageId": "ocaml"
    }
   },
   "outputs": [],
   "source": [
    "let _ = assert (string_list_of_int_list [1;2;3;4;5] = [\"1\";\"2\";\"3\";\"4\";\"5\"])"
   ]
  },
  {
   "cell_type": "code",
   "execution_count": null,
   "metadata": {
    "vscode": {
     "languageId": "ocaml"
    }
   },
   "outputs": [],
   "source": [
    "let string_list_of_duplicate_int_list l = string_list_of_int_list (duplicate l)"
   ]
  },
  {
   "cell_type": "code",
   "execution_count": null,
   "metadata": {
    "vscode": {
     "languageId": "ocaml"
    }
   },
   "outputs": [],
   "source": [
    "let _ = assert (string_list_of_duplicate_int_list [1;2;3;4;5] = [\"2\";\"4\";\"6\";\"8\";\"10\"])"
   ]
  },
  {
   "cell_type": "code",
   "execution_count": null,
   "metadata": {
    "vscode": {
     "languageId": "ocaml"
    }
   },
   "outputs": [],
   "source": [
    "let compose f g x = f (g x);;\n",
    "\n",
    "let string_list_of_duplicate_int_list l = List.map (compose string_of_int (fun x -> 2*x)) l"
   ]
  },
  {
   "cell_type": "code",
   "execution_count": null,
   "metadata": {
    "vscode": {
     "languageId": "ocaml"
    }
   },
   "outputs": [],
   "source": [
    "let _ = assert (string_list_of_duplicate_int_list [1;2;3;4;5] = [\"2\";\"4\";\"6\";\"8\";\"10\"])"
   ]
  },
  {
   "cell_type": "markdown",
   "metadata": {},
   "source": [
    "## Compacting elements "
   ]
  },
  {
   "cell_type": "code",
   "execution_count": null,
   "metadata": {
    "vscode": {
     "languageId": "ocaml"
    }
   },
   "outputs": [],
   "source": [
    "(** [pack l] is the list of pairs of elements that contain the number of times an element appears in a sequence [l].\n",
    "    pre: [true]\n",
    "    *)\n",
    "let rec pack l = \n",
    "  match l with \n",
    "  | [] -> []\n",
    "  | x::xs -> \n",
    "    let tail = pack xs in\n",
    "    begin match tail with\n",
    "    | [] -> [(x, 1)]\n",
    "    | (g, n)::gs -> if g = x then (g, n+1)::gs else (x, 1)::tail\n",
    "  end\n"
   ]
  },
  {
   "cell_type": "code",
   "execution_count": null,
   "metadata": {
    "vscode": {
     "languageId": "ocaml"
    }
   },
   "outputs": [],
   "source": [
    "pack [\"a\"; \"a\"; \"b\"; \"c\"; \"c\"; \"c\"; \"d\"; \"e\"; \"e\"; \"f\"; \"f\"; \"f\"; \"f\"; \"g\"; \"h\"; \"i\"; \"i\"; \"i\"; \"i\"; \"i\"];;\n",
    "\n",
    "let _ = assert (pack [\"a\"; \"a\"; \"b\"; \"c\"; \"c\"; \"c\"; \"d\"; \"e\"; \"e\"; \"f\"; \"f\"; \"f\"; \"f\"; \"g\"; \"h\"; \"i\"; \"i\"; \"i\"; \"i\"; \"i\"] = [(\"a\", 2); (\"b\", 1); (\"c\", 3); (\"d\", 1); (\"e\", 2); (\"f\", 4); (\"g\", 1); (\"h\", 1); (\"i\", 5)])"
   ]
  },
  {
   "cell_type": "code",
   "execution_count": null,
   "metadata": {
    "vscode": {
     "languageId": "ocaml"
    }
   },
   "outputs": [],
   "source": [
    "(** [pack l] is the list of pairs of elements that contain the number of times an element appears in a sequence [l].\n",
    "    pre: [true]\n",
    "    *)\n",
    "let pack l = \n",
    "  let rec f x acc = \n",
    "    match acc with \n",
    "    | [] -> [(x, 1)]\n",
    "    | (g, n)::gs -> if x = g then (g,n+1)::gs else (x,1)::acc\n",
    "in List.fold_right f l []"
   ]
  },
  {
   "cell_type": "code",
   "execution_count": null,
   "metadata": {
    "vscode": {
     "languageId": "ocaml"
    }
   },
   "outputs": [],
   "source": [
    "pack [\"a\"; \"a\"; \"b\"; \"c\"; \"c\"; \"c\"; \"d\"; \"e\"; \"e\"; \"f\"; \"f\"; \"f\"; \"f\"; \"g\"; \"h\"; \"i\"; \"i\"; \"i\"; \"i\"; \"i\"];;\n",
    "\n",
    "let _ = assert (pack [\"a\"; \"a\"; \"b\"; \"c\"; \"c\"; \"c\"; \"d\"; \"e\"; \"e\"; \"f\"; \"f\"; \"f\"; \"f\"; \"g\"; \"h\"; \"i\"; \"i\"; \"i\"; \"i\"; \"i\"] = [(\"a\", 2); (\"b\", 1); (\"c\", 3); (\"d\", 1); (\"e\", 2); (\"f\", 4); (\"g\", 1); (\"h\", 1); (\"i\", 5)])"
   ]
  },
  {
   "cell_type": "code",
   "execution_count": null,
   "metadata": {
    "vscode": {
     "languageId": "ocaml"
    }
   },
   "outputs": [],
   "source": [
    "let rec unpack l = \n",
    "  match l with \n",
    "  | [] -> []\n",
    "  | (x, n)::xs -> \n",
    "    if n = 1 then x::unpack xs\n",
    "    else x::unpack ((x, n-1)::xs)"
   ]
  },
  {
   "cell_type": "code",
   "execution_count": null,
   "metadata": {
    "vscode": {
     "languageId": "ocaml"
    }
   },
   "outputs": [],
   "source": [
    "let _ = assert (unpack [(\"a\", 2); (\"b\", 1); (\"c\", 3); (\"d\", 1); (\"e\", 2); (\"f\", 4); (\"g\", 1); (\"h\", 1); (\"i\", 5)] =  [\"a\"; \"a\"; \"b\"; \"c\"; \"c\"; \"c\"; \"d\"; \"e\"; \"e\"; \"f\"; \"f\"; \"f\"; \"f\"; \"g\"; \"h\"; \"i\"; \"i\"; \"i\"; \"i\"; \"i\"]);;\n",
    "\n",
    "let l = [\"a\"; \"a\"; \"b\"; \"c\"; \"c\"; \"c\"; \"d\"; \"e\"; \"e\"; \"f\"; \"f\"; \"f\"; \"f\"; \"g\"; \"h\"; \"i\"; \"i\"; \"i\"; \"i\"; \"i\"] in \n",
    "   assert (unpack (pack l) = l)"
   ]
  },
  {
   "cell_type": "markdown",
   "metadata": {},
   "source": [
    "## Grouping elements "
   ]
  },
  {
   "cell_type": "code",
   "execution_count": null,
   "metadata": {
    "vscode": {
     "languageId": "ocaml"
    }
   },
   "outputs": [],
   "source": [
    "let rec group_by l = \n",
    "  match l with \n",
    "  | [] -> []\n",
    "  | x::xs -> \n",
    "    let gs = group_by xs in\n",
    "    begin match gs with\n",
    "    | [] -> [[x]]\n",
    "    | g::gs -> \n",
    "      begin match g with \n",
    "      | [] -> assert false (* cannot be empty*) \n",
    "      | y::_ -> if y = x then (x::g)::gs else [x]::g::gs\n",
    "      end\n",
    "    end\n"
   ]
  },
  {
   "cell_type": "code",
   "execution_count": null,
   "metadata": {
    "vscode": {
     "languageId": "ocaml"
    }
   },
   "outputs": [],
   "source": [
    "let _ = assert (group_by [1; 1; 2; 3; 3; 3; 4; 5; 5; 6; 6; 6; 6; 7; 8; 9; 9; 9; 9; 9] = [[1; 1]; [2]; [3; 3; 3]; [4]; [5; 5]; [6; 6; 6; 6]; [7]; [8]; [9; 9; 9; 9; 9]])"
   ]
  },
  {
   "cell_type": "code",
   "execution_count": null,
   "metadata": {
    "vscode": {
     "languageId": "ocaml"
    }
   },
   "outputs": [],
   "source": [
    "let group_by l = \n",
    "  let rec f x acc = \n",
    "    match acc with \n",
    "    | [] -> [[ x ]]\n",
    "    | g::gs -> \n",
    "      begin match g with \n",
    "      | [] -> assert false (* all lists have elements, see above *)\n",
    "      | y::ys -> if x = y then (x::y::ys)::gs else [ x ]::acc\n",
    "      end\n",
    "  in List.fold_right f l []"
   ]
  },
  {
   "cell_type": "code",
   "execution_count": null,
   "metadata": {
    "vscode": {
     "languageId": "ocaml"
    }
   },
   "outputs": [],
   "source": [
    "let _ = assert (group_by [1; 1; 2; 3; 3; 3; 4; 5; 5; 6; 6; 6; 6; 7; 8; 9; 9; 9; 9; 9] = [[1; 1]; [2]; [3; 3; 3]; [4]; [5; 5]; [6; 6; 6; 6]; [7]; [8]; [9; 9; 9; 9; 9]])"
   ]
  },
  {
   "cell_type": "markdown",
   "metadata": {},
   "source": [
    "## Ungrouping elements "
   ]
  },
  {
   "cell_type": "code",
   "execution_count": null,
   "metadata": {
    "vscode": {
     "languageId": "ocaml"
    }
   },
   "outputs": [],
   "source": [
    "let rec ungroup l =   \n",
    "  match l with \n",
    "  | [] -> []\n",
    "  | []::gs -> ungroup gs\n",
    "  | (x::xs)::gs -> x::ungroup (xs::gs)\n"
   ]
  },
  {
   "cell_type": "code",
   "execution_count": null,
   "metadata": {
    "vscode": {
     "languageId": "ocaml"
    }
   },
   "outputs": [],
   "source": [
    "let _ = assert (ungroup [[1; 1]; [2]; [3; 3; 3]; [4]; [5; 5]; [6; 6; 6; 6]; [7]; [8]; [9; 9; 9; 9; 9]] = [1; 1; 2; 3; 3; 3; 4; 5; 5; 6; 6; 6; 6; 7; 8; 9; 9; 9; 9; 9]);;\n",
    "\n",
    "let l = [1; 1; 2; 3; 3; 3; 4; 5; 5; 6; 6; 6; 6; 7; 8; 9; 9; 9; 9; 9] in assert (ungroup (group_by l) = l)\n"
   ]
  },
  {
   "cell_type": "code",
   "execution_count": null,
   "metadata": {
    "vscode": {
     "languageId": "ocaml"
    }
   },
   "outputs": [],
   "source": [
    "let ungroup gs = List.fold_right (fun xs ys -> (List.fold_right (fun x ys -> x :: ys) xs ys)) gs []"
   ]
  },
  {
   "cell_type": "code",
   "execution_count": null,
   "metadata": {
    "vscode": {
     "languageId": "ocaml"
    }
   },
   "outputs": [],
   "source": [
    "let ungroup gs = List.fold_right (@) gs []"
   ]
  },
  {
   "cell_type": "code",
   "execution_count": null,
   "metadata": {
    "vscode": {
     "languageId": "ocaml"
    }
   },
   "outputs": [],
   "source": [
    "let ungroup xs = List.concat xs"
   ]
  },
  {
   "cell_type": "code",
   "execution_count": null,
   "metadata": {
    "vscode": {
     "languageId": "ocaml"
    }
   },
   "outputs": [],
   "source": [
    "let l = [1; 1; 2; 3; 3; 3; 4; 5; 5; 6; 6; 6; 6; 7; 8; 9; 9; 9; 9; 9] in assert (ungroup (group_by l) = l)\n"
   ]
  },
  {
   "cell_type": "markdown",
   "metadata": {},
   "source": [
    "# Merge of sorted lists\n"
   ]
  },
  {
   "cell_type": "code",
   "execution_count": null,
   "metadata": {
    "vscode": {
     "languageId": "ocaml"
    }
   },
   "outputs": [],
   "source": [
    "let rec merge l1 l2 = \n",
    "  match l1, l2 with \n",
    "  | [], [] -> []\n",
    "  | x::xs, [] -> l1\n",
    "  | [], y::ys -> l2\n",
    "  | x::xs, y::ys -> if x < y then x::merge xs l2 else y::merge l1 ys "
   ]
  },
  {
   "cell_type": "code",
   "execution_count": null,
   "metadata": {
    "vscode": {
     "languageId": "ocaml"
    }
   },
   "outputs": [],
   "source": [
    "let _ = assert (merge [1;3;5;7;9] [2;4;6;8;10] = [1;2;3;4;5;6;7;8;9;10])"
   ]
  },
  {
   "cell_type": "markdown",
   "metadata": {},
   "source": [
    "# Merge sort "
   ]
  }
 ],
 "metadata": {
  "kernelspec": {
   "display_name": "OCaml 4.12.0",
   "language": "OCaml",
   "name": "ocaml-jupyter"
  },
  "language_info": {
   "codemirror_mode": "text/x-ocaml",
   "file_extension": ".ml",
   "mimetype": "text/x-ocaml",
   "name": "OCaml",
   "nbconverter_exporter": null,
   "pygments_lexer": "OCaml",
   "version": "4.12.0"
  }
 },
 "nbformat": 4,
 "nbformat_minor": 2
}
