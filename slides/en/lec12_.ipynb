{
 "cells": [
  {
   "cell_type": "markdown",
   "id": "8e114588",
   "metadata": {},
   "source": [
    "- binary trees\n",
    "- insert in a bst\n",
    "- remove in a bst (remove_min)\n",
    "- tree_size\n",
    "- depth\n",
    "- pre_order \n",
    "- in_order\n",
    "- post_order\n",
    "- map\n",
    "- fold_in_order\n",
    "- fold_pre_order\n",
    "- fold_post_order"
   ]
  },
  {
   "cell_type": "code",
   "execution_count": 32,
   "id": "c95871d9",
   "metadata": {
    "vscode": {
     "languageId": "ocaml"
    }
   },
   "outputs": [
    {
     "data": {
      "text/plain": [
       "type 'a tree = Empty | Node of 'a * 'a tree * 'a tree\n"
      ]
     },
     "execution_count": 32,
     "metadata": {},
     "output_type": "execute_result"
    },
    {
     "data": {
      "text/plain": [
       "val insert_bst : 'a -> 'a tree -> 'a tree = <fun>\n"
      ]
     },
     "execution_count": 32,
     "metadata": {},
     "output_type": "execute_result"
    },
    {
     "data": {
      "text/plain": [
       "val remove_min : 'a tree -> 'a * 'a tree = <fun>\n"
      ]
     },
     "execution_count": 32,
     "metadata": {},
     "output_type": "execute_result"
    },
    {
     "data": {
      "text/plain": [
       "val remove : 'a -> 'a tree -> 'a tree = <fun>\n"
      ]
     },
     "execution_count": 32,
     "metadata": {},
     "output_type": "execute_result"
    }
   ],
   "source": [
    "type 'a tree = Empty | Node of 'a * 'a tree * 'a tree\n",
    "\n",
    "let rec insert_bst x t = \n",
    "  match t with \n",
    "  | Empty -> Node (x,Empty,Empty)\n",
    "  | Node (y,l,r) -> if x < y then Node(y, insert_bst x l, r)  else Node(y, l, insert_bst x r)\n",
    "\n",
    "(** pre: [t <> Empty] *)\n",
    "let rec remove_min t = \n",
    "  match t with \n",
    "  | Empty -> failwith \"There is no minimum\"\n",
    "  | Node(y,Empty,r) -> (y,r)\n",
    "  | Node(y,l,r) -> let (min,l') = remove_min l in (min, Node(y,l',r))\n",
    "\n",
    "let rec remove x t = \n",
    "  match t with \n",
    "  | Empty -> Empty\n",
    "  | Node(y,l,r) -> \n",
    "      if x = y then \n",
    "        begin match r with\n",
    "        | Empty -> l\n",
    "        | _ -> let (min,r') = remove_min r in Node(min, l, r')\n",
    "        end\n",
    "      else if x < y then \n",
    "        Node(y, remove x l, r)\n",
    "      else \n",
    "        Node(y, l, remove x r)"
   ]
  },
  {
   "cell_type": "code",
   "execution_count": 34,
   "id": "03a5fd0c",
   "metadata": {
    "vscode": {
     "languageId": "ocaml"
    }
   },
   "outputs": [
    {
     "data": {
      "text/plain": [
       "val tree_size : 'a tree -> int = <fun>\n"
      ]
     },
     "execution_count": 34,
     "metadata": {},
     "output_type": "execute_result"
    },
    {
     "data": {
      "text/plain": [
       "val t0 : int tree = Node (3, Empty, Empty)\n"
      ]
     },
     "execution_count": 34,
     "metadata": {},
     "output_type": "execute_result"
    },
    {
     "data": {
      "text/plain": [
       "val t1 : int tree = Node (2, Empty, Node (3, Empty, Empty))\n"
      ]
     },
     "execution_count": 34,
     "metadata": {},
     "output_type": "execute_result"
    },
    {
     "data": {
      "text/plain": [
       "val t2 : int tree = Node (1, Empty, Node (2, Empty, Node (3, Empty, Empty)))\n"
      ]
     },
     "execution_count": 34,
     "metadata": {},
     "output_type": "execute_result"
    },
    {
     "data": {
      "text/plain": [
       "val t3 : int tree =\n",
       "  Node (0, Node (1, Empty, Node (2, Empty, Node (3, Empty, Empty))),\n",
       "   Node (1, Empty, Node (2, Empty, Node (3, Empty, Empty))))\n"
      ]
     },
     "execution_count": 34,
     "metadata": {},
     "output_type": "execute_result"
    },
    {
     "data": {
      "text/plain": [
       "- : int = 7\n"
      ]
     },
     "execution_count": 34,
     "metadata": {},
     "output_type": "execute_result"
    }
   ],
   "source": [
    "let rec tree_size t =\n",
    "  match t with\n",
    "  | Empty -> 0\n",
    "  | Node(_,l,r) -> 1 + tree_size l + tree_size r\n",
    "\n",
    "let t0 = Node(3,Empty,Empty)\n",
    "let t1 = Node(2,Empty,t0)\n",
    "let t2 = Node(1,Empty,t1)\n",
    "let t3 = Node(0,t2,t2)\n",
    "\n",
    "let _ = tree_size t3"
   ]
  },
  {
   "cell_type": "code",
   "execution_count": 35,
   "id": "c1b48a07",
   "metadata": {
    "vscode": {
     "languageId": "ocaml"
    }
   },
   "outputs": [
    {
     "data": {
      "text/plain": [
       "val tree_depth : 'a tree -> int = <fun>\n"
      ]
     },
     "execution_count": 35,
     "metadata": {},
     "output_type": "execute_result"
    },
    {
     "data": {
      "text/plain": [
       "- : int = 4\n"
      ]
     },
     "execution_count": 35,
     "metadata": {},
     "output_type": "execute_result"
    }
   ],
   "source": [
    "let rec tree_depth t =\n",
    "  match t with\n",
    "  | Empty -> 0\n",
    "  | Node(_,l,r) -> 1 + max (tree_depth l) (tree_depth r)\n",
    "\n",
    "let _ = tree_depth t3"
   ]
  },
  {
   "cell_type": "code",
   "execution_count": 36,
   "id": "f27af539",
   "metadata": {
    "vscode": {
     "languageId": "ocaml"
    }
   },
   "outputs": [
    {
     "data": {
      "text/plain": [
       "val pre_order : 'a tree -> 'a list = <fun>\n"
      ]
     },
     "execution_count": 36,
     "metadata": {},
     "output_type": "execute_result"
    },
    {
     "data": {
      "text/plain": [
       "- : unit = ()\n"
      ]
     },
     "execution_count": 36,
     "metadata": {},
     "output_type": "execute_result"
    }
   ],
   "source": [
    "let rec pre_order t = \n",
    "  match t with \n",
    "  | Empty -> []\n",
    "  | Node(x,l,r) -> x::(pre_order l)@(pre_order r)\n",
    "\n",
    "let _ = assert( [0;1;2;3;1;2;3] = pre_order t3)"
   ]
  },
  {
   "cell_type": "code",
   "execution_count": 37,
   "id": "0a87a47e",
   "metadata": {
    "vscode": {
     "languageId": "ocaml"
    }
   },
   "outputs": [
    {
     "data": {
      "text/plain": [
       "val in_order : 'a tree -> 'a list = <fun>\n"
      ]
     },
     "execution_count": 37,
     "metadata": {},
     "output_type": "execute_result"
    },
    {
     "data": {
      "text/plain": [
       "- : unit = ()\n"
      ]
     },
     "execution_count": 37,
     "metadata": {},
     "output_type": "execute_result"
    }
   ],
   "source": [
    "let rec in_order t = \n",
    "  match t with \n",
    "  | Empty -> []\n",
    "  | Node(x,l,r) -> (in_order l)@[x]@(in_order r)\n",
    "\n",
    "let _ = assert( [1;2;3;0;1;2;3] = in_order t3)"
   ]
  },
  {
   "cell_type": "code",
   "execution_count": 38,
   "id": "fcb84679",
   "metadata": {
    "vscode": {
     "languageId": "ocaml"
    }
   },
   "outputs": [
    {
     "data": {
      "text/plain": [
       "val ot : int tree =\n",
       "  Node (4, Node (2, Node (1, Empty, Empty), Node (3, Empty, Empty)),\n",
       "   Node (6, Node (5, Empty, Empty), Node (7, Empty, Empty)))\n"
      ]
     },
     "execution_count": 38,
     "metadata": {},
     "output_type": "execute_result"
    },
    {
     "data": {
      "text/plain": [
       "- : int list = [1; 2; 3; 4; 5; 6; 7]\n"
      ]
     },
     "execution_count": 38,
     "metadata": {},
     "output_type": "execute_result"
    },
    {
     "data": {
      "text/plain": [
       "- : int list = [4; 2; 1; 3; 6; 5; 7]\n"
      ]
     },
     "execution_count": 38,
     "metadata": {},
     "output_type": "execute_result"
    }
   ],
   "source": [
    "let ot = Node(4,Node(2,Node(1,Empty,Empty),Node(3,Empty,Empty)),Node(6,Node(5,Empty,Empty),Node(7,Empty,Empty)))\n",
    "\n",
    "let _ = in_order ot\n",
    "let _ = pre_order ot"
   ]
  },
  {
   "cell_type": "code",
   "execution_count": 39,
   "id": "945fec77",
   "metadata": {
    "vscode": {
     "languageId": "ocaml"
    }
   },
   "outputs": [
    {
     "data": {
      "text/plain": [
       "val post_order : 'a tree -> 'a list = <fun>\n"
      ]
     },
     "execution_count": 39,
     "metadata": {},
     "output_type": "execute_result"
    },
    {
     "data": {
      "text/plain": [
       "- : int list = [1; 3; 2; 5; 7; 6; 4]\n"
      ]
     },
     "execution_count": 39,
     "metadata": {},
     "output_type": "execute_result"
    }
   ],
   "source": [
    "let rec post_order t = \n",
    "  match t with \n",
    "  | Empty -> []\n",
    "  | Node(x,l,r) -> (post_order l)@(post_order r)@[x]\n",
    "\n",
    "let _ = post_order ot"
   ]
  },
  {
   "cell_type": "code",
   "execution_count": 40,
   "id": "31e21b21",
   "metadata": {
    "vscode": {
     "languageId": "ocaml"
    }
   },
   "outputs": [
    {
     "data": {
      "text/plain": [
       "val in_order_rev : 'a tree -> 'a list = <fun>\n"
      ]
     },
     "execution_count": 40,
     "metadata": {},
     "output_type": "execute_result"
    },
    {
     "data": {
      "text/plain": [
       "- : int list = [7; 6; 5; 4; 3; 2; 1]\n"
      ]
     },
     "execution_count": 40,
     "metadata": {},
     "output_type": "execute_result"
    }
   ],
   "source": [
    "let rec in_order_rev t = \n",
    "  match t with \n",
    "  | Empty -> []\n",
    "  | Node(x,l,r) -> (in_order_rev r)@[x]@(in_order_rev l)\n",
    "\n",
    "let _ = in_order_rev ot"
   ]
  },
  {
   "cell_type": "code",
   "execution_count": 41,
   "id": "01d88ca0",
   "metadata": {
    "vscode": {
     "languageId": "ocaml"
    }
   },
   "outputs": [
    {
     "data": {
      "text/plain": [
       "val map : ('a -> 'b) -> 'a tree -> 'b tree = <fun>\n"
      ]
     },
     "execution_count": 41,
     "metadata": {},
     "output_type": "execute_result"
    },
    {
     "data": {
      "text/plain": [
       "- : string tree =\n",
       "Node (\"4\", Node (\"2\", Node (\"1\", Empty, Empty), Node (\"3\", Empty, Empty)),\n",
       " Node (\"6\", Node (\"5\", Empty, Empty), Node (\"7\", Empty, Empty)))\n"
      ]
     },
     "execution_count": 41,
     "metadata": {},
     "output_type": "execute_result"
    },
    {
     "data": {
      "text/plain": [
       "- : int tree =\n",
       "Node (5, Node (3, Node (2, Empty, Empty), Node (4, Empty, Empty)),\n",
       " Node (7, Node (6, Empty, Empty), Node (8, Empty, Empty)))\n"
      ]
     },
     "execution_count": 41,
     "metadata": {},
     "output_type": "execute_result"
    }
   ],
   "source": [
    "let rec map f t = \n",
    "  match t with\n",
    "  | Empty -> Empty\n",
    "  | Node(x,l,r) -> Node(f x, map f l, map f r)\n",
    "\n",
    "let _ = map string_of_int ot\n",
    "let _ = map ((+)1) ot"
   ]
  },
  {
   "cell_type": "code",
   "execution_count": 42,
   "id": "a7b71551",
   "metadata": {
    "vscode": {
     "languageId": "ocaml"
    }
   },
   "outputs": [
    {
     "data": {
      "text/plain": [
       "val map_opt : ('a -> 'b) -> 'a option -> 'b option = <fun>\n"
      ]
     },
     "execution_count": 42,
     "metadata": {},
     "output_type": "execute_result"
    },
    {
     "data": {
      "text/plain": [
       "- : string option = Some \"1\"\n"
      ]
     },
     "execution_count": 42,
     "metadata": {},
     "output_type": "execute_result"
    },
    {
     "data": {
      "text/plain": [
       "- : string option = None\n"
      ]
     },
     "execution_count": 42,
     "metadata": {},
     "output_type": "execute_result"
    },
    {
     "data": {
      "text/plain": [
       "- : int option = Some 2\n"
      ]
     },
     "execution_count": 42,
     "metadata": {},
     "output_type": "execute_result"
    },
    {
     "data": {
      "text/plain": [
       "- : int option = None\n"
      ]
     },
     "execution_count": 42,
     "metadata": {},
     "output_type": "execute_result"
    }
   ],
   "source": [
    "let map_opt f o = \n",
    "  match o with\n",
    "  | None -> None\n",
    "  | Some v -> Some (f v)\n",
    "\n",
    "let _ = map_opt string_of_int (Some 1)\n",
    "let _ = map_opt string_of_int None\n",
    "let _ = map_opt ((+)1) (Some 1)\n",
    "let _ = map_opt ((+)1) None"
   ]
  },
  {
   "cell_type": "code",
   "execution_count": 43,
   "id": "bd79e6fe",
   "metadata": {
    "vscode": {
     "languageId": "ocaml"
    }
   },
   "outputs": [
    {
     "data": {
      "text/plain": [
       "val fold_left : ('a -> 'b -> 'a) -> 'a -> 'b list -> 'a = <fun>\n"
      ]
     },
     "execution_count": 43,
     "metadata": {},
     "output_type": "execute_result"
    },
    {
     "data": {
      "text/plain": [
       "- : int = 28\n"
      ]
     },
     "execution_count": 43,
     "metadata": {},
     "output_type": "execute_result"
    },
    {
     "data": {
      "text/plain": [
       "val fold_in_order : ('a -> 'b -> 'a) -> 'a -> 'b tree -> 'a = <fun>\n"
      ]
     },
     "execution_count": 43,
     "metadata": {},
     "output_type": "execute_result"
    },
    {
     "data": {
      "text/plain": [
       "- : int = 28\n"
      ]
     },
     "execution_count": 43,
     "metadata": {},
     "output_type": "execute_result"
    },
    {
     "data": {
      "text/plain": [
       "- : int list = [1; 2; 3; 4; 5; 6; 7]\n"
      ]
     },
     "execution_count": 43,
     "metadata": {},
     "output_type": "execute_result"
    },
    {
     "data": {
      "text/plain": [
       "val filter : (int -> bool) -> 'a -> int list = <fun>\n"
      ]
     },
     "execution_count": 43,
     "metadata": {},
     "output_type": "execute_result"
    },
    {
     "data": {
      "text/plain": [
       "- : int list = [2; 4; 6]\n"
      ]
     },
     "execution_count": 43,
     "metadata": {},
     "output_type": "execute_result"
    }
   ],
   "source": [
    "let rec fold_left f acc l = \n",
    "  match l with \n",
    "  | [] -> acc\n",
    "  | x::xs -> fold_left f (f acc x) xs\n",
    "\n",
    "let _ = fold_left (+) 0 (pre_order ot)\n",
    "\n",
    "let rec fold_in_order f acc t =  \n",
    "  match t with\n",
    "  | Empty -> acc\n",
    "  | Node(x,l,r) -> let acc_l = fold_in_order f acc l in let acc_root = f acc_l x in fold_in_order f acc_root r\n",
    "\n",
    "let _ = fold_in_order (+) 0 ot\n",
    "let _ = fold_in_order (fun acc x -> acc@[x]) [] ot\n",
    "let filter p t = fold_in_order (fun acc x -> if p x then acc@[x] else acc) [] ot\n",
    "\n",
    "let _ = filter (fun x -> x mod 2 = 0) ot\n",
    "\n"
   ]
  },
  {
   "cell_type": "code",
   "execution_count": 45,
   "id": "ae244672",
   "metadata": {
    "vscode": {
     "languageId": "ocaml"
    }
   },
   "outputs": [
    {
     "data": {
      "text/plain": [
       "val fold_pre_order : ('a -> 'b -> 'a) -> 'a -> 'b tree -> 'a = <fun>\n"
      ]
     },
     "execution_count": 45,
     "metadata": {},
     "output_type": "execute_result"
    },
    {
     "data": {
      "text/plain": [
       "- : int list = [4; 2; 1; 3; 6; 5; 7]\n"
      ]
     },
     "execution_count": 45,
     "metadata": {},
     "output_type": "execute_result"
    }
   ],
   "source": [
    "let rec fold_pre_order f acc t =  \n",
    "  match t with\n",
    "  | Empty -> acc\n",
    "  | Node(x,l,r) -> let acc_root = f acc x in let acc_l = fold_pre_order f acc_root l in fold_pre_order f acc_l r\n",
    "\n",
    "let _ = fold_pre_order (fun acc x -> acc@[x]) [] ot\n"
   ]
  },
  {
   "cell_type": "code",
   "execution_count": null,
   "id": "c59e16fc",
   "metadata": {
    "vscode": {
     "languageId": "ocaml"
    }
   },
   "outputs": [],
   "source": []
  }
 ],
 "metadata": {
  "kernelspec": {
   "display_name": "OCaml default",
   "language": "OCaml",
   "name": "ocaml-jupyter"
  },
  "language_info": {
   "codemirror_mode": "text/x-ocaml",
   "file_extension": ".ml",
   "mimetype": "text/x-ocaml",
   "name": "OCaml",
   "nbconverter_exporter": null,
   "pygments_lexer": "OCaml",
   "version": "4.14.2"
  }
 },
 "nbformat": 4,
 "nbformat_minor": 5
}
