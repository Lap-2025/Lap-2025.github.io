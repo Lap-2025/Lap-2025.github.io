{
 "cells": [
  {
   "cell_type": "markdown",
   "metadata": {},
   "source": [
    "# Programming Languages and Environments \n",
    "## (Lecture 10)\n",
    "\n",
    "### Syllabus\n",
    "\n",
    "- Merge sort"
   ]
  },
  {
   "cell_type": "code",
   "execution_count": null,
   "metadata": {
    "vscode": {
     "languageId": "ocaml"
    }
   },
   "outputs": [],
   "source": [
    "let rec split_n n l = \n",
    "  if n = 0 then ([], l)\n",
    "  else match l with\n",
    "  | [] -> ([], l)\n",
    "  | x::xs -> let (l1,l2) = split_n (n-1) xs in (x::l1,l2)\n",
    "\n",
    "let split l =\n",
    "  let n = List.length l in\n",
    "  split_n (n/2) l"
   ]
  },
  {
   "cell_type": "code",
   "execution_count": null,
   "metadata": {
    "vscode": {
     "languageId": "ocaml"
    }
   },
   "outputs": [],
   "source": [
    "let _ = assert (split [1;2;3;4;5;6] = ([1;2;3], [4;5;6]))\n",
    "let _ = assert (split_n 0 [1;2;3;4;5;6] = ([], [1;2;3;4;5;6]))\n",
    "let _ = assert (split_n 1 [1;2;3;4;5;6] = ([1], [2;3;4;5;6]))\n",
    "let _ = assert (split_n 10 [1;2;3;4;5;6] = ([1;2;3;4;5;6],[]))"
   ]
  },
  {
   "cell_type": "code",
   "execution_count": null,
   "metadata": {
    "vscode": {
     "languageId": "ocaml"
    }
   },
   "outputs": [],
   "source": [
    "let rec merge l1 l2 = \n",
    "  match l1, l2 with\n",
    "  | [], l -> l\n",
    "  | l, [] -> l\n",
    "  | x::xs, y::ys -> if x < y then x::(merge xs l2) else y::(merge l1 ys)  "
   ]
  },
  {
   "cell_type": "code",
   "execution_count": null,
   "metadata": {
    "vscode": {
     "languageId": "ocaml"
    }
   },
   "outputs": [],
   "source": [
    "let _ = assert (merge [1;3;5] [2;4;6] = [1;2;3;4;5;6])\n",
    "let _ = assert (merge [1;3;5;7] [2;6] = [1;2;3;5;6;7])\n",
    "let _ = assert (merge [] [1;3] = [1;3])\n",
    "let _ = assert (merge [1;3] [] = [1;3])"
   ]
  },
  {
   "cell_type": "code",
   "execution_count": null,
   "metadata": {
    "vscode": {
     "languageId": "ocaml"
    }
   },
   "outputs": [],
   "source": [
    "let rec mergesort l = \n",
    "  match l with \n",
    "  | [] | [_] -> l \n",
    "  | _ -> let (l1,l2) = split l in merge (mergesort l1) (mergesort l2)"
   ]
  },
  {
   "cell_type": "code",
   "execution_count": null,
   "metadata": {
    "vscode": {
     "languageId": "ocaml"
    }
   },
   "outputs": [],
   "source": [
    "let _ = assert (mergesort [3; 2; 1; 4; 5; 6; 7; 8; 9; 10] = [1; 2; 3; 4; 5; 6; 7; 8; 9; 10])"
   ]
  },
  {
   "cell_type": "code",
   "execution_count": null,
   "metadata": {
    "vscode": {
     "languageId": "ocaml"
    }
   },
   "outputs": [],
   "source": [
    "let rec mergesort l =\n",
    "  let rec split l = match l with\n",
    "    | [] -> ([], [])\n",
    "    | [x] -> ([x], [])\n",
    "    | x::y::tl -> let (l1, l2) = split tl in (x::l1, y::l2)\n",
    "  in let rec merge l1 l2 = match (l1, l2) with\n",
    "    | ([], l) -> l\n",
    "    | (l, []) -> l\n",
    "    | (x::tl1, y::tl2) -> if x < y then x::(merge tl1 l2) else y::(merge l1 tl2)\n",
    "  in match l with \n",
    "  | [] | [_] -> l \n",
    "  | _ -> let (l1,l2) = split l in merge (mergesort l1) (mergesort l2)"
   ]
  },
  {
   "cell_type": "code",
   "execution_count": null,
   "metadata": {
    "vscode": {
     "languageId": "ocaml"
    }
   },
   "outputs": [],
   "source": [
    "let _ = assert (mergesort [3; 2; 1; 4; 5; 6; 7; 8; 9; 10] = [1; 2; 3; 4; 5; 6; 7; 8; 9; 10])"
   ]
  },
  {
   "cell_type": "code",
   "execution_count": null,
   "metadata": {
    "vscode": {
     "languageId": "ocaml"
    }
   },
   "outputs": [],
   "source": [
    "let split_n n l =  (* tail recursive *)\n",
    "  let rec split_n_rec n l acc = \n",
    "    if n = 0 then (List.rev acc, l)\n",
    "    else match l with\n",
    "    | [] -> (List.rev acc, l)\n",
    "    | x::xs -> split_n_rec (n-1) xs (x::acc)\n",
    "  in split_n_rec n l []"
   ]
  },
  {
   "cell_type": "code",
   "execution_count": null,
   "metadata": {
    "vscode": {
     "languageId": "ocaml"
    }
   },
   "outputs": [],
   "source": [
    "let _ = assert (split_n 0 [1;2;3;4;5;6] = ([], [1;2;3;4;5;6]))\n",
    "let _ = assert (split_n 1 [1;2;3;4;5;6] = ([1], [2;3;4;5;6]))\n",
    "let _ = assert (split_n 10 [1;2;3;4;5;6] = ([1;2;3;4;5;6],[]))"
   ]
  },
  {
   "cell_type": "code",
   "execution_count": null,
   "metadata": {
    "vscode": {
     "languageId": "ocaml"
    }
   },
   "outputs": [],
   "source": [
    "let merge l1 l2 = (* tail recursive *)\n",
    "  let rec merge_rec l1 l2 acc =\n",
    "    match l1,l2 with\n",
    "    | [], l -> (List.rev acc)@l\n",
    "    | l, [] -> (List.rev acc)@l\n",
    "    | x::xs, y::ys -> if x < y then merge_rec xs l2 (x::acc) else merge_rec l1 ys (y::acc)\n",
    "  in merge_rec l1 l2 []"
   ]
  },
  {
   "cell_type": "code",
   "execution_count": null,
   "metadata": {
    "vscode": {
     "languageId": "ocaml"
    }
   },
   "outputs": [],
   "source": [
    "let _ = assert (merge [1;3;5] [2;4;6] = [1;2;3;4;5;6])\n",
    "let _ = assert (merge [1;3;5;7] [2;6] = [1;2;3;5;6;7])\n",
    "let _ = assert (merge [] [1;3] = [1;3])\n",
    "let _ = assert (merge [1;3] [] = [1;3])"
   ]
  },
  {
   "cell_type": "markdown",
   "metadata": {},
   "source": [
    "## BST"
   ]
  },
  {
   "cell_type": "code",
   "execution_count": null,
   "metadata": {
    "vscode": {
     "languageId": "ocaml"
    }
   },
   "outputs": [],
   "source": [
    "type 'a tree = Empty | Node of 'a * 'a tree * 'a tree"
   ]
  },
  {
   "cell_type": "code",
   "execution_count": null,
   "metadata": {
    "vscode": {
     "languageId": "ocaml"
    }
   },
   "outputs": [],
   "source": [
    "let rec insert x t = \n",
    "  match t with\n",
    "  | Leaf -> Node(x, Leaf, Leaf)\n",
    "  | Node(y, l, r) -> if x < y then Node(y, insert x l, r) else Node(y, l, insert x r)"
   ]
  },
  {
   "cell_type": "code",
   "execution_count": null,
   "metadata": {
    "vscode": {
     "languageId": "ocaml"
    }
   },
   "outputs": [],
   "source": [
    "let rec remove_min t =\n",
    "  match t with\n",
    "  | Leaf -> failwith \"Tree is empty\"\n",
    "  | Node(y, Leaf, r) -> (y, r)\n",
    "  | Node(y, l, r) -> let (m, l') = remove_min l in (m, Node(y, l', r))\n",
    "  "
   ]
  },
  {
   "cell_type": "code",
   "execution_count": null,
   "metadata": {
    "vscode": {
     "languageId": "ocaml"
    }
   },
   "outputs": [],
   "source": [
    "let _ = assert (remove_min (Node(5, Node(3, Leaf, Leaf), Node(7, Leaf, Leaf))) = (3, Node(5, Leaf, Node(7, Leaf, Leaf))))"
   ]
  },
  {
   "cell_type": "code",
   "execution_count": null,
   "metadata": {
    "vscode": {
     "languageId": "ocaml"
    }
   },
   "outputs": [],
   "source": [
    "let rec remove x t = \n",
    "  match t with\n",
    "  | Leaf -> Leaf\n",
    "  | Node(y,Leaf,r) when x = y -> r (* maybe superfluous *)\n",
    "  | Node(y,l,Leaf) when x = y -> l \n",
    "  | Node(y,l,r) when x = y -> let (m, r') = remove_min r in Node(m, l, r')\n",
    "  | Node(y,l,r) -> if x < y then Node(y, remove x l, r) else Node(y, l, remove x r)"
   ]
  },
  {
   "cell_type": "code",
   "execution_count": null,
   "metadata": {
    "vscode": {
     "languageId": "ocaml"
    }
   },
   "outputs": [],
   "source": [
    "let _ = assert (remove 3 (Node(5, Node(3, Leaf, Leaf), Node(7, Leaf, Leaf))) = Node(5, Leaf, Node(7, Leaf, Leaf)))\n",
    "let _ = assert (remove 7 (Node(5, Node(3, Leaf, Leaf), Node(7, Leaf, Node(9,Leaf,Leaf)))) = Node(5, Node(3, Leaf, Leaf), Node(9, Leaf, Leaf)))"
   ]
  },
  {
   "cell_type": "markdown",
   "metadata": {},
   "source": [
    "## N-ary trees"
   ]
  },
  {
   "cell_type": "code",
   "execution_count": null,
   "metadata": {
    "vscode": {
     "languageId": "ocaml"
    }
   },
   "outputs": [],
   "source": [
    "type 'a ntree = NEmpty | NNode of 'a * 'a ntree list\n",
    "\n",
    "(* type 'a nntree = NNEmpty | NNNEmpty of 'a netree\n",
    "\n",
    "type 'a netree = NNode of 'a * 'a netree list *)\n",
    "\n",
    "let nt = NNode (1, [NNode (2, [NNode (3, [NEmpty])]); NNode (4, []); NNode(5,[])])\n"
   ]
  },
  {
   "cell_type": "code",
   "execution_count": null,
   "metadata": {
    "vscode": {
     "languageId": "ocaml"
    }
   },
   "outputs": [],
   "source": [
    "let rec sum_tree t = \n",
    "  let rec sum_aux l = \n",
    "    match l with \n",
    "    | [] -> 0\n",
    "    | t'::ts -> sum_tree t' + sum_aux ts\n",
    "  in \n",
    "  match t with \n",
    "  | NEmpty -> 0\n",
    "  | NNode(v, l) -> v + sum_aux l "
   ]
  },
  {
   "cell_type": "code",
   "execution_count": null,
   "metadata": {
    "vscode": {
     "languageId": "ocaml"
    }
   },
   "outputs": [],
   "source": [
    "let rec sum_tree t = \n",
    "  match t with \n",
    "  | NEmpty -> 0\n",
    "  | NNode(v, l) -> List.fold_left (fun acc t' -> acc + sum_tree t') v l "
   ]
  },
  {
   "cell_type": "code",
   "execution_count": null,
   "metadata": {
    "vscode": {
     "languageId": "ocaml"
    }
   },
   "outputs": [],
   "source": [
    "let rec sum_tree t = \n",
    "  let rec sum_rec l = \n",
    "    match l with \n",
    "    | [] -> 0 \n",
    "    | t::ts -> sum_tree t + sum_rec ts\n",
    "  in \n",
    "  match t with \n",
    "  | NEmpty -> 0\n",
    "  | NNode (v,l) -> v + sum_rec l"
   ]
  },
  {
   "cell_type": "code",
   "execution_count": null,
   "metadata": {
    "vscode": {
     "languageId": "ocaml"
    }
   },
   "outputs": [],
   "source": [
    "let rec sum_tree t = \n",
    "  match t with \n",
    "  | NEmpty -> 0\n",
    "  | NNode (v,l) -> v + List.fold_left (fun acc t' -> acc + sum_tree t') 0 l "
   ]
  },
  {
   "cell_type": "code",
   "execution_count": null,
   "metadata": {
    "vscode": {
     "languageId": "ocaml"
    }
   },
   "outputs": [],
   "source": [
    "let _ = sum_tree nt"
   ]
  },
  {
   "cell_type": "code",
   "execution_count": null,
   "metadata": {
    "vscode": {
     "languageId": "ocaml"
    }
   },
   "outputs": [],
   "source": [
    "let rec sum_tree t = \n",
    "  match t with\n",
    "  | NEmpty -> 0\n",
    "  | NNode (v, l) -> v + List.fold_left (fun acc t -> acc + sum_tree t) 0 l"
   ]
  },
  {
   "cell_type": "code",
   "execution_count": null,
   "metadata": {
    "vscode": {
     "languageId": "ocaml"
    }
   },
   "outputs": [],
   "source": [
    "let _ = sum_tree nt"
   ]
  },
  {
   "cell_type": "code",
   "execution_count": null,
   "metadata": {
    "vscode": {
     "languageId": "ocaml"
    }
   },
   "outputs": [],
   "source": [
    "let rec map_ntree f nt = \n",
    "  match nt with\n",
    "  | NEmpty -> NEmpty\n",
    "  | NNode (v, l) -> NNode (f v, List.map (fun t' -> map_ntree f t') l)"
   ]
  },
  {
   "cell_type": "code",
   "execution_count": null,
   "metadata": {
    "vscode": {
     "languageId": "ocaml"
    }
   },
   "outputs": [],
   "source": [
    "let rec map_ntree f nt = \n",
    "  match nt with\n",
    "  | NEmpty -> NEmpty\n",
    "  | NNode (v, l) -> NNode (f v, List.map (map_ntree f) l)"
   ]
  },
  {
   "cell_type": "code",
   "execution_count": null,
   "metadata": {
    "vscode": {
     "languageId": "ocaml"
    }
   },
   "outputs": [],
   "source": [
    "let _ = map_ntree ((+) 1) nt"
   ]
  },
  {
   "cell_type": "code",
   "execution_count": null,
   "metadata": {
    "vscode": {
     "languageId": "ocaml"
    }
   },
   "outputs": [],
   "source": [
    "let rec prefix_fold_ntree f acc nt = \n",
    "  match nt with\n",
    "  | NEmpty -> acc\n",
    "  | NNode (v, l) -> let acc_v = f acc v in List.fold_left (fun acc nt' -> prefix_fold_ntree f acc nt') acc_v l"
   ]
  },
  {
   "cell_type": "code",
   "execution_count": null,
   "metadata": {
    "vscode": {
     "languageId": "ocaml"
    }
   },
   "outputs": [],
   "source": [
    "let rec prefix_fold_ntree f acc nt = \n",
    "  match nt with\n",
    "  | NEmpty -> acc\n",
    "  | NNode (v, l) -> let acc_v = f acc v in List.fold_left (prefix_fold_ntree f) acc_v l"
   ]
  },
  {
   "cell_type": "code",
   "execution_count": null,
   "metadata": {
    "vscode": {
     "languageId": "ocaml"
    }
   },
   "outputs": [],
   "source": [
    "let rec prefix_fold_ntree f acc nt = \n",
    "  let rec fold_aux acc l = \n",
    "    match l with \n",
    "    | [] -> acc\n",
    "    | nt'::nts -> let acc_nt' = prefix_fold_ntree f acc nt' in fold_aux acc_nt' nts \n",
    "  in \n",
    "  match nt with\n",
    "  | NEmpty -> acc\n",
    "  | NNode (v, l) -> let acc_v = f acc v in fold_aux acc_v l          "
   ]
  },
  {
   "cell_type": "code",
   "execution_count": null,
   "metadata": {
    "vscode": {
     "languageId": "ocaml"
    }
   },
   "outputs": [],
   "source": []
  },
  {
   "cell_type": "code",
   "execution_count": null,
   "metadata": {
    "vscode": {
     "languageId": "ocaml"
    }
   },
   "outputs": [],
   "source": [
    "let rec prefix_fold_ntree f acc nt =\n",
    "  match nt with\n",
    "  | NEmpty -> acc\n",
    "  | NNode (v, l) -> let acc_n = f acc v in List.fold_left (fun acc t -> prefix_fold_ntree f acc t) acc_n l"
   ]
  },
  {
   "cell_type": "code",
   "execution_count": null,
   "metadata": {
    "vscode": {
     "languageId": "ocaml"
    }
   },
   "outputs": [],
   "source": [
    "let rec prefix_fold_ntree f acc nt =\n",
    "  match nt with\n",
    "  | NEmpty -> acc\n",
    "  | NNode (v, l) -> let acc_n = f acc v in List.fold_left (prefix_fold_ntree f) acc_n l"
   ]
  },
  {
   "cell_type": "code",
   "execution_count": null,
   "metadata": {
    "vscode": {
     "languageId": "ocaml"
    }
   },
   "outputs": [],
   "source": [
    "let _ = prefix_fold_ntree (+) 0 nt"
   ]
  },
  {
   "cell_type": "code",
   "execution_count": null,
   "metadata": {
    "vscode": {
     "languageId": "ocaml"
    }
   },
   "outputs": [],
   "source": [
    "let _ = prefix_fold_ntree (fun acc x -> acc@[x]) [] nt"
   ]
  },
  {
   "cell_type": "code",
   "execution_count": null,
   "metadata": {
    "vscode": {
     "languageId": "ocaml"
    }
   },
   "outputs": [],
   "source": [
    "let _ = assert (List.rev (prefix_fold_ntree (fun acc x -> x::acc) [] nt) = [1;2;3;4;5])"
   ]
  },
  {
   "cell_type": "code",
   "execution_count": null,
   "metadata": {
    "vscode": {
     "languageId": "ocaml"
    }
   },
   "outputs": [],
   "source": [
    "let _ = prefix_fold_ntree (fun bst x -> insert x bst) Leaf nt"
   ]
  },
  {
   "cell_type": "code",
   "execution_count": null,
   "metadata": {
    "vscode": {
     "languageId": "ocaml"
    }
   },
   "outputs": [],
   "source": [
    "let _ = nt \n",
    "let _ = prefix_fold_ntree (fun (acc:'a bst) x -> insert x acc) Leaf nt\n",
    "let _ = assert (prefix_fold_ntree (fun (acc:'a bst) x -> insert x acc) Leaf nt = Node (1, Leaf,\n",
    " Node (2, Leaf, Node (3, Leaf, Node (4, Leaf, Node (5, Leaf, Leaf))))))\n",
    "\n",
    "let _ = List.fold_left (fun (acc:'a bst) x -> insert x acc) Leaf [3;1;4;0;8;3;5]"
   ]
  }
 ],
 "metadata": {
  "kernelspec": {
   "display_name": "OCaml 4.12.0",
   "language": "OCaml",
   "name": "ocaml-jupyter"
  },
  "language_info": {
   "codemirror_mode": "text/x-ocaml",
   "file_extension": ".ml",
   "mimetype": "text/x-ocaml",
   "name": "OCaml",
   "nbconverter_exporter": null,
   "pygments_lexer": "OCaml",
   "version": "4.12.0"
  }
 },
 "nbformat": 4,
 "nbformat_minor": 2
}
