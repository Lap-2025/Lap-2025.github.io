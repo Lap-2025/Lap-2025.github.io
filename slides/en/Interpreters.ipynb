{
 "cells": [
  {
   "cell_type": "code",
   "execution_count": null,
   "id": "a80ace17",
   "metadata": {
    "vscode": {
     "languageId": "ocaml"
    }
   },
   "outputs": [],
   "source": [
    "type ast = \n",
    "    Num of int\n",
    "  | Add of ast * ast\n",
    "  | Sub of ast * ast\n",
    "  | Mul of ast * ast\n",
    "  | Div of ast * ast\n",
    "  | IfNZero of ast * ast * ast\n",
    "\n",
    "let e1 = Add(Num(1),Num(2))\n",
    "\n",
    "let e2 = IfNZero (Num(1), Num(99), Num(98))\n",
    "\n",
    "let rec eval (e:ast) = \n",
    "  match e with\n",
    "  | Num n -> n\n",
    "  | Add (e1,e2) -> (eval e1) + (eval e2)\n",
    "  | Sub (e1,e2) -> (eval e1) - (eval e2)\n",
    "  | Mul (e1,e2) -> (eval e1) * (eval e2)\n",
    "  | Div (e1,e2) -> (eval e1) / (eval e2)\n",
    "  | IfNZero (c,e1,e2) -> if (eval c) <> 0 then (eval e1) else (eval e2)\n",
    "\n",
    "let _ = eval e2\n",
    "  "
   ]
  },
  {
   "cell_type": "code",
   "execution_count": null,
   "id": "cdffe44d",
   "metadata": {
    "vscode": {
     "languageId": "ocaml"
    }
   },
   "outputs": [],
   "source": [
    "type ast = \n",
    "    Num of int\n",
    "  | True\n",
    "  | False\n",
    "  | Add of ast * ast\n",
    "  | Sub of ast * ast\n",
    "  | Mul of ast * ast\n",
    "  | Div of ast * ast\n",
    "  | And of ast * ast\n",
    "  | Or of ast * ast\n",
    "  | Not of ast\n",
    "  | Eq of ast * ast\n",
    "  | Ge of ast * ast\n",
    "  | Le of ast * ast\n",
    "  | Gt of ast * ast\n",
    "  | Lt of ast * ast\n",
    "  | If of ast * ast * ast\n",
    "\n",
    "type result = \n",
    "  | ValI of int\n",
    "  | ValB of bool\n",
    "\n",
    "let int_of v = \n",
    "  match v with\n",
    "  | ValI n -> n\n",
    "  | _ -> failwith \"Runtime Error: Expecting an Integer\"\n",
    "\n",
    "let bool_of v = \n",
    "  match v with\n",
    "  | ValB b -> b\n",
    "  | _ -> failwith \"Runtime Error: Expecting an Boolean\"\n",
    "\n",
    "let rec eval (e:ast) = \n",
    "  match e with\n",
    "  | Num n -> ValI n\n",
    "  | True -> ValB true\n",
    "  | False -> ValB false\n",
    "  | Add (e1,e2) -> ValI (int_of(eval e1) + int_of(eval e2))\n",
    "  | Sub (e1,e2) -> ValI (int_of(eval e1) - int_of(eval e2))\n",
    "  | Mul (e1,e2) -> ValI (int_of(eval e1) * int_of(eval e2))\n",
    "  | Div (e1,e2) -> ValI (int_of(eval e1) / int_of(eval e2))\n",
    "  | Eq (e1,e2) -> ValB (int_of(eval e1) = int_of(eval e2))\n",
    "  | Ge (e1,e2) -> ValB (int_of(eval e1) >= int_of(eval e2))\n",
    "  | Le (e1,e2) -> ValB (int_of(eval e1) <= int_of(eval e2))\n",
    "  | Gt (e1,e2) -> ValB (int_of(eval e1) > int_of(eval e2))\n",
    "  | Lt (e1,e2) -> ValB (int_of(eval e1) < int_of(eval e2))\n",
    "  | And (e1,e2) -> ValB (bool_of(eval e1) && bool_of(eval e2))\n",
    "  | Or (e1,e2) -> ValB (bool_of(eval e1) || bool_of(eval e2))\n",
    "  | Not e1 -> ValB (not (bool_of(eval e1)))\n",
    "  | If (c,e1,e2) -> if bool_of(eval c) then (eval e1) else (eval e2)\n",
    "\n",
    "let e3 = If(Eq(Num(1),Num(2)),Num(0),False)\n",
    "let e4 = Add(e3,Num(0))\n",
    "\n",
    "let _= eval e4\n"
   ]
  },
  {
   "cell_type": "code",
   "execution_count": null,
   "id": "ed28f843",
   "metadata": {
    "vscode": {
     "languageId": "ocaml"
    }
   },
   "outputs": [],
   "source": [
    "\n",
    "type result_type = Int_ty | Bool_ty\n",
    "\n",
    "let rec eval_type (e:ast) = \n",
    "  match e with\n",
    "  | Num n -> Int_ty\n",
    "  | True -> Bool_ty\n",
    "  | False -> Bool_ty\n",
    "  | Add (e1,e2) -> if is_int e1 && is_int e2 then Int_ty else failwith(\"Typing Error\")\n",
    "  | Sub (e1,e2) -> if is_int e1 && is_int e2 then Int_ty else failwith(\"Typing Error\")\n",
    "  | Mul (e1,e2) -> if is_int e1 && is_int e2 then Int_ty else failwith(\"Typing Error\")\n",
    "  | Div (e1,e2) -> if is_int e1 && is_int e2 then Int_ty else failwith(\"Typing Error\")\n",
    "  | Eq (e1,e2) -> if eval_type e1 = eval_type e2 then Bool_ty else failwith(\"Typing Error\")\n",
    "  | Ge (e1,e2) -> if eval_type e1 = eval_type e2 then Bool_ty else failwith(\"Typing Error\")\n",
    "  | Le (e1,e2) -> if eval_type e1 = eval_type e2 then Bool_ty else failwith(\"Typing Error\")\n",
    "  | Gt (e1,e2) -> if eval_type e1 = eval_type e2 then Bool_ty else failwith(\"Typing Error\")\n",
    "  | Lt (e1,e2) -> if eval_type e1 = eval_type e2 then Bool_ty else failwith(\"Typing Error\")\n",
    "  | And (e1,e2) -> if is_bool e1 && is_bool e2 then Bool_ty else failwith(\"Typing Error\")\n",
    "  | Or (e1,e2) -> if is_bool e1 && is_bool e2 then Bool_ty else failwith(\"Typing Error\")\n",
    "  | Not e1 -> if is_bool e1 then Bool_ty else failwith(\"Typing Error\")\n",
    "  | If (c,e1,e2) -> if is_bool c then if eval_type e1 = eval_type e2 then eval_type e1 else failwith(\"Typing Error\") else failwith(\"Typing Error\")\n",
    "and \n",
    "  is_int e = eval_type e = Int_ty\n",
    "and \n",
    "  is_bool e = eval_type e = Bool_ty \n",
    "\n",
    "let _ = eval_type e3"
   ]
  },
  {
   "cell_type": "code",
   "execution_count": null,
   "id": "0b5e271a",
   "metadata": {
    "vscode": {
     "languageId": "ocaml"
    }
   },
   "outputs": [],
   "source": [
    "type code = \n",
    "  | Push of int\n",
    "  | Add \n",
    "  | Sub \n",
    "  | Mul \n",
    "  | Div \n",
    "  | Dup\n",
    "\n",
    "let rec loop insts stack =\n",
    "  match insts, stack with\n",
    "  | [], _ -> stack\n",
    "  | Push n :: next, stack' -> loop next (n::stack')\n",
    "  | Add :: next, x::y::stack' -> loop next ((x+y)::stack')\n",
    "  | Sub :: next, x::y::stack' -> loop next ((y-x)::stack')\n",
    "  | Mul :: next, x::y::stack' -> loop next ((x*y)::stack')\n",
    "  | Div :: next, x::y::stack' -> loop next ((y/x)::stack')\n",
    "  | Dup :: next, x::stack' -> loop next (x::x::stack')\n",
    "  | _ -> failwith \"Bad Program!!!\"\n",
    "\n",
    "\n",
    "\n",
    "let is = [Push 1; Push 1; Add; Push 3; Mul]\n",
    "\n",
    "let _ = assert ([6] = loop is [])"
   ]
  },
  {
   "cell_type": "code",
   "execution_count": null,
   "id": "b5c72c68",
   "metadata": {
    "vscode": {
     "languageId": "ocaml"
    }
   },
   "outputs": [],
   "source": [
    "type ast = \n",
    "    ENum of int\n",
    "  | EAdd of ast * ast\n",
    "  | EMul of ast * ast\n",
    "\n",
    "let rec compile e = \n",
    "  match e with\n",
    "  | ENum n -> [Push n]\n",
    "  | EAdd (e1,e2) -> (compile e1)@(compile e2)@[Add]\n",
    "  | EMul (e1,e2) -> (compile e1)@(compile e2)@[Mul]\n",
    "\n",
    "let e5 = EMul(EAdd(ENum(1),ENum(1)),ENum(3))\n",
    "\n",
    "let _ = assert ([Push 1; Push 1; Add; Push 3; Mul] = compile e5)\n",
    "\n",
    "let _ = assert ([6] = loop (compile e5) [])"
   ]
  },
  {
   "cell_type": "code",
   "execution_count": null,
   "id": "5ddb937e",
   "metadata": {
    "vscode": {
     "languageId": "ocaml"
    }
   },
   "outputs": [],
   "source": [
    "type code = \n",
    "  | Push of int\n",
    "  | Add \n",
    "  | Sub \n",
    "  | Mul \n",
    "  | Div \n",
    "  | Ge\n",
    "  | JmpNZ of string\n",
    "\n",
    "let rec loop insts stack code =\n",
    "  match insts, stack with\n",
    "  | [], _ -> stack\n",
    "  | Push n :: next, stack' -> loop next (n::stack') code\n",
    "  | Add :: next, x::y::stack' -> loop next ((x+y)::stack') code\n",
    "  | Sub :: next, x::y::stack' -> loop next ((y-x)::stack') code\n",
    "  | Mul :: next, x::y::stack' -> loop next ((x*y)::stack') code\n",
    "  | Div :: next, x::y::stack' -> loop next ((y/x)::stack') code\n",
    "  | Ge :: next, x::y::stack' -> loop next ((if y >= x then 1 else 0)::stack') code\n",
    "  | JmpNZ label :: next, x::stack' -> if x <> 0 then loop (CodeMap.find label code) stack' code\n",
    "                                      else loop next stack' code\n",
    "  | _ -> failwith \"Bad Program!!!\"\n",
    "\n",
    "\n",
    "module CodeMap = Map.Make(String)\n",
    "\n",
    "let c0 = CodeMap.empty \n",
    "      |> CodeMap.add \"main\" [Push 99; Push 0; Ge; JmpNZ \"label\"; Push 0; Push 99; Sub]\n",
    "      |> CodeMap.add \"label\" [Push 99; Push 1; Add]\n",
    "\n",
    "let _ = loop (CodeMap.find \"main\" c0) [] c0\n"
   ]
  }
 ],
 "metadata": {
  "kernelspec": {
   "display_name": "OCaml default",
   "language": "OCaml",
   "name": "ocaml-jupyter"
  },
  "language_info": {
   "codemirror_mode": "text/x-ocaml",
   "file_extension": ".ml",
   "mimetype": "text/x-ocaml",
   "name": "OCaml",
   "nbconverter_exporter": null,
   "pygments_lexer": "OCaml",
   "version": "4.14.2"
  }
 },
 "nbformat": 4,
 "nbformat_minor": 5
}
