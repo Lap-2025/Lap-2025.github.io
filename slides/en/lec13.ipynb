{
 "cells": [
  {
   "cell_type": "markdown",
   "id": "c9864c05",
   "metadata": {},
   "source": [
    "# Module Systems\n",
    "\n",
    "- a module with a list open types\n",
    "- a module with a list, opaque types\n",
    "- a module with a stack, using list\n",
    "- modules and files\n",
    "- modules and functors\n",
    "- using sets and maps"
   ]
  },
  {
   "cell_type": "code",
   "execution_count": 5,
   "id": "056debec",
   "metadata": {
    "vscode": {
     "languageId": "ocaml"
    }
   },
   "outputs": [
    {
     "data": {
      "text/plain": [
       "module MyList :\n",
       "  sig\n",
       "    type 'a t = 'a list\n",
       "    val empty : 'a list\n",
       "    val insert : 'a -> 'a list -> 'a list\n",
       "    val hd : 'a list -> 'a\n",
       "    val tl : 'a list -> 'a list\n",
       "  end\n"
      ]
     },
     "execution_count": 5,
     "metadata": {},
     "output_type": "execute_result"
    }
   ],
   "source": [
    "module MyList = struct\n",
    "    type 'a t = 'a list\n",
    "\n",
    "    let empty = []\n",
    "    let insert x l = x::l\n",
    "    let hd l = match l with [] -> failwith \"Error\" | x::_ -> x\n",
    "    let tl l = match l with [] -> failwith \"Error\" | _::xs -> xs\n",
    "end"
   ]
  },
  {
   "cell_type": "code",
   "execution_count": 8,
   "id": "044553ee",
   "metadata": {
    "vscode": {
     "languageId": "ocaml"
    }
   },
   "outputs": [
    {
     "data": {
      "text/plain": [
       "val l : int MyList.t = []\n"
      ]
     },
     "execution_count": 8,
     "metadata": {},
     "output_type": "execute_result"
    },
    {
     "data": {
      "text/plain": [
       "val l : int list = [1]\n"
      ]
     },
     "execution_count": 8,
     "metadata": {},
     "output_type": "execute_result"
    }
   ],
   "source": [
    "let l : int MyList.t = []\n",
    "\n",
    "let l = MyList.empty |> MyList.insert 1 "
   ]
  },
  {
   "cell_type": "code",
   "execution_count": 9,
   "id": "2462d632",
   "metadata": {
    "vscode": {
     "languageId": "ocaml"
    }
   },
   "outputs": [
    {
     "data": {
      "text/plain": [
       "val l : int MyList.t = []\n"
      ]
     },
     "execution_count": 9,
     "metadata": {},
     "output_type": "execute_result"
    },
    {
     "data": {
      "text/plain": [
       "val l : int list = [1]\n"
      ]
     },
     "execution_count": 9,
     "metadata": {},
     "output_type": "execute_result"
    }
   ],
   "source": [
    "open MyList\n",
    "\n",
    "let l : int t = []\n",
    "\n",
    "let l = empty |> insert 1 "
   ]
  },
  {
   "cell_type": "code",
   "execution_count": null,
   "id": "de71b498",
   "metadata": {
    "vscode": {
     "languageId": "ocaml"
    }
   },
   "outputs": [
    {
     "data": {
      "text/plain": [
       "module type MyList =\n",
       "  sig\n",
       "    type 'a t\n",
       "    val empty : 'a t\n",
       "    val insert : 'a -> 'a t -> 'a t\n",
       "    val hd : 'a t -> 'a\n",
       "    val tl : 'a t -> 'a t\n",
       "  end\n"
      ]
     },
     "execution_count": 17,
     "metadata": {},
     "output_type": "execute_result"
    },
    {
     "data": {
      "text/plain": [
       "module MyListImpl : MyList\n"
      ]
     },
     "execution_count": 17,
     "metadata": {},
     "output_type": "execute_result"
    }
   ],
   "source": [
    "module type MyList = sig\n",
    "  type 'a t \n",
    "\n",
    "  val empty : 'a t\n",
    "  val insert : 'a -> 'a t -> 'a t \n",
    "  val hd : 'a t -> 'a\n",
    "  val tl : 'a t -> 'a t\n",
    "end\n",
    "\n",
    "module MyListImpl : MyList = struct\n",
    "  type 'a t = 'a list\n",
    "\n",
    "  let empty = []\n",
    "  let insert x l = x::l\n",
    "  let hd l = match l with [] -> failwith \"Error\" | x::_ -> x\n",
    "  let tl l = match l with [] -> failwith \"Error\" | _::xs -> xs\n",
    "  let size l = List.length l\n",
    "end"
   ]
  },
  {
   "cell_type": "code",
   "execution_count": 7,
   "id": "7dba5843",
   "metadata": {
    "vscode": {
     "languageId": "ocaml"
    }
   },
   "outputs": [
    {
     "data": {
      "text/plain": [
       "val l : 'a MyListImpl.t = <abstr>\n"
      ]
     },
     "execution_count": 7,
     "metadata": {},
     "output_type": "execute_result"
    },
    {
     "data": {
      "text/plain": [
       "val l : int MyListImpl.t = <abstr>\n"
      ]
     },
     "execution_count": 7,
     "metadata": {},
     "output_type": "execute_result"
    }
   ],
   "source": [
    "let l = MyListImpl.empty\n",
    "\n",
    "let l = MyListImpl.empty |> MyListImpl.insert 1 "
   ]
  },
  {
   "cell_type": "code",
   "execution_count": 24,
   "id": "1f7574c5",
   "metadata": {
    "vscode": {
     "languageId": "ocaml"
    }
   },
   "outputs": [
    {
     "data": {
      "text/plain": [
       "module MyOtherListImpl : MyList\n"
      ]
     },
     "execution_count": 24,
     "metadata": {},
     "output_type": "execute_result"
    },
    {
     "data": {
      "text/plain": [
       "val l : 'a MyOtherListImpl.t = <abstr>\n"
      ]
     },
     "execution_count": 24,
     "metadata": {},
     "output_type": "execute_result"
    },
    {
     "data": {
      "text/plain": [
       "val l : int MyOtherListImpl.t = <abstr>\n"
      ]
     },
     "execution_count": 24,
     "metadata": {},
     "output_type": "execute_result"
    }
   ],
   "source": [
    "module MyOtherListImpl : MyList = struct\n",
    "  type 'a t = Nil | Cons of 'a * 'a t\n",
    "\n",
    "  let empty = Nil\n",
    "  let insert x l = Cons (x,l)\n",
    "  let hd l = match l with Nil -> failwith \"Error\" | Cons (x,_) -> x\n",
    "  let tl l = match l with Nil -> failwith \"Error\" | Cons (_,xs) -> xs\n",
    "end\n",
    "\n",
    "let l = MyOtherListImpl.empty\n",
    "\n",
    "let l = l |> MyOtherListImpl.insert 1 "
   ]
  },
  {
   "cell_type": "code",
   "execution_count": 27,
   "id": "1d7f07b3",
   "metadata": {
    "vscode": {
     "languageId": "ocaml"
    }
   },
   "outputs": [
    {
     "data": {
      "text/plain": [
       "module type Stack =\n",
       "  sig\n",
       "    type 'a t\n",
       "    val empty : 'a t\n",
       "    val push : 'a -> 'a t -> 'a t\n",
       "    val pop : 'a t -> 'a t\n",
       "    val peek : 'a t -> 'a\n",
       "  end\n"
      ]
     },
     "execution_count": 27,
     "metadata": {},
     "output_type": "execute_result"
    },
    {
     "data": {
      "text/plain": [
       "module StackImpl : functor (AList : MyList) -> Stack\n"
      ]
     },
     "execution_count": 27,
     "metadata": {},
     "output_type": "execute_result"
    },
    {
     "data": {
      "text/plain": [
       "module MyStack : Stack\n"
      ]
     },
     "execution_count": 27,
     "metadata": {},
     "output_type": "execute_result"
    },
    {
     "data": {
      "text/plain": [
       "module MyOtherStack : Stack\n"
      ]
     },
     "execution_count": 27,
     "metadata": {},
     "output_type": "execute_result"
    }
   ],
   "source": [
    "module type Stack = sig\n",
    "  type 'a t \n",
    "  val empty : 'a t\n",
    "  val push : 'a -> 'a t -> 'a t\n",
    "  val pop : 'a t -> 'a t\n",
    "  val peek: 'a t -> 'a\n",
    "end\n",
    "\n",
    "module StackImpl(AList:MyList): Stack = struct\n",
    "  type 'a t = 'a AList.t\n",
    "\n",
    "  let empty = AList.empty\n",
    "  let push x s = AList.insert x s\n",
    "  let pop s = AList.tl s\n",
    "  let peek s = AList.hd s\n",
    "end\n",
    "\n",
    "module MyStack : Stack = StackImpl(MyListImpl)\n",
    "\n",
    "module MyOtherStack : Stack = StackImpl(MyOtherListImpl)"
   ]
  },
  {
   "cell_type": "code",
   "execution_count": 29,
   "id": "6ae0deed",
   "metadata": {
    "vscode": {
     "languageId": "ocaml"
    }
   },
   "outputs": [
    {
     "data": {
      "text/plain": [
       "module HalfPairs :\n",
       "  sig type t = int * int val compare : 'a * 'b -> 'a * 'c -> int end\n"
      ]
     },
     "execution_count": 29,
     "metadata": {},
     "output_type": "execute_result"
    },
    {
     "data": {
      "text/plain": [
       "module MySet :\n",
       "  sig\n",
       "    type elt = HalfPairs.t\n",
       "    type t = Set.Make(HalfPairs).t\n",
       "    val empty : t\n",
       "    val is_empty : t -> bool\n",
       "    val mem : elt -> t -> bool\n",
       "    val add : elt -> t -> t\n",
       "    val singleton : elt -> t\n",
       "    val remove : elt -> t -> t\n",
       "    val union : t -> t -> t\n",
       "    val inter : t -> t -> t\n",
       "    val disjoint : t -> t -> bool\n",
       "    val diff : t -> t -> t\n",
       "    val compare : t -> t -> int\n",
       "    val equal : t -> t -> bool\n",
       "    val subset : t -> t -> bool\n",
       "    val iter : (elt -> unit) -> t -> unit\n",
       "    val map : (elt -> elt) -> t -> t\n",
       "    val fold : (elt -> 'a -> 'a) -> t -> 'a -> 'a\n",
       "    val for_all : (elt -> bool) -> t -> bool\n",
       "    val exists : (elt -> bool) -> t -> bool\n",
       "    val filter : (elt -> bool) -> t -> t\n",
       "    val filter_map : (elt -> elt option) -> t -> t\n",
       "    val partition : (elt -> bool) -> t -> t * t\n",
       "    val cardinal : t -> int\n",
       "    val elements : t -> elt list\n",
       "    val min_elt : t -> elt\n",
       "    val min_elt_opt : t -> elt option\n",
       "    val max_elt : t -> elt\n",
       "    val max_elt_opt : t -> elt option\n",
       "    val choose : t -> elt\n",
       "    val choose_opt : t -> elt option\n",
       "    val split : elt -> t -> t * bool * t\n",
       "    val find : elt -> t -> elt\n",
       "    val find_opt : elt -> t -> elt option\n",
       "    val find_first : (elt -> bool) -> t -> elt\n",
       "    val find_first_opt : (elt -> bool) -> t -> elt option\n",
       "    val find_last : (elt -> bool) -> t -> elt\n",
       "    val find_last_opt : (elt -> bool) -> t -> elt option\n",
       "    val of_list : elt list -> t\n",
       "    val to_seq_from : elt -> t -> elt Seq.t\n",
       "    val to_seq : t -> elt Seq.t\n",
       "    val to_rev_seq : t -> elt Seq.t\n",
       "    val add_seq : elt Seq.t -> t -> t\n",
       "    val of_seq : elt Seq.t -> t\n",
       "  end\n"
      ]
     },
     "execution_count": 29,
     "metadata": {},
     "output_type": "execute_result"
    }
   ],
   "source": [
    "module HalfPairs = struct\n",
    "  type t = int * int\n",
    "\n",
    "  let compare (p1,_) (p2,_) = compare p1 p2\n",
    "end\n",
    "\n",
    "module MySet = Set.Make(HalfPairs)"
   ]
  }
 ],
 "metadata": {
  "kernelspec": {
   "display_name": "OCaml default",
   "language": "OCaml",
   "name": "ocaml-jupyter"
  },
  "language_info": {
   "codemirror_mode": "text/x-ocaml",
   "file_extension": ".ml",
   "mimetype": "text/x-ocaml",
   "name": "OCaml",
   "nbconverter_exporter": null,
   "pygments_lexer": "OCaml",
   "version": "4.14.2"
  }
 },
 "nbformat": 4,
 "nbformat_minor": 5
}
