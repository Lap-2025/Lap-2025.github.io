{
 "cells": [
  {
   "cell_type": "markdown",
   "id": "c9864c05",
   "metadata": {},
   "source": [
    "# Module Systems\n",
    "\n",
    "- a module with a list open types\n",
    "- a module with a list, opaque types\n",
    "- a module with a stack, using list\n",
    "- modules and files\n",
    "- modules and functors\n",
    "- using sets and maps"
   ]
  },
  {
   "cell_type": "code",
   "execution_count": 5,
   "id": "056debec",
   "metadata": {
    "vscode": {
     "languageId": "ocaml"
    }
   },
   "outputs": [
    {
     "data": {
      "text/plain": [
       "module MyList :\n",
       "  sig\n",
       "    type 'a t = 'a list\n",
       "    val empty : 'a list\n",
       "    val insert : 'a -> 'a list -> 'a list\n",
       "    val hd : 'a list -> 'a\n",
       "    val tl : 'a list -> 'a list\n",
       "  end\n"
      ]
     },
     "execution_count": 5,
     "metadata": {},
     "output_type": "execute_result"
    }
   ],
   "source": [
    "module MyList = struct\n",
    "    type 'a t = 'a list\n",
    "\n",
    "    let empty = []\n",
    "    let insert x l = x::l\n",
    "    let hd l = match l with [] -> failwith \"Error\" | x::_ -> x\n",
    "    let tl l = match l with [] -> failwith \"Error\" | _::xs -> xs\n",
    "end"
   ]
  },
  {
   "cell_type": "code",
   "execution_count": 8,
   "id": "044553ee",
   "metadata": {
    "vscode": {
     "languageId": "ocaml"
    }
   },
   "outputs": [
    {
     "data": {
      "text/plain": [
       "val l : int MyList.t = []\n"
      ]
     },
     "execution_count": 8,
     "metadata": {},
     "output_type": "execute_result"
    },
    {
     "data": {
      "text/plain": [
       "val l : int list = [1]\n"
      ]
     },
     "execution_count": 8,
     "metadata": {},
     "output_type": "execute_result"
    }
   ],
   "source": [
    "let l : int MyList.t = []\n",
    "\n",
    "let l = MyList.empty |> MyList.insert 1 "
   ]
  },
  {
   "cell_type": "code",
   "execution_count": 9,
   "id": "2462d632",
   "metadata": {
    "vscode": {
     "languageId": "ocaml"
    }
   },
   "outputs": [
    {
     "data": {
      "text/plain": [
       "val l : int MyList.t = []\n"
      ]
     },
     "execution_count": 9,
     "metadata": {},
     "output_type": "execute_result"
    },
    {
     "data": {
      "text/plain": [
       "val l : int list = [1]\n"
      ]
     },
     "execution_count": 9,
     "metadata": {},
     "output_type": "execute_result"
    }
   ],
   "source": [
    "open MyList\n",
    "\n",
    "let l : int t = []\n",
    "\n",
    "let l = empty |> insert 1 "
   ]
  },
  {
   "cell_type": "code",
   "execution_count": 6,
   "id": "de71b498",
   "metadata": {
    "vscode": {
     "languageId": "ocaml"
    }
   },
   "outputs": [
    {
     "data": {
      "text/plain": [
       "module type MyList =\n",
       "  sig\n",
       "    type 'a t\n",
       "    val empty : 'a t\n",
       "    val insert : 'a -> 'a t -> 'a t\n",
       "    val hd : 'a t -> 'a\n",
       "    val tl : 'a t -> 'a t\n",
       "  end\n"
      ]
     },
     "execution_count": 6,
     "metadata": {},
     "output_type": "execute_result"
    },
    {
     "data": {
      "text/plain": [
       "module MyListImpl : MyList\n"
      ]
     },
     "execution_count": 6,
     "metadata": {},
     "output_type": "execute_result"
    }
   ],
   "source": [
    "module type MyList = sig\n",
    "  type 'a t \n",
    "\n",
    "  val empty : 'a t\n",
    "  val insert : 'a -> 'a t -> 'a t \n",
    "  val hd : 'a t -> 'a\n",
    "  val tl : 'a t -> 'a t\n",
    "end\n",
    "\n",
    "module MyListImpl : MyList = struct\n",
    "  type 'a t = 'a list\n",
    "\n",
    "  let empty = []\n",
    "  let insert x l = x::l\n",
    "  let hd l = match l with [] -> failwith \"Error\" | x::_ -> x\n",
    "  let tl l = match l with [] -> failwith \"Error\" | _::xs -> xs\n",
    "end"
   ]
  },
  {
   "cell_type": "code",
   "execution_count": 7,
   "id": "7dba5843",
   "metadata": {
    "vscode": {
     "languageId": "ocaml"
    }
   },
   "outputs": [
    {
     "data": {
      "text/plain": [
       "val l : 'a MyListImpl.t = <abstr>\n"
      ]
     },
     "execution_count": 7,
     "metadata": {},
     "output_type": "execute_result"
    },
    {
     "data": {
      "text/plain": [
       "val l : int MyListImpl.t = <abstr>\n"
      ]
     },
     "execution_count": 7,
     "metadata": {},
     "output_type": "execute_result"
    }
   ],
   "source": [
    "let l = MyListImpl.empty\n",
    "\n",
    "let l = MyListImpl.empty |> MyListImpl.insert 1 "
   ]
  },
  {
   "cell_type": "code",
   "execution_count": null,
   "id": "1f7574c5",
   "metadata": {
    "vscode": {
     "languageId": "ocaml"
    }
   },
   "outputs": [
    {
     "data": {
      "text/plain": [
       "module MyOtherListImpl : MyList\n"
      ]
     },
     "execution_count": 9,
     "metadata": {},
     "output_type": "execute_result"
    }
   ],
   "source": [
    "module MyOtherListImpl : MyList = struct\n",
    "  type 'a t = Nil | Cons of 'a * 'a t\n",
    "\n",
    "  let empty = Nil\n",
    "  let insert x l = Cons (x,l)\n",
    "  let hd l = match l with Nil -> failwith \"Error\" | Cons (x,_) -> x\n",
    "  let tl l = match l with Nil -> failwith \"Error\" | Cons (_,xs) -> xs\n",
    "end\n",
    "\n",
    "let l = MyOtherListImpl.empty\n",
    "\n",
    "let l = l |> MyListImpl.insert 1 "
   ]
  }
 ],
 "metadata": {
  "kernelspec": {
   "display_name": "OCaml default",
   "language": "OCaml",
   "name": "ocaml-jupyter"
  },
  "language_info": {
   "codemirror_mode": "text/x-ocaml",
   "file_extension": ".ml",
   "mimetype": "text/x-ocaml",
   "name": "OCaml",
   "nbconverter_exporter": null,
   "pygments_lexer": "OCaml",
   "version": "4.14.2"
  }
 },
 "nbformat": 4,
 "nbformat_minor": 5
}
