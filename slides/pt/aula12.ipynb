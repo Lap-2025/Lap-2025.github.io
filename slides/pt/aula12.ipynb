{
 "cells": [
  {
   "cell_type": "markdown",
   "id": "8e114588",
   "metadata": {},
   "source": [
    "# Tipos Algébricos\n",
    "\n",
    "Para além das listas definidas indutivamente, podemos definir outros tipos de dados. Um exemplo é o tipo árvore binária.\n",
    "\n",
    "## Árvores binárias\n",
    "Uma árvore binária é um tipo de dado que pode ser definido indutivamente como:"
   ]
  },
  {
   "cell_type": "code",
   "execution_count": 49,
   "id": "3040ecd0",
   "metadata": {
    "vscode": {
     "languageId": "ocaml"
    }
   },
   "outputs": [
    {
     "data": {
      "text/plain": [
       "type 'a tree = Empty | Node of 'a * 'a tree * 'a tree\n"
      ]
     },
     "execution_count": 49,
     "metadata": {},
     "output_type": "execute_result"
    }
   ],
   "source": [
    "type 'a tree = Empty | Node of 'a * 'a tree * 'a tree"
   ]
  },
  {
   "cell_type": "markdown",
   "id": "b54c749d",
   "metadata": {},
   "source": [
    "Um exemplo de uma árvore binária com o seguinte aspeto é:\n",
    "\n",
    "```ocaml\n",
    "    2\n",
    "   / \\\n",
    "  1   3\n",
    "```\n"
   ]
  },
  {
   "cell_type": "code",
   "execution_count": 50,
   "id": "f979f2f6",
   "metadata": {
    "vscode": {
     "languageId": "ocaml"
    }
   },
   "outputs": [
    {
     "data": {
      "text/plain": [
       "val t0 : int tree = Node (2, Node (1, Empty, Empty), Node (3, Empty, Empty))\n"
      ]
     },
     "execution_count": 50,
     "metadata": {},
     "output_type": "execute_result"
    }
   ],
   "source": [
    "let t0 = Node(2, \n",
    "              Node(1, \n",
    "                   Empty, \n",
    "                   Empty), \n",
    "              Node(3, \n",
    "                   Empty, \n",
    "                   Empty))"
   ]
  },
  {
   "cell_type": "markdown",
   "id": "5d7e44b5",
   "metadata": {},
   "source": [
    "Para inserir um elemento numa árvore binária em OCaml vamos gerar a árvore binária que corresponder à inserção do elemento. Vamos fazê-lo indutivamente na estrutura da árvore. Há muitas alternativas para inserir um elemento numa árvore binária. Uma delas é a seguinte:\n"
   ]
  },
  {
   "cell_type": "code",
   "execution_count": null,
   "id": "bc4a885c",
   "metadata": {
    "vscode": {
     "languageId": "ocaml"
    }
   },
   "outputs": [],
   "source": [
    "let rec insert x t = \n",
    "  match t with \n",
    "  | Empty -> Node(x, Empty, Empty)\n",
    "  | Node(y,l,r) -> Node(x,t,Empty)\n",
    "\n",
    "let _ = assert (insert 0 t0 = Node (0, Node (2, Node (1, Empty, Empty), Node (3, Empty, Empty)), Empty))\n"
   ]
  },
  {
   "cell_type": "markdown",
   "id": "0a26a713",
   "metadata": {},
   "source": [
    "\n",
    "## Árvores binárias de pesquisa\n",
    "Uma árvore binária de pesquisa é uma árvore binária com a seguinte propriedade: para cada nó, o valor do nó é maior que todos os valores da subárvore esquerda e menor que todos os valores da subárvore direita. Adicionalmente a subárvore esquerda e a subárvore direita também são árvores binárias de pesquisa. \n",
    "\n",
    "A inserção de um elemento numa árvore binária de pesquisa de forma a manter a propriedade de árvore binária de pesquisa é feita da seguinte forma:"
   ]
  },
  {
   "cell_type": "code",
   "execution_count": 57,
   "id": "9e7ec91c",
   "metadata": {
    "vscode": {
     "languageId": "ocaml"
    }
   },
   "outputs": [
    {
     "data": {
      "text/plain": [
       "val insert_bst : 'a -> 'a tree -> 'a tree = <fun>\n"
      ]
     },
     "execution_count": 57,
     "metadata": {},
     "output_type": "execute_result"
    },
    {
     "data": {
      "text/plain": [
       "val t1 : int tree =\n",
       "  Node (2, Node (1, Node (0, Empty, Empty), Empty), Node (3, Empty, Empty))\n"
      ]
     },
     "execution_count": 57,
     "metadata": {},
     "output_type": "execute_result"
    },
    {
     "data": {
      "text/plain": [
       "val t2 : int tree =\n",
       "  Node (4, Node (2, Node (1, Empty, Empty), Node (3, Empty, Empty)), Empty)\n"
      ]
     },
     "execution_count": 57,
     "metadata": {},
     "output_type": "execute_result"
    },
    {
     "data": {
      "text/plain": [
       "- : unit = ()\n"
      ]
     },
     "execution_count": 57,
     "metadata": {},
     "output_type": "execute_result"
    }
   ],
   "source": [
    "\n",
    "let rec insert_bst x t = \n",
    "  match t with \n",
    "  | Empty -> Node(x, Empty, Empty)\n",
    "  | Node(y,l,r) -> if x < y then Node(y,insert_bst x l,r) else Node(y,l, insert_bst x r)\n",
    "\n",
    "let t1 = insert_bst 0 t0\n",
    "let t2 = Node(4, t0, Empty)\n",
    "let _ = assert(t1 = Node (2, Node (1, Node (0, Empty, Empty), Empty), Node (3, Empty, Empty)))\n"
   ]
  },
  {
   "cell_type": "markdown",
   "id": "95a77ddb",
   "metadata": {},
   "source": [
    "Vamos definir uma função auxiliar `remove_min` que remove o nó com o menor valor de uma árvore binária de pesquisa. Esta função vai ser útil para remover um nó da árvore binária de pesquisa. A função `remove_min` vai devolver a árvore binária de pesquisa sem o nó com o menor valor."
   ]
  },
  {
   "cell_type": "code",
   "execution_count": null,
   "id": "d78bc4a5",
   "metadata": {
    "vscode": {
     "languageId": "ocaml"
    }
   },
   "outputs": [],
   "source": [
    "(** [remove_min t] denotes the tree removing the minimum value from [t]\n",
    "    pre: [t <> Empty] *)\n",
    "let rec remove_min t = \n",
    "  match t with \n",
    "  | Empty -> failwith \"Precondition violated!\"\n",
    "  | Node(x,Empty,r) -> r\n",
    "  | Node(x,l,r) -> Node(x, remove_min l, r)\n",
    "\n",
    "(** [min_tree t] denotes the smaller value in [t]\n",
    "    pre: [t <> Empty] *)\n",
    "let rec min_tree t = \n",
    "  match t with \n",
    "  | Empty -> failwith \"Precondition violated!\"\n",
    "  | Node(x,Empty,r) -> x\n",
    "  | Node(x,l,r) -> min_tree l\n",
    "\n",
    "(** [min_tree t] denotes the larger value in [t]\n",
    "    pre: [t <> Empty] *)\n",
    "let rec max_tree t = \n",
    "  match t with \n",
    "  | Empty -> failwith \"Precondition violated!\"\n",
    "  | Node(x,_,Empty) -> x\n",
    "  | Node(_,_,r) -> max_tree r"
   ]
  },
  {
   "cell_type": "markdown",
   "id": "d61eb0ea",
   "metadata": {},
   "source": [
    "Dadas estas funções auxiliares, podemos definir uma função que corresponde à prova indutiva da propriedade das árvores binárias de pesquisa. Se considerarmos que a chamada recursiva para a subárvore esquerda e para a subárvore direita corresponde à hipótese de indução (a propriedade para uma árvore mais pequena), então podemos definir o resultado para a árvore composta verificando se todos os elementos na subárvore esquerda são menores que a raiz e todos os elementos na subárvore direita são maiores que a raiz."
   ]
  },
  {
   "cell_type": "code",
   "execution_count": null,
   "id": "3c4dd962",
   "metadata": {
    "vscode": {
     "languageId": "ocaml"
    }
   },
   "outputs": [],
   "source": [
    "let rec is_a_bst t = \n",
    "  match t with \n",
    "  (* Base case *)\n",
    "  | Empty -> true  \n",
    "\n",
    "  (* Base case *)\n",
    "  | Node(_, Empty,Empty) -> true\n",
    "\n",
    "  (* Inductive case if the left subtree is empty *)\n",
    "  | Node(x,Empty,r) -> (* by h.i. *) is_a_bst r && min_tree r >= x\n",
    "\n",
    "  (* Inductive case if the right subtree is empty *)\n",
    "  | Node(x,l,Empty) -> (* by h.i. *) is_a_bst l && max_tree l < x \n",
    "\n",
    "  (* General Inductive case *)\n",
    "  | Node(x,l,r) -> (* by h.i. *) is_a_bst l && (* by h.i. *) is_a_bst r && max_tree l < x && min_tree r >= x\n",
    "\n",
    "let _ = assert(is_a_bst t0)\n",
    "let _ = assert(is_a_bst t1)\n",
    "let _ = assert(is_a_bst t2)\n"
   ]
  },
  {
   "cell_type": "markdown",
   "id": "bfde3ab5",
   "metadata": {},
   "source": [
    "A remoção de um valor de uma árvore binária de pesquisa é feita procurando o valor e removendo-o. Quando um nó intermédio é removido, é necessário substituí-lo pelo valor mínimo da subárvore direita (ou pelo valor máximo da subárvore esquerda). Isto é feito chamando a função `remove_min` na subárvore direita e substituindo o nó intermédio pelo resultado. A subárvore esquerda permanece inalterada. O resultado é uma nova árvore binária de pesquisa com as mesmas propriedades de antes, mas sem o valor removido."
   ]
  },
  {
   "cell_type": "code",
   "execution_count": 73,
   "id": "7bda1123",
   "metadata": {
    "vscode": {
     "languageId": "ocaml"
    }
   },
   "outputs": [
    {
     "ename": "error",
     "evalue": "compile_error",
     "output_type": "error",
     "traceback": [
      "File \"[73]\", line 6, characters 20-21:\n6 |       Node(min_tree r, l, remove_min r)\n                        ^\nError: This expression has type 'a tree/1\n       but an expression was expected of type 'b tree/2\n       File \"[49]\", line 1, characters 0-53:\n         Definition of type tree/1\n       File \"[32]\", line 1, characters 0-53:\n         Definition of type tree/2\n"
     ]
    }
   ],
   "source": [
    "let rec remove x t = \n",
    "  match t with\n",
    "  | Empty -> Empty\n",
    "  | Node(y,l,r) -> \n",
    "    if x = y then \n",
    "      Node(min_tree r, l, remove_min r)\n",
    "    else \n",
    "      if x < y then \n",
    "        Node(y, remove x l ,r) \n",
    "      else \n",
    "        Node(y, l, remove x r)\n",
    "\n",
    "let _ = assert (remove 2 t0 = Node (3, Node (1, Empty, Empty), Empty))\n",
    "let _ = assert (remove 2 t2 = Node (4, Node (3, Node (1, Empty, Empty), Empty), Empty))"
   ]
  },
  {
   "cell_type": "markdown",
   "id": "c2276ef3",
   "metadata": {},
   "source": [
    "- binary trees\n",
    "- insert in a bst\n",
    "- remove in a bst (remove_min)\n",
    "- tree_size\n",
    "- depth\n",
    "- pre_order \n",
    "- in_order\n",
    "- post_order\n",
    "- map\n",
    "- fold_in_order\n",
    "- fold_pre_order\n",
    "- fold_post_order"
   ]
  },
  {
   "cell_type": "markdown",
   "id": "a6aa3d9f",
   "metadata": {},
   "source": [
    "Uma alternativa à função `remove_min` acima é calcular o valor mínimo ao mesmo tempo que este é removido. A função `remove` é então definida da seguinte forma:"
   ]
  },
  {
   "cell_type": "markdown",
   "id": "e5137bb7",
   "metadata": {},
   "source": [
    "Outras funções sobre árvores que podemos definir são as seguintes:"
   ]
  },
  {
   "cell_type": "code",
   "execution_count": 53,
   "id": "4efa6d02",
   "metadata": {
    "vscode": {
     "languageId": "ocaml"
    }
   },
   "outputs": [
    {
     "data": {
      "text/plain": [
       "val tree_size : 'a tree -> int = <fun>\n"
      ]
     },
     "execution_count": 53,
     "metadata": {},
     "output_type": "execute_result"
    },
    {
     "data": {
      "text/plain": [
       "val search_bst : 'a -> 'a tree -> bool = <fun>\n"
      ]
     },
     "execution_count": 53,
     "metadata": {},
     "output_type": "execute_result"
    },
    {
     "data": {
      "text/plain": [
       "val tree_depth : 'a tree -> int = <fun>\n"
      ]
     },
     "execution_count": 53,
     "metadata": {},
     "output_type": "execute_result"
    },
    {
     "data": {
      "text/plain": [
       "- : unit = ()\n"
      ]
     },
     "execution_count": 53,
     "metadata": {},
     "output_type": "execute_result"
    },
    {
     "data": {
      "text/plain": [
       "- : unit = ()\n"
      ]
     },
     "execution_count": 53,
     "metadata": {},
     "output_type": "execute_result"
    }
   ],
   "source": [
    "let rec tree_size t = \n",
    "  match t with \n",
    "  | Empty -> 0\n",
    "  | Node(_, l, r) -> 1 + (tree_size l) + (tree_size r)\n",
    "\n",
    "let rec search_bst x t = \n",
    "  match t with\n",
    "  | Empty -> false\n",
    "  | Node(y, l, r) -> x = y || (x < y && (search_bst x l)) || search_bst x r\n",
    "\n",
    "let rec tree_depth t = \n",
    "  match t with \n",
    "  | Empty -> 0\n",
    "  | Node(_, l, r) -> 1 + max (tree_depth l) (tree_depth r)\n",
    "\n",
    "let _ = assert (4 = tree_size t2)\n",
    "let _ = assert (3 = tree_depth t2)\n"
   ]
  },
  {
   "cell_type": "code",
   "execution_count": null,
   "id": "b481c026",
   "metadata": {
    "vscode": {
     "languageId": "ocaml"
    }
   },
   "outputs": [],
   "source": [
    "let rec tree_size t = \n",
    "  match t with\n",
    "  | Empty -> 0\n",
    "  | Node(_, l, r) -> 1 + tree_size l + tree_size r\n",
    "\n",
    "  \n",
    "let rec tree_depth t = \n",
    "  match t with\n",
    "  | Empty -> 0\n",
    "  | Node(_,l,r) -> 1 + max (tree_depth l) (tree_depth r)\n",
    "    \n",
    "let _ = assert (4 = tree_size t2)\n",
    "let _ = assert (3 = tree_depth t2)\n"
   ]
  },
  {
   "cell_type": "markdown",
   "id": "71279a0f",
   "metadata": {},
   "source": [
    "# Percursos em árvores binárias\n",
    "\n",
    "Os percursos em árvores binárias são funções que percorrem a árvore de uma forma específica. Existem três tipos de percursos em árvores binárias:\n",
    "\n",
    "- prefixo (pre-order): visita a raiz, depois a subárvore esquerda e depois a subárvore direita\n",
    "- infixo (in-order): visita a subárvore esquerda, depois a raiz e depois a subárvore direita\n",
    "- posfixo (post-order): visita a subárvore esquerda, depois a subárvore direita e depois a raiz"
   ]
  },
  {
   "cell_type": "code",
   "execution_count": null,
   "id": "f36faa2b",
   "metadata": {
    "vscode": {
     "languageId": "ocaml"
    }
   },
   "outputs": [
    {
     "data": {
      "text/plain": [
       "val t : int tree = Node (1, Empty, Node (2, Empty, Node (3, Empty, Empty)))\n"
      ]
     },
     "execution_count": 58,
     "metadata": {},
     "output_type": "execute_result"
    },
    {
     "data": {
      "text/plain": [
       "val t3 : int tree =\n",
       "  Node (0, Node (1, Empty, Node (2, Empty, Node (3, Empty, Empty))),\n",
       "   Node (1, Empty, Node (2, Empty, Node (3, Empty, Empty))))\n"
      ]
     },
     "execution_count": 58,
     "metadata": {},
     "output_type": "execute_result"
    },
    {
     "data": {
      "text/plain": [
       "val pre_order : 'a tree -> 'a list = <fun>\n"
      ]
     },
     "execution_count": 58,
     "metadata": {},
     "output_type": "execute_result"
    },
    {
     "data": {
      "text/plain": [
       "- : int list = [0; 1; 2; 3; 1; 2; 3]\n"
      ]
     },
     "execution_count": 58,
     "metadata": {},
     "output_type": "execute_result"
    },
    {
     "data": {
      "text/plain": [
       "- : int list = [4; 2; 1; 3]\n"
      ]
     },
     "execution_count": 58,
     "metadata": {},
     "output_type": "execute_result"
    }
   ],
   "source": [
    "let t = Node(1,Empty,Node(2,Empty,Node (3,Empty,Empty)))\n",
    "let t3 = Node(0, t, t)\n",
    "\n",
    "let rec pre_order t = \n",
    "  match t with\n",
    "  | Empty -> []\n",
    "  | Node(x,l,r) -> \n",
    "      x :: (pre_order l) @ (pre_order r)\n",
    "\n",
    "let _ = pre_order t3\n",
    "let _ = pre_order t2"
   ]
  },
  {
   "cell_type": "code",
   "execution_count": 59,
   "id": "23610b58",
   "metadata": {
    "vscode": {
     "languageId": "ocaml"
    }
   },
   "outputs": [
    {
     "data": {
      "text/plain": [
       "val in_order : 'a tree -> 'a list = <fun>\n"
      ]
     },
     "execution_count": 59,
     "metadata": {},
     "output_type": "execute_result"
    },
    {
     "data": {
      "text/plain": [
       "- : int list = [1; 2; 3; 4]\n"
      ]
     },
     "execution_count": 59,
     "metadata": {},
     "output_type": "execute_result"
    }
   ],
   "source": [
    "let rec in_order t = \n",
    "  match t with\n",
    "  | Empty -> []\n",
    "  | Node(x,l,r) -> \n",
    "      (in_order l) @ [x] @ (in_order r)\n",
    "\n",
    "let _ = in_order t2"
   ]
  },
  {
   "cell_type": "code",
   "execution_count": 62,
   "id": "d4cea040",
   "metadata": {
    "vscode": {
     "languageId": "ocaml"
    }
   },
   "outputs": [
    {
     "data": {
      "text/plain": [
       "val post_order : 'a tree -> 'a list = <fun>\n"
      ]
     },
     "execution_count": 62,
     "metadata": {},
     "output_type": "execute_result"
    },
    {
     "data": {
      "text/plain": [
       "- : int list = [1; 3; 2; 4]\n"
      ]
     },
     "execution_count": 62,
     "metadata": {},
     "output_type": "execute_result"
    }
   ],
   "source": [
    "let rec post_order t = \n",
    "  match t with\n",
    "  | Empty -> []\n",
    "  | Node(x,l,r) -> \n",
    "      (post_order l) @ (post_order r) @ [x] \n",
    "\n",
    "let _ = post_order t2"
   ]
  },
  {
   "cell_type": "code",
   "execution_count": null,
   "id": "f27af539",
   "metadata": {
    "vscode": {
     "languageId": "ocaml"
    }
   },
   "outputs": [],
   "source": [
    "let rec pre_order t = \n",
    "  match t with \n",
    "  | Empty -> []\n",
    "  | Node(x,l,r) -> x::(pre_order l)@(pre_order r)\n",
    "\n",
    "let _ = assert([0;1;2;3;1;2;3] = pre_order t3)"
   ]
  },
  {
   "cell_type": "code",
   "execution_count": null,
   "id": "0a87a47e",
   "metadata": {
    "vscode": {
     "languageId": "ocaml"
    }
   },
   "outputs": [],
   "source": [
    "let rec in_order t = \n",
    "  match t with \n",
    "  | Empty -> []\n",
    "  | Node(x,l,r) -> (in_order l)@[x]@(in_order r)\n",
    "\n",
    "let _ = assert( [1;2;3;0;1;2;3] = in_order t3)"
   ]
  },
  {
   "cell_type": "code",
   "execution_count": 63,
   "id": "fcb84679",
   "metadata": {
    "vscode": {
     "languageId": "ocaml"
    }
   },
   "outputs": [
    {
     "data": {
      "text/plain": [
       "val ot : int tree =\n",
       "  Node (4, Node (2, Node (1, Empty, Empty), Node (3, Empty, Empty)),\n",
       "   Node (6, Node (5, Empty, Empty), Node (7, Empty, Empty)))\n"
      ]
     },
     "execution_count": 63,
     "metadata": {},
     "output_type": "execute_result"
    },
    {
     "data": {
      "text/plain": [
       "- : unit = ()\n"
      ]
     },
     "execution_count": 63,
     "metadata": {},
     "output_type": "execute_result"
    },
    {
     "data": {
      "text/plain": [
       "- : unit = ()\n"
      ]
     },
     "execution_count": 63,
     "metadata": {},
     "output_type": "execute_result"
    }
   ],
   "source": [
    "let ot = Node(4,Node(2,Node(1,Empty,Empty),Node(3,Empty,Empty)),Node(6,Node(5,Empty,Empty),Node(7,Empty,Empty)))\n",
    "\n",
    "let _ = assert( [1; 2; 3; 4; 5; 6; 7] = in_order ot)\n",
    "let _ = assert( [4; 2; 1; 3; 6; 5; 7] = pre_order ot)"
   ]
  },
  {
   "cell_type": "code",
   "execution_count": null,
   "id": "945fec77",
   "metadata": {
    "vscode": {
     "languageId": "ocaml"
    }
   },
   "outputs": [],
   "source": [
    "let rec post_order t = \n",
    "  match t with \n",
    "  | Empty -> []\n",
    "  | Node(x,l,r) -> (post_order l)@(post_order r)@[x]\n",
    "\n",
    "let _ = assert( [1; 3; 2; 5; 7; 6; 4] = post_order ot)"
   ]
  },
  {
   "cell_type": "code",
   "execution_count": null,
   "id": "31e21b21",
   "metadata": {
    "vscode": {
     "languageId": "ocaml"
    }
   },
   "outputs": [],
   "source": [
    "let rec in_order_rev t = \n",
    "  match t with \n",
    "  | Empty -> []\n",
    "  | Node(x,l,r) -> (in_order_rev r)@[x]@(in_order_rev l)\n",
    "\n",
    "let _ = assert( [7; 6; 5; 4; 3; 2; 1] = in_order_rev ot)"
   ]
  },
  {
   "cell_type": "markdown",
   "id": "ec9bb8df",
   "metadata": {},
   "source": [
    "# Funções de ordem superior (Map e Fold)"
   ]
  },
  {
   "cell_type": "code",
   "execution_count": 65,
   "id": "da6c8b52",
   "metadata": {
    "vscode": {
     "languageId": "ocaml"
    }
   },
   "outputs": [
    {
     "data": {
      "text/plain": [
       "val map_lst : ('a -> 'b) -> 'a list -> 'b list = <fun>\n"
      ]
     },
     "execution_count": 65,
     "metadata": {},
     "output_type": "execute_result"
    },
    {
     "data": {
      "text/plain": [
       "val map_opt : ('a -> 'b) -> 'a option -> 'b option = <fun>\n"
      ]
     },
     "execution_count": 65,
     "metadata": {},
     "output_type": "execute_result"
    },
    {
     "data": {
      "text/plain": [
       "- : unit = ()\n"
      ]
     },
     "execution_count": 65,
     "metadata": {},
     "output_type": "execute_result"
    },
    {
     "data": {
      "text/plain": [
       "- : unit = ()\n"
      ]
     },
     "execution_count": 65,
     "metadata": {},
     "output_type": "execute_result"
    },
    {
     "data": {
      "text/plain": [
       "- : unit = ()\n"
      ]
     },
     "execution_count": 65,
     "metadata": {},
     "output_type": "execute_result"
    }
   ],
   "source": [
    "let rec map_lst f l = \n",
    "  match l with\n",
    "  | [] -> []\n",
    "  | x::xs -> f x :: map_lst f xs  \n",
    "\n",
    "let map_opt f o = \n",
    "  match o with\n",
    "  | None -> None\n",
    "  | Some x -> Some (f x)\n",
    "\n",
    "let _ = assert (map_opt (fun x -> x + 1) (Some 1) = Some 2)\n",
    "let _ = assert (map_opt (fun x -> x + 1) None = None)\n",
    "\n",
    "let _ = assert (map_lst ((+) 1) [1;2;3] = [2;3;4])"
   ]
  },
  {
   "cell_type": "code",
   "execution_count": 67,
   "id": "d695f757",
   "metadata": {
    "vscode": {
     "languageId": "ocaml"
    }
   },
   "outputs": [
    {
     "data": {
      "text/plain": [
       "val map : ('a -> 'b) -> 'a tree -> 'b tree = <fun>\n"
      ]
     },
     "execution_count": 67,
     "metadata": {},
     "output_type": "execute_result"
    },
    {
     "data": {
      "text/plain": [
       "- : int tree =\n",
       "Node (4, Node (2, Node (1, Empty, Empty), Node (3, Empty, Empty)),\n",
       " Node (6, Node (5, Empty, Empty), Node (7, Empty, Empty)))\n"
      ]
     },
     "execution_count": 67,
     "metadata": {},
     "output_type": "execute_result"
    },
    {
     "data": {
      "text/plain": [
       "- : int tree =\n",
       "Node (5, Node (3, Node (2, Empty, Empty), Node (4, Empty, Empty)),\n",
       " Node (7, Node (6, Empty, Empty), Node (8, Empty, Empty)))\n"
      ]
     },
     "execution_count": 67,
     "metadata": {},
     "output_type": "execute_result"
    }
   ],
   "source": [
    "let rec map f t = \n",
    "  match t with\n",
    "  | Empty -> Empty\n",
    "  | Node(x,l,r) -> Node(f x, map f l, map f r) \n",
    "\n",
    "let _ = ot\n",
    "let _ = map (fun x -> x+1) ot"
   ]
  },
  {
   "cell_type": "code",
   "execution_count": null,
   "id": "01d88ca0",
   "metadata": {
    "vscode": {
     "languageId": "ocaml"
    }
   },
   "outputs": [],
   "source": [
    "let rec map f t = \n",
    "  match t with\n",
    "  | Empty -> Empty\n",
    "  | Node(x,l,r) -> Node(f x, map f l, map f r)\n",
    "\n",
    "let _ = map string_of_int ot\n",
    "let _ = map ((+)1) ot"
   ]
  },
  {
   "cell_type": "code",
   "execution_count": null,
   "id": "a7b71551",
   "metadata": {
    "vscode": {
     "languageId": "ocaml"
    }
   },
   "outputs": [],
   "source": [
    "let map_opt f o = \n",
    "  match o with\n",
    "  | None -> None\n",
    "  | Some v -> Some (f v)\n",
    "\n",
    "let _ = map_opt string_of_int (Some 1)\n",
    "let _ = map_opt string_of_int None\n",
    "let _ = map_opt ((+)1) (Some 1)\n",
    "let _ = map_opt ((+)1) None"
   ]
  },
  {
   "cell_type": "code",
   "execution_count": 72,
   "id": "59e62a27",
   "metadata": {
    "vscode": {
     "languageId": "ocaml"
    }
   },
   "outputs": [
    {
     "data": {
      "text/plain": [
       "val fold_in_order : ('a -> 'b -> 'a) -> 'a -> 'b tree -> 'a = <fun>\n"
      ]
     },
     "execution_count": 72,
     "metadata": {},
     "output_type": "execute_result"
    },
    {
     "data": {
      "text/plain": [
       "- : int = 6\n"
      ]
     },
     "execution_count": 72,
     "metadata": {},
     "output_type": "execute_result"
    },
    {
     "data": {
      "text/plain": [
       "- : int = 28\n"
      ]
     },
     "execution_count": 72,
     "metadata": {},
     "output_type": "execute_result"
    },
    {
     "data": {
      "text/plain": [
       "- : int list = [1; 2; 3; 4; 5; 6; 7]\n"
      ]
     },
     "execution_count": 72,
     "metadata": {},
     "output_type": "execute_result"
    },
    {
     "data": {
      "text/plain": [
       "- : int list = [1; 2; 3; 4; 5; 6; 7]\n"
      ]
     },
     "execution_count": 72,
     "metadata": {},
     "output_type": "execute_result"
    }
   ],
   "source": [
    "let rec fold_in_order f acc t = \n",
    "  match t with \n",
    "  | Empty -> acc\n",
    "  | Node(x, l, r) -> \n",
    "      let acc2 = fold_in_order f acc l in\n",
    "      let acc3 = f acc2 x in\n",
    "      fold_in_order f acc3 r\n",
    "\n",
    "let _ = List.fold_left (fun acc x -> acc+x) 0 [1;2;3]\n",
    "\n",
    "let _ = fold_in_order (+) 0 ot \n",
    "\n",
    "let _ = fold_in_order (fun acc x -> acc@[x]) [] ot\n",
    "let _ = List.rev (fold_in_order (fun acc x -> x::acc) [] ot)\n"
   ]
  },
  {
   "cell_type": "code",
   "execution_count": null,
   "id": "bd79e6fe",
   "metadata": {
    "vscode": {
     "languageId": "ocaml"
    }
   },
   "outputs": [],
   "source": [
    "let rec fold_left f acc l = \n",
    "  match l with \n",
    "  | [] -> acc\n",
    "  | x::xs -> fold_left f (f acc x) xs\n",
    "\n",
    "let _ = fold_left (+) 0 (pre_order ot)\n",
    "\n",
    "let rec fold_in_order f acc t =  \n",
    "  match t with\n",
    "  | Empty -> acc\n",
    "  | Node(x,l,r) -> let acc_l = fold_in_order f acc l in let acc_root = f acc_l x in fold_in_order f acc_root r\n",
    "\n",
    "let _ = fold_in_order (+) 0 ot\n",
    "let _ = fold_in_order (fun acc x -> acc@[x]) [] ot\n",
    "let filter p t = fold_in_order (fun acc x -> if p x then acc@[x] else acc) [] ot\n",
    "\n",
    "let _ = filter (fun x -> x mod 2 = 0) ot\n",
    "\n"
   ]
  },
  {
   "cell_type": "code",
   "execution_count": null,
   "id": "ae244672",
   "metadata": {
    "vscode": {
     "languageId": "ocaml"
    }
   },
   "outputs": [],
   "source": [
    "let rec fold_pre_order f acc t =  \n",
    "  match t with\n",
    "  | Empty -> acc\n",
    "  | Node(x,l,r) -> let acc_root = f acc x in let acc_l = fold_pre_order f acc_root l in fold_pre_order f acc_l r\n",
    "\n",
    "let _ = fold_pre_order (fun acc x -> acc@[x]) [] ot\n"
   ]
  }
 ],
 "metadata": {
  "kernelspec": {
   "display_name": "OCaml default",
   "language": "OCaml",
   "name": "ocaml-jupyter"
  },
  "language_info": {
   "codemirror_mode": "text/x-ocaml",
   "file_extension": ".ml",
   "mimetype": "text/x-ocaml",
   "name": "OCaml",
   "nbconverter_exporter": null,
   "pygments_lexer": "OCaml",
   "version": "4.14.2"
  }
 },
 "nbformat": 4,
 "nbformat_minor": 5
}
